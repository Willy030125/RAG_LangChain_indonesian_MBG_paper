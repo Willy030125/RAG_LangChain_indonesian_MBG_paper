{
  "nbformat": 4,
  "nbformat_minor": 0,
  "metadata": {
    "colab": {
      "provenance": [],
      "gpuType": "T4"
    },
    "kernelspec": {
      "name": "python3",
      "display_name": "Python 3"
    },
    "language_info": {
      "name": "python"
    },
    "widgets": {
      "application/vnd.jupyter.widget-state+json": {
        "474f79da904f4971a923881f496fcf14": {
          "model_module": "@jupyter-widgets/controls",
          "model_name": "HBoxModel",
          "model_module_version": "1.5.0",
          "state": {
            "_dom_classes": [],
            "_model_module": "@jupyter-widgets/controls",
            "_model_module_version": "1.5.0",
            "_model_name": "HBoxModel",
            "_view_count": null,
            "_view_module": "@jupyter-widgets/controls",
            "_view_module_version": "1.5.0",
            "_view_name": "HBoxView",
            "box_style": "",
            "children": [
              "IPY_MODEL_ab34016ee1f84e5fae7a7ccb5d1038af",
              "IPY_MODEL_d84faeb6be8144c3a5730cc913c35f91",
              "IPY_MODEL_cfa4d57986e541e89c53352d24d9bb49"
            ],
            "layout": "IPY_MODEL_21577ade14d14643ab4fca4b5fb24b08"
          }
        },
        "ab34016ee1f84e5fae7a7ccb5d1038af": {
          "model_module": "@jupyter-widgets/controls",
          "model_name": "HTMLModel",
          "model_module_version": "1.5.0",
          "state": {
            "_dom_classes": [],
            "_model_module": "@jupyter-widgets/controls",
            "_model_module_version": "1.5.0",
            "_model_name": "HTMLModel",
            "_view_count": null,
            "_view_module": "@jupyter-widgets/controls",
            "_view_module_version": "1.5.0",
            "_view_name": "HTMLView",
            "description": "",
            "description_tooltip": null,
            "layout": "IPY_MODEL_3e7618f06f6d4b9f93443bb8439b4d38",
            "placeholder": "​",
            "style": "IPY_MODEL_f1a14fdb457945a3a95d9674ed23fc2c",
            "value": "Evaluating: 100%"
          }
        },
        "d84faeb6be8144c3a5730cc913c35f91": {
          "model_module": "@jupyter-widgets/controls",
          "model_name": "FloatProgressModel",
          "model_module_version": "1.5.0",
          "state": {
            "_dom_classes": [],
            "_model_module": "@jupyter-widgets/controls",
            "_model_module_version": "1.5.0",
            "_model_name": "FloatProgressModel",
            "_view_count": null,
            "_view_module": "@jupyter-widgets/controls",
            "_view_module_version": "1.5.0",
            "_view_name": "ProgressView",
            "bar_style": "success",
            "description": "",
            "description_tooltip": null,
            "layout": "IPY_MODEL_029c98e25a0f4821be4f82ea9d85b95b",
            "max": 150,
            "min": 0,
            "orientation": "horizontal",
            "style": "IPY_MODEL_6710e0c9006249dbb35d5ac0d5c759c3",
            "value": 150
          }
        },
        "cfa4d57986e541e89c53352d24d9bb49": {
          "model_module": "@jupyter-widgets/controls",
          "model_name": "HTMLModel",
          "model_module_version": "1.5.0",
          "state": {
            "_dom_classes": [],
            "_model_module": "@jupyter-widgets/controls",
            "_model_module_version": "1.5.0",
            "_model_name": "HTMLModel",
            "_view_count": null,
            "_view_module": "@jupyter-widgets/controls",
            "_view_module_version": "1.5.0",
            "_view_name": "HTMLView",
            "description": "",
            "description_tooltip": null,
            "layout": "IPY_MODEL_450d6084e16b4afa9a408da1cac92082",
            "placeholder": "​",
            "style": "IPY_MODEL_e3225da91b4942ea81c71d96faaff989",
            "value": " 150/150 [19:24&lt;00:00, 14.83s/it]"
          }
        },
        "21577ade14d14643ab4fca4b5fb24b08": {
          "model_module": "@jupyter-widgets/base",
          "model_name": "LayoutModel",
          "model_module_version": "1.2.0",
          "state": {
            "_model_module": "@jupyter-widgets/base",
            "_model_module_version": "1.2.0",
            "_model_name": "LayoutModel",
            "_view_count": null,
            "_view_module": "@jupyter-widgets/base",
            "_view_module_version": "1.2.0",
            "_view_name": "LayoutView",
            "align_content": null,
            "align_items": null,
            "align_self": null,
            "border": null,
            "bottom": null,
            "display": null,
            "flex": null,
            "flex_flow": null,
            "grid_area": null,
            "grid_auto_columns": null,
            "grid_auto_flow": null,
            "grid_auto_rows": null,
            "grid_column": null,
            "grid_gap": null,
            "grid_row": null,
            "grid_template_areas": null,
            "grid_template_columns": null,
            "grid_template_rows": null,
            "height": null,
            "justify_content": null,
            "justify_items": null,
            "left": null,
            "margin": null,
            "max_height": null,
            "max_width": null,
            "min_height": null,
            "min_width": null,
            "object_fit": null,
            "object_position": null,
            "order": null,
            "overflow": null,
            "overflow_x": null,
            "overflow_y": null,
            "padding": null,
            "right": null,
            "top": null,
            "visibility": null,
            "width": null
          }
        },
        "3e7618f06f6d4b9f93443bb8439b4d38": {
          "model_module": "@jupyter-widgets/base",
          "model_name": "LayoutModel",
          "model_module_version": "1.2.0",
          "state": {
            "_model_module": "@jupyter-widgets/base",
            "_model_module_version": "1.2.0",
            "_model_name": "LayoutModel",
            "_view_count": null,
            "_view_module": "@jupyter-widgets/base",
            "_view_module_version": "1.2.0",
            "_view_name": "LayoutView",
            "align_content": null,
            "align_items": null,
            "align_self": null,
            "border": null,
            "bottom": null,
            "display": null,
            "flex": null,
            "flex_flow": null,
            "grid_area": null,
            "grid_auto_columns": null,
            "grid_auto_flow": null,
            "grid_auto_rows": null,
            "grid_column": null,
            "grid_gap": null,
            "grid_row": null,
            "grid_template_areas": null,
            "grid_template_columns": null,
            "grid_template_rows": null,
            "height": null,
            "justify_content": null,
            "justify_items": null,
            "left": null,
            "margin": null,
            "max_height": null,
            "max_width": null,
            "min_height": null,
            "min_width": null,
            "object_fit": null,
            "object_position": null,
            "order": null,
            "overflow": null,
            "overflow_x": null,
            "overflow_y": null,
            "padding": null,
            "right": null,
            "top": null,
            "visibility": null,
            "width": null
          }
        },
        "f1a14fdb457945a3a95d9674ed23fc2c": {
          "model_module": "@jupyter-widgets/controls",
          "model_name": "DescriptionStyleModel",
          "model_module_version": "1.5.0",
          "state": {
            "_model_module": "@jupyter-widgets/controls",
            "_model_module_version": "1.5.0",
            "_model_name": "DescriptionStyleModel",
            "_view_count": null,
            "_view_module": "@jupyter-widgets/base",
            "_view_module_version": "1.2.0",
            "_view_name": "StyleView",
            "description_width": ""
          }
        },
        "029c98e25a0f4821be4f82ea9d85b95b": {
          "model_module": "@jupyter-widgets/base",
          "model_name": "LayoutModel",
          "model_module_version": "1.2.0",
          "state": {
            "_model_module": "@jupyter-widgets/base",
            "_model_module_version": "1.2.0",
            "_model_name": "LayoutModel",
            "_view_count": null,
            "_view_module": "@jupyter-widgets/base",
            "_view_module_version": "1.2.0",
            "_view_name": "LayoutView",
            "align_content": null,
            "align_items": null,
            "align_self": null,
            "border": null,
            "bottom": null,
            "display": null,
            "flex": null,
            "flex_flow": null,
            "grid_area": null,
            "grid_auto_columns": null,
            "grid_auto_flow": null,
            "grid_auto_rows": null,
            "grid_column": null,
            "grid_gap": null,
            "grid_row": null,
            "grid_template_areas": null,
            "grid_template_columns": null,
            "grid_template_rows": null,
            "height": null,
            "justify_content": null,
            "justify_items": null,
            "left": null,
            "margin": null,
            "max_height": null,
            "max_width": null,
            "min_height": null,
            "min_width": null,
            "object_fit": null,
            "object_position": null,
            "order": null,
            "overflow": null,
            "overflow_x": null,
            "overflow_y": null,
            "padding": null,
            "right": null,
            "top": null,
            "visibility": null,
            "width": null
          }
        },
        "6710e0c9006249dbb35d5ac0d5c759c3": {
          "model_module": "@jupyter-widgets/controls",
          "model_name": "ProgressStyleModel",
          "model_module_version": "1.5.0",
          "state": {
            "_model_module": "@jupyter-widgets/controls",
            "_model_module_version": "1.5.0",
            "_model_name": "ProgressStyleModel",
            "_view_count": null,
            "_view_module": "@jupyter-widgets/base",
            "_view_module_version": "1.2.0",
            "_view_name": "StyleView",
            "bar_color": null,
            "description_width": ""
          }
        },
        "450d6084e16b4afa9a408da1cac92082": {
          "model_module": "@jupyter-widgets/base",
          "model_name": "LayoutModel",
          "model_module_version": "1.2.0",
          "state": {
            "_model_module": "@jupyter-widgets/base",
            "_model_module_version": "1.2.0",
            "_model_name": "LayoutModel",
            "_view_count": null,
            "_view_module": "@jupyter-widgets/base",
            "_view_module_version": "1.2.0",
            "_view_name": "LayoutView",
            "align_content": null,
            "align_items": null,
            "align_self": null,
            "border": null,
            "bottom": null,
            "display": null,
            "flex": null,
            "flex_flow": null,
            "grid_area": null,
            "grid_auto_columns": null,
            "grid_auto_flow": null,
            "grid_auto_rows": null,
            "grid_column": null,
            "grid_gap": null,
            "grid_row": null,
            "grid_template_areas": null,
            "grid_template_columns": null,
            "grid_template_rows": null,
            "height": null,
            "justify_content": null,
            "justify_items": null,
            "left": null,
            "margin": null,
            "max_height": null,
            "max_width": null,
            "min_height": null,
            "min_width": null,
            "object_fit": null,
            "object_position": null,
            "order": null,
            "overflow": null,
            "overflow_x": null,
            "overflow_y": null,
            "padding": null,
            "right": null,
            "top": null,
            "visibility": null,
            "width": null
          }
        },
        "e3225da91b4942ea81c71d96faaff989": {
          "model_module": "@jupyter-widgets/controls",
          "model_name": "DescriptionStyleModel",
          "model_module_version": "1.5.0",
          "state": {
            "_model_module": "@jupyter-widgets/controls",
            "_model_module_version": "1.5.0",
            "_model_name": "DescriptionStyleModel",
            "_view_count": null,
            "_view_module": "@jupyter-widgets/base",
            "_view_module_version": "1.2.0",
            "_view_name": "StyleView",
            "description_width": ""
          }
        }
      }
    },
    "accelerator": "GPU"
  },
  "cells": [
    {
      "cell_type": "markdown",
      "source": [
        "# RAG Langchain with Unstructured PDF, FAISS (gpu support), Qwen3 LLM & Qwen3 Embeddings\n",
        "Name      : Willy Santoso<br>\n",
        "Subject   : RAG Langchain with Unstructured PDF, FAISS (gpu support), Qwen3 LLM & Qwen3 Embeddings\n",
        "<br><br>\n",
        "This code is can be run on Google Colab since this is a Jupyter Notebook file (upload this ipynb to Colab).<br>\n",
        "If using Google Colab, run this code below to verify Nvidia GPU Driver and install the libraries:"
      ],
      "metadata": {
        "id": "WJR7wzfULCXI"
      }
    },
    {
      "cell_type": "code",
      "source": [
        "!nvidia-smi"
      ],
      "metadata": {
        "colab": {
          "base_uri": "https://localhost:8080/"
        },
        "id": "NsdYNv4CSV6p",
        "outputId": "27af90e8-a8e8-4095-dcd1-c7ec42f64aa3"
      },
      "execution_count": null,
      "outputs": [
        {
          "output_type": "stream",
          "name": "stdout",
          "text": [
            "Mon Oct 13 03:56:34 2025       \n",
            "+-----------------------------------------------------------------------------------------+\n",
            "| NVIDIA-SMI 550.54.15              Driver Version: 550.54.15      CUDA Version: 12.4     |\n",
            "|-----------------------------------------+------------------------+----------------------+\n",
            "| GPU  Name                 Persistence-M | Bus-Id          Disp.A | Volatile Uncorr. ECC |\n",
            "| Fan  Temp   Perf          Pwr:Usage/Cap |           Memory-Usage | GPU-Util  Compute M. |\n",
            "|                                         |                        |               MIG M. |\n",
            "|=========================================+========================+======================|\n",
            "|   0  Tesla T4                       Off |   00000000:00:04.0 Off |                    0 |\n",
            "| N/A   62C    P8             12W /   70W |       0MiB /  15360MiB |      0%      Default |\n",
            "|                                         |                        |                  N/A |\n",
            "+-----------------------------------------+------------------------+----------------------+\n",
            "                                                                                         \n",
            "+-----------------------------------------------------------------------------------------+\n",
            "| Processes:                                                                              |\n",
            "|  GPU   GI   CI        PID   Type   Process name                              GPU Memory |\n",
            "|        ID   ID                                                               Usage      |\n",
            "|=========================================================================================|\n",
            "|  No running processes found                                                             |\n",
            "+-----------------------------------------------------------------------------------------+\n"
          ]
        }
      ]
    },
    {
      "cell_type": "markdown",
      "source": [
        "#### Install PCI utils for Ollama GPU support, libs for Poppler PDF and Tesseract-ocr for image PDF reader"
      ],
      "metadata": {
        "id": "5VVFCfGptJX_"
      }
    },
    {
      "cell_type": "code",
      "source": [
        "!sudo apt-get update\n",
        "!sudo apt-get install -qq -y pciutils\n",
        "!sudo apt-get install -qq -y libxml2 libxslt1-dev libmagic-dev\n",
        "!sudo apt-get install -qq -y libnss3 libnss3-dev\n",
        "!sudo apt-get install -qq -y libcairo2-dev libjpeg-dev libgif-dev\n",
        "!sudo apt-get install -qq -y cmake libblkid-dev e2fslibs-dev libboost-all-dev libaudit-dev\n",
        "!sudo apt-get install -qq -y tesseract-ocr\n",
        "!sudo apt-get install -qq -y libpoppler-dev poppler-utils"
      ],
      "metadata": {
        "colab": {
          "base_uri": "https://localhost:8080/"
        },
        "id": "7A9P_1AsRorL",
        "outputId": "16c9ce7d-98c7-4be6-b1b8-59c4dd5be448"
      },
      "execution_count": null,
      "outputs": [
        {
          "output_type": "stream",
          "name": "stdout",
          "text": [
            "\r0% [Working]\r            \rHit:1 https://cli.github.com/packages stable InRelease\n",
            "\r0% [Connecting to archive.ubuntu.com (91.189.91.82)] [Connecting to security.ub\r                                                                               \rHit:2 https://cloud.r-project.org/bin/linux/ubuntu jammy-cran40/ InRelease\n",
            "Hit:3 https://developer.download.nvidia.com/compute/cuda/repos/ubuntu2204/x86_64  InRelease\n",
            "Hit:4 http://security.ubuntu.com/ubuntu jammy-security InRelease\n",
            "Hit:5 http://archive.ubuntu.com/ubuntu jammy InRelease\n",
            "Hit:6 http://archive.ubuntu.com/ubuntu jammy-updates InRelease\n",
            "Hit:7 https://ppa.launchpadcontent.net/deadsnakes/ppa/ubuntu jammy InRelease\n",
            "Hit:8 https://ppa.launchpadcontent.net/graphics-drivers/ppa/ubuntu jammy InRelease\n",
            "Hit:9 http://archive.ubuntu.com/ubuntu jammy-backports InRelease\n",
            "Hit:10 https://r2u.stat.illinois.edu/ubuntu jammy InRelease\n",
            "Hit:11 https://ppa.launchpadcontent.net/ubuntugis/ppa/ubuntu jammy InRelease\n",
            "Reading package lists... Done\n",
            "W: Skipping acquire of configured file 'main/source/Sources' as repository 'https://r2u.stat.illinois.edu/ubuntu jammy InRelease' does not seem to provide it (sources.list entry misspelt?)\n"
          ]
        }
      ]
    },
    {
      "cell_type": "code",
      "source": [
        "!pip install -q pyngrok"
      ],
      "metadata": {
        "id": "YNCEtfIlSlG3"
      },
      "execution_count": null,
      "outputs": []
    },
    {
      "cell_type": "markdown",
      "source": [
        "#### Install Ollama with GPU support, Qwen3 LLM, and Qwen3 Embeddings\n",
        "We will use `Qwen3-8B` and `Qwen3-embedding-8B` for RAG.<br>\n",
        "Then we also will be using `Qwen2.5-7B` and `Qwen3-embedding-8B` for RAG evaluation (RAGAS)."
      ],
      "metadata": {
        "id": "V7JV225QLeOQ"
      }
    },
    {
      "cell_type": "code",
      "execution_count": null,
      "metadata": {
        "colab": {
          "base_uri": "https://localhost:8080/"
        },
        "id": "lkz8JFt5QZt5",
        "outputId": "3298a51b-af7d-47fd-cdc9-afcbd4c6c450"
      },
      "outputs": [
        {
          "output_type": "stream",
          "name": "stdout",
          "text": [
            ">>> Installing ollama to /usr/local\n",
            ">>> Downloading Linux amd64 bundle\n",
            "######################################################################## 100.0%\n",
            ">>> Creating ollama user...\n",
            ">>> Adding ollama user to video group...\n",
            ">>> Adding current user to ollama group...\n",
            ">>> Creating ollama systemd service...\n",
            "\u001b[1m\u001b[31mWARNING:\u001b[m systemd is not running\n",
            ">>> NVIDIA GPU installed.\n",
            ">>> The Ollama API is now available at 127.0.0.1:11434.\n",
            ">>> Install complete. Run \"ollama\" from the command line.\n",
            "\u001b[?2026h\u001b[?25l\u001b[1G\u001b[?25h\u001b[?2026l\u001b[?2026h\u001b[?25l\u001b[1G\u001b[?25h\u001b[?2026l\u001b[?2026h\u001b[?25l\u001b[1G\u001b[?25h\u001b[?2026l\u001b[?2026h\u001b[?25l\u001b[1G\u001b[?25h\u001b[?2026l\u001b[?2026h\u001b[?25l\u001b[1G\u001b[?25h\u001b[?2026l\u001b[?2026h\u001b[?25l\u001b[1G\u001b[?25h\u001b[?2026l\u001b[?2026h\u001b[?25l\u001b[1G\u001b[?25h\u001b[?2026l\u001b[?2026h\u001b[?25l\u001b[1G\u001b[?25h\u001b[?2026l\u001b[?2026h\u001b[?25l\u001b[1G\u001b[?25h\u001b[?2026l\u001b[?2026h\u001b[?25l\u001b[1G\u001b[?25h\u001b[?2026l\u001b[?2026h\u001b[?25l\u001b[1G\u001b[?25h\u001b[?2026l\u001b[?2026h\u001b[?25l\u001b[1G\u001b[?25h\u001b[?2026l\u001b[?2026h\u001b[?25l\u001b[1G\u001b[?25h\u001b[?2026l\u001b[?2026h\u001b[?25l\u001b[1G\u001b[?25h\u001b[?2026l\u001b[?2026h\u001b[?25l\u001b[1G\u001b[?25h\u001b[?2026l\u001b[?2026h\u001b[?25l\u001b[1G\u001b[?25h\u001b[?2026l\u001b[?2026h\u001b[?25l\u001b[1G\u001b[?25h\u001b[?2026l\u001b[?2026h\u001b[?25l\u001b[A\u001b[1G\u001b[?25h\u001b[?2026l\u001b[?2026h\u001b[?25l\u001b[A\u001b[1G\u001b[?25h\u001b[?2026l\u001b[?2026h\u001b[?25l\u001b[A\u001b[1G\u001b[?25h\u001b[?2026l\u001b[?2026h\u001b[?25l\u001b[A\u001b[1G\u001b[?25h\u001b[?2026l\u001b[?2026h\u001b[?25l\u001b[A\u001b[1G\u001b[?25h\u001b[?2026l\u001b[?2026h\u001b[?25l\u001b[A\u001b[1G\u001b[?25h\u001b[?2026l\u001b[?2026h\u001b[?25l\u001b[A\u001b[1G\u001b[?25h\u001b[?2026l\u001b[?2026h\u001b[?25l\u001b[A\u001b[1G\u001b[?25h\u001b[?2026l\u001b[?2026h\u001b[?25l\u001b[A\u001b[1G\u001b[?25h\u001b[?2026l\u001b[?2026h\u001b[?25l\u001b[A\u001b[1G\u001b[?25h\u001b[?2026l\u001b[?2026h\u001b[?25l\u001b[A\u001b[1G\u001b[?25h\u001b[?2026l\u001b[?2026h\u001b[?25l\u001b[A\u001b[1G\u001b[?25h\u001b[?2026l\u001b[?2026h\u001b[?25l\u001b[A\u001b[1G\u001b[?25h\u001b[?2026l\u001b[?2026h\u001b[?25l\u001b[A\u001b[1G\u001b[?25h\u001b[?2026l\u001b[?2026h\u001b[?25l\u001b[A\u001b[1G\u001b[?25h\u001b[?2026l\u001b[?2026h\u001b[?25l\u001b[A\u001b[1G\u001b[?25h\u001b[?2026l\u001b[?2026h\u001b[?25l\u001b[A\u001b[1G\u001b[?25h\u001b[?2026l\u001b[?2026h\u001b[?25l\u001b[A\u001b[1G\u001b[?25h\u001b[?2026l\u001b[?2026h\u001b[?25l\u001b[A\u001b[1G\u001b[?25h\u001b[?2026l\u001b[?2026h\u001b[?25l\u001b[A\u001b[1G\u001b[?25h\u001b[?2026l\u001b[?2026h\u001b[?25l\u001b[A\u001b[1G\u001b[?25h\u001b[?2026l\u001b[?2026h\u001b[?25l\u001b[A\u001b[1G\u001b[?25h\u001b[?2026l\u001b[?2026h\u001b[?25l\u001b[A\u001b[1G\u001b[?25h\u001b[?2026l\u001b[?2026h\u001b[?25l\u001b[A\u001b[1G\u001b[?25h\u001b[?2026l\u001b[?2026h\u001b[?25l\u001b[A\u001b[1G\u001b[?25h\u001b[?2026l\u001b[?2026h\u001b[?25l\u001b[A\u001b[1G\u001b[?25h\u001b[?2026l\u001b[?2026h\u001b[?25l\u001b[A\u001b[1G\u001b[?25h\u001b[?2026l\u001b[?2026h\u001b[?25l\u001b[A\u001b[1G\u001b[?25h\u001b[?2026l\u001b[?2026h\u001b[?25l\u001b[A\u001b[1G\u001b[?25h\u001b[?2026l\u001b[?2026h\u001b[?25l\u001b[A\u001b[1G\u001b[?25h\u001b[?2026l\u001b[?2026h\u001b[?25l\u001b[A\u001b[1G\u001b[?25h\u001b[?2026l\u001b[?2026h\u001b[?25l\u001b[A\u001b[1G\u001b[?25h\u001b[?2026l\u001b[?2026h\u001b[?25l\u001b[A\u001b[1G\u001b[?25h\u001b[?2026l\u001b[?2026h\u001b[?25l\u001b[A\u001b[1G\u001b[?25h\u001b[?2026l\u001b[?2026h\u001b[?25l\u001b[A\u001b[1G\u001b[?25h\u001b[?2026l\u001b[?2026h\u001b[?25l\u001b[A\u001b[1G\u001b[?25h\u001b[?2026l\u001b[?2026h\u001b[?25l\u001b[A\u001b[1G\u001b[?25h\u001b[?2026l\u001b[?2026h\u001b[?25l\u001b[A\u001b[1G\u001b[?25h\u001b[?2026l\u001b[?2026h\u001b[?25l\u001b[A\u001b[1G\u001b[?25h\u001b[?2026l\u001b[?2026h\u001b[?25l\u001b[A\u001b[1G\u001b[?25h\u001b[?2026l\u001b[?2026h\u001b[?25l\u001b[A\u001b[1G\u001b[?25h\u001b[?2026l\u001b[?2026h\u001b[?25l\u001b[A\u001b[1G\u001b[?25h\u001b[?2026l\u001b[?2026h\u001b[?25l\u001b[A\u001b[1G\u001b[?25h\u001b[?2026l\u001b[?2026h\u001b[?25l\u001b[A\u001b[1G\u001b[?25h\u001b[?2026l\u001b[?2026h\u001b[?25l\u001b[A\u001b[1G\u001b[?25h\u001b[?2026l\u001b[?2026h\u001b[?25l\u001b[A\u001b[1G\u001b[?25h\u001b[?2026l\u001b[?2026h\u001b[?25l\u001b[A\u001b[1G\u001b[?25h\u001b[?2026l\u001b[?2026h\u001b[?25l\u001b[A\u001b[1G\u001b[?25h\u001b[?2026l\u001b[?2026h\u001b[?25l\u001b[A\u001b[1G\u001b[?25h\u001b[?2026l\u001b[?2026h\u001b[?25l\u001b[A\u001b[1G\u001b[?25h\u001b[?2026l\u001b[?2026h\u001b[?25l\u001b[A\u001b[1G\u001b[?25h\u001b[?2026l\u001b[?2026h\u001b[?25l\u001b[A\u001b[1G\u001b[?25h\u001b[?2026l\u001b[?2026h\u001b[?25l\u001b[A\u001b[1G\u001b[?25h\u001b[?2026l\u001b[?2026h\u001b[?25l\u001b[A\u001b[1G\u001b[?25h\u001b[?2026l\u001b[?2026h\u001b[?25l\u001b[A\u001b[1G\u001b[?25h\u001b[?2026l\u001b[?2026h\u001b[?25l\u001b[A\u001b[1G\u001b[?25h\u001b[?2026l\u001b[?2026h\u001b[?25l\u001b[A\u001b[1G\u001b[?25h\u001b[?2026l\u001b[?2026h\u001b[?25l\u001b[A\u001b[1G\u001b[?25h\u001b[?2026l\u001b[?2026h\u001b[?25l\u001b[A\u001b[1G\u001b[?25h\u001b[?2026l\u001b[?2026h\u001b[?25l\u001b[A\u001b[1G\u001b[?25h\u001b[?2026l\u001b[?2026h\u001b[?25l\u001b[A\u001b[1G\u001b[?25h\u001b[?2026l\u001b[?2026h\u001b[?25l\u001b[A\u001b[1G\u001b[?25h\u001b[?2026l\u001b[?2026h\u001b[?25l\u001b[A\u001b[1G\u001b[?25h\u001b[?2026l\u001b[?2026h\u001b[?25l\u001b[A\u001b[1G\u001b[?25h\u001b[?2026l\u001b[?2026h\u001b[?25l\u001b[A\u001b[1G\u001b[?25h\u001b[?2026l\u001b[?2026h\u001b[?25l\u001b[A\u001b[1G\u001b[?25h\u001b[?2026l\u001b[?2026h\u001b[?25l\u001b[A\u001b[1G\u001b[?25h\u001b[?2026l\u001b[?2026h\u001b[?25l\u001b[A\u001b[1G\u001b[?25h\u001b[?2026l\u001b[?2026h\u001b[?25l\u001b[A\u001b[1G\u001b[?25h\u001b[?2026l\u001b[?2026h\u001b[?25l\u001b[A\u001b[1G\u001b[?25h\u001b[?2026l\u001b[?2026h\u001b[?25l\u001b[A\u001b[1G\u001b[?25h\u001b[?2026l\u001b[?2026h\u001b[?25l\u001b[A\u001b[1G\u001b[?25h\u001b[?2026l\u001b[?2026h\u001b[?25l\u001b[A\u001b[1G\u001b[?25h\u001b[?2026l\u001b[?2026h\u001b[?25l\u001b[A\u001b[1G\u001b[?25h\u001b[?2026l\u001b[?2026h\u001b[?25l\u001b[A\u001b[1G\u001b[?25h\u001b[?2026l\u001b[?2026h\u001b[?25l\u001b[A\u001b[1G\u001b[?25h\u001b[?2026l\u001b[?2026h\u001b[?25l\u001b[A\u001b[1G\u001b[?25h\u001b[?2026l\u001b[?2026h\u001b[?25l\u001b[A\u001b[1G\u001b[?25h\u001b[?2026l\u001b[?2026h\u001b[?25l\u001b[A\u001b[1G\u001b[?25h\u001b[?2026l\u001b[?2026h\u001b[?25l\u001b[A\u001b[1G\u001b[?25h\u001b[?2026l\u001b[?2026h\u001b[?25l\u001b[A\u001b[1G\u001b[?25h\u001b[?2026l\u001b[?2026h\u001b[?25l\u001b[A\u001b[1G\u001b[?25h\u001b[?2026l\u001b[?2026h\u001b[?25l\u001b[A\u001b[1G\u001b[?25h\u001b[?2026l\u001b[?2026h\u001b[?25l\u001b[A\u001b[1G\u001b[?25h\u001b[?2026l\u001b[?2026h\u001b[?25l\u001b[A\u001b[1G\u001b[?25h\u001b[?2026l\u001b[?2026h\u001b[?25l\u001b[A\u001b[1G\u001b[?25h\u001b[?2026l\u001b[?2026h\u001b[?25l\u001b[A\u001b[1G\u001b[?25h\u001b[?2026l\u001b[?2026h\u001b[?25l\u001b[A\u001b[1G\u001b[?25h\u001b[?2026l\u001b[?2026h\u001b[?25l\u001b[A\u001b[1G\u001b[?25h\u001b[?2026l\u001b[?2026h\u001b[?25l\u001b[A\u001b[1G\u001b[?25h\u001b[?2026l\u001b[?2026h\u001b[?25l\u001b[A\u001b[1G\u001b[?25h\u001b[?2026l\u001b[?2026h\u001b[?25l\u001b[A\u001b[1G\u001b[?25h\u001b[?2026l\u001b[?2026h\u001b[?25l\u001b[A\u001b[1G\u001b[?25h\u001b[?2026l\u001b[?2026h\u001b[?25l\u001b[A\u001b[1G\u001b[?25h\u001b[?2026l\u001b[?2026h\u001b[?25l\u001b[A\u001b[1G\u001b[?25h\u001b[?2026l\u001b[?2026h\u001b[?25l\u001b[A\u001b[1G\u001b[?25h\u001b[?2026l\u001b[?2026h\u001b[?25l\u001b[A\u001b[1G\u001b[?25h\u001b[?2026l\u001b[?2026h\u001b[?25l\u001b[A\u001b[1G\u001b[?25h\u001b[?2026l\u001b[?2026h\u001b[?25l\u001b[A\u001b[1G\u001b[?25h\u001b[?2026l\u001b[?2026h\u001b[?25l\u001b[A\u001b[1G\u001b[?25h\u001b[?2026l\u001b[?2026h\u001b[?25l\u001b[A\u001b[1G\u001b[?25h\u001b[?2026l\u001b[?2026h\u001b[?25l\u001b[A\u001b[1G\u001b[?25h\u001b[?2026l\u001b[?2026h\u001b[?25l\u001b[A\u001b[1G\u001b[?25h\u001b[?2026l\u001b[?2026h\u001b[?25l\u001b[A\u001b[1G\u001b[?25h\u001b[?2026l\u001b[?2026h\u001b[?25l\u001b[A\u001b[1G\u001b[?25h\u001b[?2026l\u001b[?2026h\u001b[?25l\u001b[A\u001b[1G\u001b[?25h\u001b[?2026l\u001b[?2026h\u001b[?25l\u001b[A\u001b[1G\u001b[?25h\u001b[?2026l\u001b[?2026h\u001b[?25l\u001b[A\u001b[1G\u001b[?25h\u001b[?2026l\u001b[?2026h\u001b[?25l\u001b[A\u001b[1G\u001b[?25h\u001b[?2026l\u001b[?2026h\u001b[?25l\u001b[A\u001b[1G\u001b[?25h\u001b[?2026l\u001b[?2026h\u001b[?25l\u001b[A\u001b[1G\u001b[?25h\u001b[?2026l\u001b[?2026h\u001b[?25l\u001b[A\u001b[1G\u001b[?25h\u001b[?2026l\u001b[?2026h\u001b[?25l\u001b[A\u001b[1G\u001b[?25h\u001b[?2026l\u001b[?2026h\u001b[?25l\u001b[A\u001b[1G\u001b[?25h\u001b[?2026l\u001b[?2026h\u001b[?25l\u001b[A\u001b[1G\u001b[?25h\u001b[?2026l\u001b[?2026h\u001b[?25l\u001b[A\u001b[1G\u001b[?25h\u001b[?2026l\u001b[?2026h\u001b[?25l\u001b[A\u001b[1G\u001b[?25h\u001b[?2026l\u001b[?2026h\u001b[?25l\u001b[A\u001b[1G\u001b[?25h\u001b[?2026l\u001b[?2026h\u001b[?25l\u001b[A\u001b[1G\u001b[?25h\u001b[?2026l\u001b[?2026h\u001b[?25l\u001b[A\u001b[1G\u001b[?25h\u001b[?2026l\u001b[?2026h\u001b[?25l\u001b[A\u001b[1G\u001b[?25h\u001b[?2026l\u001b[?2026h\u001b[?25l\u001b[A\u001b[1G\u001b[?25h\u001b[?2026l\u001b[?2026h\u001b[?25l\u001b[A\u001b[1G\u001b[?25h\u001b[?2026l\u001b[?2026h\u001b[?25l\u001b[A\u001b[1G\u001b[?25h\u001b[?2026l\u001b[?2026h\u001b[?25l\u001b[A\u001b[1G\u001b[?25h\u001b[?2026l\u001b[?2026h\u001b[?25l\u001b[A\u001b[1G\u001b[?25h\u001b[?2026l\u001b[?2026h\u001b[?25l\u001b[A\u001b[1G\u001b[?25h\u001b[?2026l\u001b[?2026h\u001b[?25l\u001b[A\u001b[1G\u001b[?25h\u001b[?2026l\u001b[?2026h\u001b[?25l\u001b[A\u001b[1G\u001b[?25h\u001b[?2026l\u001b[?2026h\u001b[?25l\u001b[A\u001b[1G\u001b[?25h\u001b[?2026l\u001b[?2026h\u001b[?25l\u001b[A\u001b[1G\u001b[?25h\u001b[?2026l\u001b[?2026h\u001b[?25l\u001b[A\u001b[1G\u001b[?25h\u001b[?2026l\u001b[?2026h\u001b[?25l\u001b[A\u001b[1G\u001b[?25h\u001b[?2026l\u001b[?2026h\u001b[?25l\u001b[A\u001b[1G\u001b[?25h\u001b[?2026l\u001b[?2026h\u001b[?25l\u001b[A\u001b[1G\u001b[?25h\u001b[?2026l\u001b[?2026h\u001b[?25l\u001b[A\u001b[1G\u001b[?25h\u001b[?2026l\u001b[?2026h\u001b[?25l\u001b[A\u001b[1G\u001b[?25h\u001b[?2026l\u001b[?2026h\u001b[?25l\u001b[A\u001b[1G\u001b[?25h\u001b[?2026l\u001b[?2026h\u001b[?25l\u001b[A\u001b[1G\u001b[?25h\u001b[?2026l\u001b[?2026h\u001b[?25l\u001b[A\u001b[1G\u001b[?25h\u001b[?2026l\u001b[?2026h\u001b[?25l\u001b[A\u001b[1G\u001b[?25h\u001b[?2026l\u001b[?2026h\u001b[?25l\u001b[A\u001b[1G\u001b[?25h\u001b[?2026l\u001b[?2026h\u001b[?25l\u001b[A\u001b[1G\u001b[?25h\u001b[?2026l\u001b[?2026h\u001b[?25l\u001b[A\u001b[1G\u001b[?25h\u001b[?2026l\u001b[?2026h\u001b[?25l\u001b[A\u001b[1G\u001b[?25h\u001b[?2026l\u001b[?2026h\u001b[?25l\u001b[A\u001b[1G\u001b[?25h\u001b[?2026l\u001b[?2026h\u001b[?25l\u001b[A\u001b[1G\u001b[?25h\u001b[?2026l\u001b[?2026h\u001b[?25l\u001b[A\u001b[1G\u001b[?25h\u001b[?2026l\u001b[?2026h\u001b[?25l\u001b[A\u001b[1G\u001b[?25h\u001b[?2026l\u001b[?2026h\u001b[?25l\u001b[A\u001b[1G\u001b[?25h\u001b[?2026l\u001b[?2026h\u001b[?25l\u001b[A\u001b[1G\u001b[?25h\u001b[?2026l\u001b[?2026h\u001b[?25l\u001b[A\u001b[1G\u001b[?25h\u001b[?2026l\u001b[?2026h\u001b[?25l\u001b[A\u001b[1G\u001b[?25h\u001b[?2026l\u001b[?2026h\u001b[?25l\u001b[A\u001b[1G\u001b[?25h\u001b[?2026l\u001b[?2026h\u001b[?25l\u001b[A\u001b[1G\u001b[?25h\u001b[?2026l\u001b[?2026h\u001b[?25l\u001b[A\u001b[1G\u001b[?25h\u001b[?2026l\u001b[?2026h\u001b[?25l\u001b[A\u001b[1G\u001b[?25h\u001b[?2026l\u001b[?2026h\u001b[?25l\u001b[A\u001b[1G\u001b[?25h\u001b[?2026l\u001b[?2026h\u001b[?25l\u001b[A\u001b[1G\u001b[?25h\u001b[?2026l\u001b[?2026h\u001b[?25l\u001b[A\u001b[1G\u001b[?25h\u001b[?2026l\u001b[?2026h\u001b[?25l\u001b[A\u001b[1G\u001b[?25h\u001b[?2026l\u001b[?2026h\u001b[?25l\u001b[A\u001b[1G\u001b[?25h\u001b[?2026l\u001b[?2026h\u001b[?25l\u001b[A\u001b[1G\u001b[?25h\u001b[?2026l\u001b[?2026h\u001b[?25l\u001b[A\u001b[1G\u001b[?25h\u001b[?2026l\u001b[?2026h\u001b[?25l\u001b[A\u001b[1G\u001b[?25h\u001b[?2026l\u001b[?2026h\u001b[?25l\u001b[A\u001b[1G\u001b[?25h\u001b[?2026l\u001b[?2026h\u001b[?25l\u001b[A\u001b[1G\u001b[?25h\u001b[?2026l\u001b[?2026h\u001b[?25l\u001b[A\u001b[1G\u001b[?25h\u001b[?2026l\u001b[?2026h\u001b[?25l\u001b[A\u001b[1G\u001b[?25h\u001b[?2026l\u001b[?2026h\u001b[?25l\u001b[A\u001b[1G\u001b[?25h\u001b[?2026l\u001b[?2026h\u001b[?25l\u001b[A\u001b[1G\u001b[?25h\u001b[?2026l\u001b[?2026h\u001b[?25l\u001b[A\u001b[1G\u001b[?25h\u001b[?2026l\u001b[?2026h\u001b[?25l\u001b[A\u001b[1G\u001b[?25h\u001b[?2026l\u001b[?2026h\u001b[?25l\u001b[A\u001b[1G\u001b[?25h\u001b[?2026l\u001b[?2026h\u001b[?25l\u001b[A\u001b[1G\u001b[?25h\u001b[?2026l\u001b[?2026h\u001b[?25l\u001b[A\u001b[1G\u001b[?25h\u001b[?2026l\u001b[?2026h\u001b[?25l\u001b[A\u001b[1G\u001b[?25h\u001b[?2026l\u001b[?2026h\u001b[?25l\u001b[A\u001b[1G\u001b[?25h\u001b[?2026l\u001b[?2026h\u001b[?25l\u001b[A\u001b[1G\u001b[?25h\u001b[?2026l\u001b[?2026h\u001b[?25l\u001b[A\u001b[1G\u001b[?25h\u001b[?2026l\u001b[?2026h\u001b[?25l\u001b[A\u001b[1G\u001b[?25h\u001b[?2026l\u001b[?2026h\u001b[?25l\u001b[A\u001b[1G\u001b[?25h\u001b[?2026l\u001b[?2026h\u001b[?25l\u001b[A\u001b[1G\u001b[?25h\u001b[?2026l\u001b[?2026h\u001b[?25l\u001b[A\u001b[1G\u001b[?25h\u001b[?2026l\u001b[?2026h\u001b[?25l\u001b[A\u001b[1G\u001b[?25h\u001b[?2026l\u001b[?2026h\u001b[?25l\u001b[A\u001b[1G\u001b[?25h\u001b[?2026l\u001b[?2026h\u001b[?25l\u001b[A\u001b[1G\u001b[?25h\u001b[?2026l\u001b[?2026h\u001b[?25l\u001b[A\u001b[1G\u001b[?25h\u001b[?2026l\u001b[?2026h\u001b[?25l\u001b[A\u001b[1G\u001b[?25h\u001b[?2026l\u001b[?2026h\u001b[?25l\u001b[A\u001b[1G\u001b[?25h\u001b[?2026l\u001b[?2026h\u001b[?25l\u001b[A\u001b[1G\u001b[?25h\u001b[?2026l\u001b[?2026h\u001b[?25l\u001b[A\u001b[1G\u001b[?25h\u001b[?2026l\u001b[?2026h\u001b[?25l\u001b[A\u001b[1G\u001b[?25h\u001b[?2026l\u001b[?2026h\u001b[?25l\u001b[A\u001b[1G\u001b[?25h\u001b[?2026l\u001b[?2026h\u001b[?25l\u001b[A\u001b[1G\u001b[?25h\u001b[?2026l\u001b[?2026h\u001b[?25l\u001b[A\u001b[1G\u001b[?25h\u001b[?2026l\u001b[?2026h\u001b[?25l\u001b[A\u001b[1G\u001b[?25h\u001b[?2026l\u001b[?2026h\u001b[?25l\u001b[A\u001b[1G\u001b[?25h\u001b[?2026l\u001b[?2026h\u001b[?25l\u001b[A\u001b[1G\u001b[?25h\u001b[?2026l\u001b[?2026h\u001b[?25l\u001b[A\u001b[1G\u001b[?25h\u001b[?2026l\u001b[?2026h\u001b[?25l\u001b[A\u001b[1G\u001b[?25h\u001b[?2026l\u001b[?2026h\u001b[?25l\u001b[A\u001b[1G\u001b[?25h\u001b[?2026l\u001b[?2026h\u001b[?25l\u001b[A\u001b[1G\u001b[?25h\u001b[?2026l\u001b[?2026h\u001b[?25l\u001b[A\u001b[1G\u001b[?25h\u001b[?2026l\u001b[?2026h\u001b[?25l\u001b[A\u001b[1G\u001b[?25h\u001b[?2026l\u001b[?2026h\u001b[?25l\u001b[A\u001b[1G\u001b[?25h\u001b[?2026l\u001b[?2026h\u001b[?25l\u001b[A\u001b[1G\u001b[?25h\u001b[?2026l\u001b[?2026h\u001b[?25l\u001b[A\u001b[1G\u001b[?25h\u001b[?2026l\u001b[?2026h\u001b[?25l\u001b[A\u001b[1G\u001b[?25h\u001b[?2026l\u001b[?2026h\u001b[?25l\u001b[A\u001b[1G\u001b[?25h\u001b[?2026l\u001b[?2026h\u001b[?25l\u001b[A\u001b[1G\u001b[?25h\u001b[?2026l\u001b[?2026h\u001b[?25l\u001b[A\u001b[1G\u001b[?25h\u001b[?2026l\u001b[?2026h\u001b[?25l\u001b[A\u001b[1G\u001b[?25h\u001b[?2026l\u001b[?2026h\u001b[?25l\u001b[A\u001b[1G\u001b[?25h\u001b[?2026l\u001b[?2026h\u001b[?25l\u001b[A\u001b[1G\u001b[?25h\u001b[?2026l\u001b[?2026h\u001b[?25l\u001b[A\u001b[1G\u001b[?25h\u001b[?2026l\u001b[?2026h\u001b[?25l\u001b[A\u001b[1G\u001b[?25h\u001b[?2026l\u001b[?2026h\u001b[?25l\u001b[A\u001b[1G\u001b[?25h\u001b[?2026l\u001b[?2026h\u001b[?25l\u001b[A\u001b[1G\u001b[?25h\u001b[?2026l\u001b[?2026h\u001b[?25l\u001b[A\u001b[1G\u001b[?25h\u001b[?2026l\u001b[?2026h\u001b[?25l\u001b[A\u001b[1G\u001b[?25h\u001b[?2026l\u001b[?2026h\u001b[?25l\u001b[A\u001b[1G\u001b[?25h\u001b[?2026l\u001b[?2026h\u001b[?25l\u001b[A\u001b[1G\u001b[?25h\u001b[?2026l\u001b[?2026h\u001b[?25l\u001b[A\u001b[1G\u001b[?25h\u001b[?2026l\u001b[?2026h\u001b[?25l\u001b[A\u001b[1G\u001b[?25h\u001b[?2026l\u001b[?2026h\u001b[?25l\u001b[A\u001b[1G\u001b[?25h\u001b[?2026l\u001b[?2026h\u001b[?25l\u001b[A\u001b[1G\u001b[?25h\u001b[?2026l\u001b[?2026h\u001b[?25l\u001b[A\u001b[1G\u001b[?25h\u001b[?2026l\u001b[?2026h\u001b[?25l\u001b[A\u001b[1G\u001b[?25h\u001b[?2026l\u001b[?2026h\u001b[?25l\u001b[A\u001b[1G\u001b[?25h\u001b[?2026l\u001b[?2026h\u001b[?25l\u001b[A\u001b[1G\u001b[?25h\u001b[?2026l\u001b[?2026h\u001b[?25l\u001b[A\u001b[1G\u001b[?25h\u001b[?2026l\u001b[?2026h\u001b[?25l\u001b[A\u001b[1G\u001b[?25h\u001b[?2026l\u001b[?2026h\u001b[?25l\u001b[A\u001b[1G\u001b[?25h\u001b[?2026l\u001b[?2026h\u001b[?25l\u001b[A\u001b[1G\u001b[?25h\u001b[?2026l\u001b[?2026h\u001b[?25l\u001b[A\u001b[1G\u001b[?25h\u001b[?2026l\u001b[?2026h\u001b[?25l\u001b[A\u001b[1G\u001b[?25h\u001b[?2026l\u001b[?2026h\u001b[?25l\u001b[A\u001b[1G\u001b[?25h\u001b[?2026l\u001b[?2026h\u001b[?25l\u001b[A\u001b[1G\u001b[?25h\u001b[?2026l\u001b[?2026h\u001b[?25l\u001b[A\u001b[1G\u001b[?25h\u001b[?2026l\u001b[?2026h\u001b[?25l\u001b[A\u001b[1G\u001b[?25h\u001b[?2026l\u001b[?2026h\u001b[?25l\u001b[A\u001b[1G\u001b[?25h\u001b[?2026l\u001b[?2026h\u001b[?25l\u001b[A\u001b[1G\u001b[?25h\u001b[?2026l\u001b[?2026h\u001b[?25l\u001b[A\u001b[1G\u001b[?25h\u001b[?2026l\u001b[?2026h\u001b[?25l\u001b[A\u001b[1G\u001b[?25h\u001b[?2026l\u001b[?2026h\u001b[?25l\u001b[A\u001b[1G\u001b[?25h\u001b[?2026l\u001b[?2026h\u001b[?25l\u001b[A\u001b[1G\u001b[?25h\u001b[?2026l\u001b[?2026h\u001b[?25l\u001b[A\u001b[1G\u001b[?25h\u001b[?2026l\u001b[?2026h\u001b[?25l\u001b[A\u001b[1G\u001b[?25h\u001b[?2026l\u001b[?2026h\u001b[?25l\u001b[A\u001b[1G\u001b[?25h\u001b[?2026l\u001b[?2026h\u001b[?25l\u001b[A\u001b[1G\u001b[?25h\u001b[?2026l\u001b[?2026h\u001b[?25l\u001b[A\u001b[1G\u001b[?25h\u001b[?2026l\u001b[?2026h\u001b[?25l\u001b[A\u001b[1G\u001b[?25h\u001b[?2026l\u001b[?2026h\u001b[?25l\u001b[A\u001b[1G\u001b[?25h\u001b[?2026l\u001b[?2026h\u001b[?25l\u001b[A\u001b[1G\u001b[?25h\u001b[?2026l\u001b[?2026h\u001b[?25l\u001b[A\u001b[1G\u001b[?25h\u001b[?2026l\u001b[?2026h\u001b[?25l\u001b[A\u001b[1G\u001b[?25h\u001b[?2026l\u001b[?2026h\u001b[?25l\u001b[A\u001b[1G\u001b[?25h\u001b[?2026l\u001b[?2026h\u001b[?25l\u001b[A\u001b[1G\u001b[?25h\u001b[?2026l\u001b[?2026h\u001b[?25l\u001b[A\u001b[1G\u001b[?25h\u001b[?2026l\u001b[?2026h\u001b[?25l\u001b[A\u001b[1G\u001b[?25h\u001b[?2026l\u001b[?2026h\u001b[?25l\u001b[A\u001b[1G\u001b[?25h\u001b[?2026l\u001b[?2026h\u001b[?25l\u001b[A\u001b[1G\u001b[?25h\u001b[?2026l\u001b[?2026h\u001b[?25l\u001b[A\u001b[1G\u001b[?25h\u001b[?2026l\u001b[?2026h\u001b[?25l\u001b[A\u001b[1G\u001b[?25h\u001b[?2026l\u001b[?2026h\u001b[?25l\u001b[A\u001b[1G\u001b[?25h\u001b[?2026l\u001b[?2026h\u001b[?25l\u001b[A\u001b[1G\u001b[?25h\u001b[?2026l\u001b[?2026h\u001b[?25l\u001b[A\u001b[1G\u001b[?25h\u001b[?2026l\u001b[?2026h\u001b[?25l\u001b[A\u001b[1G\u001b[?25h\u001b[?2026l\u001b[?2026h\u001b[?25l\u001b[A\u001b[1G\u001b[?25h\u001b[?2026l\u001b[?2026h\u001b[?25l\u001b[A\u001b[1G\u001b[?25h\u001b[?2026l\u001b[?2026h\u001b[?25l\u001b[A\u001b[1G\u001b[?25h\u001b[?2026l\u001b[?2026h\u001b[?25l\u001b[A\u001b[1G\u001b[?25h\u001b[?2026l\u001b[?2026h\u001b[?25l\u001b[A\u001b[1G\u001b[?25h\u001b[?2026l\u001b[?2026h\u001b[?25l\u001b[A\u001b[1G\u001b[?25h\u001b[?2026l\u001b[?2026h\u001b[?25l\u001b[A\u001b[1G\u001b[?25h\u001b[?2026l\u001b[?2026h\u001b[?25l\u001b[A\u001b[1G\u001b[?25h\u001b[?2026l\u001b[?2026h\u001b[?25l\u001b[A\u001b[1G\u001b[?25h\u001b[?2026l\u001b[?2026h\u001b[?25l\u001b[A\u001b[1G\u001b[?25h\u001b[?2026l\u001b[?2026h\u001b[?25l\u001b[A\u001b[1G\u001b[?25h\u001b[?2026l\u001b[?2026h\u001b[?25l\u001b[A\u001b[1G\u001b[?25h\u001b[?2026l\u001b[?2026h\u001b[?25l\u001b[A\u001b[1G\u001b[?25h\u001b[?2026l\u001b[?2026h\u001b[?25l\u001b[A\u001b[1G\u001b[?25h\u001b[?2026l\u001b[?2026h\u001b[?25l\u001b[A\u001b[1G\u001b[?25h\u001b[?2026l\u001b[?2026h\u001b[?25l\u001b[A\u001b[1G\u001b[?25h\u001b[?2026l\u001b[?2026h\u001b[?25l\u001b[A\u001b[1G\u001b[?25h\u001b[?2026l\u001b[?2026h\u001b[?25l\u001b[A\u001b[A\u001b[1G\u001b[?25h\u001b[?2026l\u001b[?2026h\u001b[?25l\u001b[A\u001b[A\u001b[1G\u001b[?25h\u001b[?2026l\u001b[?2026h\u001b[?25l\u001b[A\u001b[A\u001b[1G\u001b[?25h\u001b[?2026l\u001b[?2026h\u001b[?25l\u001b[A\u001b[A\u001b[1G\u001b[?25h\u001b[?2026l\u001b[?2026h\u001b[?25l\u001b[A\u001b[A\u001b[1G\u001b[?25h\u001b[?2026l\u001b[?2026h\u001b[?25l\u001b[A\u001b[A\u001b[1G\u001b[?25h\u001b[?2026l\u001b[?2026h\u001b[?25l\u001b[A\u001b[A\u001b[1G\u001b[?25h\u001b[?2026l\u001b[?2026h\u001b[?25l\u001b[A\u001b[A\u001b[A\u001b[1G\u001b[?25h\u001b[?2026l\u001b[?2026h\u001b[?25l\u001b[A\u001b[A\u001b[A\u001b[1G\u001b[?25h\u001b[?2026l\u001b[?2026h\u001b[?25l\u001b[A\u001b[A\u001b[A\u001b[1G\u001b[?25h\u001b[?2026l\u001b[?2026h\u001b[?25l\u001b[A\u001b[A\u001b[A\u001b[1G\u001b[?25h\u001b[?2026l\u001b[?2026h\u001b[?25l\u001b[A\u001b[A\u001b[A\u001b[1G\u001b[?25h\u001b[?2026l\u001b[?2026h\u001b[?25l\u001b[A\u001b[A\u001b[A\u001b[1G\u001b[?25h\u001b[?2026l\u001b[?2026h\u001b[?25l\u001b[A\u001b[A\u001b[A\u001b[1G\u001b[?25h\u001b[?2026l\u001b[?2026h\u001b[?25l\u001b[A\u001b[A\u001b[A\u001b[1G\u001b[?25h\u001b[?2026l\u001b[?2026h\u001b[?25l\u001b[A\u001b[A\u001b[A\u001b[1G\u001b[?25h\u001b[?2026l\u001b[?2026h\u001b[?25l\u001b[A\u001b[A\u001b[A\u001b[1G\u001b[?25h\u001b[?2026l\u001b[?2026h\u001b[?25l\u001b[A\u001b[A\u001b[A\u001b[1G\u001b[?25h\u001b[?2026l\u001b[?2026h\u001b[?25l\u001b[A\u001b[A\u001b[A\u001b[1G\u001b[?25h\u001b[?2026l\u001b[?2026h\u001b[?25l\u001b[A\u001b[A\u001b[A\u001b[1G\u001b[?25h\u001b[?2026l\u001b[?2026h\u001b[?25l\u001b[A\u001b[A\u001b[A\u001b[1G\u001b[?25h\u001b[?2026l\u001b[?2026h\u001b[?25l\u001b[A\u001b[A\u001b[A\u001b[1G\u001b[?25h\u001b[?2026l\u001b[?2026h\u001b[?25l\u001b[A\u001b[A\u001b[A\u001b[1G\u001b[?25h\u001b[?2026l\u001b[?2026h\u001b[?25l\u001b[A\u001b[A\u001b[A\u001b[1G\u001b[?25h\u001b[?2026l\u001b[?2026h\u001b[?25l\u001b[A\u001b[A\u001b[A\u001b[1G\u001b[?25h\u001b[?2026l\u001b[?2026h\u001b[?25l\u001b[A\u001b[A\u001b[A\u001b[1G\u001b[?25h\u001b[?2026l\u001b[?2026h\u001b[?25l\u001b[A\u001b[A\u001b[A\u001b[1G\u001b[?25h\u001b[?2026l\u001b[?2026h\u001b[?25l\u001b[A\u001b[A\u001b[A\u001b[1G\u001b[?25h\u001b[?2026l\u001b[?2026h\u001b[?25l\u001b[A\u001b[A\u001b[A\u001b[1G\u001b[?25h\u001b[?2026l\u001b[?2026h\u001b[?25l\u001b[A\u001b[A\u001b[A\u001b[1G\u001b[?25h\u001b[?2026l\u001b[?2026h\u001b[?25l\u001b[A\u001b[A\u001b[A\u001b[1G\u001b[?25h\u001b[?2026l\u001b[?2026h\u001b[?25l\u001b[A\u001b[A\u001b[A\u001b[1G\u001b[?25h\u001b[?2026l\u001b[?2026h\u001b[?25l\u001b[A\u001b[A\u001b[A\u001b[1G\u001b[?25h\u001b[?2026l\u001b[?2026h\u001b[?25l\u001b[A\u001b[A\u001b[A\u001b[1G\u001b[?25h\u001b[?2026l\u001b[?2026h\u001b[?25l\u001b[A\u001b[A\u001b[A\u001b[1G\u001b[?25h\u001b[?2026l\u001b[?2026h\u001b[?25l\u001b[A\u001b[A\u001b[A\u001b[1G\u001b[?25h\u001b[?2026l\u001b[?2026h\u001b[?25l\u001b[A\u001b[A\u001b[A\u001b[1G\u001b[?25h\u001b[?2026l\u001b[?2026h\u001b[?25l\u001b[A\u001b[A\u001b[A\u001b[1G\u001b[?25h\u001b[?2026l\u001b[?2026h\u001b[?25l\u001b[A\u001b[A\u001b[A\u001b[1G\u001b[?25h\u001b[?2026l\u001b[?2026h\u001b[?25l\u001b[A\u001b[A\u001b[A\u001b[1G\u001b[?25h\u001b[?2026l\u001b[?2026h\u001b[?25l\u001b[A\u001b[A\u001b[A\u001b[1G\u001b[?25h\u001b[?2026l\u001b[?2026h\u001b[?25l\u001b[A\u001b[A\u001b[A\u001b[1G\u001b[?25h\u001b[?2026l\u001b[?2026h\u001b[?25l\u001b[A\u001b[A\u001b[A\u001b[1G\u001b[?25h\u001b[?2026l\u001b[?2026h\u001b[?25l\u001b[A\u001b[A\u001b[A\u001b[1G\u001b[?25h\u001b[?2026l\u001b[?2026h\u001b[?25l\u001b[A\u001b[A\u001b[A\u001b[1G\u001b[?25h\u001b[?2026l\u001b[?2026h\u001b[?25l\u001b[A\u001b[A\u001b[A\u001b[1G\u001b[?25h\u001b[?2026l\u001b[?2026h\u001b[?25l\u001b[A\u001b[A\u001b[A\u001b[1G\u001b[?25h\u001b[?2026l\u001b[?2026h\u001b[?25l\u001b[A\u001b[A\u001b[A\u001b[1G\u001b[?25h\u001b[?2026l\u001b[?2026h\u001b[?25l\u001b[A\u001b[A\u001b[A\u001b[1G\u001b[?25h\u001b[?2026l\u001b[?2026h\u001b[?25l\u001b[A\u001b[A\u001b[A\u001b[1G\u001b[?25h\u001b[?2026l\u001b[?2026h\u001b[?25l\u001b[A\u001b[A\u001b[A\u001b[1G\u001b[?25h\u001b[?2026l\u001b[?2026h\u001b[?25l\u001b[A\u001b[A\u001b[A\u001b[1G\u001b[?25h\u001b[?2026l\u001b[?2026h\u001b[?25l\u001b[A\u001b[A\u001b[A\u001b[1G\u001b[?25h\u001b[?2026l\u001b[?2026h\u001b[?25l\u001b[A\u001b[A\u001b[A\u001b[1G\u001b[?25h\u001b[?2026l\u001b[?2026h\u001b[?25l\u001b[A\u001b[A\u001b[A\u001b[1G\u001b[?25h\u001b[?2026l\u001b[?2026h\u001b[?25l\u001b[A\u001b[A\u001b[A\u001b[1G\u001b[?25h\u001b[?2026l\u001b[?2026h\u001b[?25l\u001b[A\u001b[A\u001b[A\u001b[1G\u001b[?25h\u001b[?2026l\u001b[?2026h\u001b[?25l\u001b[A\u001b[A\u001b[A\u001b[1G\u001b[?25h\u001b[?2026l\u001b[?2026h\u001b[?25l\u001b[A\u001b[A\u001b[A\u001b[1G\u001b[?25h\u001b[?2026l\u001b[?2026h\u001b[?25l\u001b[A\u001b[A\u001b[A\u001b[1G\u001b[?25h\u001b[?2026l\u001b[?2026h\u001b[?25l\u001b[A\u001b[A\u001b[A\u001b[1G\u001b[?25h\u001b[?2026l\u001b[?2026h\u001b[?25l\u001b[A\u001b[A\u001b[A\u001b[1G\u001b[?25h\u001b[?2026l\u001b[?2026h\u001b[?25l\u001b[A\u001b[A\u001b[A\u001b[1G\u001b[?25h\u001b[?2026l\u001b[?2026h\u001b[?25l\u001b[A\u001b[A\u001b[A\u001b[1G\u001b[?25h\u001b[?2026l\u001b[?2026h\u001b[?25l\u001b[A\u001b[A\u001b[A\u001b[1G\u001b[?25h\u001b[?2026l\u001b[?2026h\u001b[?25l\u001b[A\u001b[A\u001b[A\u001b[1G\u001b[?25h\u001b[?2026l\u001b[?2026h\u001b[?25l\u001b[A\u001b[A\u001b[A\u001b[1G\u001b[?25h\u001b[?2026l\u001b[?2026h\u001b[?25l\u001b[A\u001b[A\u001b[A\u001b[1G\u001b[?25h\u001b[?2026l\u001b[?2026h\u001b[?25l\u001b[A\u001b[A\u001b[A\u001b[1G\u001b[?25h\u001b[?2026l\u001b[?2026h\u001b[?25l\u001b[A\u001b[A\u001b[A\u001b[1G\u001b[?25h\u001b[?2026l\u001b[?2026h\u001b[?25l\u001b[A\u001b[A\u001b[A\u001b[1G\u001b[?25h\u001b[?2026l\u001b[?2026h\u001b[?25l\u001b[A\u001b[A\u001b[A\u001b[1G\u001b[?25h\u001b[?2026l\u001b[?2026h\u001b[?25l\u001b[A\u001b[A\u001b[A\u001b[1G\u001b[?25h\u001b[?2026l\u001b[?2026h\u001b[?25l\u001b[A\u001b[A\u001b[A\u001b[1G\u001b[?25h\u001b[?2026l\u001b[?2026h\u001b[?25l\u001b[A\u001b[A\u001b[A\u001b[1G\u001b[?25h\u001b[?2026l\u001b[?2026h\u001b[?25l\u001b[A\u001b[A\u001b[A\u001b[1G\u001b[?25h\u001b[?2026l\u001b[?2026h\u001b[?25l\u001b[A\u001b[A\u001b[A\u001b[1G\u001b[?25h\u001b[?2026l\u001b[?2026h\u001b[?25l\u001b[A\u001b[A\u001b[A\u001b[1G\u001b[?25h\u001b[?2026l\u001b[?2026h\u001b[?25l\u001b[A\u001b[A\u001b[A\u001b[1G\u001b[?25h\u001b[?2026l\u001b[?2026h\u001b[?25l\u001b[A\u001b[A\u001b[A\u001b[1G\u001b[?25h\u001b[?2026l\u001b[?2026h\u001b[?25l\u001b[A\u001b[A\u001b[A\u001b[1G\u001b[?25h\u001b[?2026l\u001b[?2026h\u001b[?25l\u001b[A\u001b[A\u001b[A\u001b[1G\u001b[?25h\u001b[?2026l\u001b[?2026h\u001b[?25l\u001b[A\u001b[A\u001b[A\u001b[1G\u001b[?25h\u001b[?2026l\u001b[?2026h\u001b[?25l\u001b[A\u001b[A\u001b[A\u001b[1G\u001b[?25h\u001b[?2026l\u001b[?2026h\u001b[?25l\u001b[A\u001b[A\u001b[A\u001b[1G\u001b[?25h\u001b[?2026l\u001b[?2026h\u001b[?25l\u001b[A\u001b[A\u001b[A\u001b[1G\u001b[?25h\u001b[?2026l\u001b[?2026h\u001b[?25l\u001b[A\u001b[A\u001b[A\u001b[1G\u001b[?25h\u001b[?2026l\u001b[?2026h\u001b[?25l\u001b[A\u001b[A\u001b[A\u001b[1G\u001b[?25h\u001b[?2026l\u001b[?2026h\u001b[?25l\u001b[A\u001b[A\u001b[A\u001b[1G\u001b[?25h\u001b[?2026l\u001b[?2026h\u001b[?25l\u001b[A\u001b[A\u001b[A\u001b[1G\u001b[?25h\u001b[?2026l\u001b[?2026h\u001b[?25l\u001b[A\u001b[A\u001b[A\u001b[1G\u001b[?25h\u001b[?2026l\u001b[?2026h\u001b[?25l\u001b[A\u001b[A\u001b[A\u001b[1G\u001b[?25h\u001b[?2026l\u001b[?2026h\u001b[?25l\u001b[A\u001b[A\u001b[A\u001b[1G\u001b[?25h\u001b[?2026l\u001b[?2026h\u001b[?25l\u001b[A\u001b[A\u001b[A\u001b[1G\u001b[?25h\u001b[?2026l\u001b[?2026h\u001b[?25l\u001b[A\u001b[A\u001b[A\u001b[1G\u001b[?25h\u001b[?2026l\u001b[?2026h\u001b[?25l\u001b[A\u001b[A\u001b[A\u001b[1G\u001b[?25h\u001b[?2026l\u001b[?2026h\u001b[?25l\u001b[A\u001b[A\u001b[A\u001b[1G\u001b[?25h\u001b[?2026l\u001b[?2026h\u001b[?25l\u001b[A\u001b[A\u001b[A\u001b[1G\u001b[?25h\u001b[?2026l\u001b[?2026h\u001b[?25l\u001b[A\u001b[A\u001b[A\u001b[1G\u001b[?25h\u001b[?2026l\u001b[?2026h\u001b[?25l\u001b[A\u001b[A\u001b[A\u001b[1G\u001b[?25h\u001b[?2026l\u001b[?2026h\u001b[?25l\u001b[A\u001b[A\u001b[A\u001b[1G\u001b[?25h\u001b[?2026l\u001b[?2026h\u001b[?25l\u001b[A\u001b[A\u001b[A\u001b[1G\u001b[?25h\u001b[?2026l\u001b[?2026h\u001b[?25l\u001b[A\u001b[A\u001b[A\u001b[1G\u001b[?25h\u001b[?2026l\u001b[?2026h\u001b[?25l\u001b[A\u001b[A\u001b[A\u001b[1G\u001b[?25h\u001b[?2026l\u001b[?2026h\u001b[?25l\u001b[A\u001b[A\u001b[A\u001b[1G\u001b[?25h\u001b[?2026l\u001b[?2026h\u001b[?25l\u001b[A\u001b[A\u001b[A\u001b[1G\u001b[?25h\u001b[?2026l\u001b[?2026h\u001b[?25l\u001b[A\u001b[A\u001b[A\u001b[1G\u001b[?25h\u001b[?2026l\u001b[?2026h\u001b[?25l\u001b[A\u001b[A\u001b[A\u001b[1G\u001b[?25h\u001b[?2026l\u001b[?2026h\u001b[?25l\u001b[A\u001b[A\u001b[A\u001b[1G\u001b[?25h\u001b[?2026l\u001b[?2026h\u001b[?25l\u001b[A\u001b[A\u001b[A\u001b[1G\u001b[?25h\u001b[?2026l\u001b[?2026h\u001b[?25l\u001b[A\u001b[A\u001b[A\u001b[1G\u001b[?25h\u001b[?2026l\u001b[?2026h\u001b[?25l\u001b[A\u001b[A\u001b[A\u001b[1G\u001b[?25h\u001b[?2026l\u001b[?2026h\u001b[?25l\u001b[A\u001b[A\u001b[A\u001b[1G\u001b[?25h\u001b[?2026l\u001b[?2026h\u001b[?25l\u001b[A\u001b[A\u001b[A\u001b[1G\u001b[?25h\u001b[?2026l\u001b[?2026h\u001b[?25l\u001b[A\u001b[A\u001b[A\u001b[1G\u001b[?25h\u001b[?2026l\u001b[?2026h\u001b[?25l\u001b[A\u001b[A\u001b[A\u001b[1G\u001b[?25h\u001b[?2026l\u001b[?2026h\u001b[?25l\u001b[A\u001b[A\u001b[A\u001b[1G\u001b[?25h\u001b[?2026l\u001b[?2026h\u001b[?25l\u001b[A\u001b[A\u001b[A\u001b[1G\u001b[?25h\u001b[?2026l\u001b[?2026h\u001b[?25l\u001b[A\u001b[A\u001b[A\u001b[1G\u001b[?25h\u001b[?2026l\u001b[?2026h\u001b[?25l\u001b[A\u001b[A\u001b[A\u001b[1G\u001b[?25h\u001b[?2026l\u001b[?2026h\u001b[?25l\u001b[A\u001b[A\u001b[A\u001b[1G\u001b[?25h\u001b[?2026l\u001b[?2026h\u001b[?25l\u001b[A\u001b[A\u001b[A\u001b[1G\u001b[?25h\u001b[?2026l\u001b[?2026h\u001b[?25l\u001b[A\u001b[A\u001b[A\u001b[1G\u001b[?25h\u001b[?2026l\u001b[?2026h\u001b[?25l\u001b[A\u001b[A\u001b[A\u001b[1G\u001b[?25h\u001b[?2026l\u001b[?2026h\u001b[?25l\u001b[A\u001b[A\u001b[A\u001b[1G\u001b[?25h\u001b[?2026l\u001b[?2026h\u001b[?25l\u001b[A\u001b[A\u001b[A\u001b[1G\u001b[?25h\u001b[?2026l\u001b[?2026h\u001b[?25l\u001b[A\u001b[A\u001b[A\u001b[1G\u001b[?25h\u001b[?2026l\u001b[?2026h\u001b[?25l\u001b[A\u001b[A\u001b[A\u001b[1G\u001b[?25h\u001b[?2026l\u001b[?2026h\u001b[?25l\u001b[A\u001b[A\u001b[A\u001b[1G\u001b[?25h\u001b[?2026l\u001b[?2026h\u001b[?25l\u001b[A\u001b[A\u001b[A\u001b[1G\u001b[?25h\u001b[?2026l\u001b[?2026h\u001b[?25l\u001b[A\u001b[A\u001b[A\u001b[1G\u001b[?25h\u001b[?2026l\u001b[?2026h\u001b[?25l\u001b[A\u001b[A\u001b[A\u001b[1G\u001b[?25h\u001b[?2026l\u001b[?2026h\u001b[?25l\u001b[A\u001b[A\u001b[A\u001b[1G\u001b[?25h\u001b[?2026l\u001b[?2026h\u001b[?25l\u001b[A\u001b[A\u001b[A\u001b[1G\u001b[?25h\u001b[?2026l\u001b[?2026h\u001b[?25l\u001b[A\u001b[A\u001b[A\u001b[1G\u001b[?25h\u001b[?2026l\u001b[?2026h\u001b[?25l\u001b[A\u001b[A\u001b[A\u001b[1G\u001b[?25h\u001b[?2026l\u001b[?2026h\u001b[?25l\u001b[A\u001b[A\u001b[A\u001b[1G\u001b[?25h\u001b[?2026l\u001b[?2026h\u001b[?25l\u001b[A\u001b[A\u001b[A\u001b[1G\u001b[?25h\u001b[?2026l\u001b[?2026h\u001b[?25l\u001b[A\u001b[A\u001b[A\u001b[1G\u001b[?25h\u001b[?2026l\u001b[?2026h\u001b[?25l\u001b[A\u001b[A\u001b[A\u001b[1G\u001b[?25h\u001b[?2026l\u001b[?2026h\u001b[?25l\u001b[A\u001b[A\u001b[A\u001b[1G\u001b[?25h\u001b[?2026l\u001b[?2026h\u001b[?25l\u001b[A\u001b[A\u001b[A\u001b[1G\u001b[?25h\u001b[?2026l\u001b[?2026h\u001b[?25l\u001b[A\u001b[A\u001b[A\u001b[1G\u001b[?25h\u001b[?2026l\u001b[?2026h\u001b[?25l\u001b[A\u001b[A\u001b[A\u001b[1G\u001b[?25h\u001b[?2026l\u001b[?2026h\u001b[?25l\u001b[A\u001b[A\u001b[A\u001b[1G\u001b[?25h\u001b[?2026l\u001b[?2026h\u001b[?25l\u001b[A\u001b[A\u001b[A\u001b[1G\u001b[?25h\u001b[?2026l\u001b[?2026h\u001b[?25l\u001b[A\u001b[A\u001b[A\u001b[1G\u001b[?25h\u001b[?2026l\u001b[?2026h\u001b[?25l\u001b[A\u001b[A\u001b[A\u001b[1G\u001b[?25h\u001b[?2026l\u001b[?2026h\u001b[?25l\u001b[A\u001b[A\u001b[A\u001b[1G\u001b[?25h\u001b[?2026l\u001b[?2026h\u001b[?25l\u001b[A\u001b[A\u001b[A\u001b[1G\u001b[?25h\u001b[?2026l\u001b[?2026h\u001b[?25l\u001b[A\u001b[A\u001b[A\u001b[1G\u001b[?25h\u001b[?2026l\u001b[?2026h\u001b[?25l\u001b[A\u001b[A\u001b[A\u001b[1G\u001b[?25h\u001b[?2026l\u001b[?2026h\u001b[?25l\u001b[A\u001b[A\u001b[A\u001b[1G\u001b[?25h\u001b[?2026l\u001b[?2026h\u001b[?25l\u001b[A\u001b[A\u001b[A\u001b[1G\u001b[?25h\u001b[?2026l\u001b[?2026h\u001b[?25l\u001b[A\u001b[A\u001b[A\u001b[1G\u001b[?25h\u001b[?2026l\u001b[?2026h\u001b[?25l\u001b[A\u001b[A\u001b[A\u001b[1G\u001b[?25h\u001b[?2026l\u001b[?2026h\u001b[?25l\u001b[A\u001b[A\u001b[A\u001b[1G\u001b[?25h\u001b[?2026l\u001b[?2026h\u001b[?25l\u001b[A\u001b[A\u001b[A\u001b[1G\u001b[?25h\u001b[?2026l\u001b[?2026h\u001b[?25l\u001b[A\u001b[A\u001b[A\u001b[1G\u001b[?25h\u001b[?2026l\u001b[?2026h\u001b[?25l\u001b[A\u001b[A\u001b[A\u001b[1G\u001b[?25h\u001b[?2026l\u001b[?2026h\u001b[?25l\u001b[A\u001b[A\u001b[A\u001b[1G\u001b[?25h\u001b[?2026l\u001b[?2026h\u001b[?25l\u001b[A\u001b[A\u001b[A\u001b[1G\u001b[?25h\u001b[?2026l\u001b[?2026h\u001b[?25l\u001b[A\u001b[A\u001b[A\u001b[1G\u001b[?25h\u001b[?2026l\u001b[?2026h\u001b[?25l\u001b[A\u001b[A\u001b[A\u001b[1G\u001b[?25h\u001b[?2026l\u001b[?2026h\u001b[?25l\u001b[A\u001b[A\u001b[A\u001b[1G\u001b[?25h\u001b[?2026l\u001b[?2026h\u001b[?25l\u001b[A\u001b[A\u001b[A\u001b[1G\u001b[?25h\u001b[?2026l\u001b[?2026h\u001b[?25l\u001b[A\u001b[A\u001b[A\u001b[1G\u001b[?25h\u001b[?2026l\u001b[?2026h\u001b[?25l\u001b[A\u001b[A\u001b[A\u001b[1G\u001b[?25h\u001b[?2026l\u001b[?2026h\u001b[?25l\u001b[A\u001b[A\u001b[A\u001b[1G\u001b[?25h\u001b[?2026l\u001b[?2026h\u001b[?25l\u001b[A\u001b[A\u001b[A\u001b[1G\u001b[?25h\u001b[?2026l\u001b[?2026h\u001b[?25l\u001b[A\u001b[A\u001b[A\u001b[1G\u001b[?25h\u001b[?2026l\u001b[?2026h\u001b[?25l\u001b[A\u001b[A\u001b[A\u001b[1G\u001b[?25h\u001b[?2026l\u001b[?2026h\u001b[?25l\u001b[A\u001b[A\u001b[A\u001b[1G\u001b[?25h\u001b[?2026l\u001b[?2026h\u001b[?25l\u001b[A\u001b[A\u001b[A\u001b[1G\u001b[?25h\u001b[?2026l\u001b[?2026h\u001b[?25l\u001b[A\u001b[A\u001b[A\u001b[1G\u001b[?25h\u001b[?2026l\u001b[?2026h\u001b[?25l\u001b[A\u001b[A\u001b[A\u001b[1G\u001b[?25h\u001b[?2026l\u001b[?2026h\u001b[?25l\u001b[A\u001b[A\u001b[A\u001b[1G\u001b[?25h\u001b[?2026l\u001b[?2026h\u001b[?25l\u001b[A\u001b[A\u001b[A\u001b[1G\u001b[?25h\u001b[?2026l\u001b[?2026h\u001b[?25l\u001b[A\u001b[A\u001b[A\u001b[1G\u001b[?25h\u001b[?2026l\u001b[?2026h\u001b[?25l\u001b[A\u001b[A\u001b[A\u001b[1G\u001b[?25h\u001b[?2026l\u001b[?2026h\u001b[?25l\u001b[A\u001b[A\u001b[A\u001b[1G\u001b[?25h\u001b[?2026l\u001b[?2026h\u001b[?25l\u001b[A\u001b[A\u001b[A\u001b[1G\u001b[?25h\u001b[?2026l\u001b[?2026h\u001b[?25l\u001b[A\u001b[A\u001b[A\u001b[1G\u001b[?25h\u001b[?2026l\u001b[?2026h\u001b[?25l\u001b[A\u001b[A\u001b[A\u001b[1G\u001b[?25h\u001b[?2026l\u001b[?2026h\u001b[?25l\u001b[A\u001b[A\u001b[A\u001b[1G\u001b[?25h\u001b[?2026l\u001b[?2026h\u001b[?25l\u001b[A\u001b[A\u001b[A\u001b[1G\u001b[?25h\u001b[?2026l\u001b[?2026h\u001b[?25l\u001b[A\u001b[A\u001b[A\u001b[1G\u001b[?25h\u001b[?2026l\u001b[?2026h\u001b[?25l\u001b[A\u001b[A\u001b[A\u001b[1G\u001b[?25h\u001b[?2026l\u001b[?2026h\u001b[?25l\u001b[A\u001b[A\u001b[A\u001b[1G\u001b[?25h\u001b[?2026l\u001b[?2026h\u001b[?25l\u001b[A\u001b[A\u001b[A\u001b[1G\u001b[?25h\u001b[?2026l\u001b[?2026h\u001b[?25l\u001b[A\u001b[A\u001b[A\u001b[1G\u001b[?25h\u001b[?2026l\u001b[?2026h\u001b[?25l\u001b[A\u001b[A\u001b[A\u001b[1G\u001b[?25h\u001b[?2026l\u001b[?2026h\u001b[?25l\u001b[A\u001b[A\u001b[A\u001b[1G\u001b[?25h\u001b[?2026l\u001b[?2026h\u001b[?25l\u001b[A\u001b[A\u001b[A\u001b[1G\u001b[?25h\u001b[?2026l\u001b[?2026h\u001b[?25l\u001b[A\u001b[A\u001b[A\u001b[1G\u001b[?25h\u001b[?2026l\u001b[?2026h\u001b[?25l\u001b[A\u001b[A\u001b[A\u001b[1G\u001b[?25h\u001b[?2026l\u001b[?2026h\u001b[?25l\u001b[A\u001b[A\u001b[A\u001b[1G\u001b[?25h\u001b[?2026l\u001b[?2026h\u001b[?25l\u001b[A\u001b[A\u001b[A\u001b[1G\u001b[?25h\u001b[?2026l\u001b[?2026h\u001b[?25l\u001b[A\u001b[A\u001b[A\u001b[1G\u001b[?25h\u001b[?2026l\u001b[?2026h\u001b[?25l\u001b[A\u001b[A\u001b[A\u001b[1G\u001b[?25h\u001b[?2026l\u001b[?2026h\u001b[?25l\u001b[A\u001b[A\u001b[A\u001b[1G\u001b[?25h\u001b[?2026l\u001b[?2026h\u001b[?25l\u001b[A\u001b[A\u001b[A\u001b[1G\u001b[?25h\u001b[?2026l\u001b[?2026h\u001b[?25l\u001b[A\u001b[A\u001b[A\u001b[1G\u001b[?25h\u001b[?2026l\u001b[?2026h\u001b[?25l\u001b[A\u001b[A\u001b[A\u001b[1G\u001b[?25h\u001b[?2026l\u001b[?2026h\u001b[?25l\u001b[A\u001b[A\u001b[A\u001b[1G\u001b[?25h\u001b[?2026l\u001b[?2026h\u001b[?25l\u001b[A\u001b[A\u001b[A\u001b[1G\u001b[?25h\u001b[?2026l\u001b[?2026h\u001b[?25l\u001b[A\u001b[A\u001b[A\u001b[1G\u001b[?25h\u001b[?2026l\u001b[?2026h\u001b[?25l\u001b[A\u001b[A\u001b[A\u001b[1G\u001b[?25h\u001b[?2026l\u001b[?2026h\u001b[?25l\u001b[A\u001b[A\u001b[A\u001b[1G\u001b[?25h\u001b[?2026l\u001b[?2026h\u001b[?25l\u001b[A\u001b[A\u001b[A\u001b[1G\u001b[?25h\u001b[?2026l\u001b[?2026h\u001b[?25l\u001b[A\u001b[A\u001b[A\u001b[1G\u001b[?25h\u001b[?2026l\u001b[?2026h\u001b[?25l\u001b[A\u001b[A\u001b[A\u001b[1G\u001b[?25h\u001b[?2026l\u001b[?2026h\u001b[?25l\u001b[A\u001b[A\u001b[A\u001b[1G\u001b[?25h\u001b[?2026l\u001b[?2026h\u001b[?25l\u001b[A\u001b[A\u001b[A\u001b[1G\u001b[?25h\u001b[?2026l\u001b[?2026h\u001b[?25l\u001b[A\u001b[A\u001b[A\u001b[1G\u001b[?25h\u001b[?2026l\u001b[?2026h\u001b[?25l\u001b[A\u001b[A\u001b[A\u001b[1G\u001b[?25h\u001b[?2026l\u001b[?2026h\u001b[?25l\u001b[A\u001b[A\u001b[A\u001b[1G\u001b[?25h\u001b[?2026l\u001b[?2026h\u001b[?25l\u001b[A\u001b[A\u001b[A\u001b[1G\u001b[?25h\u001b[?2026l\u001b[?2026h\u001b[?25l\u001b[A\u001b[A\u001b[A\u001b[1G\u001b[?25h\u001b[?2026l\u001b[?2026h\u001b[?25l\u001b[A\u001b[A\u001b[A\u001b[1G\u001b[?25h\u001b[?2026l\u001b[?2026h\u001b[?25l\u001b[A\u001b[A\u001b[A\u001b[1G\u001b[?25h\u001b[?2026l\u001b[?2026h\u001b[?25l\u001b[A\u001b[A\u001b[A\u001b[1G\u001b[?25h\u001b[?2026l\u001b[?2026h\u001b[?25l\u001b[A\u001b[A\u001b[A\u001b[1G\u001b[?25h\u001b[?2026l\n",
            "\u001b[?2026h\u001b[?25l\u001b[1G\u001b[?25h\u001b[?2026l\u001b[?2026h\u001b[?25l\u001b[1G\u001b[?25h\u001b[?2026l\u001b[?2026h\u001b[?25l\u001b[1G\u001b[?25h\u001b[?2026l\u001b[?2026h\u001b[?25l\u001b[1G\u001b[?25h\u001b[?2026l\u001b[?2026h\u001b[?25l\u001b[1G\u001b[?25h\u001b[?2026l\u001b[?2026h\u001b[?25l\u001b[1G\u001b[?25h\u001b[?2026l\u001b[?2026h\u001b[?25l\u001b[1G\u001b[?25h\u001b[?2026l\u001b[?2026h\u001b[?25l\u001b[1G\u001b[?25h\u001b[?2026l\u001b[?2026h\u001b[?25l\u001b[1G\u001b[?25h\u001b[?2026l\u001b[?2026h\u001b[?25l\u001b[1G\u001b[?25h\u001b[?2026l\u001b[?2026h\u001b[?25l\u001b[1G\u001b[?25h\u001b[?2026l\u001b[?2026h\u001b[?25l\u001b[1G\u001b[?25h\u001b[?2026l\u001b[?2026h\u001b[?25l\u001b[1G\u001b[?25h\u001b[?2026l\u001b[?2026h\u001b[?25l\u001b[1G\u001b[?25h\u001b[?2026l\u001b[?2026h\u001b[?25l\u001b[1G\u001b[?25h\u001b[?2026l\u001b[?2026h\u001b[?25l\u001b[1G\u001b[?25h\u001b[?2026l\u001b[?2026h\u001b[?25l\u001b[1G\u001b[?25h\u001b[?2026l\u001b[?2026h\u001b[?25l\u001b[A\u001b[1G\u001b[?25h\u001b[?2026l\u001b[?2026h\u001b[?25l\u001b[A\u001b[1G\u001b[?25h\u001b[?2026l\u001b[?2026h\u001b[?25l\u001b[A\u001b[1G\u001b[?25h\u001b[?2026l\u001b[?2026h\u001b[?25l\u001b[A\u001b[1G\u001b[?25h\u001b[?2026l\u001b[?2026h\u001b[?25l\u001b[A\u001b[1G\u001b[?25h\u001b[?2026l\u001b[?2026h\u001b[?25l\u001b[A\u001b[1G\u001b[?25h\u001b[?2026l\u001b[?2026h\u001b[?25l\u001b[A\u001b[1G\u001b[?25h\u001b[?2026l\u001b[?2026h\u001b[?25l\u001b[A\u001b[1G\u001b[?25h\u001b[?2026l\u001b[?2026h\u001b[?25l\u001b[A\u001b[1G\u001b[?25h\u001b[?2026l\u001b[?2026h\u001b[?25l\u001b[A\u001b[1G\u001b[?25h\u001b[?2026l\u001b[?2026h\u001b[?25l\u001b[A\u001b[1G\u001b[?25h\u001b[?2026l\u001b[?2026h\u001b[?25l\u001b[A\u001b[1G\u001b[?25h\u001b[?2026l\u001b[?2026h\u001b[?25l\u001b[A\u001b[1G\u001b[?25h\u001b[?2026l\u001b[?2026h\u001b[?25l\u001b[A\u001b[1G\u001b[?25h\u001b[?2026l\u001b[?2026h\u001b[?25l\u001b[A\u001b[1G\u001b[?25h\u001b[?2026l\u001b[?2026h\u001b[?25l\u001b[A\u001b[1G\u001b[?25h\u001b[?2026l\u001b[?2026h\u001b[?25l\u001b[A\u001b[1G\u001b[?25h\u001b[?2026l\u001b[?2026h\u001b[?25l\u001b[A\u001b[1G\u001b[?25h\u001b[?2026l\u001b[?2026h\u001b[?25l\u001b[A\u001b[1G\u001b[?25h\u001b[?2026l\u001b[?2026h\u001b[?25l\u001b[A\u001b[1G\u001b[?25h\u001b[?2026l\u001b[?2026h\u001b[?25l\u001b[A\u001b[1G\u001b[?25h\u001b[?2026l\u001b[?2026h\u001b[?25l\u001b[A\u001b[1G\u001b[?25h\u001b[?2026l\u001b[?2026h\u001b[?25l\u001b[A\u001b[1G\u001b[?25h\u001b[?2026l\u001b[?2026h\u001b[?25l\u001b[A\u001b[1G\u001b[?25h\u001b[?2026l\u001b[?2026h\u001b[?25l\u001b[A\u001b[1G\u001b[?25h\u001b[?2026l\u001b[?2026h\u001b[?25l\u001b[A\u001b[1G\u001b[?25h\u001b[?2026l\u001b[?2026h\u001b[?25l\u001b[A\u001b[1G\u001b[?25h\u001b[?2026l\u001b[?2026h\u001b[?25l\u001b[A\u001b[1G\u001b[?25h\u001b[?2026l\u001b[?2026h\u001b[?25l\u001b[A\u001b[1G\u001b[?25h\u001b[?2026l\u001b[?2026h\u001b[?25l\u001b[A\u001b[1G\u001b[?25h\u001b[?2026l\u001b[?2026h\u001b[?25l\u001b[A\u001b[1G\u001b[?25h\u001b[?2026l\u001b[?2026h\u001b[?25l\u001b[A\u001b[1G\u001b[?25h\u001b[?2026l\u001b[?2026h\u001b[?25l\u001b[A\u001b[1G\u001b[?25h\u001b[?2026l\u001b[?2026h\u001b[?25l\u001b[A\u001b[1G\u001b[?25h\u001b[?2026l\u001b[?2026h\u001b[?25l\u001b[A\u001b[1G\u001b[?25h\u001b[?2026l\u001b[?2026h\u001b[?25l\u001b[A\u001b[1G\u001b[?25h\u001b[?2026l\u001b[?2026h\u001b[?25l\u001b[A\u001b[1G\u001b[?25h\u001b[?2026l\u001b[?2026h\u001b[?25l\u001b[A\u001b[1G\u001b[?25h\u001b[?2026l\u001b[?2026h\u001b[?25l\u001b[A\u001b[1G\u001b[?25h\u001b[?2026l\u001b[?2026h\u001b[?25l\u001b[A\u001b[1G\u001b[?25h\u001b[?2026l\u001b[?2026h\u001b[?25l\u001b[A\u001b[1G\u001b[?25h\u001b[?2026l\u001b[?2026h\u001b[?25l\u001b[A\u001b[1G\u001b[?25h\u001b[?2026l\u001b[?2026h\u001b[?25l\u001b[A\u001b[1G\u001b[?25h\u001b[?2026l\u001b[?2026h\u001b[?25l\u001b[A\u001b[1G\u001b[?25h\u001b[?2026l\u001b[?2026h\u001b[?25l\u001b[A\u001b[1G\u001b[?25h\u001b[?2026l\u001b[?2026h\u001b[?25l\u001b[A\u001b[1G\u001b[?25h\u001b[?2026l\u001b[?2026h\u001b[?25l\u001b[A\u001b[1G\u001b[?25h\u001b[?2026l\u001b[?2026h\u001b[?25l\u001b[A\u001b[1G\u001b[?25h\u001b[?2026l\u001b[?2026h\u001b[?25l\u001b[A\u001b[1G\u001b[?25h\u001b[?2026l\u001b[?2026h\u001b[?25l\u001b[A\u001b[1G\u001b[?25h\u001b[?2026l\u001b[?2026h\u001b[?25l\u001b[A\u001b[1G\u001b[?25h\u001b[?2026l\u001b[?2026h\u001b[?25l\u001b[A\u001b[1G\u001b[?25h\u001b[?2026l\u001b[?2026h\u001b[?25l\u001b[A\u001b[1G\u001b[?25h\u001b[?2026l\u001b[?2026h\u001b[?25l\u001b[A\u001b[1G\u001b[?25h\u001b[?2026l\u001b[?2026h\u001b[?25l\u001b[A\u001b[1G\u001b[?25h\u001b[?2026l\u001b[?2026h\u001b[?25l\u001b[A\u001b[1G\u001b[?25h\u001b[?2026l\u001b[?2026h\u001b[?25l\u001b[A\u001b[1G\u001b[?25h\u001b[?2026l\u001b[?2026h\u001b[?25l\u001b[A\u001b[1G\u001b[?25h\u001b[?2026l\u001b[?2026h\u001b[?25l\u001b[A\u001b[1G\u001b[?25h\u001b[?2026l\u001b[?2026h\u001b[?25l\u001b[A\u001b[1G\u001b[?25h\u001b[?2026l\u001b[?2026h\u001b[?25l\u001b[A\u001b[1G\u001b[?25h\u001b[?2026l\u001b[?2026h\u001b[?25l\u001b[A\u001b[1G\u001b[?25h\u001b[?2026l\u001b[?2026h\u001b[?25l\u001b[A\u001b[1G\u001b[?25h\u001b[?2026l\u001b[?2026h\u001b[?25l\u001b[A\u001b[1G\u001b[?25h\u001b[?2026l\u001b[?2026h\u001b[?25l\u001b[A\u001b[1G\u001b[?25h\u001b[?2026l\u001b[?2026h\u001b[?25l\u001b[A\u001b[1G\u001b[?25h\u001b[?2026l\u001b[?2026h\u001b[?25l\u001b[A\u001b[1G\u001b[?25h\u001b[?2026l\u001b[?2026h\u001b[?25l\u001b[A\u001b[1G\u001b[?25h\u001b[?2026l\u001b[?2026h\u001b[?25l\u001b[A\u001b[1G\u001b[?25h\u001b[?2026l\u001b[?2026h\u001b[?25l\u001b[A\u001b[1G\u001b[?25h\u001b[?2026l\u001b[?2026h\u001b[?25l\u001b[A\u001b[1G\u001b[?25h\u001b[?2026l\u001b[?2026h\u001b[?25l\u001b[A\u001b[1G\u001b[?25h\u001b[?2026l\u001b[?2026h\u001b[?25l\u001b[A\u001b[1G\u001b[?25h\u001b[?2026l\u001b[?2026h\u001b[?25l\u001b[A\u001b[1G\u001b[?25h\u001b[?2026l\u001b[?2026h\u001b[?25l\u001b[A\u001b[1G\u001b[?25h\u001b[?2026l\u001b[?2026h\u001b[?25l\u001b[A\u001b[1G\u001b[?25h\u001b[?2026l\u001b[?2026h\u001b[?25l\u001b[A\u001b[1G\u001b[?25h\u001b[?2026l\u001b[?2026h\u001b[?25l\u001b[A\u001b[1G\u001b[?25h\u001b[?2026l\u001b[?2026h\u001b[?25l\u001b[A\u001b[1G\u001b[?25h\u001b[?2026l\u001b[?2026h\u001b[?25l\u001b[A\u001b[1G\u001b[?25h\u001b[?2026l\u001b[?2026h\u001b[?25l\u001b[A\u001b[1G\u001b[?25h\u001b[?2026l\u001b[?2026h\u001b[?25l\u001b[A\u001b[1G\u001b[?25h\u001b[?2026l\u001b[?2026h\u001b[?25l\u001b[A\u001b[1G\u001b[?25h\u001b[?2026l\u001b[?2026h\u001b[?25l\u001b[A\u001b[1G\u001b[?25h\u001b[?2026l\u001b[?2026h\u001b[?25l\u001b[A\u001b[1G\u001b[?25h\u001b[?2026l\u001b[?2026h\u001b[?25l\u001b[A\u001b[1G\u001b[?25h\u001b[?2026l\u001b[?2026h\u001b[?25l\u001b[A\u001b[1G\u001b[?25h\u001b[?2026l\u001b[?2026h\u001b[?25l\u001b[A\u001b[1G\u001b[?25h\u001b[?2026l\u001b[?2026h\u001b[?25l\u001b[A\u001b[1G\u001b[?25h\u001b[?2026l\u001b[?2026h\u001b[?25l\u001b[A\u001b[1G\u001b[?25h\u001b[?2026l\u001b[?2026h\u001b[?25l\u001b[A\u001b[1G\u001b[?25h\u001b[?2026l\u001b[?2026h\u001b[?25l\u001b[A\u001b[1G\u001b[?25h\u001b[?2026l\u001b[?2026h\u001b[?25l\u001b[A\u001b[1G\u001b[?25h\u001b[?2026l\u001b[?2026h\u001b[?25l\u001b[A\u001b[1G\u001b[?25h\u001b[?2026l\u001b[?2026h\u001b[?25l\u001b[A\u001b[1G\u001b[?25h\u001b[?2026l\u001b[?2026h\u001b[?25l\u001b[A\u001b[1G\u001b[?25h\u001b[?2026l\u001b[?2026h\u001b[?25l\u001b[A\u001b[1G\u001b[?25h\u001b[?2026l\u001b[?2026h\u001b[?25l\u001b[A\u001b[1G\u001b[?25h\u001b[?2026l\u001b[?2026h\u001b[?25l\u001b[A\u001b[1G\u001b[?25h\u001b[?2026l\u001b[?2026h\u001b[?25l\u001b[A\u001b[1G\u001b[?25h\u001b[?2026l\u001b[?2026h\u001b[?25l\u001b[A\u001b[1G\u001b[?25h\u001b[?2026l\u001b[?2026h\u001b[?25l\u001b[A\u001b[1G\u001b[?25h\u001b[?2026l\u001b[?2026h\u001b[?25l\u001b[A\u001b[1G\u001b[?25h\u001b[?2026l\u001b[?2026h\u001b[?25l\u001b[A\u001b[1G\u001b[?25h\u001b[?2026l\u001b[?2026h\u001b[?25l\u001b[A\u001b[1G\u001b[?25h\u001b[?2026l\u001b[?2026h\u001b[?25l\u001b[A\u001b[1G\u001b[?25h\u001b[?2026l\u001b[?2026h\u001b[?25l\u001b[A\u001b[1G\u001b[?25h\u001b[?2026l\u001b[?2026h\u001b[?25l\u001b[A\u001b[1G\u001b[?25h\u001b[?2026l\u001b[?2026h\u001b[?25l\u001b[A\u001b[1G\u001b[?25h\u001b[?2026l\u001b[?2026h\u001b[?25l\u001b[A\u001b[1G\u001b[?25h\u001b[?2026l\u001b[?2026h\u001b[?25l\u001b[A\u001b[1G\u001b[?25h\u001b[?2026l\u001b[?2026h\u001b[?25l\u001b[A\u001b[1G\u001b[?25h\u001b[?2026l\u001b[?2026h\u001b[?25l\u001b[A\u001b[1G\u001b[?25h\u001b[?2026l\u001b[?2026h\u001b[?25l\u001b[A\u001b[1G\u001b[?25h\u001b[?2026l\u001b[?2026h\u001b[?25l\u001b[A\u001b[1G\u001b[?25h\u001b[?2026l\u001b[?2026h\u001b[?25l\u001b[A\u001b[1G\u001b[?25h\u001b[?2026l\u001b[?2026h\u001b[?25l\u001b[A\u001b[1G\u001b[?25h\u001b[?2026l\u001b[?2026h\u001b[?25l\u001b[A\u001b[1G\u001b[?25h\u001b[?2026l\u001b[?2026h\u001b[?25l\u001b[A\u001b[1G\u001b[?25h\u001b[?2026l\u001b[?2026h\u001b[?25l\u001b[A\u001b[1G\u001b[?25h\u001b[?2026l\u001b[?2026h\u001b[?25l\u001b[A\u001b[1G\u001b[?25h\u001b[?2026l\u001b[?2026h\u001b[?25l\u001b[A\u001b[1G\u001b[?25h\u001b[?2026l\u001b[?2026h\u001b[?25l\u001b[A\u001b[1G\u001b[?25h\u001b[?2026l\u001b[?2026h\u001b[?25l\u001b[A\u001b[1G\u001b[?25h\u001b[?2026l\u001b[?2026h\u001b[?25l\u001b[A\u001b[1G\u001b[?25h\u001b[?2026l\u001b[?2026h\u001b[?25l\u001b[A\u001b[1G\u001b[?25h\u001b[?2026l\u001b[?2026h\u001b[?25l\u001b[A\u001b[1G\u001b[?25h\u001b[?2026l\u001b[?2026h\u001b[?25l\u001b[A\u001b[1G\u001b[?25h\u001b[?2026l\u001b[?2026h\u001b[?25l\u001b[A\u001b[1G\u001b[?25h\u001b[?2026l\u001b[?2026h\u001b[?25l\u001b[A\u001b[1G\u001b[?25h\u001b[?2026l\u001b[?2026h\u001b[?25l\u001b[A\u001b[1G\u001b[?25h\u001b[?2026l\u001b[?2026h\u001b[?25l\u001b[A\u001b[1G\u001b[?25h\u001b[?2026l\u001b[?2026h\u001b[?25l\u001b[A\u001b[1G\u001b[?25h\u001b[?2026l\u001b[?2026h\u001b[?25l\u001b[A\u001b[1G\u001b[?25h\u001b[?2026l\u001b[?2026h\u001b[?25l\u001b[A\u001b[1G\u001b[?25h\u001b[?2026l\u001b[?2026h\u001b[?25l\u001b[A\u001b[1G\u001b[?25h\u001b[?2026l\u001b[?2026h\u001b[?25l\u001b[A\u001b[1G\u001b[?25h\u001b[?2026l\u001b[?2026h\u001b[?25l\u001b[A\u001b[1G\u001b[?25h\u001b[?2026l\u001b[?2026h\u001b[?25l\u001b[A\u001b[1G\u001b[?25h\u001b[?2026l\u001b[?2026h\u001b[?25l\u001b[A\u001b[1G\u001b[?25h\u001b[?2026l\u001b[?2026h\u001b[?25l\u001b[A\u001b[1G\u001b[?25h\u001b[?2026l\u001b[?2026h\u001b[?25l\u001b[A\u001b[1G\u001b[?25h\u001b[?2026l\u001b[?2026h\u001b[?25l\u001b[A\u001b[1G\u001b[?25h\u001b[?2026l\u001b[?2026h\u001b[?25l\u001b[A\u001b[1G\u001b[?25h\u001b[?2026l\u001b[?2026h\u001b[?25l\u001b[A\u001b[1G\u001b[?25h\u001b[?2026l\u001b[?2026h\u001b[?25l\u001b[A\u001b[1G\u001b[?25h\u001b[?2026l\u001b[?2026h\u001b[?25l\u001b[A\u001b[1G\u001b[?25h\u001b[?2026l\u001b[?2026h\u001b[?25l\u001b[A\u001b[1G\u001b[?25h\u001b[?2026l\u001b[?2026h\u001b[?25l\u001b[A\u001b[1G\u001b[?25h\u001b[?2026l\u001b[?2026h\u001b[?25l\u001b[A\u001b[1G\u001b[?25h\u001b[?2026l\u001b[?2026h\u001b[?25l\u001b[A\u001b[1G\u001b[?25h\u001b[?2026l\u001b[?2026h\u001b[?25l\u001b[A\u001b[1G\u001b[?25h\u001b[?2026l\u001b[?2026h\u001b[?25l\u001b[A\u001b[1G\u001b[?25h\u001b[?2026l\u001b[?2026h\u001b[?25l\u001b[A\u001b[1G\u001b[?25h\u001b[?2026l\u001b[?2026h\u001b[?25l\u001b[A\u001b[1G\u001b[?25h\u001b[?2026l\u001b[?2026h\u001b[?25l\u001b[A\u001b[1G\u001b[?25h\u001b[?2026l\u001b[?2026h\u001b[?25l\u001b[A\u001b[A\u001b[1G\u001b[?25h\u001b[?2026l\u001b[?2026h\u001b[?25l\u001b[A\u001b[A\u001b[1G\u001b[?25h\u001b[?2026l\u001b[?2026h\u001b[?25l\u001b[A\u001b[A\u001b[1G\u001b[?25h\u001b[?2026l\u001b[?2026h\u001b[?25l\u001b[A\u001b[A\u001b[1G\u001b[?25h\u001b[?2026l\u001b[?2026h\u001b[?25l\u001b[A\u001b[A\u001b[1G\u001b[?25h\u001b[?2026l\u001b[?2026h\u001b[?25l\u001b[A\u001b[A\u001b[1G\u001b[?25h\u001b[?2026l\u001b[?2026h\u001b[?25l\u001b[A\u001b[A\u001b[A\u001b[1G\u001b[?25h\u001b[?2026l\u001b[?2026h\u001b[?25l\u001b[A\u001b[A\u001b[A\u001b[1G\u001b[?25h\u001b[?2026l\u001b[?2026h\u001b[?25l\u001b[A\u001b[A\u001b[A\u001b[1G\u001b[?25h\u001b[?2026l\u001b[?2026h\u001b[?25l\u001b[A\u001b[A\u001b[A\u001b[1G\u001b[?25h\u001b[?2026l\u001b[?2026h\u001b[?25l\u001b[A\u001b[A\u001b[A\u001b[1G\u001b[?25h\u001b[?2026l\u001b[?2026h\u001b[?25l\u001b[A\u001b[A\u001b[A\u001b[1G\u001b[?25h\u001b[?2026l\u001b[?2026h\u001b[?25l\u001b[A\u001b[A\u001b[A\u001b[1G\u001b[?25h\u001b[?2026l\u001b[?2026h\u001b[?25l\u001b[A\u001b[A\u001b[A\u001b[1G\u001b[?25h\u001b[?2026l\u001b[?2026h\u001b[?25l\u001b[A\u001b[A\u001b[A\u001b[1G\u001b[?25h\u001b[?2026l\u001b[?2026h\u001b[?25l\u001b[A\u001b[A\u001b[A\u001b[1G\u001b[?25h\u001b[?2026l\u001b[?2026h\u001b[?25l\u001b[A\u001b[A\u001b[A\u001b[1G\u001b[?25h\u001b[?2026l\u001b[?2026h\u001b[?25l\u001b[A\u001b[A\u001b[A\u001b[1G\u001b[?25h\u001b[?2026l\u001b[?2026h\u001b[?25l\u001b[A\u001b[A\u001b[A\u001b[1G\u001b[?25h\u001b[?2026l\u001b[?2026h\u001b[?25l\u001b[A\u001b[A\u001b[A\u001b[1G\u001b[?25h\u001b[?2026l\u001b[?2026h\u001b[?25l\u001b[A\u001b[A\u001b[A\u001b[1G\u001b[?25h\u001b[?2026l\u001b[?2026h\u001b[?25l\u001b[A\u001b[A\u001b[A\u001b[1G\u001b[?25h\u001b[?2026l\u001b[?2026h\u001b[?25l\u001b[A\u001b[A\u001b[A\u001b[1G\u001b[?25h\u001b[?2026l\u001b[?2026h\u001b[?25l\u001b[A\u001b[A\u001b[A\u001b[1G\u001b[?25h\u001b[?2026l\u001b[?2026h\u001b[?25l\u001b[A\u001b[A\u001b[A\u001b[1G\u001b[?25h\u001b[?2026l\u001b[?2026h\u001b[?25l\u001b[A\u001b[A\u001b[A\u001b[1G\u001b[?25h\u001b[?2026l\u001b[?2026h\u001b[?25l\u001b[A\u001b[A\u001b[A\u001b[1G\u001b[?25h\u001b[?2026l\u001b[?2026h\u001b[?25l\u001b[A\u001b[A\u001b[A\u001b[1G\u001b[?25h\u001b[?2026l\u001b[?2026h\u001b[?25l\u001b[A\u001b[A\u001b[A\u001b[1G\u001b[?25h\u001b[?2026l\u001b[?2026h\u001b[?25l\u001b[A\u001b[A\u001b[A\u001b[1G\u001b[?25h\u001b[?2026l\u001b[?2026h\u001b[?25l\u001b[A\u001b[A\u001b[A\u001b[1G\u001b[?25h\u001b[?2026l\u001b[?2026h\u001b[?25l\u001b[A\u001b[A\u001b[A\u001b[1G\u001b[?25h\u001b[?2026l\u001b[?2026h\u001b[?25l\u001b[A\u001b[A\u001b[A\u001b[1G\u001b[?25h\u001b[?2026l\u001b[?2026h\u001b[?25l\u001b[A\u001b[A\u001b[A\u001b[1G\u001b[?25h\u001b[?2026l\u001b[?2026h\u001b[?25l\u001b[A\u001b[A\u001b[A\u001b[1G\u001b[?25h\u001b[?2026l\u001b[?2026h\u001b[?25l\u001b[A\u001b[A\u001b[A\u001b[1G\u001b[?25h\u001b[?2026l\u001b[?2026h\u001b[?25l\u001b[A\u001b[A\u001b[A\u001b[1G\u001b[?25h\u001b[?2026l\u001b[?2026h\u001b[?25l\u001b[A\u001b[A\u001b[A\u001b[1G\u001b[?25h\u001b[?2026l\u001b[?2026h\u001b[?25l\u001b[A\u001b[A\u001b[A\u001b[1G\u001b[?25h\u001b[?2026l\u001b[?2026h\u001b[?25l\u001b[A\u001b[A\u001b[A\u001b[1G\u001b[?25h\u001b[?2026l\u001b[?2026h\u001b[?25l\u001b[A\u001b[A\u001b[A\u001b[1G\u001b[?25h\u001b[?2026l\u001b[?2026h\u001b[?25l\u001b[A\u001b[A\u001b[A\u001b[1G\u001b[?25h\u001b[?2026l\u001b[?2026h\u001b[?25l\u001b[A\u001b[A\u001b[A\u001b[1G\u001b[?25h\u001b[?2026l\u001b[?2026h\u001b[?25l\u001b[A\u001b[A\u001b[A\u001b[1G\u001b[?25h\u001b[?2026l\u001b[?2026h\u001b[?25l\u001b[A\u001b[A\u001b[A\u001b[1G\u001b[?25h\u001b[?2026l\u001b[?2026h\u001b[?25l\u001b[A\u001b[A\u001b[A\u001b[1G\u001b[?25h\u001b[?2026l\u001b[?2026h\u001b[?25l\u001b[A\u001b[A\u001b[A\u001b[1G\u001b[?25h\u001b[?2026l\u001b[?2026h\u001b[?25l\u001b[A\u001b[A\u001b[A\u001b[1G\u001b[?25h\u001b[?2026l\u001b[?2026h\u001b[?25l\u001b[A\u001b[A\u001b[A\u001b[1G\u001b[?25h\u001b[?2026l\u001b[?2026h\u001b[?25l\u001b[A\u001b[A\u001b[A\u001b[1G\u001b[?25h\u001b[?2026l\u001b[?2026h\u001b[?25l\u001b[A\u001b[A\u001b[A\u001b[1G\u001b[?25h\u001b[?2026l\u001b[?2026h\u001b[?25l\u001b[A\u001b[A\u001b[A\u001b[1G\u001b[?25h\u001b[?2026l\u001b[?2026h\u001b[?25l\u001b[A\u001b[A\u001b[A\u001b[1G\u001b[?25h\u001b[?2026l\u001b[?2026h\u001b[?25l\u001b[A\u001b[A\u001b[A\u001b[1G\u001b[?25h\u001b[?2026l\u001b[?2026h\u001b[?25l\u001b[A\u001b[A\u001b[A\u001b[1G\u001b[?25h\u001b[?2026l\u001b[?2026h\u001b[?25l\u001b[A\u001b[A\u001b[A\u001b[1G\u001b[?25h\u001b[?2026l\u001b[?2026h\u001b[?25l\u001b[A\u001b[A\u001b[A\u001b[1G\u001b[?25h\u001b[?2026l\u001b[?2026h\u001b[?25l\u001b[A\u001b[A\u001b[A\u001b[1G\u001b[?25h\u001b[?2026l\u001b[?2026h\u001b[?25l\u001b[A\u001b[A\u001b[A\u001b[1G\u001b[?25h\u001b[?2026l\u001b[?2026h\u001b[?25l\u001b[A\u001b[A\u001b[A\u001b[1G\u001b[?25h\u001b[?2026l\u001b[?2026h\u001b[?25l\u001b[A\u001b[A\u001b[A\u001b[1G\u001b[?25h\u001b[?2026l\u001b[?2026h\u001b[?25l\u001b[A\u001b[A\u001b[A\u001b[1G\u001b[?25h\u001b[?2026l\u001b[?2026h\u001b[?25l\u001b[A\u001b[A\u001b[A\u001b[1G\u001b[?25h\u001b[?2026l\u001b[?2026h\u001b[?25l\u001b[A\u001b[A\u001b[A\u001b[1G\u001b[?25h\u001b[?2026l\u001b[?2026h\u001b[?25l\u001b[A\u001b[A\u001b[A\u001b[1G\u001b[?25h\u001b[?2026l\u001b[?2026h\u001b[?25l\u001b[A\u001b[A\u001b[A\u001b[1G\u001b[?25h\u001b[?2026l\u001b[?2026h\u001b[?25l\u001b[A\u001b[A\u001b[A\u001b[1G\u001b[?25h\u001b[?2026l\u001b[?2026h\u001b[?25l\u001b[A\u001b[A\u001b[A\u001b[1G\u001b[?25h\u001b[?2026l\u001b[?2026h\u001b[?25l\u001b[A\u001b[A\u001b[A\u001b[1G\u001b[?25h\u001b[?2026l\u001b[?2026h\u001b[?25l\u001b[A\u001b[A\u001b[A\u001b[1G\u001b[?25h\u001b[?2026l\u001b[?2026h\u001b[?25l\u001b[A\u001b[A\u001b[A\u001b[1G\u001b[?25h\u001b[?2026l\u001b[?2026h\u001b[?25l\u001b[A\u001b[A\u001b[A\u001b[1G\u001b[?25h\u001b[?2026l\u001b[?2026h\u001b[?25l\u001b[A\u001b[A\u001b[A\u001b[1G\u001b[?25h\u001b[?2026l\u001b[?2026h\u001b[?25l\u001b[A\u001b[A\u001b[A\u001b[1G\u001b[?25h\u001b[?2026l\u001b[?2026h\u001b[?25l\u001b[A\u001b[A\u001b[A\u001b[1G\u001b[?25h\u001b[?2026l\u001b[?2026h\u001b[?25l\u001b[A\u001b[A\u001b[A\u001b[1G\u001b[?25h\u001b[?2026l\u001b[?2026h\u001b[?25l\u001b[A\u001b[A\u001b[A\u001b[1G\u001b[?25h\u001b[?2026l\u001b[?2026h\u001b[?25l\u001b[A\u001b[A\u001b[A\u001b[1G\u001b[?25h\u001b[?2026l\u001b[?2026h\u001b[?25l\u001b[A\u001b[A\u001b[A\u001b[1G\u001b[?25h\u001b[?2026l\u001b[?2026h\u001b[?25l\u001b[A\u001b[A\u001b[A\u001b[1G\u001b[?25h\u001b[?2026l\u001b[?2026h\u001b[?25l\u001b[A\u001b[A\u001b[A\u001b[1G\u001b[?25h\u001b[?2026l\u001b[?2026h\u001b[?25l\u001b[A\u001b[A\u001b[A\u001b[1G\u001b[?25h\u001b[?2026l\u001b[?2026h\u001b[?25l\u001b[A\u001b[A\u001b[A\u001b[1G\u001b[?25h\u001b[?2026l\u001b[?2026h\u001b[?25l\u001b[A\u001b[A\u001b[A\u001b[1G\u001b[?25h\u001b[?2026l\u001b[?2026h\u001b[?25l\u001b[A\u001b[A\u001b[A\u001b[1G\u001b[?25h\u001b[?2026l\u001b[?2026h\u001b[?25l\u001b[A\u001b[A\u001b[A\u001b[1G\u001b[?25h\u001b[?2026l\u001b[?2026h\u001b[?25l\u001b[A\u001b[A\u001b[A\u001b[1G\u001b[?25h\u001b[?2026l\u001b[?2026h\u001b[?25l\u001b[A\u001b[A\u001b[A\u001b[1G\u001b[?25h\u001b[?2026l\u001b[?2026h\u001b[?25l\u001b[A\u001b[A\u001b[A\u001b[1G\u001b[?25h\u001b[?2026l\u001b[?2026h\u001b[?25l\u001b[A\u001b[A\u001b[A\u001b[1G\u001b[?25h\u001b[?2026l\u001b[?2026h\u001b[?25l\u001b[A\u001b[A\u001b[A\u001b[1G\u001b[?25h\u001b[?2026l\u001b[?2026h\u001b[?25l\u001b[A\u001b[A\u001b[A\u001b[1G\u001b[?25h\u001b[?2026l\u001b[?2026h\u001b[?25l\u001b[A\u001b[A\u001b[A\u001b[1G\u001b[?25h\u001b[?2026l\u001b[?2026h\u001b[?25l\u001b[A\u001b[A\u001b[A\u001b[1G\u001b[?25h\u001b[?2026l\u001b[?2026h\u001b[?25l\u001b[A\u001b[A\u001b[A\u001b[1G\u001b[?25h\u001b[?2026l\u001b[?2026h\u001b[?25l\u001b[A\u001b[A\u001b[A\u001b[1G\u001b[?25h\u001b[?2026l\u001b[?2026h\u001b[?25l\u001b[A\u001b[A\u001b[A\u001b[1G\u001b[?25h\u001b[?2026l\u001b[?2026h\u001b[?25l\u001b[A\u001b[A\u001b[A\u001b[1G\u001b[?25h\u001b[?2026l\u001b[?2026h\u001b[?25l\u001b[A\u001b[A\u001b[A\u001b[1G\u001b[?25h\u001b[?2026l\u001b[?2026h\u001b[?25l\u001b[A\u001b[A\u001b[A\u001b[1G\u001b[?25h\u001b[?2026l\u001b[?2026h\u001b[?25l\u001b[A\u001b[A\u001b[A\u001b[1G\u001b[?25h\u001b[?2026l\u001b[?2026h\u001b[?25l\u001b[A\u001b[A\u001b[A\u001b[1G\u001b[?25h\u001b[?2026l\u001b[?2026h\u001b[?25l\u001b[A\u001b[A\u001b[A\u001b[1G\u001b[?25h\u001b[?2026l\u001b[?2026h\u001b[?25l\u001b[A\u001b[A\u001b[A\u001b[1G\u001b[?25h\u001b[?2026l\u001b[?2026h\u001b[?25l\u001b[A\u001b[A\u001b[A\u001b[1G\u001b[?25h\u001b[?2026l\u001b[?2026h\u001b[?25l\u001b[A\u001b[A\u001b[A\u001b[1G\u001b[?25h\u001b[?2026l\n",
            "\u001b[?2026h\u001b[?25l\u001b[1G\u001b[?25h\u001b[?2026l\u001b[?2026h\u001b[?25l\u001b[1G\u001b[?25h\u001b[?2026l\u001b[?2026h\u001b[?25l\u001b[1G\u001b[?25h\u001b[?2026l\u001b[?2026h\u001b[?25l\u001b[1G\u001b[?25h\u001b[?2026l\u001b[?2026h\u001b[?25l\u001b[1G\u001b[?25h\u001b[?2026l\u001b[?2026h\u001b[?25l\u001b[1G\u001b[?25h\u001b[?2026l\u001b[?2026h\u001b[?25l\u001b[1G\u001b[?25h\u001b[?2026l\u001b[?2026h\u001b[?25l\u001b[1G\u001b[?25h\u001b[?2026l\u001b[?2026h\u001b[?25l\u001b[1G\u001b[?25h\u001b[?2026l\u001b[?2026h\u001b[?25l\u001b[1G\u001b[?25h\u001b[?2026l\u001b[?2026h\u001b[?25l\u001b[1G\u001b[?25h\u001b[?2026l\u001b[?2026h\u001b[?25l\u001b[1G\u001b[?25h\u001b[?2026l\u001b[?2026h\u001b[?25l\u001b[1G\u001b[?25h\u001b[?2026l\u001b[?2026h\u001b[?25l\u001b[1G\u001b[?25h\u001b[?2026l\u001b[?2026h\u001b[?25l\u001b[1G\u001b[?25h\u001b[?2026l\u001b[?2026h\u001b[?25l\u001b[1G\u001b[?25h\u001b[?2026l\u001b[?2026h\u001b[?25l\u001b[1G\u001b[?25h\u001b[?2026l\u001b[?2026h\u001b[?25l\u001b[A\u001b[1G\u001b[?25h\u001b[?2026l\u001b[?2026h\u001b[?25l\u001b[A\u001b[1G\u001b[?25h\u001b[?2026l\u001b[?2026h\u001b[?25l\u001b[A\u001b[1G\u001b[?25h\u001b[?2026l\u001b[?2026h\u001b[?25l\u001b[A\u001b[1G\u001b[?25h\u001b[?2026l\u001b[?2026h\u001b[?25l\u001b[A\u001b[1G\u001b[?25h\u001b[?2026l\u001b[?2026h\u001b[?25l\u001b[A\u001b[1G\u001b[?25h\u001b[?2026l\u001b[?2026h\u001b[?25l\u001b[A\u001b[1G\u001b[?25h\u001b[?2026l\u001b[?2026h\u001b[?25l\u001b[A\u001b[1G\u001b[?25h\u001b[?2026l\u001b[?2026h\u001b[?25l\u001b[A\u001b[1G\u001b[?25h\u001b[?2026l\u001b[?2026h\u001b[?25l\u001b[A\u001b[1G\u001b[?25h\u001b[?2026l\u001b[?2026h\u001b[?25l\u001b[A\u001b[1G\u001b[?25h\u001b[?2026l\u001b[?2026h\u001b[?25l\u001b[A\u001b[1G\u001b[?25h\u001b[?2026l\u001b[?2026h\u001b[?25l\u001b[A\u001b[1G\u001b[?25h\u001b[?2026l\u001b[?2026h\u001b[?25l\u001b[A\u001b[1G\u001b[?25h\u001b[?2026l\u001b[?2026h\u001b[?25l\u001b[A\u001b[1G\u001b[?25h\u001b[?2026l\u001b[?2026h\u001b[?25l\u001b[A\u001b[1G\u001b[?25h\u001b[?2026l\u001b[?2026h\u001b[?25l\u001b[A\u001b[1G\u001b[?25h\u001b[?2026l\u001b[?2026h\u001b[?25l\u001b[A\u001b[1G\u001b[?25h\u001b[?2026l\u001b[?2026h\u001b[?25l\u001b[A\u001b[1G\u001b[?25h\u001b[?2026l\u001b[?2026h\u001b[?25l\u001b[A\u001b[1G\u001b[?25h\u001b[?2026l\u001b[?2026h\u001b[?25l\u001b[A\u001b[1G\u001b[?25h\u001b[?2026l\u001b[?2026h\u001b[?25l\u001b[A\u001b[1G\u001b[?25h\u001b[?2026l\u001b[?2026h\u001b[?25l\u001b[A\u001b[1G\u001b[?25h\u001b[?2026l\u001b[?2026h\u001b[?25l\u001b[A\u001b[1G\u001b[?25h\u001b[?2026l\u001b[?2026h\u001b[?25l\u001b[A\u001b[1G\u001b[?25h\u001b[?2026l\u001b[?2026h\u001b[?25l\u001b[A\u001b[1G\u001b[?25h\u001b[?2026l\u001b[?2026h\u001b[?25l\u001b[A\u001b[1G\u001b[?25h\u001b[?2026l\u001b[?2026h\u001b[?25l\u001b[A\u001b[1G\u001b[?25h\u001b[?2026l\u001b[?2026h\u001b[?25l\u001b[A\u001b[1G\u001b[?25h\u001b[?2026l\u001b[?2026h\u001b[?25l\u001b[A\u001b[1G\u001b[?25h\u001b[?2026l\u001b[?2026h\u001b[?25l\u001b[A\u001b[1G\u001b[?25h\u001b[?2026l\u001b[?2026h\u001b[?25l\u001b[A\u001b[1G\u001b[?25h\u001b[?2026l\u001b[?2026h\u001b[?25l\u001b[A\u001b[1G\u001b[?25h\u001b[?2026l\u001b[?2026h\u001b[?25l\u001b[A\u001b[1G\u001b[?25h\u001b[?2026l\u001b[?2026h\u001b[?25l\u001b[A\u001b[1G\u001b[?25h\u001b[?2026l\u001b[?2026h\u001b[?25l\u001b[A\u001b[1G\u001b[?25h\u001b[?2026l\u001b[?2026h\u001b[?25l\u001b[A\u001b[1G\u001b[?25h\u001b[?2026l\u001b[?2026h\u001b[?25l\u001b[A\u001b[1G\u001b[?25h\u001b[?2026l\u001b[?2026h\u001b[?25l\u001b[A\u001b[1G\u001b[?25h\u001b[?2026l\u001b[?2026h\u001b[?25l\u001b[A\u001b[1G\u001b[?25h\u001b[?2026l\u001b[?2026h\u001b[?25l\u001b[A\u001b[1G\u001b[?25h\u001b[?2026l\u001b[?2026h\u001b[?25l\u001b[A\u001b[1G\u001b[?25h\u001b[?2026l\u001b[?2026h\u001b[?25l\u001b[A\u001b[1G\u001b[?25h\u001b[?2026l\u001b[?2026h\u001b[?25l\u001b[A\u001b[1G\u001b[?25h\u001b[?2026l\u001b[?2026h\u001b[?25l\u001b[A\u001b[1G\u001b[?25h\u001b[?2026l\u001b[?2026h\u001b[?25l\u001b[A\u001b[1G\u001b[?25h\u001b[?2026l\u001b[?2026h\u001b[?25l\u001b[A\u001b[1G\u001b[?25h\u001b[?2026l\u001b[?2026h\u001b[?25l\u001b[A\u001b[1G\u001b[?25h\u001b[?2026l\u001b[?2026h\u001b[?25l\u001b[A\u001b[1G\u001b[?25h\u001b[?2026l\u001b[?2026h\u001b[?25l\u001b[A\u001b[1G\u001b[?25h\u001b[?2026l\u001b[?2026h\u001b[?25l\u001b[A\u001b[1G\u001b[?25h\u001b[?2026l\u001b[?2026h\u001b[?25l\u001b[A\u001b[1G\u001b[?25h\u001b[?2026l\u001b[?2026h\u001b[?25l\u001b[A\u001b[1G\u001b[?25h\u001b[?2026l\u001b[?2026h\u001b[?25l\u001b[A\u001b[1G\u001b[?25h\u001b[?2026l\u001b[?2026h\u001b[?25l\u001b[A\u001b[1G\u001b[?25h\u001b[?2026l\u001b[?2026h\u001b[?25l\u001b[A\u001b[1G\u001b[?25h\u001b[?2026l\u001b[?2026h\u001b[?25l\u001b[A\u001b[1G\u001b[?25h\u001b[?2026l\u001b[?2026h\u001b[?25l\u001b[A\u001b[1G\u001b[?25h\u001b[?2026l\u001b[?2026h\u001b[?25l\u001b[A\u001b[1G\u001b[?25h\u001b[?2026l\u001b[?2026h\u001b[?25l\u001b[A\u001b[1G\u001b[?25h\u001b[?2026l\u001b[?2026h\u001b[?25l\u001b[A\u001b[1G\u001b[?25h\u001b[?2026l\u001b[?2026h\u001b[?25l\u001b[A\u001b[1G\u001b[?25h\u001b[?2026l\u001b[?2026h\u001b[?25l\u001b[A\u001b[1G\u001b[?25h\u001b[?2026l\u001b[?2026h\u001b[?25l\u001b[A\u001b[1G\u001b[?25h\u001b[?2026l\u001b[?2026h\u001b[?25l\u001b[A\u001b[1G\u001b[?25h\u001b[?2026l\u001b[?2026h\u001b[?25l\u001b[A\u001b[1G\u001b[?25h\u001b[?2026l\u001b[?2026h\u001b[?25l\u001b[A\u001b[1G\u001b[?25h\u001b[?2026l\u001b[?2026h\u001b[?25l\u001b[A\u001b[1G\u001b[?25h\u001b[?2026l\u001b[?2026h\u001b[?25l\u001b[A\u001b[1G\u001b[?25h\u001b[?2026l\u001b[?2026h\u001b[?25l\u001b[A\u001b[1G\u001b[?25h\u001b[?2026l\u001b[?2026h\u001b[?25l\u001b[A\u001b[1G\u001b[?25h\u001b[?2026l\u001b[?2026h\u001b[?25l\u001b[A\u001b[1G\u001b[?25h\u001b[?2026l\u001b[?2026h\u001b[?25l\u001b[A\u001b[1G\u001b[?25h\u001b[?2026l\u001b[?2026h\u001b[?25l\u001b[A\u001b[1G\u001b[?25h\u001b[?2026l\u001b[?2026h\u001b[?25l\u001b[A\u001b[1G\u001b[?25h\u001b[?2026l\u001b[?2026h\u001b[?25l\u001b[A\u001b[1G\u001b[?25h\u001b[?2026l\u001b[?2026h\u001b[?25l\u001b[A\u001b[1G\u001b[?25h\u001b[?2026l\u001b[?2026h\u001b[?25l\u001b[A\u001b[1G\u001b[?25h\u001b[?2026l\u001b[?2026h\u001b[?25l\u001b[A\u001b[1G\u001b[?25h\u001b[?2026l\u001b[?2026h\u001b[?25l\u001b[A\u001b[1G\u001b[?25h\u001b[?2026l\u001b[?2026h\u001b[?25l\u001b[A\u001b[1G\u001b[?25h\u001b[?2026l\u001b[?2026h\u001b[?25l\u001b[A\u001b[1G\u001b[?25h\u001b[?2026l\u001b[?2026h\u001b[?25l\u001b[A\u001b[1G\u001b[?25h\u001b[?2026l\u001b[?2026h\u001b[?25l\u001b[A\u001b[1G\u001b[?25h\u001b[?2026l\u001b[?2026h\u001b[?25l\u001b[A\u001b[1G\u001b[?25h\u001b[?2026l\u001b[?2026h\u001b[?25l\u001b[A\u001b[1G\u001b[?25h\u001b[?2026l\u001b[?2026h\u001b[?25l\u001b[A\u001b[1G\u001b[?25h\u001b[?2026l\u001b[?2026h\u001b[?25l\u001b[A\u001b[1G\u001b[?25h\u001b[?2026l\u001b[?2026h\u001b[?25l\u001b[A\u001b[1G\u001b[?25h\u001b[?2026l\u001b[?2026h\u001b[?25l\u001b[A\u001b[1G\u001b[?25h\u001b[?2026l\u001b[?2026h\u001b[?25l\u001b[A\u001b[1G\u001b[?25h\u001b[?2026l\u001b[?2026h\u001b[?25l\u001b[A\u001b[1G\u001b[?25h\u001b[?2026l\u001b[?2026h\u001b[?25l\u001b[A\u001b[1G\u001b[?25h\u001b[?2026l\u001b[?2026h\u001b[?25l\u001b[A\u001b[1G\u001b[?25h\u001b[?2026l\u001b[?2026h\u001b[?25l\u001b[A\u001b[1G\u001b[?25h\u001b[?2026l\u001b[?2026h\u001b[?25l\u001b[A\u001b[1G\u001b[?25h\u001b[?2026l\u001b[?2026h\u001b[?25l\u001b[A\u001b[1G\u001b[?25h\u001b[?2026l\u001b[?2026h\u001b[?25l\u001b[A\u001b[1G\u001b[?25h\u001b[?2026l\u001b[?2026h\u001b[?25l\u001b[A\u001b[1G\u001b[?25h\u001b[?2026l\u001b[?2026h\u001b[?25l\u001b[A\u001b[1G\u001b[?25h\u001b[?2026l\u001b[?2026h\u001b[?25l\u001b[A\u001b[1G\u001b[?25h\u001b[?2026l\u001b[?2026h\u001b[?25l\u001b[A\u001b[1G\u001b[?25h\u001b[?2026l\u001b[?2026h\u001b[?25l\u001b[A\u001b[1G\u001b[?25h\u001b[?2026l\u001b[?2026h\u001b[?25l\u001b[A\u001b[1G\u001b[?25h\u001b[?2026l\u001b[?2026h\u001b[?25l\u001b[A\u001b[1G\u001b[?25h\u001b[?2026l\u001b[?2026h\u001b[?25l\u001b[A\u001b[1G\u001b[?25h\u001b[?2026l\u001b[?2026h\u001b[?25l\u001b[A\u001b[1G\u001b[?25h\u001b[?2026l\u001b[?2026h\u001b[?25l\u001b[A\u001b[1G\u001b[?25h\u001b[?2026l\u001b[?2026h\u001b[?25l\u001b[A\u001b[1G\u001b[?25h\u001b[?2026l\u001b[?2026h\u001b[?25l\u001b[A\u001b[1G\u001b[?25h\u001b[?2026l\u001b[?2026h\u001b[?25l\u001b[A\u001b[1G\u001b[?25h\u001b[?2026l\u001b[?2026h\u001b[?25l\u001b[A\u001b[1G\u001b[?25h\u001b[?2026l\u001b[?2026h\u001b[?25l\u001b[A\u001b[1G\u001b[?25h\u001b[?2026l\u001b[?2026h\u001b[?25l\u001b[A\u001b[1G\u001b[?25h\u001b[?2026l\u001b[?2026h\u001b[?25l\u001b[A\u001b[1G\u001b[?25h\u001b[?2026l\u001b[?2026h\u001b[?25l\u001b[A\u001b[1G\u001b[?25h\u001b[?2026l\u001b[?2026h\u001b[?25l\u001b[A\u001b[1G\u001b[?25h\u001b[?2026l\u001b[?2026h\u001b[?25l\u001b[A\u001b[1G\u001b[?25h\u001b[?2026l\u001b[?2026h\u001b[?25l\u001b[A\u001b[1G\u001b[?25h\u001b[?2026l\u001b[?2026h\u001b[?25l\u001b[A\u001b[1G\u001b[?25h\u001b[?2026l\u001b[?2026h\u001b[?25l\u001b[A\u001b[1G\u001b[?25h\u001b[?2026l\u001b[?2026h\u001b[?25l\u001b[A\u001b[1G\u001b[?25h\u001b[?2026l\u001b[?2026h\u001b[?25l\u001b[A\u001b[1G\u001b[?25h\u001b[?2026l\u001b[?2026h\u001b[?25l\u001b[A\u001b[1G\u001b[?25h\u001b[?2026l\u001b[?2026h\u001b[?25l\u001b[A\u001b[1G\u001b[?25h\u001b[?2026l\u001b[?2026h\u001b[?25l\u001b[A\u001b[1G\u001b[?25h\u001b[?2026l\u001b[?2026h\u001b[?25l\u001b[A\u001b[1G\u001b[?25h\u001b[?2026l\u001b[?2026h\u001b[?25l\u001b[A\u001b[1G\u001b[?25h\u001b[?2026l\u001b[?2026h\u001b[?25l\u001b[A\u001b[1G\u001b[?25h\u001b[?2026l\u001b[?2026h\u001b[?25l\u001b[A\u001b[1G\u001b[?25h\u001b[?2026l\u001b[?2026h\u001b[?25l\u001b[A\u001b[1G\u001b[?25h\u001b[?2026l\u001b[?2026h\u001b[?25l\u001b[A\u001b[1G\u001b[?25h\u001b[?2026l\u001b[?2026h\u001b[?25l\u001b[A\u001b[1G\u001b[?25h\u001b[?2026l\u001b[?2026h\u001b[?25l\u001b[A\u001b[1G\u001b[?25h\u001b[?2026l\u001b[?2026h\u001b[?25l\u001b[A\u001b[1G\u001b[?25h\u001b[?2026l\u001b[?2026h\u001b[?25l\u001b[A\u001b[1G\u001b[?25h\u001b[?2026l\u001b[?2026h\u001b[?25l\u001b[A\u001b[1G\u001b[?25h\u001b[?2026l\u001b[?2026h\u001b[?25l\u001b[A\u001b[1G\u001b[?25h\u001b[?2026l\u001b[?2026h\u001b[?25l\u001b[A\u001b[1G\u001b[?25h\u001b[?2026l\u001b[?2026h\u001b[?25l\u001b[A\u001b[1G\u001b[?25h\u001b[?2026l\u001b[?2026h\u001b[?25l\u001b[A\u001b[1G\u001b[?25h\u001b[?2026l\u001b[?2026h\u001b[?25l\u001b[A\u001b[1G\u001b[?25h\u001b[?2026l\u001b[?2026h\u001b[?25l\u001b[A\u001b[1G\u001b[?25h\u001b[?2026l\u001b[?2026h\u001b[?25l\u001b[A\u001b[1G\u001b[?25h\u001b[?2026l\u001b[?2026h\u001b[?25l\u001b[A\u001b[1G\u001b[?25h\u001b[?2026l\u001b[?2026h\u001b[?25l\u001b[A\u001b[1G\u001b[?25h\u001b[?2026l\u001b[?2026h\u001b[?25l\u001b[A\u001b[1G\u001b[?25h\u001b[?2026l\u001b[?2026h\u001b[?25l\u001b[A\u001b[1G\u001b[?25h\u001b[?2026l\u001b[?2026h\u001b[?25l\u001b[A\u001b[1G\u001b[?25h\u001b[?2026l\u001b[?2026h\u001b[?25l\u001b[A\u001b[1G\u001b[?25h\u001b[?2026l\u001b[?2026h\u001b[?25l\u001b[A\u001b[1G\u001b[?25h\u001b[?2026l\u001b[?2026h\u001b[?25l\u001b[A\u001b[1G\u001b[?25h\u001b[?2026l\u001b[?2026h\u001b[?25l\u001b[A\u001b[1G\u001b[?25h\u001b[?2026l\u001b[?2026h\u001b[?25l\u001b[A\u001b[1G\u001b[?25h\u001b[?2026l\u001b[?2026h\u001b[?25l\u001b[A\u001b[1G\u001b[?25h\u001b[?2026l\u001b[?2026h\u001b[?25l\u001b[A\u001b[1G\u001b[?25h\u001b[?2026l\u001b[?2026h\u001b[?25l\u001b[A\u001b[1G\u001b[?25h\u001b[?2026l\u001b[?2026h\u001b[?25l\u001b[A\u001b[1G\u001b[?25h\u001b[?2026l\u001b[?2026h\u001b[?25l\u001b[A\u001b[1G\u001b[?25h\u001b[?2026l\u001b[?2026h\u001b[?25l\u001b[A\u001b[1G\u001b[?25h\u001b[?2026l\u001b[?2026h\u001b[?25l\u001b[A\u001b[1G\u001b[?25h\u001b[?2026l\u001b[?2026h\u001b[?25l\u001b[A\u001b[1G\u001b[?25h\u001b[?2026l\u001b[?2026h\u001b[?25l\u001b[A\u001b[1G\u001b[?25h\u001b[?2026l\u001b[?2026h\u001b[?25l\u001b[A\u001b[1G\u001b[?25h\u001b[?2026l\u001b[?2026h\u001b[?25l\u001b[A\u001b[1G\u001b[?25h\u001b[?2026l\u001b[?2026h\u001b[?25l\u001b[A\u001b[1G\u001b[?25h\u001b[?2026l\u001b[?2026h\u001b[?25l\u001b[A\u001b[1G\u001b[?25h\u001b[?2026l\u001b[?2026h\u001b[?25l\u001b[A\u001b[1G\u001b[?25h\u001b[?2026l\u001b[?2026h\u001b[?25l\u001b[A\u001b[1G\u001b[?25h\u001b[?2026l\u001b[?2026h\u001b[?25l\u001b[A\u001b[1G\u001b[?25h\u001b[?2026l\u001b[?2026h\u001b[?25l\u001b[A\u001b[1G\u001b[?25h\u001b[?2026l\u001b[?2026h\u001b[?25l\u001b[A\u001b[1G\u001b[?25h\u001b[?2026l\u001b[?2026h\u001b[?25l\u001b[A\u001b[1G\u001b[?25h\u001b[?2026l\u001b[?2026h\u001b[?25l\u001b[A\u001b[1G\u001b[?25h\u001b[?2026l\u001b[?2026h\u001b[?25l\u001b[A\u001b[1G\u001b[?25h\u001b[?2026l\u001b[?2026h\u001b[?25l\u001b[A\u001b[1G\u001b[?25h\u001b[?2026l\u001b[?2026h\u001b[?25l\u001b[A\u001b[1G\u001b[?25h\u001b[?2026l\u001b[?2026h\u001b[?25l\u001b[A\u001b[1G\u001b[?25h\u001b[?2026l\u001b[?2026h\u001b[?25l\u001b[A\u001b[1G\u001b[?25h\u001b[?2026l\u001b[?2026h\u001b[?25l\u001b[A\u001b[1G\u001b[?25h\u001b[?2026l\u001b[?2026h\u001b[?25l\u001b[A\u001b[1G\u001b[?25h\u001b[?2026l\u001b[?2026h\u001b[?25l\u001b[A\u001b[1G\u001b[?25h\u001b[?2026l\u001b[?2026h\u001b[?25l\u001b[A\u001b[1G\u001b[?25h\u001b[?2026l\u001b[?2026h\u001b[?25l\u001b[A\u001b[1G\u001b[?25h\u001b[?2026l\u001b[?2026h\u001b[?25l\u001b[A\u001b[1G\u001b[?25h\u001b[?2026l\u001b[?2026h\u001b[?25l\u001b[A\u001b[1G\u001b[?25h\u001b[?2026l\u001b[?2026h\u001b[?25l\u001b[A\u001b[1G\u001b[?25h\u001b[?2026l\u001b[?2026h\u001b[?25l\u001b[A\u001b[1G\u001b[?25h\u001b[?2026l\u001b[?2026h\u001b[?25l\u001b[A\u001b[1G\u001b[?25h\u001b[?2026l\u001b[?2026h\u001b[?25l\u001b[A\u001b[1G\u001b[?25h\u001b[?2026l\u001b[?2026h\u001b[?25l\u001b[A\u001b[1G\u001b[?25h\u001b[?2026l\u001b[?2026h\u001b[?25l\u001b[A\u001b[1G\u001b[?25h\u001b[?2026l\u001b[?2026h\u001b[?25l\u001b[A\u001b[1G\u001b[?25h\u001b[?2026l\u001b[?2026h\u001b[?25l\u001b[A\u001b[1G\u001b[?25h\u001b[?2026l\u001b[?2026h\u001b[?25l\u001b[A\u001b[1G\u001b[?25h\u001b[?2026l\u001b[?2026h\u001b[?25l\u001b[A\u001b[1G\u001b[?25h\u001b[?2026l\u001b[?2026h\u001b[?25l\u001b[A\u001b[1G\u001b[?25h\u001b[?2026l\u001b[?2026h\u001b[?25l\u001b[A\u001b[1G\u001b[?25h\u001b[?2026l\u001b[?2026h\u001b[?25l\u001b[A\u001b[1G\u001b[?25h\u001b[?2026l\u001b[?2026h\u001b[?25l\u001b[A\u001b[1G\u001b[?25h\u001b[?2026l\u001b[?2026h\u001b[?25l\u001b[A\u001b[1G\u001b[?25h\u001b[?2026l\u001b[?2026h\u001b[?25l\u001b[A\u001b[1G\u001b[?25h\u001b[?2026l\u001b[?2026h\u001b[?25l\u001b[A\u001b[1G\u001b[?25h\u001b[?2026l\u001b[?2026h\u001b[?25l\u001b[A\u001b[1G\u001b[?25h\u001b[?2026l\u001b[?2026h\u001b[?25l\u001b[A\u001b[1G\u001b[?25h\u001b[?2026l\u001b[?2026h\u001b[?25l\u001b[A\u001b[1G\u001b[?25h\u001b[?2026l\u001b[?2026h\u001b[?25l\u001b[A\u001b[1G\u001b[?25h\u001b[?2026l\u001b[?2026h\u001b[?25l\u001b[A\u001b[1G\u001b[?25h\u001b[?2026l\u001b[?2026h\u001b[?25l\u001b[A\u001b[1G\u001b[?25h\u001b[?2026l\u001b[?2026h\u001b[?25l\u001b[A\u001b[1G\u001b[?25h\u001b[?2026l\u001b[?2026h\u001b[?25l\u001b[A\u001b[1G\u001b[?25h\u001b[?2026l\u001b[?2026h\u001b[?25l\u001b[A\u001b[1G\u001b[?25h\u001b[?2026l\u001b[?2026h\u001b[?25l\u001b[A\u001b[1G\u001b[?25h\u001b[?2026l\u001b[?2026h\u001b[?25l\u001b[A\u001b[1G\u001b[?25h\u001b[?2026l\u001b[?2026h\u001b[?25l\u001b[A\u001b[1G\u001b[?25h\u001b[?2026l\u001b[?2026h\u001b[?25l\u001b[A\u001b[1G\u001b[?25h\u001b[?2026l\u001b[?2026h\u001b[?25l\u001b[A\u001b[1G\u001b[?25h\u001b[?2026l\u001b[?2026h\u001b[?25l\u001b[A\u001b[1G\u001b[?25h\u001b[?2026l\u001b[?2026h\u001b[?25l\u001b[A\u001b[1G\u001b[?25h\u001b[?2026l\u001b[?2026h\u001b[?25l\u001b[A\u001b[1G\u001b[?25h\u001b[?2026l\u001b[?2026h\u001b[?25l\u001b[A\u001b[1G\u001b[?25h\u001b[?2026l\u001b[?2026h\u001b[?25l\u001b[A\u001b[1G\u001b[?25h\u001b[?2026l\u001b[?2026h\u001b[?25l\u001b[A\u001b[1G\u001b[?25h\u001b[?2026l\u001b[?2026h\u001b[?25l\u001b[A\u001b[1G\u001b[?25h\u001b[?2026l\u001b[?2026h\u001b[?25l\u001b[A\u001b[1G\u001b[?25h\u001b[?2026l\u001b[?2026h\u001b[?25l\u001b[A\u001b[1G\u001b[?25h\u001b[?2026l\u001b[?2026h\u001b[?25l\u001b[A\u001b[1G\u001b[?25h\u001b[?2026l\u001b[?2026h\u001b[?25l\u001b[A\u001b[1G\u001b[?25h\u001b[?2026l\u001b[?2026h\u001b[?25l\u001b[A\u001b[1G\u001b[?25h\u001b[?2026l\u001b[?2026h\u001b[?25l\u001b[A\u001b[1G\u001b[?25h\u001b[?2026l\u001b[?2026h\u001b[?25l\u001b[A\u001b[1G\u001b[?25h\u001b[?2026l\u001b[?2026h\u001b[?25l\u001b[A\u001b[1G\u001b[?25h\u001b[?2026l\u001b[?2026h\u001b[?25l\u001b[A\u001b[1G\u001b[?25h\u001b[?2026l\u001b[?2026h\u001b[?25l\u001b[A\u001b[1G\u001b[?25h\u001b[?2026l\u001b[?2026h\u001b[?25l\u001b[A\u001b[1G\u001b[?25h\u001b[?2026l\u001b[?2026h\u001b[?25l\u001b[A\u001b[1G\u001b[?25h\u001b[?2026l\u001b[?2026h\u001b[?25l\u001b[A\u001b[1G\u001b[?25h\u001b[?2026l\u001b[?2026h\u001b[?25l\u001b[A\u001b[1G\u001b[?25h\u001b[?2026l\u001b[?2026h\u001b[?25l\u001b[A\u001b[1G\u001b[?25h\u001b[?2026l\u001b[?2026h\u001b[?25l\u001b[A\u001b[1G\u001b[?25h\u001b[?2026l\u001b[?2026h\u001b[?25l\u001b[A\u001b[1G\u001b[?25h\u001b[?2026l\u001b[?2026h\u001b[?25l\u001b[A\u001b[1G\u001b[?25h\u001b[?2026l\u001b[?2026h\u001b[?25l\u001b[A\u001b[1G\u001b[?25h\u001b[?2026l\u001b[?2026h\u001b[?25l\u001b[A\u001b[1G\u001b[?25h\u001b[?2026l\u001b[?2026h\u001b[?25l\u001b[A\u001b[1G\u001b[?25h\u001b[?2026l\u001b[?2026h\u001b[?25l\u001b[A\u001b[1G\u001b[?25h\u001b[?2026l\u001b[?2026h\u001b[?25l\u001b[A\u001b[1G\u001b[?25h\u001b[?2026l\u001b[?2026h\u001b[?25l\u001b[A\u001b[1G\u001b[?25h\u001b[?2026l\u001b[?2026h\u001b[?25l\u001b[A\u001b[1G\u001b[?25h\u001b[?2026l\u001b[?2026h\u001b[?25l\u001b[A\u001b[1G\u001b[?25h\u001b[?2026l\u001b[?2026h\u001b[?25l\u001b[A\u001b[1G\u001b[?25h\u001b[?2026l\u001b[?2026h\u001b[?25l\u001b[A\u001b[1G\u001b[?25h\u001b[?2026l\u001b[?2026h\u001b[?25l\u001b[A\u001b[1G\u001b[?25h\u001b[?2026l\u001b[?2026h\u001b[?25l\u001b[A\u001b[1G\u001b[?25h\u001b[?2026l\u001b[?2026h\u001b[?25l\u001b[A\u001b[1G\u001b[?25h\u001b[?2026l\u001b[?2026h\u001b[?25l\u001b[A\u001b[1G\u001b[?25h\u001b[?2026l\u001b[?2026h\u001b[?25l\u001b[A\u001b[1G\u001b[?25h\u001b[?2026l\u001b[?2026h\u001b[?25l\u001b[A\u001b[1G\u001b[?25h\u001b[?2026l\u001b[?2026h\u001b[?25l\u001b[A\u001b[1G\u001b[?25h\u001b[?2026l\u001b[?2026h\u001b[?25l\u001b[A\u001b[1G\u001b[?25h\u001b[?2026l\u001b[?2026h\u001b[?25l\u001b[A\u001b[1G\u001b[?25h\u001b[?2026l\u001b[?2026h\u001b[?25l\u001b[A\u001b[1G\u001b[?25h\u001b[?2026l\u001b[?2026h\u001b[?25l\u001b[A\u001b[1G\u001b[?25h\u001b[?2026l\u001b[?2026h\u001b[?25l\u001b[A\u001b[1G\u001b[?25h\u001b[?2026l\u001b[?2026h\u001b[?25l\u001b[A\u001b[1G\u001b[?25h\u001b[?2026l\u001b[?2026h\u001b[?25l\u001b[A\u001b[1G\u001b[?25h\u001b[?2026l\u001b[?2026h\u001b[?25l\u001b[A\u001b[1G\u001b[?25h\u001b[?2026l\u001b[?2026h\u001b[?25l\u001b[A\u001b[1G\u001b[?25h\u001b[?2026l\u001b[?2026h\u001b[?25l\u001b[A\u001b[1G\u001b[?25h\u001b[?2026l\u001b[?2026h\u001b[?25l\u001b[A\u001b[1G\u001b[?25h\u001b[?2026l\u001b[?2026h\u001b[?25l\u001b[A\u001b[1G\u001b[?25h\u001b[?2026l\u001b[?2026h\u001b[?25l\u001b[A\u001b[1G\u001b[?25h\u001b[?2026l\u001b[?2026h\u001b[?25l\u001b[A\u001b[1G\u001b[?25h\u001b[?2026l\u001b[?2026h\u001b[?25l\u001b[A\u001b[1G\u001b[?25h\u001b[?2026l\u001b[?2026h\u001b[?25l\u001b[A\u001b[1G\u001b[?25h\u001b[?2026l\u001b[?2026h\u001b[?25l\u001b[A\u001b[1G\u001b[?25h\u001b[?2026l\u001b[?2026h\u001b[?25l\u001b[A\u001b[1G\u001b[?25h\u001b[?2026l\u001b[?2026h\u001b[?25l\u001b[A\u001b[1G\u001b[?25h\u001b[?2026l\u001b[?2026h\u001b[?25l\u001b[A\u001b[1G\u001b[?25h\u001b[?2026l\u001b[?2026h\u001b[?25l\u001b[A\u001b[1G\u001b[?25h\u001b[?2026l\u001b[?2026h\u001b[?25l\u001b[A\u001b[1G\u001b[?25h\u001b[?2026l\u001b[?2026h\u001b[?25l\u001b[A\u001b[1G\u001b[?25h\u001b[?2026l\u001b[?2026h\u001b[?25l\u001b[A\u001b[1G\u001b[?25h\u001b[?2026l\u001b[?2026h\u001b[?25l\u001b[A\u001b[1G\u001b[?25h\u001b[?2026l\u001b[?2026h\u001b[?25l\u001b[A\u001b[1G\u001b[?25h\u001b[?2026l\u001b[?2026h\u001b[?25l\u001b[A\u001b[1G\u001b[?25h\u001b[?2026l\u001b[?2026h\u001b[?25l\u001b[A\u001b[1G\u001b[?25h\u001b[?2026l\u001b[?2026h\u001b[?25l\u001b[A\u001b[1G\u001b[?25h\u001b[?2026l\u001b[?2026h\u001b[?25l\u001b[A\u001b[1G\u001b[?25h\u001b[?2026l\u001b[?2026h\u001b[?25l\u001b[A\u001b[1G\u001b[?25h\u001b[?2026l\u001b[?2026h\u001b[?25l\u001b[A\u001b[1G\u001b[?25h\u001b[?2026l\u001b[?2026h\u001b[?25l\u001b[A\u001b[1G\u001b[?25h\u001b[?2026l\u001b[?2026h\u001b[?25l\u001b[A\u001b[1G\u001b[?25h\u001b[?2026l\u001b[?2026h\u001b[?25l\u001b[A\u001b[1G\u001b[?25h\u001b[?2026l\u001b[?2026h\u001b[?25l\u001b[A\u001b[1G\u001b[?25h\u001b[?2026l\u001b[?2026h\u001b[?25l\u001b[A\u001b[1G\u001b[?25h\u001b[?2026l\u001b[?2026h\u001b[?25l\u001b[A\u001b[1G\u001b[?25h\u001b[?2026l\u001b[?2026h\u001b[?25l\u001b[A\u001b[1G\u001b[?25h\u001b[?2026l\u001b[?2026h\u001b[?25l\u001b[A\u001b[1G\u001b[?25h\u001b[?2026l\u001b[?2026h\u001b[?25l\u001b[A\u001b[1G\u001b[?25h\u001b[?2026l\u001b[?2026h\u001b[?25l\u001b[A\u001b[1G\u001b[?25h\u001b[?2026l\u001b[?2026h\u001b[?25l\u001b[A\u001b[1G\u001b[?25h\u001b[?2026l\u001b[?2026h\u001b[?25l\u001b[A\u001b[1G\u001b[?25h\u001b[?2026l\u001b[?2026h\u001b[?25l\u001b[A\u001b[1G\u001b[?25h\u001b[?2026l\u001b[?2026h\u001b[?25l\u001b[A\u001b[1G\u001b[?25h\u001b[?2026l\u001b[?2026h\u001b[?25l\u001b[A\u001b[1G\u001b[?25h\u001b[?2026l\u001b[?2026h\u001b[?25l\u001b[A\u001b[1G\u001b[?25h\u001b[?2026l\u001b[?2026h\u001b[?25l\u001b[A\u001b[1G\u001b[?25h\u001b[?2026l\u001b[?2026h\u001b[?25l\u001b[A\u001b[1G\u001b[?25h\u001b[?2026l\u001b[?2026h\u001b[?25l\u001b[A\u001b[1G\u001b[?25h\u001b[?2026l\u001b[?2026h\u001b[?25l\u001b[A\u001b[1G\u001b[?25h\u001b[?2026l\u001b[?2026h\u001b[?25l\u001b[A\u001b[1G\u001b[?25h\u001b[?2026l\u001b[?2026h\u001b[?25l\u001b[A\u001b[1G\u001b[?25h\u001b[?2026l\u001b[?2026h\u001b[?25l\u001b[A\u001b[1G\u001b[?25h\u001b[?2026l\u001b[?2026h\u001b[?25l\u001b[A\u001b[1G\u001b[?25h\u001b[?2026l\u001b[?2026h\u001b[?25l\u001b[A\u001b[1G\u001b[?25h\u001b[?2026l\u001b[?2026h\u001b[?25l\u001b[A\u001b[1G\u001b[?25h\u001b[?2026l\u001b[?2026h\u001b[?25l\u001b[A\u001b[1G\u001b[?25h\u001b[?2026l\u001b[?2026h\u001b[?25l\u001b[A\u001b[1G\u001b[?25h\u001b[?2026l\u001b[?2026h\u001b[?25l\u001b[A\u001b[1G\u001b[?25h\u001b[?2026l\u001b[?2026h\u001b[?25l\u001b[A\u001b[1G\u001b[?25h\u001b[?2026l\u001b[?2026h\u001b[?25l\u001b[A\u001b[1G\u001b[?25h\u001b[?2026l\u001b[?2026h\u001b[?25l\u001b[A\u001b[1G\u001b[?25h\u001b[?2026l\u001b[?2026h\u001b[?25l\u001b[A\u001b[1G\u001b[?25h\u001b[?2026l\u001b[?2026h\u001b[?25l\u001b[A\u001b[1G\u001b[?25h\u001b[?2026l\u001b[?2026h\u001b[?25l\u001b[A\u001b[1G\u001b[?25h\u001b[?2026l\u001b[?2026h\u001b[?25l\u001b[A\u001b[1G\u001b[?25h\u001b[?2026l\u001b[?2026h\u001b[?25l\u001b[A\u001b[1G\u001b[?25h\u001b[?2026l\u001b[?2026h\u001b[?25l\u001b[A\u001b[1G\u001b[?25h\u001b[?2026l\u001b[?2026h\u001b[?25l\u001b[A\u001b[1G\u001b[?25h\u001b[?2026l\u001b[?2026h\u001b[?25l\u001b[A\u001b[1G\u001b[?25h\u001b[?2026l\u001b[?2026h\u001b[?25l\u001b[A\u001b[1G\u001b[?25h\u001b[?2026l\u001b[?2026h\u001b[?25l\u001b[A\u001b[1G\u001b[?25h\u001b[?2026l\u001b[?2026h\u001b[?25l\u001b[A\u001b[1G\u001b[?25h\u001b[?2026l\u001b[?2026h\u001b[?25l\u001b[A\u001b[1G\u001b[?25h\u001b[?2026l\u001b[?2026h\u001b[?25l\u001b[A\u001b[1G\u001b[?25h\u001b[?2026l\u001b[?2026h\u001b[?25l\u001b[A\u001b[1G\u001b[?25h\u001b[?2026l\u001b[?2026h\u001b[?25l\u001b[A\u001b[1G\u001b[?25h\u001b[?2026l\u001b[?2026h\u001b[?25l\u001b[A\u001b[1G\u001b[?25h\u001b[?2026l\u001b[?2026h\u001b[?25l\u001b[A\u001b[1G\u001b[?25h\u001b[?2026l\u001b[?2026h\u001b[?25l\u001b[A\u001b[1G\u001b[?25h\u001b[?2026l\u001b[?2026h\u001b[?25l\u001b[A\u001b[1G\u001b[?25h\u001b[?2026l\u001b[?2026h\u001b[?25l\u001b[A\u001b[1G\u001b[?25h\u001b[?2026l\u001b[?2026h\u001b[?25l\u001b[A\u001b[1G\u001b[?25h\u001b[?2026l\u001b[?2026h\u001b[?25l\u001b[A\u001b[1G\u001b[?25h\u001b[?2026l\u001b[?2026h\u001b[?25l\u001b[A\u001b[1G\u001b[?25h\u001b[?2026l\u001b[?2026h\u001b[?25l\u001b[A\u001b[1G\u001b[?25h\u001b[?2026l\u001b[?2026h\u001b[?25l\u001b[A\u001b[1G\u001b[?25h\u001b[?2026l\u001b[?2026h\u001b[?25l\u001b[A\u001b[1G\u001b[?25h\u001b[?2026l\u001b[?2026h\u001b[?25l\u001b[A\u001b[1G\u001b[?25h\u001b[?2026l\u001b[?2026h\u001b[?25l\u001b[A\u001b[1G\u001b[?25h\u001b[?2026l\u001b[?2026h\u001b[?25l\u001b[A\u001b[1G\u001b[?25h\u001b[?2026l\u001b[?2026h\u001b[?25l\u001b[A\u001b[1G\u001b[?25h\u001b[?2026l\u001b[?2026h\u001b[?25l\u001b[A\u001b[1G\u001b[?25h\u001b[?2026l\u001b[?2026h\u001b[?25l\u001b[A\u001b[1G\u001b[?25h\u001b[?2026l\u001b[?2026h\u001b[?25l\u001b[A\u001b[1G\u001b[?25h\u001b[?2026l\u001b[?2026h\u001b[?25l\u001b[A\u001b[1G\u001b[?25h\u001b[?2026l\u001b[?2026h\u001b[?25l\u001b[A\u001b[1G\u001b[?25h\u001b[?2026l\u001b[?2026h\u001b[?25l\u001b[A\u001b[1G\u001b[?25h\u001b[?2026l\u001b[?2026h\u001b[?25l\u001b[A\u001b[1G\u001b[?25h\u001b[?2026l\u001b[?2026h\u001b[?25l\u001b[A\u001b[1G\u001b[?25h\u001b[?2026l\u001b[?2026h\u001b[?25l\u001b[A\u001b[1G\u001b[?25h\u001b[?2026l\u001b[?2026h\u001b[?25l\u001b[A\u001b[1G\u001b[?25h\u001b[?2026l\u001b[?2026h\u001b[?25l\u001b[A\u001b[1G\u001b[?25h\u001b[?2026l\u001b[?2026h\u001b[?25l\u001b[A\u001b[1G\u001b[?25h\u001b[?2026l\u001b[?2026h\u001b[?25l\u001b[A\u001b[1G\u001b[?25h\u001b[?2026l\u001b[?2026h\u001b[?25l\u001b[A\u001b[1G\u001b[?25h\u001b[?2026l\u001b[?2026h\u001b[?25l\u001b[A\u001b[1G\u001b[?25h\u001b[?2026l\u001b[?2026h\u001b[?25l\u001b[A\u001b[1G\u001b[?25h\u001b[?2026l\u001b[?2026h\u001b[?25l\u001b[A\u001b[1G\u001b[?25h\u001b[?2026l\u001b[?2026h\u001b[?25l\u001b[A\u001b[1G\u001b[?25h\u001b[?2026l\u001b[?2026h\u001b[?25l\u001b[A\u001b[1G\u001b[?25h\u001b[?2026l\u001b[?2026h\u001b[?25l\u001b[A\u001b[1G\u001b[?25h\u001b[?2026l\u001b[?2026h\u001b[?25l\u001b[A\u001b[1G\u001b[?25h\u001b[?2026l\u001b[?2026h\u001b[?25l\u001b[A\u001b[1G\u001b[?25h\u001b[?2026l\u001b[?2026h\u001b[?25l\u001b[A\u001b[1G\u001b[?25h\u001b[?2026l\u001b[?2026h\u001b[?25l\u001b[A\u001b[1G\u001b[?25h\u001b[?2026l\u001b[?2026h\u001b[?25l\u001b[A\u001b[1G\u001b[?25h\u001b[?2026l\u001b[?2026h\u001b[?25l\u001b[A\u001b[1G\u001b[?25h\u001b[?2026l\u001b[?2026h\u001b[?25l\u001b[A\u001b[1G\u001b[?25h\u001b[?2026l\u001b[?2026h\u001b[?25l\u001b[A\u001b[1G\u001b[?25h\u001b[?2026l\u001b[?2026h\u001b[?25l\u001b[A\u001b[1G\u001b[?25h\u001b[?2026l\u001b[?2026h\u001b[?25l\u001b[A\u001b[1G\u001b[?25h\u001b[?2026l\u001b[?2026h\u001b[?25l\u001b[A\u001b[1G\u001b[?25h\u001b[?2026l\u001b[?2026h\u001b[?25l\u001b[A\u001b[1G\u001b[?25h\u001b[?2026l\u001b[?2026h\u001b[?25l\u001b[A\u001b[1G\u001b[?25h\u001b[?2026l\u001b[?2026h\u001b[?25l\u001b[A\u001b[A\u001b[1G\u001b[?25h\u001b[?2026l\u001b[?2026h\u001b[?25l\u001b[A\u001b[A\u001b[1G\u001b[?25h\u001b[?2026l\u001b[?2026h\u001b[?25l\u001b[A\u001b[A\u001b[1G\u001b[?25h\u001b[?2026l\u001b[?2026h\u001b[?25l\u001b[A\u001b[A\u001b[1G\u001b[?25h\u001b[?2026l\u001b[?2026h\u001b[?25l\u001b[A\u001b[A\u001b[1G\u001b[?25h\u001b[?2026l\u001b[?2026h\u001b[?25l\u001b[A\u001b[A\u001b[1G\u001b[?25h\u001b[?2026l\u001b[?2026h\u001b[?25l\u001b[A\u001b[A\u001b[1G\u001b[?25h\u001b[?2026l\u001b[?2026h\u001b[?25l\u001b[A\u001b[A\u001b[1G\u001b[?25h\u001b[?2026l\u001b[?2026h\u001b[?25l\u001b[A\u001b[A\u001b[1G\u001b[?25h\u001b[?2026l\u001b[?2026h\u001b[?25l\u001b[A\u001b[A\u001b[1G\u001b[?25h\u001b[?2026l\u001b[?2026h\u001b[?25l\u001b[A\u001b[A\u001b[1G\u001b[?25h\u001b[?2026l\u001b[?2026h\u001b[?25l\u001b[A\u001b[A\u001b[1G\u001b[?25h\u001b[?2026l\u001b[?2026h\u001b[?25l\u001b[A\u001b[A\u001b[1G\u001b[?25h\u001b[?2026l\u001b[?2026h\u001b[?25l\u001b[A\u001b[A\u001b[1G\u001b[?25h\u001b[?2026l\u001b[?2026h\u001b[?25l\u001b[A\u001b[A\u001b[1G\u001b[?25h\u001b[?2026l\u001b[?2026h\u001b[?25l\u001b[A\u001b[A\u001b[A\u001b[1G\u001b[?25h\u001b[?2026l\u001b[?2026h\u001b[?25l\u001b[A\u001b[A\u001b[A\u001b[1G\u001b[?25h\u001b[?2026l\u001b[?2026h\u001b[?25l\u001b[A\u001b[A\u001b[A\u001b[1G\u001b[?25h\u001b[?2026l\u001b[?2026h\u001b[?25l\u001b[A\u001b[A\u001b[A\u001b[1G\u001b[?25h\u001b[?2026l\u001b[?2026h\u001b[?25l\u001b[A\u001b[A\u001b[A\u001b[1G\u001b[?25h\u001b[?2026l\u001b[?2026h\u001b[?25l\u001b[A\u001b[A\u001b[A\u001b[1G\u001b[?25h\u001b[?2026l\u001b[?2026h\u001b[?25l\u001b[A\u001b[A\u001b[A\u001b[1G\u001b[?25h\u001b[?2026l\u001b[?2026h\u001b[?25l\u001b[A\u001b[A\u001b[A\u001b[1G\u001b[?25h\u001b[?2026l\u001b[?2026h\u001b[?25l\u001b[A\u001b[A\u001b[A\u001b[1G\u001b[?25h\u001b[?2026l\u001b[?2026h\u001b[?25l\u001b[A\u001b[A\u001b[A\u001b[1G\u001b[?25h\u001b[?2026l\u001b[?2026h\u001b[?25l\u001b[A\u001b[A\u001b[A\u001b[1G\u001b[?25h\u001b[?2026l\u001b[?2026h\u001b[?25l\u001b[A\u001b[A\u001b[A\u001b[1G\u001b[?25h\u001b[?2026l\u001b[?2026h\u001b[?25l\u001b[A\u001b[A\u001b[A\u001b[1G\u001b[?25h\u001b[?2026l\u001b[?2026h\u001b[?25l\u001b[A\u001b[A\u001b[A\u001b[1G\u001b[?25h\u001b[?2026l\u001b[?2026h\u001b[?25l\u001b[A\u001b[A\u001b[A\u001b[1G\u001b[?25h\u001b[?2026l\u001b[?2026h\u001b[?25l\u001b[A\u001b[A\u001b[A\u001b[1G\u001b[?25h\u001b[?2026l\u001b[?2026h\u001b[?25l\u001b[A\u001b[A\u001b[A\u001b[A\u001b[1G\u001b[?25h\u001b[?2026l\u001b[?2026h\u001b[?25l\u001b[A\u001b[A\u001b[A\u001b[A\u001b[1G\u001b[?25h\u001b[?2026l\u001b[?2026h\u001b[?25l\u001b[A\u001b[A\u001b[A\u001b[A\u001b[1G\u001b[?25h\u001b[?2026l\u001b[?2026h\u001b[?25l\u001b[A\u001b[A\u001b[A\u001b[A\u001b[1G\u001b[?25h\u001b[?2026l\u001b[?2026h\u001b[?25l\u001b[A\u001b[A\u001b[A\u001b[A\u001b[1G\u001b[?25h\u001b[?2026l\u001b[?2026h\u001b[?25l\u001b[A\u001b[A\u001b[A\u001b[A\u001b[1G\u001b[?25h\u001b[?2026l\u001b[?2026h\u001b[?25l\u001b[A\u001b[A\u001b[A\u001b[A\u001b[1G\u001b[?25h\u001b[?2026l\u001b[?2026h\u001b[?25l\u001b[A\u001b[A\u001b[A\u001b[A\u001b[1G\u001b[?25h\u001b[?2026l\u001b[?2026h\u001b[?25l\u001b[A\u001b[A\u001b[A\u001b[A\u001b[1G\u001b[?25h\u001b[?2026l\u001b[?2026h\u001b[?25l\u001b[A\u001b[A\u001b[A\u001b[A\u001b[1G\u001b[?25h\u001b[?2026l\u001b[?2026h\u001b[?25l\u001b[A\u001b[A\u001b[A\u001b[A\u001b[1G\u001b[?25h\u001b[?2026l\u001b[?2026h\u001b[?25l\u001b[A\u001b[A\u001b[A\u001b[A\u001b[1G\u001b[?25h\u001b[?2026l\u001b[?2026h\u001b[?25l\u001b[A\u001b[A\u001b[A\u001b[A\u001b[1G\u001b[?25h\u001b[?2026l\u001b[?2026h\u001b[?25l\u001b[A\u001b[A\u001b[A\u001b[A\u001b[1G\u001b[?25h\u001b[?2026l\u001b[?2026h\u001b[?25l\u001b[A\u001b[A\u001b[A\u001b[A\u001b[1G\u001b[?25h\u001b[?2026l\u001b[?2026h\u001b[?25l\u001b[A\u001b[A\u001b[A\u001b[A\u001b[A\u001b[1G\u001b[?25h\u001b[?2026l\u001b[?2026h\u001b[?25l\u001b[A\u001b[A\u001b[A\u001b[A\u001b[A\u001b[1G\u001b[?25h\u001b[?2026l\u001b[?2026h\u001b[?25l\u001b[A\u001b[A\u001b[A\u001b[A\u001b[A\u001b[1G\u001b[?25h\u001b[?2026l\u001b[?2026h\u001b[?25l\u001b[A\u001b[A\u001b[A\u001b[A\u001b[A\u001b[1G\u001b[?25h\u001b[?2026l\u001b[?2026h\u001b[?25l\u001b[A\u001b[A\u001b[A\u001b[A\u001b[A\u001b[1G\u001b[?25h\u001b[?2026l\u001b[?2026h\u001b[?25l\u001b[A\u001b[A\u001b[A\u001b[A\u001b[A\u001b[1G\u001b[?25h\u001b[?2026l\u001b[?2026h\u001b[?25l\u001b[A\u001b[A\u001b[A\u001b[A\u001b[A\u001b[1G\u001b[?25h\u001b[?2026l\u001b[?2026h\u001b[?25l\u001b[A\u001b[A\u001b[A\u001b[A\u001b[A\u001b[A\u001b[1G\u001b[?25h\u001b[?2026l\u001b[?2026h\u001b[?25l\u001b[A\u001b[A\u001b[A\u001b[A\u001b[A\u001b[A\u001b[1G\u001b[?25h\u001b[?2026l\u001b[?2026h\u001b[?25l\u001b[A\u001b[A\u001b[A\u001b[A\u001b[A\u001b[A\u001b[1G\u001b[?25h\u001b[?2026l\u001b[?2026h\u001b[?25l\u001b[A\u001b[A\u001b[A\u001b[A\u001b[A\u001b[A\u001b[1G\u001b[?25h\u001b[?2026l\u001b[?2026h\u001b[?25l\u001b[A\u001b[A\u001b[A\u001b[A\u001b[A\u001b[A\u001b[1G\u001b[?25h\u001b[?2026l\u001b[?2026h\u001b[?25l\u001b[A\u001b[A\u001b[A\u001b[A\u001b[A\u001b[A\u001b[1G\u001b[?25h\u001b[?2026l\u001b[?2026h\u001b[?25l\u001b[A\u001b[A\u001b[A\u001b[A\u001b[A\u001b[A\u001b[1G\u001b[?25h\u001b[?2026l\u001b[?2026h\u001b[?25l\u001b[A\u001b[A\u001b[A\u001b[A\u001b[A\u001b[A\u001b[1G\u001b[?25h\u001b[?2026l\u001b[?2026h\u001b[?25l\u001b[A\u001b[A\u001b[A\u001b[A\u001b[A\u001b[A\u001b[1G\u001b[?25h\u001b[?2026l\u001b[?2026h\u001b[?25l\u001b[A\u001b[A\u001b[A\u001b[A\u001b[A\u001b[A\u001b[1G\u001b[?25h\u001b[?2026l\u001b[?2026h\u001b[?25l\u001b[A\u001b[A\u001b[A\u001b[A\u001b[A\u001b[A\u001b[1G\u001b[?25h\u001b[?2026l\u001b[?2026h\u001b[?25l\u001b[A\u001b[A\u001b[A\u001b[A\u001b[A\u001b[A\u001b[1G\u001b[?25h\u001b[?2026l\u001b[?2026h\u001b[?25l\u001b[A\u001b[A\u001b[A\u001b[A\u001b[A\u001b[A\u001b[1G\u001b[?25h\u001b[?2026l\u001b[?2026h\u001b[?25l\u001b[A\u001b[A\u001b[A\u001b[A\u001b[A\u001b[A\u001b[1G\u001b[?25h\u001b[?2026l\u001b[?2026h\u001b[?25l\u001b[A\u001b[A\u001b[A\u001b[A\u001b[A\u001b[A\u001b[1G\u001b[?25h\u001b[?2026l\u001b[?2026h\u001b[?25l\u001b[A\u001b[A\u001b[A\u001b[A\u001b[A\u001b[A\u001b[1G\u001b[?25h\u001b[?2026l\u001b[?2026h\u001b[?25l\u001b[A\u001b[A\u001b[A\u001b[A\u001b[A\u001b[A\u001b[1G\u001b[?25h\u001b[?2026l\u001b[?2026h\u001b[?25l\u001b[A\u001b[A\u001b[A\u001b[A\u001b[A\u001b[A\u001b[1G\u001b[?25h\u001b[?2026l\u001b[?2026h\u001b[?25l\u001b[A\u001b[A\u001b[A\u001b[A\u001b[A\u001b[A\u001b[1G\u001b[?25h\u001b[?2026l\u001b[?2026h\u001b[?25l\u001b[A\u001b[A\u001b[A\u001b[A\u001b[A\u001b[A\u001b[1G\u001b[?25h\u001b[?2026l\u001b[?2026h\u001b[?25l\u001b[A\u001b[A\u001b[A\u001b[A\u001b[A\u001b[A\u001b[1G\u001b[?25h\u001b[?2026l\u001b[?2026h\u001b[?25l\u001b[A\u001b[A\u001b[A\u001b[A\u001b[A\u001b[A\u001b[1G\u001b[?25h\u001b[?2026l\u001b[?2026h\u001b[?25l\u001b[A\u001b[A\u001b[A\u001b[A\u001b[A\u001b[A\u001b[1G\u001b[?25h\u001b[?2026l\u001b[?2026h\u001b[?25l\u001b[A\u001b[A\u001b[A\u001b[A\u001b[A\u001b[A\u001b[1G\u001b[?25h\u001b[?2026l\u001b[?2026h\u001b[?25l\u001b[A\u001b[A\u001b[A\u001b[A\u001b[A\u001b[A\u001b[1G\u001b[?25h\u001b[?2026l\u001b[?2026h\u001b[?25l\u001b[A\u001b[A\u001b[A\u001b[A\u001b[A\u001b[A\u001b[1G\u001b[?25h\u001b[?2026l\u001b[?2026h\u001b[?25l\u001b[A\u001b[A\u001b[A\u001b[A\u001b[A\u001b[A\u001b[1G\u001b[?25h\u001b[?2026l\u001b[?2026h\u001b[?25l\u001b[A\u001b[A\u001b[A\u001b[A\u001b[A\u001b[A\u001b[1G\u001b[?25h\u001b[?2026l\u001b[?2026h\u001b[?25l\u001b[A\u001b[A\u001b[A\u001b[A\u001b[A\u001b[A\u001b[1G\u001b[?25h\u001b[?2026l\u001b[?2026h\u001b[?25l\u001b[A\u001b[A\u001b[A\u001b[A\u001b[A\u001b[A\u001b[1G\u001b[?25h\u001b[?2026l\u001b[?2026h\u001b[?25l\u001b[A\u001b[A\u001b[A\u001b[A\u001b[A\u001b[A\u001b[1G\u001b[?25h\u001b[?2026l\u001b[?2026h\u001b[?25l\u001b[A\u001b[A\u001b[A\u001b[A\u001b[A\u001b[A\u001b[1G\u001b[?25h\u001b[?2026l\u001b[?2026h\u001b[?25l\u001b[A\u001b[A\u001b[A\u001b[A\u001b[A\u001b[A\u001b[1G\u001b[?25h\u001b[?2026l\u001b[?2026h\u001b[?25l\u001b[A\u001b[A\u001b[A\u001b[A\u001b[A\u001b[A\u001b[1G\u001b[?25h\u001b[?2026l\u001b[?2026h\u001b[?25l\u001b[A\u001b[A\u001b[A\u001b[A\u001b[A\u001b[A\u001b[1G\u001b[?25h\u001b[?2026l\u001b[?2026h\u001b[?25l\u001b[A\u001b[A\u001b[A\u001b[A\u001b[A\u001b[A\u001b[1G\u001b[?25h\u001b[?2026l\u001b[?2026h\u001b[?25l\u001b[A\u001b[A\u001b[A\u001b[A\u001b[A\u001b[A\u001b[1G\u001b[?25h\u001b[?2026l\u001b[?2026h\u001b[?25l\u001b[A\u001b[A\u001b[A\u001b[A\u001b[A\u001b[A\u001b[1G\u001b[?25h\u001b[?2026l\u001b[?2026h\u001b[?25l\u001b[A\u001b[A\u001b[A\u001b[A\u001b[A\u001b[A\u001b[1G\u001b[?25h\u001b[?2026l\u001b[?2026h\u001b[?25l\u001b[A\u001b[A\u001b[A\u001b[A\u001b[A\u001b[A\u001b[1G\u001b[?25h\u001b[?2026l\u001b[?2026h\u001b[?25l\u001b[A\u001b[A\u001b[A\u001b[A\u001b[A\u001b[A\u001b[1G\u001b[?25h\u001b[?2026l\u001b[?2026h\u001b[?25l\u001b[A\u001b[A\u001b[A\u001b[A\u001b[A\u001b[A\u001b[1G\u001b[?25h\u001b[?2026l\u001b[?2026h\u001b[?25l\u001b[A\u001b[A\u001b[A\u001b[A\u001b[A\u001b[A\u001b[1G\u001b[?25h\u001b[?2026l\u001b[?2026h\u001b[?25l\u001b[A\u001b[A\u001b[A\u001b[A\u001b[A\u001b[A\u001b[1G\u001b[?25h\u001b[?2026l\u001b[?2026h\u001b[?25l\u001b[A\u001b[A\u001b[A\u001b[A\u001b[A\u001b[A\u001b[1G\u001b[?25h\u001b[?2026l\u001b[?2026h\u001b[?25l\u001b[A\u001b[A\u001b[A\u001b[A\u001b[A\u001b[A\u001b[1G\u001b[?25h\u001b[?2026l\u001b[?2026h\u001b[?25l\u001b[A\u001b[A\u001b[A\u001b[A\u001b[A\u001b[A\u001b[1G\u001b[?25h\u001b[?2026l\u001b[?2026h\u001b[?25l\u001b[A\u001b[A\u001b[A\u001b[A\u001b[A\u001b[A\u001b[1G\u001b[?25h\u001b[?2026l\u001b[?2026h\u001b[?25l\u001b[A\u001b[A\u001b[A\u001b[A\u001b[A\u001b[A\u001b[1G\u001b[?25h\u001b[?2026l\u001b[?2026h\u001b[?25l\u001b[A\u001b[A\u001b[A\u001b[A\u001b[A\u001b[A\u001b[1G\u001b[?25h\u001b[?2026l\u001b[?2026h\u001b[?25l\u001b[A\u001b[A\u001b[A\u001b[A\u001b[A\u001b[A\u001b[1G\u001b[?25h\u001b[?2026l\u001b[?2026h\u001b[?25l\u001b[A\u001b[A\u001b[A\u001b[A\u001b[A\u001b[A\u001b[1G\u001b[?25h\u001b[?2026l\u001b[?2026h\u001b[?25l\u001b[A\u001b[A\u001b[A\u001b[A\u001b[A\u001b[A\u001b[1G\u001b[?25h\u001b[?2026l\u001b[?2026h\u001b[?25l\u001b[A\u001b[A\u001b[A\u001b[A\u001b[A\u001b[A\u001b[1G\u001b[?25h\u001b[?2026l\u001b[?2026h\u001b[?25l\u001b[A\u001b[A\u001b[A\u001b[A\u001b[A\u001b[A\u001b[1G\u001b[?25h\u001b[?2026l\u001b[?2026h\u001b[?25l\u001b[A\u001b[A\u001b[A\u001b[A\u001b[A\u001b[A\u001b[1G\u001b[?25h\u001b[?2026l\u001b[?2026h\u001b[?25l\u001b[A\u001b[A\u001b[A\u001b[A\u001b[A\u001b[A\u001b[1G\u001b[?25h\u001b[?2026l\u001b[?2026h\u001b[?25l\u001b[A\u001b[A\u001b[A\u001b[A\u001b[A\u001b[A\u001b[1G\u001b[?25h\u001b[?2026l\u001b[?2026h\u001b[?25l\u001b[A\u001b[A\u001b[A\u001b[A\u001b[A\u001b[A\u001b[1G\u001b[?25h\u001b[?2026l\u001b[?2026h\u001b[?25l\u001b[A\u001b[A\u001b[A\u001b[A\u001b[A\u001b[A\u001b[1G\u001b[?25h\u001b[?2026l\u001b[?2026h\u001b[?25l\u001b[A\u001b[A\u001b[A\u001b[A\u001b[A\u001b[A\u001b[1G\u001b[?25h\u001b[?2026l\u001b[?2026h\u001b[?25l\u001b[A\u001b[A\u001b[A\u001b[A\u001b[A\u001b[A\u001b[1G\u001b[?25h\u001b[?2026l\u001b[?2026h\u001b[?25l\u001b[A\u001b[A\u001b[A\u001b[A\u001b[A\u001b[A\u001b[1G\u001b[?25h\u001b[?2026l\u001b[?2026h\u001b[?25l\u001b[A\u001b[A\u001b[A\u001b[A\u001b[A\u001b[A\u001b[1G\u001b[?25h\u001b[?2026l\u001b[?2026h\u001b[?25l\u001b[A\u001b[A\u001b[A\u001b[A\u001b[A\u001b[A\u001b[1G\u001b[?25h\u001b[?2026l\u001b[?2026h\u001b[?25l\u001b[A\u001b[A\u001b[A\u001b[A\u001b[A\u001b[A\u001b[1G\u001b[?25h\u001b[?2026l\u001b[?2026h\u001b[?25l\u001b[A\u001b[A\u001b[A\u001b[A\u001b[A\u001b[A\u001b[1G\u001b[?25h\u001b[?2026l\u001b[?2026h\u001b[?25l\u001b[A\u001b[A\u001b[A\u001b[A\u001b[A\u001b[A\u001b[1G\u001b[?25h\u001b[?2026l\u001b[?2026h\u001b[?25l\u001b[A\u001b[A\u001b[A\u001b[A\u001b[A\u001b[A\u001b[1G\u001b[?25h\u001b[?2026l\u001b[?2026h\u001b[?25l\u001b[A\u001b[A\u001b[A\u001b[A\u001b[A\u001b[A\u001b[1G\u001b[?25h\u001b[?2026l\u001b[?2026h\u001b[?25l\u001b[A\u001b[A\u001b[A\u001b[A\u001b[A\u001b[A\u001b[1G\u001b[?25h\u001b[?2026l\u001b[?2026h\u001b[?25l\u001b[A\u001b[A\u001b[A\u001b[A\u001b[A\u001b[A\u001b[1G\u001b[?25h\u001b[?2026l\u001b[?2026h\u001b[?25l\u001b[A\u001b[A\u001b[A\u001b[A\u001b[A\u001b[A\u001b[1G\u001b[?25h\u001b[?2026l\u001b[?2026h\u001b[?25l\u001b[A\u001b[A\u001b[A\u001b[A\u001b[A\u001b[A\u001b[1G\u001b[?25h\u001b[?2026l\u001b[?2026h\u001b[?25l\u001b[A\u001b[A\u001b[A\u001b[A\u001b[A\u001b[A\u001b[1G\u001b[?25h\u001b[?2026l\u001b[?2026h\u001b[?25l\u001b[A\u001b[A\u001b[A\u001b[A\u001b[A\u001b[A\u001b[1G\u001b[?25h\u001b[?2026l\u001b[?2026h\u001b[?25l\u001b[A\u001b[A\u001b[A\u001b[A\u001b[A\u001b[A\u001b[1G\u001b[?25h\u001b[?2026l\u001b[?2026h\u001b[?25l\u001b[A\u001b[A\u001b[A\u001b[A\u001b[A\u001b[A\u001b[1G\u001b[?25h\u001b[?2026l\u001b[?2026h\u001b[?25l\u001b[A\u001b[A\u001b[A\u001b[A\u001b[A\u001b[A\u001b[1G\u001b[?25h\u001b[?2026l\u001b[?2026h\u001b[?25l\u001b[A\u001b[A\u001b[A\u001b[A\u001b[A\u001b[A\u001b[1G\u001b[?25h\u001b[?2026l\u001b[?2026h\u001b[?25l\u001b[A\u001b[A\u001b[A\u001b[A\u001b[A\u001b[A\u001b[1G\u001b[?25h\u001b[?2026l\u001b[?2026h\u001b[?25l\u001b[A\u001b[A\u001b[A\u001b[A\u001b[A\u001b[A\u001b[1G\u001b[?25h\u001b[?2026l\u001b[?2026h\u001b[?25l\u001b[A\u001b[A\u001b[A\u001b[A\u001b[A\u001b[A\u001b[1G\u001b[?25h\u001b[?2026l\u001b[?2026h\u001b[?25l\u001b[A\u001b[A\u001b[A\u001b[A\u001b[A\u001b[A\u001b[1G\u001b[?25h\u001b[?2026l\u001b[?2026h\u001b[?25l\u001b[A\u001b[A\u001b[A\u001b[A\u001b[A\u001b[A\u001b[1G\u001b[?25h\u001b[?2026l\u001b[?2026h\u001b[?25l\u001b[A\u001b[A\u001b[A\u001b[A\u001b[A\u001b[A\u001b[1G\u001b[?25h\u001b[?2026l\u001b[?2026h\u001b[?25l\u001b[A\u001b[A\u001b[A\u001b[A\u001b[A\u001b[A\u001b[1G\u001b[?25h\u001b[?2026l\u001b[?2026h\u001b[?25l\u001b[A\u001b[A\u001b[A\u001b[A\u001b[A\u001b[A\u001b[1G\u001b[?25h\u001b[?2026l\u001b[?2026h\u001b[?25l\u001b[A\u001b[A\u001b[A\u001b[A\u001b[A\u001b[A\u001b[1G\u001b[?25h\u001b[?2026l\u001b[?2026h\u001b[?25l\u001b[A\u001b[A\u001b[A\u001b[A\u001b[A\u001b[A\u001b[1G\u001b[?25h\u001b[?2026l\u001b[?2026h\u001b[?25l\u001b[A\u001b[A\u001b[A\u001b[A\u001b[A\u001b[A\u001b[1G\u001b[?25h\u001b[?2026l\u001b[?2026h\u001b[?25l\u001b[A\u001b[A\u001b[A\u001b[A\u001b[A\u001b[A\u001b[1G\u001b[?25h\u001b[?2026l\u001b[?2026h\u001b[?25l\u001b[A\u001b[A\u001b[A\u001b[A\u001b[A\u001b[A\u001b[1G\u001b[?25h\u001b[?2026l\u001b[?2026h\u001b[?25l\u001b[A\u001b[A\u001b[A\u001b[A\u001b[A\u001b[A\u001b[1G\u001b[?25h\u001b[?2026l\u001b[?2026h\u001b[?25l\u001b[A\u001b[A\u001b[A\u001b[A\u001b[A\u001b[A\u001b[1G\u001b[?25h\u001b[?2026l\u001b[?2026h\u001b[?25l\u001b[A\u001b[A\u001b[A\u001b[A\u001b[A\u001b[A\u001b[1G\u001b[?25h\u001b[?2026l\u001b[?2026h\u001b[?25l\u001b[A\u001b[A\u001b[A\u001b[A\u001b[A\u001b[A\u001b[1G\u001b[?25h\u001b[?2026l\u001b[?2026h\u001b[?25l\u001b[A\u001b[A\u001b[A\u001b[A\u001b[A\u001b[A\u001b[1G\u001b[?25h\u001b[?2026l\u001b[?2026h\u001b[?25l\u001b[A\u001b[A\u001b[A\u001b[A\u001b[A\u001b[A\u001b[1G\u001b[?25h\u001b[?2026l\u001b[?2026h\u001b[?25l\u001b[A\u001b[A\u001b[A\u001b[A\u001b[A\u001b[A\u001b[1G\u001b[?25h\u001b[?2026l\u001b[?2026h\u001b[?25l\u001b[A\u001b[A\u001b[A\u001b[A\u001b[A\u001b[A\u001b[1G\u001b[?25h\u001b[?2026l\u001b[?2026h\u001b[?25l\u001b[A\u001b[A\u001b[A\u001b[A\u001b[A\u001b[A\u001b[1G\u001b[?25h\u001b[?2026l\u001b[?2026h\u001b[?25l\u001b[A\u001b[A\u001b[A\u001b[A\u001b[A\u001b[A\u001b[1G\u001b[?25h\u001b[?2026l\u001b[?2026h\u001b[?25l\u001b[A\u001b[A\u001b[A\u001b[A\u001b[A\u001b[A\u001b[1G\u001b[?25h\u001b[?2026l\u001b[?2026h\u001b[?25l\u001b[A\u001b[A\u001b[A\u001b[A\u001b[A\u001b[A\u001b[1G\u001b[?25h\u001b[?2026l\u001b[?2026h\u001b[?25l\u001b[A\u001b[A\u001b[A\u001b[A\u001b[A\u001b[A\u001b[1G\u001b[?25h\u001b[?2026l\u001b[?2026h\u001b[?25l\u001b[A\u001b[A\u001b[A\u001b[A\u001b[A\u001b[A\u001b[1G\u001b[?25h\u001b[?2026l\u001b[?2026h\u001b[?25l\u001b[A\u001b[A\u001b[A\u001b[A\u001b[A\u001b[A\u001b[1G\u001b[?25h\u001b[?2026l\u001b[?2026h\u001b[?25l\u001b[A\u001b[A\u001b[A\u001b[A\u001b[A\u001b[A\u001b[1G\u001b[?25h\u001b[?2026l\u001b[?2026h\u001b[?25l\u001b[A\u001b[A\u001b[A\u001b[A\u001b[A\u001b[A\u001b[1G\u001b[?25h\u001b[?2026l\u001b[?2026h\u001b[?25l\u001b[A\u001b[A\u001b[A\u001b[A\u001b[A\u001b[A\u001b[1G\u001b[?25h\u001b[?2026l\u001b[?2026h\u001b[?25l\u001b[A\u001b[A\u001b[A\u001b[A\u001b[A\u001b[A\u001b[1G\u001b[?25h\u001b[?2026l\u001b[?2026h\u001b[?25l\u001b[A\u001b[A\u001b[A\u001b[A\u001b[A\u001b[A\u001b[1G\u001b[?25h\u001b[?2026l\u001b[?2026h\u001b[?25l\u001b[A\u001b[A\u001b[A\u001b[A\u001b[A\u001b[A\u001b[1G\u001b[?25h\u001b[?2026l\u001b[?2026h\u001b[?25l\u001b[A\u001b[A\u001b[A\u001b[A\u001b[A\u001b[A\u001b[1G\u001b[?25h\u001b[?2026l\u001b[?2026h\u001b[?25l\u001b[A\u001b[A\u001b[A\u001b[A\u001b[A\u001b[A\u001b[1G\u001b[?25h\u001b[?2026l\u001b[?2026h\u001b[?25l\u001b[A\u001b[A\u001b[A\u001b[A\u001b[A\u001b[A\u001b[1G\u001b[?25h\u001b[?2026l\u001b[?2026h\u001b[?25l\u001b[A\u001b[A\u001b[A\u001b[A\u001b[A\u001b[A\u001b[1G\u001b[?25h\u001b[?2026l\u001b[?2026h\u001b[?25l\u001b[A\u001b[A\u001b[A\u001b[A\u001b[A\u001b[A\u001b[1G\u001b[?25h\u001b[?2026l\u001b[?2026h\u001b[?25l\u001b[A\u001b[A\u001b[A\u001b[A\u001b[A\u001b[A\u001b[1G\u001b[?25h\u001b[?2026l\u001b[?2026h\u001b[?25l\u001b[A\u001b[A\u001b[A\u001b[A\u001b[A\u001b[A\u001b[1G\u001b[?25h\u001b[?2026l\u001b[?2026h\u001b[?25l\u001b[A\u001b[A\u001b[A\u001b[A\u001b[A\u001b[A\u001b[1G\u001b[?25h\u001b[?2026l\u001b[?2026h\u001b[?25l\u001b[A\u001b[A\u001b[A\u001b[A\u001b[A\u001b[A\u001b[1G\u001b[?25h\u001b[?2026l\u001b[?2026h\u001b[?25l\u001b[A\u001b[A\u001b[A\u001b[A\u001b[A\u001b[A\u001b[1G\u001b[?25h\u001b[?2026l\u001b[?2026h\u001b[?25l\u001b[A\u001b[A\u001b[A\u001b[A\u001b[A\u001b[A\u001b[1G\u001b[?25h\u001b[?2026l\u001b[?2026h\u001b[?25l\u001b[A\u001b[A\u001b[A\u001b[A\u001b[A\u001b[A\u001b[1G\u001b[?25h\u001b[?2026l\u001b[?2026h\u001b[?25l\u001b[A\u001b[A\u001b[A\u001b[A\u001b[A\u001b[A\u001b[1G\u001b[?25h\u001b[?2026l\u001b[?2026h\u001b[?25l\u001b[A\u001b[A\u001b[A\u001b[A\u001b[A\u001b[A\u001b[1G\u001b[?25h\u001b[?2026l\u001b[?2026h\u001b[?25l\u001b[A\u001b[A\u001b[A\u001b[A\u001b[A\u001b[A\u001b[1G\u001b[?25h\u001b[?2026l\u001b[?2026h\u001b[?25l\u001b[A\u001b[A\u001b[A\u001b[A\u001b[A\u001b[A\u001b[1G\u001b[?25h\u001b[?2026l\u001b[?2026h\u001b[?25l\u001b[A\u001b[A\u001b[A\u001b[A\u001b[A\u001b[A\u001b[1G\u001b[?25h\u001b[?2026l\u001b[?2026h\u001b[?25l\u001b[A\u001b[A\u001b[A\u001b[A\u001b[A\u001b[A\u001b[1G\u001b[?25h\u001b[?2026l\u001b[?2026h\u001b[?25l\u001b[A\u001b[A\u001b[A\u001b[A\u001b[A\u001b[A\u001b[1G\u001b[?25h\u001b[?2026l\u001b[?2026h\u001b[?25l\u001b[A\u001b[A\u001b[A\u001b[A\u001b[A\u001b[A\u001b[1G\u001b[?25h\u001b[?2026l\u001b[?2026h\u001b[?25l\u001b[A\u001b[A\u001b[A\u001b[A\u001b[A\u001b[A\u001b[1G\u001b[?25h\u001b[?2026l\u001b[?2026h\u001b[?25l\u001b[A\u001b[A\u001b[A\u001b[A\u001b[A\u001b[A\u001b[1G\u001b[?25h\u001b[?2026l\u001b[?2026h\u001b[?25l\u001b[A\u001b[A\u001b[A\u001b[A\u001b[A\u001b[A\u001b[1G\u001b[?25h\u001b[?2026l\u001b[?2026h\u001b[?25l\u001b[A\u001b[A\u001b[A\u001b[A\u001b[A\u001b[A\u001b[1G\u001b[?25h\u001b[?2026l\u001b[?2026h\u001b[?25l\u001b[A\u001b[A\u001b[A\u001b[A\u001b[A\u001b[A\u001b[1G\u001b[?25h\u001b[?2026l\u001b[?2026h\u001b[?25l\u001b[A\u001b[A\u001b[A\u001b[A\u001b[A\u001b[A\u001b[1G\u001b[?25h\u001b[?2026l\u001b[?2026h\u001b[?25l\u001b[A\u001b[A\u001b[A\u001b[A\u001b[A\u001b[A\u001b[1G\u001b[?25h\u001b[?2026l\u001b[?2026h\u001b[?25l\u001b[A\u001b[A\u001b[A\u001b[A\u001b[A\u001b[A\u001b[1G\u001b[?25h\u001b[?2026l\u001b[?2026h\u001b[?25l\u001b[A\u001b[A\u001b[A\u001b[A\u001b[A\u001b[A\u001b[1G\u001b[?25h\u001b[?2026l\u001b[?2026h\u001b[?25l\u001b[A\u001b[A\u001b[A\u001b[A\u001b[A\u001b[A\u001b[1G\u001b[?25h\u001b[?2026l\u001b[?2026h\u001b[?25l\u001b[A\u001b[A\u001b[A\u001b[A\u001b[A\u001b[A\u001b[1G\u001b[?25h\u001b[?2026l\u001b[?2026h\u001b[?25l\u001b[A\u001b[A\u001b[A\u001b[A\u001b[A\u001b[A\u001b[1G\u001b[?25h\u001b[?2026l\u001b[?2026h\u001b[?25l\u001b[A\u001b[A\u001b[A\u001b[A\u001b[A\u001b[A\u001b[1G\u001b[?25h\u001b[?2026l\u001b[?2026h\u001b[?25l\u001b[A\u001b[A\u001b[A\u001b[A\u001b[A\u001b[A\u001b[1G\u001b[?25h\u001b[?2026l\u001b[?2026h\u001b[?25l\u001b[A\u001b[A\u001b[A\u001b[A\u001b[A\u001b[A\u001b[1G\u001b[?25h\u001b[?2026l\u001b[?2026h\u001b[?25l\u001b[A\u001b[A\u001b[A\u001b[A\u001b[A\u001b[A\u001b[1G\u001b[?25h\u001b[?2026l\u001b[?2026h\u001b[?25l\u001b[A\u001b[A\u001b[A\u001b[A\u001b[A\u001b[A\u001b[1G\u001b[?25h\u001b[?2026l\u001b[?2026h\u001b[?25l\u001b[A\u001b[A\u001b[A\u001b[A\u001b[A\u001b[A\u001b[1G\u001b[?25h\u001b[?2026l\u001b[?2026h\u001b[?25l\u001b[A\u001b[A\u001b[A\u001b[A\u001b[A\u001b[A\u001b[1G\u001b[?25h\u001b[?2026l\u001b[?2026h\u001b[?25l\u001b[A\u001b[A\u001b[A\u001b[A\u001b[A\u001b[A\u001b[1G\u001b[?25h\u001b[?2026l\u001b[?2026h\u001b[?25l\u001b[A\u001b[A\u001b[A\u001b[A\u001b[A\u001b[A\u001b[1G\u001b[?25h\u001b[?2026l\u001b[?2026h\u001b[?25l\u001b[A\u001b[A\u001b[A\u001b[A\u001b[A\u001b[A\u001b[1G\u001b[?25h\u001b[?2026l\u001b[?2026h\u001b[?25l\u001b[A\u001b[A\u001b[A\u001b[A\u001b[A\u001b[A\u001b[1G\u001b[?25h\u001b[?2026l\u001b[?2026h\u001b[?25l\u001b[A\u001b[A\u001b[A\u001b[A\u001b[A\u001b[A\u001b[1G\u001b[?25h\u001b[?2026l\u001b[?2026h\u001b[?25l\u001b[A\u001b[A\u001b[A\u001b[A\u001b[A\u001b[A\u001b[1G\u001b[?25h\u001b[?2026l\u001b[?2026h\u001b[?25l\u001b[A\u001b[A\u001b[A\u001b[A\u001b[A\u001b[A\u001b[1G\u001b[?25h\u001b[?2026l\u001b[?2026h\u001b[?25l\u001b[A\u001b[A\u001b[A\u001b[A\u001b[A\u001b[A\u001b[1G\u001b[?25h\u001b[?2026l\u001b[?2026h\u001b[?25l\u001b[A\u001b[A\u001b[A\u001b[A\u001b[A\u001b[A\u001b[1G\u001b[?25h\u001b[?2026l\u001b[?2026h\u001b[?25l\u001b[A\u001b[A\u001b[A\u001b[A\u001b[A\u001b[A\u001b[1G\u001b[?25h\u001b[?2026l\u001b[?2026h\u001b[?25l\u001b[A\u001b[A\u001b[A\u001b[A\u001b[A\u001b[A\u001b[1G\u001b[?25h\u001b[?2026l\u001b[?2026h\u001b[?25l\u001b[A\u001b[A\u001b[A\u001b[A\u001b[A\u001b[A\u001b[1G\u001b[?25h\u001b[?2026l\u001b[?2026h\u001b[?25l\u001b[A\u001b[A\u001b[A\u001b[A\u001b[A\u001b[A\u001b[1G\u001b[?25h\u001b[?2026l\u001b[?2026h\u001b[?25l\u001b[A\u001b[A\u001b[A\u001b[A\u001b[A\u001b[A\u001b[1G\u001b[?25h\u001b[?2026l\u001b[?2026h\u001b[?25l\u001b[A\u001b[A\u001b[A\u001b[A\u001b[A\u001b[A\u001b[1G\u001b[?25h\u001b[?2026l\u001b[?2026h\u001b[?25l\u001b[A\u001b[A\u001b[A\u001b[A\u001b[A\u001b[A\u001b[1G\u001b[?25h\u001b[?2026l\u001b[?2026h\u001b[?25l\u001b[A\u001b[A\u001b[A\u001b[A\u001b[A\u001b[A\u001b[1G\u001b[?25h\u001b[?2026l\u001b[?2026h\u001b[?25l\u001b[A\u001b[A\u001b[A\u001b[A\u001b[A\u001b[A\u001b[1G\u001b[?25h\u001b[?2026l\u001b[?2026h\u001b[?25l\u001b[A\u001b[A\u001b[A\u001b[A\u001b[A\u001b[A\u001b[1G\u001b[?25h\u001b[?2026l\u001b[?2026h\u001b[?25l\u001b[A\u001b[A\u001b[A\u001b[A\u001b[A\u001b[A\u001b[1G\u001b[?25h\u001b[?2026l\u001b[?2026h\u001b[?25l\u001b[A\u001b[A\u001b[A\u001b[A\u001b[A\u001b[A\u001b[1G\u001b[?25h\u001b[?2026l\u001b[?2026h\u001b[?25l\u001b[A\u001b[A\u001b[A\u001b[A\u001b[A\u001b[A\u001b[1G\u001b[?25h\u001b[?2026l\u001b[?2026h\u001b[?25l\u001b[A\u001b[A\u001b[A\u001b[A\u001b[A\u001b[A\u001b[1G\u001b[?25h\u001b[?2026l\u001b[?2026h\u001b[?25l\u001b[A\u001b[A\u001b[A\u001b[A\u001b[A\u001b[A\u001b[1G\u001b[?25h\u001b[?2026l\u001b[?2026h\u001b[?25l\u001b[A\u001b[A\u001b[A\u001b[A\u001b[A\u001b[A\u001b[1G\u001b[?25h\u001b[?2026l\n",
            "\u001b[?2026h\u001b[?25l\u001b[1G\u001b[?25h\u001b[?2026l\u001b[?2026h\u001b[?25l\u001b[1G\u001b[?25h\u001b[?2026l\u001b[?2026h\u001b[?25l\u001b[1G\u001b[?25h\u001b[?2026l\u001b[?2026h\u001b[?25l\u001b[1G\u001b[?25h\u001b[?2026l\u001b[?2026h\u001b[?25l\u001b[1G\u001b[?25h\u001b[?2026l\u001b[?2026h\u001b[?25l\u001b[1G\u001b[?25h\u001b[?2026l\u001b[?2026h\u001b[?25l\u001b[1G\u001b[?25h\u001b[?2026l\u001b[?2026h\u001b[?25l\u001b[1G\u001b[?25h\u001b[?2026l\u001b[?2026h\u001b[?25l\u001b[1G\u001b[?25h\u001b[?2026l\u001b[?2026h\u001b[?25l\u001b[1G\u001b[?25h\u001b[?2026l\u001b[?2026h\u001b[?25l\u001b[1G\u001b[?25h\u001b[?2026l\u001b[?2026h\u001b[?25l\u001b[1G\u001b[?25h\u001b[?2026l\u001b[?2026h\u001b[?25l\u001b[1G\u001b[?25h\u001b[?2026l\u001b[?2026h\u001b[?25l\u001b[1G\u001b[?25h\u001b[?2026l\u001b[?2026h\u001b[?25l\u001b[1G\u001b[?25h\u001b[?2026l\u001b[?2026h\u001b[?25l\u001b[1G\u001b[?25h\u001b[?2026l\u001b[?2026h\u001b[?25l\u001b[1G\u001b[?25h\u001b[?2026l\u001b[?2026h\u001b[?25l\u001b[A\u001b[1G\u001b[?25h\u001b[?2026l\u001b[?2026h\u001b[?25l\u001b[A\u001b[1G\u001b[?25h\u001b[?2026l\u001b[?2026h\u001b[?25l\u001b[A\u001b[1G\u001b[?25h\u001b[?2026l\u001b[?2026h\u001b[?25l\u001b[A\u001b[1G\u001b[?25h\u001b[?2026l\u001b[?2026h\u001b[?25l\u001b[A\u001b[1G\u001b[?25h\u001b[?2026l\u001b[?2026h\u001b[?25l\u001b[A\u001b[1G\u001b[?25h\u001b[?2026l\u001b[?2026h\u001b[?25l\u001b[A\u001b[1G\u001b[?25h\u001b[?2026l\u001b[?2026h\u001b[?25l\u001b[A\u001b[1G\u001b[?25h\u001b[?2026l\u001b[?2026h\u001b[?25l\u001b[A\u001b[1G\u001b[?25h\u001b[?2026l\u001b[?2026h\u001b[?25l\u001b[A\u001b[1G\u001b[?25h\u001b[?2026l\u001b[?2026h\u001b[?25l\u001b[A\u001b[1G\u001b[?25h\u001b[?2026l\u001b[?2026h\u001b[?25l\u001b[A\u001b[1G\u001b[?25h\u001b[?2026l\u001b[?2026h\u001b[?25l\u001b[A\u001b[1G\u001b[?25h\u001b[?2026l\u001b[?2026h\u001b[?25l\u001b[A\u001b[1G\u001b[?25h\u001b[?2026l\u001b[?2026h\u001b[?25l\u001b[A\u001b[1G\u001b[?25h\u001b[?2026l\u001b[?2026h\u001b[?25l\u001b[A\u001b[1G\u001b[?25h\u001b[?2026l\u001b[?2026h\u001b[?25l\u001b[A\u001b[1G\u001b[?25h\u001b[?2026l\u001b[?2026h\u001b[?25l\u001b[A\u001b[1G\u001b[?25h\u001b[?2026l\u001b[?2026h\u001b[?25l\u001b[A\u001b[1G\u001b[?25h\u001b[?2026l\u001b[?2026h\u001b[?25l\u001b[A\u001b[1G\u001b[?25h\u001b[?2026l\u001b[?2026h\u001b[?25l\u001b[A\u001b[1G\u001b[?25h\u001b[?2026l\u001b[?2026h\u001b[?25l\u001b[A\u001b[1G\u001b[?25h\u001b[?2026l\u001b[?2026h\u001b[?25l\u001b[A\u001b[1G\u001b[?25h\u001b[?2026l\u001b[?2026h\u001b[?25l\u001b[A\u001b[1G\u001b[?25h\u001b[?2026l\u001b[?2026h\u001b[?25l\u001b[A\u001b[1G\u001b[?25h\u001b[?2026l\u001b[?2026h\u001b[?25l\u001b[A\u001b[1G\u001b[?25h\u001b[?2026l\u001b[?2026h\u001b[?25l\u001b[A\u001b[1G\u001b[?25h\u001b[?2026l\u001b[?2026h\u001b[?25l\u001b[A\u001b[1G\u001b[?25h\u001b[?2026l\u001b[?2026h\u001b[?25l\u001b[A\u001b[1G\u001b[?25h\u001b[?2026l\u001b[?2026h\u001b[?25l\u001b[A\u001b[1G\u001b[?25h\u001b[?2026l\u001b[?2026h\u001b[?25l\u001b[A\u001b[1G\u001b[?25h\u001b[?2026l\u001b[?2026h\u001b[?25l\u001b[A\u001b[1G\u001b[?25h\u001b[?2026l\u001b[?2026h\u001b[?25l\u001b[A\u001b[1G\u001b[?25h\u001b[?2026l\u001b[?2026h\u001b[?25l\u001b[A\u001b[1G\u001b[?25h\u001b[?2026l\u001b[?2026h\u001b[?25l\u001b[A\u001b[1G\u001b[?25h\u001b[?2026l\u001b[?2026h\u001b[?25l\u001b[A\u001b[1G\u001b[?25h\u001b[?2026l\u001b[?2026h\u001b[?25l\u001b[A\u001b[1G\u001b[?25h\u001b[?2026l\u001b[?2026h\u001b[?25l\u001b[A\u001b[1G\u001b[?25h\u001b[?2026l\u001b[?2026h\u001b[?25l\u001b[A\u001b[1G\u001b[?25h\u001b[?2026l\u001b[?2026h\u001b[?25l\u001b[A\u001b[1G\u001b[?25h\u001b[?2026l\u001b[?2026h\u001b[?25l\u001b[A\u001b[1G\u001b[?25h\u001b[?2026l\u001b[?2026h\u001b[?25l\u001b[A\u001b[1G\u001b[?25h\u001b[?2026l\u001b[?2026h\u001b[?25l\u001b[A\u001b[1G\u001b[?25h\u001b[?2026l\u001b[?2026h\u001b[?25l\u001b[A\u001b[1G\u001b[?25h\u001b[?2026l\u001b[?2026h\u001b[?25l\u001b[A\u001b[1G\u001b[?25h\u001b[?2026l\u001b[?2026h\u001b[?25l\u001b[A\u001b[1G\u001b[?25h\u001b[?2026l\u001b[?2026h\u001b[?25l\u001b[A\u001b[1G\u001b[?25h\u001b[?2026l\u001b[?2026h\u001b[?25l\u001b[A\u001b[1G\u001b[?25h\u001b[?2026l\u001b[?2026h\u001b[?25l\u001b[A\u001b[1G\u001b[?25h\u001b[?2026l\u001b[?2026h\u001b[?25l\u001b[A\u001b[1G\u001b[?25h\u001b[?2026l\u001b[?2026h\u001b[?25l\u001b[A\u001b[1G\u001b[?25h\u001b[?2026l\u001b[?2026h\u001b[?25l\u001b[A\u001b[1G\u001b[?25h\u001b[?2026l\u001b[?2026h\u001b[?25l\u001b[A\u001b[1G\u001b[?25h\u001b[?2026l\u001b[?2026h\u001b[?25l\u001b[A\u001b[1G\u001b[?25h\u001b[?2026l\u001b[?2026h\u001b[?25l\u001b[A\u001b[1G\u001b[?25h\u001b[?2026l\u001b[?2026h\u001b[?25l\u001b[A\u001b[1G\u001b[?25h\u001b[?2026l\u001b[?2026h\u001b[?25l\u001b[A\u001b[1G\u001b[?25h\u001b[?2026l\u001b[?2026h\u001b[?25l\u001b[A\u001b[1G\u001b[?25h\u001b[?2026l\u001b[?2026h\u001b[?25l\u001b[A\u001b[1G\u001b[?25h\u001b[?2026l\u001b[?2026h\u001b[?25l\u001b[A\u001b[1G\u001b[?25h\u001b[?2026l\u001b[?2026h\u001b[?25l\u001b[A\u001b[1G\u001b[?25h\u001b[?2026l\u001b[?2026h\u001b[?25l\u001b[A\u001b[1G\u001b[?25h\u001b[?2026l\u001b[?2026h\u001b[?25l\u001b[A\u001b[1G\u001b[?25h\u001b[?2026l\u001b[?2026h\u001b[?25l\u001b[A\u001b[1G\u001b[?25h\u001b[?2026l\u001b[?2026h\u001b[?25l\u001b[A\u001b[1G\u001b[?25h\u001b[?2026l\u001b[?2026h\u001b[?25l\u001b[A\u001b[1G\u001b[?25h\u001b[?2026l\u001b[?2026h\u001b[?25l\u001b[A\u001b[1G\u001b[?25h\u001b[?2026l\u001b[?2026h\u001b[?25l\u001b[A\u001b[1G\u001b[?25h\u001b[?2026l\u001b[?2026h\u001b[?25l\u001b[A\u001b[1G\u001b[?25h\u001b[?2026l\u001b[?2026h\u001b[?25l\u001b[A\u001b[1G\u001b[?25h\u001b[?2026l\u001b[?2026h\u001b[?25l\u001b[A\u001b[1G\u001b[?25h\u001b[?2026l\u001b[?2026h\u001b[?25l\u001b[A\u001b[1G\u001b[?25h\u001b[?2026l\u001b[?2026h\u001b[?25l\u001b[A\u001b[1G\u001b[?25h\u001b[?2026l\u001b[?2026h\u001b[?25l\u001b[A\u001b[1G\u001b[?25h\u001b[?2026l\u001b[?2026h\u001b[?25l\u001b[A\u001b[1G\u001b[?25h\u001b[?2026l\u001b[?2026h\u001b[?25l\u001b[A\u001b[1G\u001b[?25h\u001b[?2026l\u001b[?2026h\u001b[?25l\u001b[A\u001b[1G\u001b[?25h\u001b[?2026l\u001b[?2026h\u001b[?25l\u001b[A\u001b[1G\u001b[?25h\u001b[?2026l\u001b[?2026h\u001b[?25l\u001b[A\u001b[1G\u001b[?25h\u001b[?2026l\u001b[?2026h\u001b[?25l\u001b[A\u001b[1G\u001b[?25h\u001b[?2026l\u001b[?2026h\u001b[?25l\u001b[A\u001b[1G\u001b[?25h\u001b[?2026l\u001b[?2026h\u001b[?25l\u001b[A\u001b[1G\u001b[?25h\u001b[?2026l\u001b[?2026h\u001b[?25l\u001b[A\u001b[1G\u001b[?25h\u001b[?2026l\u001b[?2026h\u001b[?25l\u001b[A\u001b[1G\u001b[?25h\u001b[?2026l\u001b[?2026h\u001b[?25l\u001b[A\u001b[1G\u001b[?25h\u001b[?2026l\u001b[?2026h\u001b[?25l\u001b[A\u001b[1G\u001b[?25h\u001b[?2026l\u001b[?2026h\u001b[?25l\u001b[A\u001b[1G\u001b[?25h\u001b[?2026l\u001b[?2026h\u001b[?25l\u001b[A\u001b[1G\u001b[?25h\u001b[?2026l\u001b[?2026h\u001b[?25l\u001b[A\u001b[1G\u001b[?25h\u001b[?2026l\u001b[?2026h\u001b[?25l\u001b[A\u001b[1G\u001b[?25h\u001b[?2026l\u001b[?2026h\u001b[?25l\u001b[A\u001b[1G\u001b[?25h\u001b[?2026l\u001b[?2026h\u001b[?25l\u001b[A\u001b[1G\u001b[?25h\u001b[?2026l\u001b[?2026h\u001b[?25l\u001b[A\u001b[1G\u001b[?25h\u001b[?2026l\u001b[?2026h\u001b[?25l\u001b[A\u001b[1G\u001b[?25h\u001b[?2026l\u001b[?2026h\u001b[?25l\u001b[A\u001b[1G\u001b[?25h\u001b[?2026l\u001b[?2026h\u001b[?25l\u001b[A\u001b[1G\u001b[?25h\u001b[?2026l\u001b[?2026h\u001b[?25l\u001b[A\u001b[1G\u001b[?25h\u001b[?2026l\u001b[?2026h\u001b[?25l\u001b[A\u001b[1G\u001b[?25h\u001b[?2026l\u001b[?2026h\u001b[?25l\u001b[A\u001b[1G\u001b[?25h\u001b[?2026l\u001b[?2026h\u001b[?25l\u001b[A\u001b[1G\u001b[?25h\u001b[?2026l\u001b[?2026h\u001b[?25l\u001b[A\u001b[1G\u001b[?25h\u001b[?2026l\u001b[?2026h\u001b[?25l\u001b[A\u001b[1G\u001b[?25h\u001b[?2026l\u001b[?2026h\u001b[?25l\u001b[A\u001b[1G\u001b[?25h\u001b[?2026l\u001b[?2026h\u001b[?25l\u001b[A\u001b[1G\u001b[?25h\u001b[?2026l\u001b[?2026h\u001b[?25l\u001b[A\u001b[1G\u001b[?25h\u001b[?2026l\u001b[?2026h\u001b[?25l\u001b[A\u001b[1G\u001b[?25h\u001b[?2026l\u001b[?2026h\u001b[?25l\u001b[A\u001b[1G\u001b[?25h\u001b[?2026l\u001b[?2026h\u001b[?25l\u001b[A\u001b[1G\u001b[?25h\u001b[?2026l\u001b[?2026h\u001b[?25l\u001b[A\u001b[1G\u001b[?25h\u001b[?2026l\u001b[?2026h\u001b[?25l\u001b[A\u001b[1G\u001b[?25h\u001b[?2026l\u001b[?2026h\u001b[?25l\u001b[A\u001b[1G\u001b[?25h\u001b[?2026l\u001b[?2026h\u001b[?25l\u001b[A\u001b[1G\u001b[?25h\u001b[?2026l\u001b[?2026h\u001b[?25l\u001b[A\u001b[1G\u001b[?25h\u001b[?2026l\u001b[?2026h\u001b[?25l\u001b[A\u001b[1G\u001b[?25h\u001b[?2026l\u001b[?2026h\u001b[?25l\u001b[A\u001b[1G\u001b[?25h\u001b[?2026l\u001b[?2026h\u001b[?25l\u001b[A\u001b[1G\u001b[?25h\u001b[?2026l\u001b[?2026h\u001b[?25l\u001b[A\u001b[1G\u001b[?25h\u001b[?2026l\u001b[?2026h\u001b[?25l\u001b[A\u001b[1G\u001b[?25h\u001b[?2026l\u001b[?2026h\u001b[?25l\u001b[A\u001b[1G\u001b[?25h\u001b[?2026l\u001b[?2026h\u001b[?25l\u001b[A\u001b[1G\u001b[?25h\u001b[?2026l\u001b[?2026h\u001b[?25l\u001b[A\u001b[1G\u001b[?25h\u001b[?2026l\u001b[?2026h\u001b[?25l\u001b[A\u001b[1G\u001b[?25h\u001b[?2026l\u001b[?2026h\u001b[?25l\u001b[A\u001b[1G\u001b[?25h\u001b[?2026l\u001b[?2026h\u001b[?25l\u001b[A\u001b[1G\u001b[?25h\u001b[?2026l\u001b[?2026h\u001b[?25l\u001b[A\u001b[1G\u001b[?25h\u001b[?2026l\u001b[?2026h\u001b[?25l\u001b[A\u001b[1G\u001b[?25h\u001b[?2026l\u001b[?2026h\u001b[?25l\u001b[A\u001b[1G\u001b[?25h\u001b[?2026l\u001b[?2026h\u001b[?25l\u001b[A\u001b[1G\u001b[?25h\u001b[?2026l\u001b[?2026h\u001b[?25l\u001b[A\u001b[1G\u001b[?25h\u001b[?2026l\u001b[?2026h\u001b[?25l\u001b[A\u001b[1G\u001b[?25h\u001b[?2026l\u001b[?2026h\u001b[?25l\u001b[A\u001b[1G\u001b[?25h\u001b[?2026l\u001b[?2026h\u001b[?25l\u001b[A\u001b[1G\u001b[?25h\u001b[?2026l\u001b[?2026h\u001b[?25l\u001b[A\u001b[1G\u001b[?25h\u001b[?2026l\u001b[?2026h\u001b[?25l\u001b[A\u001b[1G\u001b[?25h\u001b[?2026l\u001b[?2026h\u001b[?25l\u001b[A\u001b[1G\u001b[?25h\u001b[?2026l\u001b[?2026h\u001b[?25l\u001b[A\u001b[1G\u001b[?25h\u001b[?2026l\u001b[?2026h\u001b[?25l\u001b[A\u001b[1G\u001b[?25h\u001b[?2026l\u001b[?2026h\u001b[?25l\u001b[A\u001b[1G\u001b[?25h\u001b[?2026l\u001b[?2026h\u001b[?25l\u001b[A\u001b[1G\u001b[?25h\u001b[?2026l\u001b[?2026h\u001b[?25l\u001b[A\u001b[1G\u001b[?25h\u001b[?2026l\u001b[?2026h\u001b[?25l\u001b[A\u001b[1G\u001b[?25h\u001b[?2026l\u001b[?2026h\u001b[?25l\u001b[A\u001b[1G\u001b[?25h\u001b[?2026l\u001b[?2026h\u001b[?25l\u001b[A\u001b[1G\u001b[?25h\u001b[?2026l\u001b[?2026h\u001b[?25l\u001b[A\u001b[1G\u001b[?25h\u001b[?2026l\u001b[?2026h\u001b[?25l\u001b[A\u001b[1G\u001b[?25h\u001b[?2026l\u001b[?2026h\u001b[?25l\u001b[A\u001b[1G\u001b[?25h\u001b[?2026l\u001b[?2026h\u001b[?25l\u001b[A\u001b[1G\u001b[?25h\u001b[?2026l\u001b[?2026h\u001b[?25l\u001b[A\u001b[1G\u001b[?25h\u001b[?2026l\u001b[?2026h\u001b[?25l\u001b[A\u001b[1G\u001b[?25h\u001b[?2026l\u001b[?2026h\u001b[?25l\u001b[A\u001b[1G\u001b[?25h\u001b[?2026l\u001b[?2026h\u001b[?25l\u001b[A\u001b[1G\u001b[?25h\u001b[?2026l\u001b[?2026h\u001b[?25l\u001b[A\u001b[1G\u001b[?25h\u001b[?2026l\u001b[?2026h\u001b[?25l\u001b[A\u001b[1G\u001b[?25h\u001b[?2026l\u001b[?2026h\u001b[?25l\u001b[A\u001b[1G\u001b[?25h\u001b[?2026l\u001b[?2026h\u001b[?25l\u001b[A\u001b[1G\u001b[?25h\u001b[?2026l\u001b[?2026h\u001b[?25l\u001b[A\u001b[1G\u001b[?25h\u001b[?2026l\u001b[?2026h\u001b[?25l\u001b[A\u001b[1G\u001b[?25h\u001b[?2026l\u001b[?2026h\u001b[?25l\u001b[A\u001b[1G\u001b[?25h\u001b[?2026l\u001b[?2026h\u001b[?25l\u001b[A\u001b[1G\u001b[?25h\u001b[?2026l\u001b[?2026h\u001b[?25l\u001b[A\u001b[1G\u001b[?25h\u001b[?2026l\u001b[?2026h\u001b[?25l\u001b[A\u001b[1G\u001b[?25h\u001b[?2026l\u001b[?2026h\u001b[?25l\u001b[A\u001b[1G\u001b[?25h\u001b[?2026l\u001b[?2026h\u001b[?25l\u001b[A\u001b[1G\u001b[?25h\u001b[?2026l\u001b[?2026h\u001b[?25l\u001b[A\u001b[1G\u001b[?25h\u001b[?2026l\u001b[?2026h\u001b[?25l\u001b[A\u001b[1G\u001b[?25h\u001b[?2026l\u001b[?2026h\u001b[?25l\u001b[A\u001b[1G\u001b[?25h\u001b[?2026l\u001b[?2026h\u001b[?25l\u001b[A\u001b[1G\u001b[?25h\u001b[?2026l\u001b[?2026h\u001b[?25l\u001b[A\u001b[1G\u001b[?25h\u001b[?2026l\u001b[?2026h\u001b[?25l\u001b[A\u001b[1G\u001b[?25h\u001b[?2026l\u001b[?2026h\u001b[?25l\u001b[A\u001b[1G\u001b[?25h\u001b[?2026l\u001b[?2026h\u001b[?25l\u001b[A\u001b[1G\u001b[?25h\u001b[?2026l\u001b[?2026h\u001b[?25l\u001b[A\u001b[1G\u001b[?25h\u001b[?2026l\u001b[?2026h\u001b[?25l\u001b[A\u001b[1G\u001b[?25h\u001b[?2026l\u001b[?2026h\u001b[?25l\u001b[A\u001b[1G\u001b[?25h\u001b[?2026l\u001b[?2026h\u001b[?25l\u001b[A\u001b[1G\u001b[?25h\u001b[?2026l\u001b[?2026h\u001b[?25l\u001b[A\u001b[1G\u001b[?25h\u001b[?2026l\u001b[?2026h\u001b[?25l\u001b[A\u001b[1G\u001b[?25h\u001b[?2026l\u001b[?2026h\u001b[?25l\u001b[A\u001b[1G\u001b[?25h\u001b[?2026l\u001b[?2026h\u001b[?25l\u001b[A\u001b[1G\u001b[?25h\u001b[?2026l\u001b[?2026h\u001b[?25l\u001b[A\u001b[1G\u001b[?25h\u001b[?2026l\u001b[?2026h\u001b[?25l\u001b[A\u001b[1G\u001b[?25h\u001b[?2026l\u001b[?2026h\u001b[?25l\u001b[A\u001b[1G\u001b[?25h\u001b[?2026l\u001b[?2026h\u001b[?25l\u001b[A\u001b[1G\u001b[?25h\u001b[?2026l\u001b[?2026h\u001b[?25l\u001b[A\u001b[1G\u001b[?25h\u001b[?2026l\u001b[?2026h\u001b[?25l\u001b[A\u001b[1G\u001b[?25h\u001b[?2026l\u001b[?2026h\u001b[?25l\u001b[A\u001b[1G\u001b[?25h\u001b[?2026l\u001b[?2026h\u001b[?25l\u001b[A\u001b[1G\u001b[?25h\u001b[?2026l\u001b[?2026h\u001b[?25l\u001b[A\u001b[1G\u001b[?25h\u001b[?2026l\u001b[?2026h\u001b[?25l\u001b[A\u001b[1G\u001b[?25h\u001b[?2026l\u001b[?2026h\u001b[?25l\u001b[A\u001b[1G\u001b[?25h\u001b[?2026l\u001b[?2026h\u001b[?25l\u001b[A\u001b[1G\u001b[?25h\u001b[?2026l\u001b[?2026h\u001b[?25l\u001b[A\u001b[1G\u001b[?25h\u001b[?2026l\u001b[?2026h\u001b[?25l\u001b[A\u001b[1G\u001b[?25h\u001b[?2026l\u001b[?2026h\u001b[?25l\u001b[A\u001b[1G\u001b[?25h\u001b[?2026l\u001b[?2026h\u001b[?25l\u001b[A\u001b[1G\u001b[?25h\u001b[?2026l\u001b[?2026h\u001b[?25l\u001b[A\u001b[1G\u001b[?25h\u001b[?2026l\u001b[?2026h\u001b[?25l\u001b[A\u001b[1G\u001b[?25h\u001b[?2026l\u001b[?2026h\u001b[?25l\u001b[A\u001b[1G\u001b[?25h\u001b[?2026l\u001b[?2026h\u001b[?25l\u001b[A\u001b[1G\u001b[?25h\u001b[?2026l\u001b[?2026h\u001b[?25l\u001b[A\u001b[1G\u001b[?25h\u001b[?2026l\u001b[?2026h\u001b[?25l\u001b[A\u001b[1G\u001b[?25h\u001b[?2026l\u001b[?2026h\u001b[?25l\u001b[A\u001b[1G\u001b[?25h\u001b[?2026l\u001b[?2026h\u001b[?25l\u001b[A\u001b[1G\u001b[?25h\u001b[?2026l\u001b[?2026h\u001b[?25l\u001b[A\u001b[1G\u001b[?25h\u001b[?2026l\u001b[?2026h\u001b[?25l\u001b[A\u001b[1G\u001b[?25h\u001b[?2026l\u001b[?2026h\u001b[?25l\u001b[A\u001b[1G\u001b[?25h\u001b[?2026l\u001b[?2026h\u001b[?25l\u001b[A\u001b[1G\u001b[?25h\u001b[?2026l\u001b[?2026h\u001b[?25l\u001b[A\u001b[1G\u001b[?25h\u001b[?2026l\u001b[?2026h\u001b[?25l\u001b[A\u001b[1G\u001b[?25h\u001b[?2026l\u001b[?2026h\u001b[?25l\u001b[A\u001b[1G\u001b[?25h\u001b[?2026l\u001b[?2026h\u001b[?25l\u001b[A\u001b[1G\u001b[?25h\u001b[?2026l\u001b[?2026h\u001b[?25l\u001b[A\u001b[1G\u001b[?25h\u001b[?2026l\u001b[?2026h\u001b[?25l\u001b[A\u001b[1G\u001b[?25h\u001b[?2026l\u001b[?2026h\u001b[?25l\u001b[A\u001b[1G\u001b[?25h\u001b[?2026l\u001b[?2026h\u001b[?25l\u001b[A\u001b[1G\u001b[?25h\u001b[?2026l\u001b[?2026h\u001b[?25l\u001b[A\u001b[1G\u001b[?25h\u001b[?2026l\u001b[?2026h\u001b[?25l\u001b[A\u001b[1G\u001b[?25h\u001b[?2026l\u001b[?2026h\u001b[?25l\u001b[A\u001b[1G\u001b[?25h\u001b[?2026l\u001b[?2026h\u001b[?25l\u001b[A\u001b[1G\u001b[?25h\u001b[?2026l\u001b[?2026h\u001b[?25l\u001b[A\u001b[1G\u001b[?25h\u001b[?2026l\u001b[?2026h\u001b[?25l\u001b[A\u001b[1G\u001b[?25h\u001b[?2026l\u001b[?2026h\u001b[?25l\u001b[A\u001b[1G\u001b[?25h\u001b[?2026l\u001b[?2026h\u001b[?25l\u001b[A\u001b[1G\u001b[?25h\u001b[?2026l\u001b[?2026h\u001b[?25l\u001b[A\u001b[1G\u001b[?25h\u001b[?2026l\u001b[?2026h\u001b[?25l\u001b[A\u001b[1G\u001b[?25h\u001b[?2026l\u001b[?2026h\u001b[?25l\u001b[A\u001b[1G\u001b[?25h\u001b[?2026l\u001b[?2026h\u001b[?25l\u001b[A\u001b[1G\u001b[?25h\u001b[?2026l\u001b[?2026h\u001b[?25l\u001b[A\u001b[1G\u001b[?25h\u001b[?2026l\u001b[?2026h\u001b[?25l\u001b[A\u001b[1G\u001b[?25h\u001b[?2026l\u001b[?2026h\u001b[?25l\u001b[A\u001b[1G\u001b[?25h\u001b[?2026l\u001b[?2026h\u001b[?25l\u001b[A\u001b[1G\u001b[?25h\u001b[?2026l\u001b[?2026h\u001b[?25l\u001b[A\u001b[1G\u001b[?25h\u001b[?2026l\u001b[?2026h\u001b[?25l\u001b[A\u001b[1G\u001b[?25h\u001b[?2026l\u001b[?2026h\u001b[?25l\u001b[A\u001b[1G\u001b[?25h\u001b[?2026l\u001b[?2026h\u001b[?25l\u001b[A\u001b[1G\u001b[?25h\u001b[?2026l\u001b[?2026h\u001b[?25l\u001b[A\u001b[1G\u001b[?25h\u001b[?2026l\u001b[?2026h\u001b[?25l\u001b[A\u001b[1G\u001b[?25h\u001b[?2026l\u001b[?2026h\u001b[?25l\u001b[A\u001b[1G\u001b[?25h\u001b[?2026l\u001b[?2026h\u001b[?25l\u001b[A\u001b[1G\u001b[?25h\u001b[?2026l\u001b[?2026h\u001b[?25l\u001b[A\u001b[1G\u001b[?25h\u001b[?2026l\u001b[?2026h\u001b[?25l\u001b[A\u001b[1G\u001b[?25h\u001b[?2026l\u001b[?2026h\u001b[?25l\u001b[A\u001b[1G\u001b[?25h\u001b[?2026l\u001b[?2026h\u001b[?25l\u001b[A\u001b[1G\u001b[?25h\u001b[?2026l\u001b[?2026h\u001b[?25l\u001b[A\u001b[1G\u001b[?25h\u001b[?2026l\u001b[?2026h\u001b[?25l\u001b[A\u001b[1G\u001b[?25h\u001b[?2026l\u001b[?2026h\u001b[?25l\u001b[A\u001b[1G\u001b[?25h\u001b[?2026l\u001b[?2026h\u001b[?25l\u001b[A\u001b[1G\u001b[?25h\u001b[?2026l\u001b[?2026h\u001b[?25l\u001b[A\u001b[1G\u001b[?25h\u001b[?2026l\u001b[?2026h\u001b[?25l\u001b[A\u001b[1G\u001b[?25h\u001b[?2026l\u001b[?2026h\u001b[?25l\u001b[A\u001b[1G\u001b[?25h\u001b[?2026l\u001b[?2026h\u001b[?25l\u001b[A\u001b[1G\u001b[?25h\u001b[?2026l\u001b[?2026h\u001b[?25l\u001b[A\u001b[1G\u001b[?25h\u001b[?2026l\u001b[?2026h\u001b[?25l\u001b[A\u001b[1G\u001b[?25h\u001b[?2026l\u001b[?2026h\u001b[?25l\u001b[A\u001b[1G\u001b[?25h\u001b[?2026l\u001b[?2026h\u001b[?25l\u001b[A\u001b[1G\u001b[?25h\u001b[?2026l\u001b[?2026h\u001b[?25l\u001b[A\u001b[1G\u001b[?25h\u001b[?2026l\u001b[?2026h\u001b[?25l\u001b[A\u001b[1G\u001b[?25h\u001b[?2026l\u001b[?2026h\u001b[?25l\u001b[A\u001b[1G\u001b[?25h\u001b[?2026l\u001b[?2026h\u001b[?25l\u001b[A\u001b[1G\u001b[?25h\u001b[?2026l\u001b[?2026h\u001b[?25l\u001b[A\u001b[1G\u001b[?25h\u001b[?2026l\u001b[?2026h\u001b[?25l\u001b[A\u001b[1G\u001b[?25h\u001b[?2026l\u001b[?2026h\u001b[?25l\u001b[A\u001b[1G\u001b[?25h\u001b[?2026l\u001b[?2026h\u001b[?25l\u001b[A\u001b[1G\u001b[?25h\u001b[?2026l\u001b[?2026h\u001b[?25l\u001b[A\u001b[1G\u001b[?25h\u001b[?2026l\u001b[?2026h\u001b[?25l\u001b[A\u001b[1G\u001b[?25h\u001b[?2026l\u001b[?2026h\u001b[?25l\u001b[A\u001b[1G\u001b[?25h\u001b[?2026l\u001b[?2026h\u001b[?25l\u001b[A\u001b[1G\u001b[?25h\u001b[?2026l\u001b[?2026h\u001b[?25l\u001b[A\u001b[1G\u001b[?25h\u001b[?2026l\u001b[?2026h\u001b[?25l\u001b[A\u001b[1G\u001b[?25h\u001b[?2026l\u001b[?2026h\u001b[?25l\u001b[A\u001b[1G\u001b[?25h\u001b[?2026l\u001b[?2026h\u001b[?25l\u001b[A\u001b[1G\u001b[?25h\u001b[?2026l\u001b[?2026h\u001b[?25l\u001b[A\u001b[1G\u001b[?25h\u001b[?2026l\u001b[?2026h\u001b[?25l\u001b[A\u001b[1G\u001b[?25h\u001b[?2026l\u001b[?2026h\u001b[?25l\u001b[A\u001b[1G\u001b[?25h\u001b[?2026l\u001b[?2026h\u001b[?25l\u001b[A\u001b[1G\u001b[?25h\u001b[?2026l\u001b[?2026h\u001b[?25l\u001b[A\u001b[1G\u001b[?25h\u001b[?2026l\u001b[?2026h\u001b[?25l\u001b[A\u001b[1G\u001b[?25h\u001b[?2026l\u001b[?2026h\u001b[?25l\u001b[A\u001b[1G\u001b[?25h\u001b[?2026l\u001b[?2026h\u001b[?25l\u001b[A\u001b[1G\u001b[?25h\u001b[?2026l\u001b[?2026h\u001b[?25l\u001b[A\u001b[1G\u001b[?25h\u001b[?2026l\u001b[?2026h\u001b[?25l\u001b[A\u001b[1G\u001b[?25h\u001b[?2026l\u001b[?2026h\u001b[?25l\u001b[A\u001b[1G\u001b[?25h\u001b[?2026l\u001b[?2026h\u001b[?25l\u001b[A\u001b[1G\u001b[?25h\u001b[?2026l\u001b[?2026h\u001b[?25l\u001b[A\u001b[1G\u001b[?25h\u001b[?2026l\u001b[?2026h\u001b[?25l\u001b[A\u001b[1G\u001b[?25h\u001b[?2026l\u001b[?2026h\u001b[?25l\u001b[A\u001b[1G\u001b[?25h\u001b[?2026l\u001b[?2026h\u001b[?25l\u001b[A\u001b[1G\u001b[?25h\u001b[?2026l\u001b[?2026h\u001b[?25l\u001b[A\u001b[1G\u001b[?25h\u001b[?2026l\u001b[?2026h\u001b[?25l\u001b[A\u001b[1G\u001b[?25h\u001b[?2026l\u001b[?2026h\u001b[?25l\u001b[A\u001b[1G\u001b[?25h\u001b[?2026l\u001b[?2026h\u001b[?25l\u001b[A\u001b[1G\u001b[?25h\u001b[?2026l\u001b[?2026h\u001b[?25l\u001b[A\u001b[1G\u001b[?25h\u001b[?2026l\u001b[?2026h\u001b[?25l\u001b[A\u001b[1G\u001b[?25h\u001b[?2026l\u001b[?2026h\u001b[?25l\u001b[A\u001b[1G\u001b[?25h\u001b[?2026l\u001b[?2026h\u001b[?25l\u001b[A\u001b[1G\u001b[?25h\u001b[?2026l\u001b[?2026h\u001b[?25l\u001b[A\u001b[1G\u001b[?25h\u001b[?2026l\u001b[?2026h\u001b[?25l\u001b[A\u001b[1G\u001b[?25h\u001b[?2026l\u001b[?2026h\u001b[?25l\u001b[A\u001b[1G\u001b[?25h\u001b[?2026l\u001b[?2026h\u001b[?25l\u001b[A\u001b[1G\u001b[?25h\u001b[?2026l\u001b[?2026h\u001b[?25l\u001b[A\u001b[1G\u001b[?25h\u001b[?2026l\u001b[?2026h\u001b[?25l\u001b[A\u001b[1G\u001b[?25h\u001b[?2026l\u001b[?2026h\u001b[?25l\u001b[A\u001b[1G\u001b[?25h\u001b[?2026l\u001b[?2026h\u001b[?25l\u001b[A\u001b[1G\u001b[?25h\u001b[?2026l\u001b[?2026h\u001b[?25l\u001b[A\u001b[1G\u001b[?25h\u001b[?2026l\u001b[?2026h\u001b[?25l\u001b[A\u001b[1G\u001b[?25h\u001b[?2026l\u001b[?2026h\u001b[?25l\u001b[A\u001b[1G\u001b[?25h\u001b[?2026l\u001b[?2026h\u001b[?25l\u001b[A\u001b[1G\u001b[?25h\u001b[?2026l\u001b[?2026h\u001b[?25l\u001b[A\u001b[1G\u001b[?25h\u001b[?2026l\u001b[?2026h\u001b[?25l\u001b[A\u001b[1G\u001b[?25h\u001b[?2026l\u001b[?2026h\u001b[?25l\u001b[A\u001b[1G\u001b[?25h\u001b[?2026l\u001b[?2026h\u001b[?25l\u001b[A\u001b[1G\u001b[?25h\u001b[?2026l\u001b[?2026h\u001b[?25l\u001b[A\u001b[1G\u001b[?25h\u001b[?2026l\u001b[?2026h\u001b[?25l\u001b[A\u001b[1G\u001b[?25h\u001b[?2026l\u001b[?2026h\u001b[?25l\u001b[A\u001b[1G\u001b[?25h\u001b[?2026l\u001b[?2026h\u001b[?25l\u001b[A\u001b[1G\u001b[?25h\u001b[?2026l\u001b[?2026h\u001b[?25l\u001b[A\u001b[1G\u001b[?25h\u001b[?2026l\u001b[?2026h\u001b[?25l\u001b[A\u001b[1G\u001b[?25h\u001b[?2026l\u001b[?2026h\u001b[?25l\u001b[A\u001b[1G\u001b[?25h\u001b[?2026l\u001b[?2026h\u001b[?25l\u001b[A\u001b[1G\u001b[?25h\u001b[?2026l\u001b[?2026h\u001b[?25l\u001b[A\u001b[1G\u001b[?25h\u001b[?2026l\u001b[?2026h\u001b[?25l\u001b[A\u001b[1G\u001b[?25h\u001b[?2026l\u001b[?2026h\u001b[?25l\u001b[A\u001b[1G\u001b[?25h\u001b[?2026l\u001b[?2026h\u001b[?25l\u001b[A\u001b[1G\u001b[?25h\u001b[?2026l\u001b[?2026h\u001b[?25l\u001b[A\u001b[1G\u001b[?25h\u001b[?2026l\u001b[?2026h\u001b[?25l\u001b[A\u001b[1G\u001b[?25h\u001b[?2026l\u001b[?2026h\u001b[?25l\u001b[A\u001b[1G\u001b[?25h\u001b[?2026l\u001b[?2026h\u001b[?25l\u001b[A\u001b[1G\u001b[?25h\u001b[?2026l\u001b[?2026h\u001b[?25l\u001b[A\u001b[1G\u001b[?25h\u001b[?2026l\u001b[?2026h\u001b[?25l\u001b[A\u001b[1G\u001b[?25h\u001b[?2026l\u001b[?2026h\u001b[?25l\u001b[A\u001b[1G\u001b[?25h\u001b[?2026l\u001b[?2026h\u001b[?25l\u001b[A\u001b[1G\u001b[?25h\u001b[?2026l\u001b[?2026h\u001b[?25l\u001b[A\u001b[1G\u001b[?25h\u001b[?2026l\u001b[?2026h\u001b[?25l\u001b[A\u001b[1G\u001b[?25h\u001b[?2026l\u001b[?2026h\u001b[?25l\u001b[A\u001b[1G\u001b[?25h\u001b[?2026l\u001b[?2026h\u001b[?25l\u001b[A\u001b[1G\u001b[?25h\u001b[?2026l\u001b[?2026h\u001b[?25l\u001b[A\u001b[1G\u001b[?25h\u001b[?2026l\u001b[?2026h\u001b[?25l\u001b[A\u001b[1G\u001b[?25h\u001b[?2026l\u001b[?2026h\u001b[?25l\u001b[A\u001b[1G\u001b[?25h\u001b[?2026l\u001b[?2026h\u001b[?25l\u001b[A\u001b[1G\u001b[?25h\u001b[?2026l\u001b[?2026h\u001b[?25l\u001b[A\u001b[1G\u001b[?25h\u001b[?2026l\u001b[?2026h\u001b[?25l\u001b[A\u001b[1G\u001b[?25h\u001b[?2026l\u001b[?2026h\u001b[?25l\u001b[A\u001b[1G\u001b[?25h\u001b[?2026l\u001b[?2026h\u001b[?25l\u001b[A\u001b[1G\u001b[?25h\u001b[?2026l\u001b[?2026h\u001b[?25l\u001b[A\u001b[1G\u001b[?25h\u001b[?2026l\u001b[?2026h\u001b[?25l\u001b[A\u001b[1G\u001b[?25h\u001b[?2026l\u001b[?2026h\u001b[?25l\u001b[A\u001b[1G\u001b[?25h\u001b[?2026l\u001b[?2026h\u001b[?25l\u001b[A\u001b[1G\u001b[?25h\u001b[?2026l\u001b[?2026h\u001b[?25l\u001b[A\u001b[1G\u001b[?25h\u001b[?2026l\u001b[?2026h\u001b[?25l\u001b[A\u001b[1G\u001b[?25h\u001b[?2026l\u001b[?2026h\u001b[?25l\u001b[A\u001b[1G\u001b[?25h\u001b[?2026l\u001b[?2026h\u001b[?25l\u001b[A\u001b[1G\u001b[?25h\u001b[?2026l\u001b[?2026h\u001b[?25l\u001b[A\u001b[1G\u001b[?25h\u001b[?2026l\u001b[?2026h\u001b[?25l\u001b[A\u001b[1G\u001b[?25h\u001b[?2026l\u001b[?2026h\u001b[?25l\u001b[A\u001b[1G\u001b[?25h\u001b[?2026l\u001b[?2026h\u001b[?25l\u001b[A\u001b[1G\u001b[?25h\u001b[?2026l\u001b[?2026h\u001b[?25l\u001b[A\u001b[1G\u001b[?25h\u001b[?2026l\u001b[?2026h\u001b[?25l\u001b[A\u001b[1G\u001b[?25h\u001b[?2026l\u001b[?2026h\u001b[?25l\u001b[A\u001b[1G\u001b[?25h\u001b[?2026l\u001b[?2026h\u001b[?25l\u001b[A\u001b[1G\u001b[?25h\u001b[?2026l\u001b[?2026h\u001b[?25l\u001b[A\u001b[1G\u001b[?25h\u001b[?2026l\u001b[?2026h\u001b[?25l\u001b[A\u001b[1G\u001b[?25h\u001b[?2026l\u001b[?2026h\u001b[?25l\u001b[A\u001b[1G\u001b[?25h\u001b[?2026l\u001b[?2026h\u001b[?25l\u001b[A\u001b[1G\u001b[?25h\u001b[?2026l\u001b[?2026h\u001b[?25l\u001b[A\u001b[1G\u001b[?25h\u001b[?2026l\u001b[?2026h\u001b[?25l\u001b[A\u001b[1G\u001b[?25h\u001b[?2026l\u001b[?2026h\u001b[?25l\u001b[A\u001b[1G\u001b[?25h\u001b[?2026l\u001b[?2026h\u001b[?25l\u001b[A\u001b[1G\u001b[?25h\u001b[?2026l\u001b[?2026h\u001b[?25l\u001b[A\u001b[1G\u001b[?25h\u001b[?2026l\u001b[?2026h\u001b[?25l\u001b[A\u001b[1G\u001b[?25h\u001b[?2026l\u001b[?2026h\u001b[?25l\u001b[A\u001b[1G\u001b[?25h\u001b[?2026l\u001b[?2026h\u001b[?25l\u001b[A\u001b[1G\u001b[?25h\u001b[?2026l\u001b[?2026h\u001b[?25l\u001b[A\u001b[1G\u001b[?25h\u001b[?2026l\u001b[?2026h\u001b[?25l\u001b[A\u001b[1G\u001b[?25h\u001b[?2026l\u001b[?2026h\u001b[?25l\u001b[A\u001b[1G\u001b[?25h\u001b[?2026l\u001b[?2026h\u001b[?25l\u001b[A\u001b[1G\u001b[?25h\u001b[?2026l\u001b[?2026h\u001b[?25l\u001b[A\u001b[1G\u001b[?25h\u001b[?2026l\u001b[?2026h\u001b[?25l\u001b[A\u001b[1G\u001b[?25h\u001b[?2026l\u001b[?2026h\u001b[?25l\u001b[A\u001b[1G\u001b[?25h\u001b[?2026l\u001b[?2026h\u001b[?25l\u001b[A\u001b[1G\u001b[?25h\u001b[?2026l\u001b[?2026h\u001b[?25l\u001b[A\u001b[1G\u001b[?25h\u001b[?2026l\u001b[?2026h\u001b[?25l\u001b[A\u001b[1G\u001b[?25h\u001b[?2026l\u001b[?2026h\u001b[?25l\u001b[A\u001b[1G\u001b[?25h\u001b[?2026l\u001b[?2026h\u001b[?25l\u001b[A\u001b[1G\u001b[?25h\u001b[?2026l\u001b[?2026h\u001b[?25l\u001b[A\u001b[1G\u001b[?25h\u001b[?2026l\u001b[?2026h\u001b[?25l\u001b[A\u001b[1G\u001b[?25h\u001b[?2026l\u001b[?2026h\u001b[?25l\u001b[A\u001b[1G\u001b[?25h\u001b[?2026l\u001b[?2026h\u001b[?25l\u001b[A\u001b[1G\u001b[?25h\u001b[?2026l\u001b[?2026h\u001b[?25l\u001b[A\u001b[1G\u001b[?25h\u001b[?2026l\u001b[?2026h\u001b[?25l\u001b[A\u001b[1G\u001b[?25h\u001b[?2026l\u001b[?2026h\u001b[?25l\u001b[A\u001b[1G\u001b[?25h\u001b[?2026l\u001b[?2026h\u001b[?25l\u001b[A\u001b[1G\u001b[?25h\u001b[?2026l\u001b[?2026h\u001b[?25l\u001b[A\u001b[1G\u001b[?25h\u001b[?2026l\u001b[?2026h\u001b[?25l\u001b[A\u001b[1G\u001b[?25h\u001b[?2026l\u001b[?2026h\u001b[?25l\u001b[A\u001b[1G\u001b[?25h\u001b[?2026l\u001b[?2026h\u001b[?25l\u001b[A\u001b[1G\u001b[?25h\u001b[?2026l\u001b[?2026h\u001b[?25l\u001b[A\u001b[1G\u001b[?25h\u001b[?2026l\u001b[?2026h\u001b[?25l\u001b[A\u001b[1G\u001b[?25h\u001b[?2026l\u001b[?2026h\u001b[?25l\u001b[A\u001b[1G\u001b[?25h\u001b[?2026l\u001b[?2026h\u001b[?25l\u001b[A\u001b[1G\u001b[?25h\u001b[?2026l\u001b[?2026h\u001b[?25l\u001b[A\u001b[1G\u001b[?25h\u001b[?2026l\u001b[?2026h\u001b[?25l\u001b[A\u001b[1G\u001b[?25h\u001b[?2026l\u001b[?2026h\u001b[?25l\u001b[A\u001b[1G\u001b[?25h\u001b[?2026l\u001b[?2026h\u001b[?25l\u001b[A\u001b[1G\u001b[?25h\u001b[?2026l\u001b[?2026h\u001b[?25l\u001b[A\u001b[1G\u001b[?25h\u001b[?2026l\u001b[?2026h\u001b[?25l\u001b[A\u001b[1G\u001b[?25h\u001b[?2026l\u001b[?2026h\u001b[?25l\u001b[A\u001b[1G\u001b[?25h\u001b[?2026l\u001b[?2026h\u001b[?25l\u001b[A\u001b[1G\u001b[?25h\u001b[?2026l\u001b[?2026h\u001b[?25l\u001b[A\u001b[1G\u001b[?25h\u001b[?2026l\u001b[?2026h\u001b[?25l\u001b[A\u001b[1G\u001b[?25h\u001b[?2026l\u001b[?2026h\u001b[?25l\u001b[A\u001b[1G\u001b[?25h\u001b[?2026l\u001b[?2026h\u001b[?25l\u001b[A\u001b[1G\u001b[?25h\u001b[?2026l\u001b[?2026h\u001b[?25l\u001b[A\u001b[1G\u001b[?25h\u001b[?2026l\u001b[?2026h\u001b[?25l\u001b[A\u001b[1G\u001b[?25h\u001b[?2026l\u001b[?2026h\u001b[?25l\u001b[A\u001b[1G\u001b[?25h\u001b[?2026l\u001b[?2026h\u001b[?25l\u001b[A\u001b[1G\u001b[?25h\u001b[?2026l\u001b[?2026h\u001b[?25l\u001b[A\u001b[1G\u001b[?25h\u001b[?2026l\u001b[?2026h\u001b[?25l\u001b[A\u001b[1G\u001b[?25h\u001b[?2026l\u001b[?2026h\u001b[?25l\u001b[A\u001b[1G\u001b[?25h\u001b[?2026l\u001b[?2026h\u001b[?25l\u001b[A\u001b[1G\u001b[?25h\u001b[?2026l\u001b[?2026h\u001b[?25l\u001b[A\u001b[1G\u001b[?25h\u001b[?2026l\u001b[?2026h\u001b[?25l\u001b[A\u001b[1G\u001b[?25h\u001b[?2026l\u001b[?2026h\u001b[?25l\u001b[A\u001b[1G\u001b[?25h\u001b[?2026l\u001b[?2026h\u001b[?25l\u001b[A\u001b[1G\u001b[?25h\u001b[?2026l\u001b[?2026h\u001b[?25l\u001b[A\u001b[1G\u001b[?25h\u001b[?2026l\u001b[?2026h\u001b[?25l\u001b[A\u001b[1G\u001b[?25h\u001b[?2026l\u001b[?2026h\u001b[?25l\u001b[A\u001b[1G\u001b[?25h\u001b[?2026l\u001b[?2026h\u001b[?25l\u001b[A\u001b[1G\u001b[?25h\u001b[?2026l\u001b[?2026h\u001b[?25l\u001b[A\u001b[1G\u001b[?25h\u001b[?2026l\u001b[?2026h\u001b[?25l\u001b[A\u001b[1G\u001b[?25h\u001b[?2026l\u001b[?2026h\u001b[?25l\u001b[A\u001b[1G\u001b[?25h\u001b[?2026l\u001b[?2026h\u001b[?25l\u001b[A\u001b[1G\u001b[?25h\u001b[?2026l\u001b[?2026h\u001b[?25l\u001b[A\u001b[1G\u001b[?25h\u001b[?2026l\u001b[?2026h\u001b[?25l\u001b[A\u001b[1G\u001b[?25h\u001b[?2026l\u001b[?2026h\u001b[?25l\u001b[A\u001b[1G\u001b[?25h\u001b[?2026l\u001b[?2026h\u001b[?25l\u001b[A\u001b[1G\u001b[?25h\u001b[?2026l\u001b[?2026h\u001b[?25l\u001b[A\u001b[1G\u001b[?25h\u001b[?2026l\u001b[?2026h\u001b[?25l\u001b[A\u001b[1G\u001b[?25h\u001b[?2026l\u001b[?2026h\u001b[?25l\u001b[A\u001b[1G\u001b[?25h\u001b[?2026l\u001b[?2026h\u001b[?25l\u001b[A\u001b[1G\u001b[?25h\u001b[?2026l\u001b[?2026h\u001b[?25l\u001b[A\u001b[1G\u001b[?25h\u001b[?2026l\u001b[?2026h\u001b[?25l\u001b[A\u001b[1G\u001b[?25h\u001b[?2026l\u001b[?2026h\u001b[?25l\u001b[A\u001b[1G\u001b[?25h\u001b[?2026l\u001b[?2026h\u001b[?25l\u001b[A\u001b[1G\u001b[?25h\u001b[?2026l\u001b[?2026h\u001b[?25l\u001b[A\u001b[1G\u001b[?25h\u001b[?2026l\u001b[?2026h\u001b[?25l\u001b[A\u001b[1G\u001b[?25h\u001b[?2026l\u001b[?2026h\u001b[?25l\u001b[A\u001b[1G\u001b[?25h\u001b[?2026l\u001b[?2026h\u001b[?25l\u001b[A\u001b[1G\u001b[?25h\u001b[?2026l\u001b[?2026h\u001b[?25l\u001b[A\u001b[1G\u001b[?25h\u001b[?2026l\u001b[?2026h\u001b[?25l\u001b[A\u001b[1G\u001b[?25h\u001b[?2026l\u001b[?2026h\u001b[?25l\u001b[A\u001b[1G\u001b[?25h\u001b[?2026l\u001b[?2026h\u001b[?25l\u001b[A\u001b[1G\u001b[?25h\u001b[?2026l\u001b[?2026h\u001b[?25l\u001b[A\u001b[1G\u001b[?25h\u001b[?2026l\u001b[?2026h\u001b[?25l\u001b[A\u001b[1G\u001b[?25h\u001b[?2026l\u001b[?2026h\u001b[?25l\u001b[A\u001b[1G\u001b[?25h\u001b[?2026l\u001b[?2026h\u001b[?25l\u001b[A\u001b[1G\u001b[?25h\u001b[?2026l\u001b[?2026h\u001b[?25l\u001b[A\u001b[1G\u001b[?25h\u001b[?2026l\u001b[?2026h\u001b[?25l\u001b[A\u001b[1G\u001b[?25h\u001b[?2026l\u001b[?2026h\u001b[?25l\u001b[A\u001b[1G\u001b[?25h\u001b[?2026l\u001b[?2026h\u001b[?25l\u001b[A\u001b[1G\u001b[?25h\u001b[?2026l\u001b[?2026h\u001b[?25l\u001b[A\u001b[1G\u001b[?25h\u001b[?2026l\u001b[?2026h\u001b[?25l\u001b[A\u001b[1G\u001b[?25h\u001b[?2026l\u001b[?2026h\u001b[?25l\u001b[A\u001b[1G\u001b[?25h\u001b[?2026l\u001b[?2026h\u001b[?25l\u001b[A\u001b[1G\u001b[?25h\u001b[?2026l\u001b[?2026h\u001b[?25l\u001b[A\u001b[1G\u001b[?25h\u001b[?2026l\u001b[?2026h\u001b[?25l\u001b[A\u001b[1G\u001b[?25h\u001b[?2026l\u001b[?2026h\u001b[?25l\u001b[A\u001b[1G\u001b[?25h\u001b[?2026l\u001b[?2026h\u001b[?25l\u001b[A\u001b[1G\u001b[?25h\u001b[?2026l\u001b[?2026h\u001b[?25l\u001b[A\u001b[1G\u001b[?25h\u001b[?2026l\u001b[?2026h\u001b[?25l\u001b[A\u001b[1G\u001b[?25h\u001b[?2026l\u001b[?2026h\u001b[?25l\u001b[A\u001b[1G\u001b[?25h\u001b[?2026l\u001b[?2026h\u001b[?25l\u001b[A\u001b[1G\u001b[?25h\u001b[?2026l\u001b[?2026h\u001b[?25l\u001b[A\u001b[1G\u001b[?25h\u001b[?2026l\u001b[?2026h\u001b[?25l\u001b[A\u001b[1G\u001b[?25h\u001b[?2026l\u001b[?2026h\u001b[?25l\u001b[A\u001b[1G\u001b[?25h\u001b[?2026l\u001b[?2026h\u001b[?25l\u001b[A\u001b[1G\u001b[?25h\u001b[?2026l\u001b[?2026h\u001b[?25l\u001b[A\u001b[1G\u001b[?25h\u001b[?2026l\u001b[?2026h\u001b[?25l\u001b[A\u001b[1G\u001b[?25h\u001b[?2026l\u001b[?2026h\u001b[?25l\u001b[A\u001b[1G\u001b[?25h\u001b[?2026l\u001b[?2026h\u001b[?25l\u001b[A\u001b[1G\u001b[?25h\u001b[?2026l\u001b[?2026h\u001b[?25l\u001b[A\u001b[1G\u001b[?25h\u001b[?2026l\u001b[?2026h\u001b[?25l\u001b[A\u001b[1G\u001b[?25h\u001b[?2026l\u001b[?2026h\u001b[?25l\u001b[A\u001b[1G\u001b[?25h\u001b[?2026l\u001b[?2026h\u001b[?25l\u001b[A\u001b[1G\u001b[?25h\u001b[?2026l\u001b[?2026h\u001b[?25l\u001b[A\u001b[1G\u001b[?25h\u001b[?2026l\u001b[?2026h\u001b[?25l\u001b[A\u001b[1G\u001b[?25h\u001b[?2026l\u001b[?2026h\u001b[?25l\u001b[A\u001b[1G\u001b[?25h\u001b[?2026l\u001b[?2026h\u001b[?25l\u001b[A\u001b[1G\u001b[?25h\u001b[?2026l\u001b[?2026h\u001b[?25l\u001b[A\u001b[1G\u001b[?25h\u001b[?2026l\u001b[?2026h\u001b[?25l\u001b[A\u001b[1G\u001b[?25h\u001b[?2026l\u001b[?2026h\u001b[?25l\u001b[A\u001b[1G\u001b[?25h\u001b[?2026l\u001b[?2026h\u001b[?25l\u001b[A\u001b[1G\u001b[?25h\u001b[?2026l\u001b[?2026h\u001b[?25l\u001b[A\u001b[1G\u001b[?25h\u001b[?2026l\u001b[?2026h\u001b[?25l\u001b[A\u001b[1G\u001b[?25h\u001b[?2026l\u001b[?2026h\u001b[?25l\u001b[A\u001b[1G\u001b[?25h\u001b[?2026l\u001b[?2026h\u001b[?25l\u001b[A\u001b[1G\u001b[?25h\u001b[?2026l\u001b[?2026h\u001b[?25l\u001b[A\u001b[1G\u001b[?25h\u001b[?2026l\u001b[?2026h\u001b[?25l\u001b[A\u001b[1G\u001b[?25h\u001b[?2026l\u001b[?2026h\u001b[?25l\u001b[A\u001b[1G\u001b[?25h\u001b[?2026l\u001b[?2026h\u001b[?25l\u001b[A\u001b[1G\u001b[?25h\u001b[?2026l\u001b[?2026h\u001b[?25l\u001b[A\u001b[1G\u001b[?25h\u001b[?2026l\u001b[?2026h\u001b[?25l\u001b[A\u001b[1G\u001b[?25h\u001b[?2026l\u001b[?2026h\u001b[?25l\u001b[A\u001b[1G\u001b[?25h\u001b[?2026l\u001b[?2026h\u001b[?25l\u001b[A\u001b[1G\u001b[?25h\u001b[?2026l\u001b[?2026h\u001b[?25l\u001b[A\u001b[1G\u001b[?25h\u001b[?2026l\u001b[?2026h\u001b[?25l\u001b[A\u001b[1G\u001b[?25h\u001b[?2026l\u001b[?2026h\u001b[?25l\u001b[A\u001b[1G\u001b[?25h\u001b[?2026l\u001b[?2026h\u001b[?25l\u001b[A\u001b[1G\u001b[?25h\u001b[?2026l\u001b[?2026h\u001b[?25l\u001b[A\u001b[1G\u001b[?25h\u001b[?2026l\u001b[?2026h\u001b[?25l\u001b[A\u001b[1G\u001b[?25h\u001b[?2026l\u001b[?2026h\u001b[?25l\u001b[A\u001b[1G\u001b[?25h\u001b[?2026l\u001b[?2026h\u001b[?25l\u001b[A\u001b[1G\u001b[?25h\u001b[?2026l\u001b[?2026h\u001b[?25l\u001b[A\u001b[1G\u001b[?25h\u001b[?2026l\u001b[?2026h\u001b[?25l\u001b[A\u001b[1G\u001b[?25h\u001b[?2026l\u001b[?2026h\u001b[?25l\u001b[A\u001b[1G\u001b[?25h\u001b[?2026l\u001b[?2026h\u001b[?25l\u001b[A\u001b[1G\u001b[?25h\u001b[?2026l\u001b[?2026h\u001b[?25l\u001b[A\u001b[1G\u001b[?25h\u001b[?2026l\u001b[?2026h\u001b[?25l\u001b[A\u001b[1G\u001b[?25h\u001b[?2026l\u001b[?2026h\u001b[?25l\u001b[A\u001b[1G\u001b[?25h\u001b[?2026l\u001b[?2026h\u001b[?25l\u001b[A\u001b[1G\u001b[?25h\u001b[?2026l\u001b[?2026h\u001b[?25l\u001b[A\u001b[1G\u001b[?25h\u001b[?2026l\u001b[?2026h\u001b[?25l\u001b[A\u001b[1G\u001b[?25h\u001b[?2026l\u001b[?2026h\u001b[?25l\u001b[A\u001b[1G\u001b[?25h\u001b[?2026l\u001b[?2026h\u001b[?25l\u001b[A\u001b[1G\u001b[?25h\u001b[?2026l\u001b[?2026h\u001b[?25l\u001b[A\u001b[1G\u001b[?25h\u001b[?2026l\u001b[?2026h\u001b[?25l\u001b[A\u001b[1G\u001b[?25h\u001b[?2026l\u001b[?2026h\u001b[?25l\u001b[A\u001b[1G\u001b[?25h\u001b[?2026l\u001b[?2026h\u001b[?25l\u001b[A\u001b[1G\u001b[?25h\u001b[?2026l\u001b[?2026h\u001b[?25l\u001b[A\u001b[1G\u001b[?25h\u001b[?2026l\u001b[?2026h\u001b[?25l\u001b[A\u001b[1G\u001b[?25h\u001b[?2026l\u001b[?2026h\u001b[?25l\u001b[A\u001b[1G\u001b[?25h\u001b[?2026l\u001b[?2026h\u001b[?25l\u001b[A\u001b[1G\u001b[?25h\u001b[?2026l\u001b[?2026h\u001b[?25l\u001b[A\u001b[1G\u001b[?25h\u001b[?2026l\u001b[?2026h\u001b[?25l\u001b[A\u001b[1G\u001b[?25h\u001b[?2026l\u001b[?2026h\u001b[?25l\u001b[A\u001b[1G\u001b[?25h\u001b[?2026l\u001b[?2026h\u001b[?25l\u001b[A\u001b[1G\u001b[?25h\u001b[?2026l\u001b[?2026h\u001b[?25l\u001b[A\u001b[1G\u001b[?25h\u001b[?2026l\u001b[?2026h\u001b[?25l\u001b[A\u001b[1G\u001b[?25h\u001b[?2026l\u001b[?2026h\u001b[?25l\u001b[A\u001b[1G\u001b[?25h\u001b[?2026l\u001b[?2026h\u001b[?25l\u001b[A\u001b[1G\u001b[?25h\u001b[?2026l\u001b[?2026h\u001b[?25l\u001b[A\u001b[1G\u001b[?25h\u001b[?2026l\u001b[?2026h\u001b[?25l\u001b[A\u001b[1G\u001b[?25h\u001b[?2026l\u001b[?2026h\u001b[?25l\u001b[A\u001b[1G\u001b[?25h\u001b[?2026l\u001b[?2026h\u001b[?25l\u001b[A\u001b[1G\u001b[?25h\u001b[?2026l\u001b[?2026h\u001b[?25l\u001b[A\u001b[1G\u001b[?25h\u001b[?2026l\u001b[?2026h\u001b[?25l\u001b[A\u001b[1G\u001b[?25h\u001b[?2026l\u001b[?2026h\u001b[?25l\u001b[A\u001b[1G\u001b[?25h\u001b[?2026l\u001b[?2026h\u001b[?25l\u001b[A\u001b[1G\u001b[?25h\u001b[?2026l\u001b[?2026h\u001b[?25l\u001b[A\u001b[1G\u001b[?25h\u001b[?2026l\u001b[?2026h\u001b[?25l\u001b[A\u001b[1G\u001b[?25h\u001b[?2026l\u001b[?2026h\u001b[?25l\u001b[A\u001b[1G\u001b[?25h\u001b[?2026l\u001b[?2026h\u001b[?25l\u001b[A\u001b[1G\u001b[?25h\u001b[?2026l\u001b[?2026h\u001b[?25l\u001b[A\u001b[1G\u001b[?25h\u001b[?2026l\u001b[?2026h\u001b[?25l\u001b[A\u001b[1G\u001b[?25h\u001b[?2026l\u001b[?2026h\u001b[?25l\u001b[A\u001b[1G\u001b[?25h\u001b[?2026l\u001b[?2026h\u001b[?25l\u001b[A\u001b[1G\u001b[?25h\u001b[?2026l\u001b[?2026h\u001b[?25l\u001b[A\u001b[1G\u001b[?25h\u001b[?2026l\u001b[?2026h\u001b[?25l\u001b[A\u001b[1G\u001b[?25h\u001b[?2026l\u001b[?2026h\u001b[?25l\u001b[A\u001b[1G\u001b[?25h\u001b[?2026l\u001b[?2026h\u001b[?25l\u001b[A\u001b[1G\u001b[?25h\u001b[?2026l\u001b[?2026h\u001b[?25l\u001b[A\u001b[1G\u001b[?25h\u001b[?2026l\u001b[?2026h\u001b[?25l\u001b[A\u001b[1G\u001b[?25h\u001b[?2026l\u001b[?2026h\u001b[?25l\u001b[A\u001b[1G\u001b[?25h\u001b[?2026l\u001b[?2026h\u001b[?25l\u001b[A\u001b[1G\u001b[?25h\u001b[?2026l\u001b[?2026h\u001b[?25l\u001b[A\u001b[1G\u001b[?25h\u001b[?2026l\u001b[?2026h\u001b[?25l\u001b[A\u001b[1G\u001b[?25h\u001b[?2026l\u001b[?2026h\u001b[?25l\u001b[A\u001b[1G\u001b[?25h\u001b[?2026l\u001b[?2026h\u001b[?25l\u001b[A\u001b[1G\u001b[?25h\u001b[?2026l\u001b[?2026h\u001b[?25l\u001b[A\u001b[1G\u001b[?25h\u001b[?2026l\u001b[?2026h\u001b[?25l\u001b[A\u001b[1G\u001b[?25h\u001b[?2026l\u001b[?2026h\u001b[?25l\u001b[A\u001b[1G\u001b[?25h\u001b[?2026l\u001b[?2026h\u001b[?25l\u001b[A\u001b[1G\u001b[?25h\u001b[?2026l\u001b[?2026h\u001b[?25l\u001b[A\u001b[1G\u001b[?25h\u001b[?2026l\u001b[?2026h\u001b[?25l\u001b[A\u001b[1G\u001b[?25h\u001b[?2026l\u001b[?2026h\u001b[?25l\u001b[A\u001b[1G\u001b[?25h\u001b[?2026l\u001b[?2026h\u001b[?25l\u001b[A\u001b[1G\u001b[?25h\u001b[?2026l\u001b[?2026h\u001b[?25l\u001b[A\u001b[1G\u001b[?25h\u001b[?2026l\u001b[?2026h\u001b[?25l\u001b[A\u001b[1G\u001b[?25h\u001b[?2026l\u001b[?2026h\u001b[?25l\u001b[A\u001b[1G\u001b[?25h\u001b[?2026l\u001b[?2026h\u001b[?25l\u001b[A\u001b[1G\u001b[?25h\u001b[?2026l\u001b[?2026h\u001b[?25l\u001b[A\u001b[1G\u001b[?25h\u001b[?2026l\u001b[?2026h\u001b[?25l\u001b[A\u001b[1G\u001b[?25h\u001b[?2026l\u001b[?2026h\u001b[?25l\u001b[A\u001b[1G\u001b[?25h\u001b[?2026l\u001b[?2026h\u001b[?25l\u001b[A\u001b[1G\u001b[?25h\u001b[?2026l\u001b[?2026h\u001b[?25l\u001b[A\u001b[1G\u001b[?25h\u001b[?2026l\u001b[?2026h\u001b[?25l\u001b[A\u001b[1G\u001b[?25h\u001b[?2026l\u001b[?2026h\u001b[?25l\u001b[A\u001b[1G\u001b[?25h\u001b[?2026l\u001b[?2026h\u001b[?25l\u001b[A\u001b[1G\u001b[?25h\u001b[?2026l\u001b[?2026h\u001b[?25l\u001b[A\u001b[1G\u001b[?25h\u001b[?2026l\u001b[?2026h\u001b[?25l\u001b[A\u001b[1G\u001b[?25h\u001b[?2026l\u001b[?2026h\u001b[?25l\u001b[A\u001b[1G\u001b[?25h\u001b[?2026l\u001b[?2026h\u001b[?25l\u001b[A\u001b[1G\u001b[?25h\u001b[?2026l\u001b[?2026h\u001b[?25l\u001b[A\u001b[1G\u001b[?25h\u001b[?2026l\u001b[?2026h\u001b[?25l\u001b[A\u001b[1G\u001b[?25h\u001b[?2026l\u001b[?2026h\u001b[?25l\u001b[A\u001b[1G\u001b[?25h\u001b[?2026l\u001b[?2026h\u001b[?25l\u001b[A\u001b[1G\u001b[?25h\u001b[?2026l\u001b[?2026h\u001b[?25l\u001b[A\u001b[1G\u001b[?25h\u001b[?2026l\u001b[?2026h\u001b[?25l\u001b[A\u001b[1G\u001b[?25h\u001b[?2026l\u001b[?2026h\u001b[?25l\u001b[A\u001b[1G\u001b[?25h\u001b[?2026l\u001b[?2026h\u001b[?25l\u001b[A\u001b[1G\u001b[?25h\u001b[?2026l\u001b[?2026h\u001b[?25l\u001b[A\u001b[1G\u001b[?25h\u001b[?2026l\u001b[?2026h\u001b[?25l\u001b[A\u001b[1G\u001b[?25h\u001b[?2026l\u001b[?2026h\u001b[?25l\u001b[A\u001b[1G\u001b[?25h\u001b[?2026l\u001b[?2026h\u001b[?25l\u001b[A\u001b[1G\u001b[?25h\u001b[?2026l\u001b[?2026h\u001b[?25l\u001b[A\u001b[1G\u001b[?25h\u001b[?2026l\u001b[?2026h\u001b[?25l\u001b[A\u001b[1G\u001b[?25h\u001b[?2026l\u001b[?2026h\u001b[?25l\u001b[A\u001b[1G\u001b[?25h\u001b[?2026l\u001b[?2026h\u001b[?25l\u001b[A\u001b[1G\u001b[?25h\u001b[?2026l\u001b[?2026h\u001b[?25l\u001b[A\u001b[1G\u001b[?25h\u001b[?2026l\u001b[?2026h\u001b[?25l\u001b[A\u001b[1G\u001b[?25h\u001b[?2026l\u001b[?2026h\u001b[?25l\u001b[A\u001b[1G\u001b[?25h\u001b[?2026l\u001b[?2026h\u001b[?25l\u001b[A\u001b[1G\u001b[?25h\u001b[?2026l\u001b[?2026h\u001b[?25l\u001b[A\u001b[1G\u001b[?25h\u001b[?2026l\u001b[?2026h\u001b[?25l\u001b[A\u001b[1G\u001b[?25h\u001b[?2026l\u001b[?2026h\u001b[?25l\u001b[A\u001b[1G\u001b[?25h\u001b[?2026l\u001b[?2026h\u001b[?25l\u001b[A\u001b[1G\u001b[?25h\u001b[?2026l\u001b[?2026h\u001b[?25l\u001b[A\u001b[1G\u001b[?25h\u001b[?2026l\u001b[?2026h\u001b[?25l\u001b[A\u001b[1G\u001b[?25h\u001b[?2026l\u001b[?2026h\u001b[?25l\u001b[A\u001b[1G\u001b[?25h\u001b[?2026l\u001b[?2026h\u001b[?25l\u001b[A\u001b[1G\u001b[?25h\u001b[?2026l\u001b[?2026h\u001b[?25l\u001b[A\u001b[1G\u001b[?25h\u001b[?2026l\u001b[?2026h\u001b[?25l\u001b[A\u001b[1G\u001b[?25h\u001b[?2026l\u001b[?2026h\u001b[?25l\u001b[A\u001b[1G\u001b[?25h\u001b[?2026l\u001b[?2026h\u001b[?25l\u001b[A\u001b[1G\u001b[?25h\u001b[?2026l\u001b[?2026h\u001b[?25l\u001b[A\u001b[1G\u001b[?25h\u001b[?2026l\u001b[?2026h\u001b[?25l\u001b[A\u001b[1G\u001b[?25h\u001b[?2026l\u001b[?2026h\u001b[?25l\u001b[A\u001b[1G\u001b[?25h\u001b[?2026l\u001b[?2026h\u001b[?25l\u001b[A\u001b[1G\u001b[?25h\u001b[?2026l\u001b[?2026h\u001b[?25l\u001b[A\u001b[1G\u001b[?25h\u001b[?2026l\u001b[?2026h\u001b[?25l\u001b[A\u001b[1G\u001b[?25h\u001b[?2026l\u001b[?2026h\u001b[?25l\u001b[A\u001b[1G\u001b[?25h\u001b[?2026l\u001b[?2026h\u001b[?25l\u001b[A\u001b[1G\u001b[?25h\u001b[?2026l\u001b[?2026h\u001b[?25l\u001b[A\u001b[1G\u001b[?25h\u001b[?2026l\u001b[?2026h\u001b[?25l\u001b[A\u001b[1G\u001b[?25h\u001b[?2026l\u001b[?2026h\u001b[?25l\u001b[A\u001b[1G\u001b[?25h\u001b[?2026l\u001b[?2026h\u001b[?25l\u001b[A\u001b[1G\u001b[?25h\u001b[?2026l\u001b[?2026h\u001b[?25l\u001b[A\u001b[1G\u001b[?25h\u001b[?2026l\u001b[?2026h\u001b[?25l\u001b[A\u001b[1G\u001b[?25h\u001b[?2026l\u001b[?2026h\u001b[?25l\u001b[A\u001b[1G\u001b[?25h\u001b[?2026l\u001b[?2026h\u001b[?25l\u001b[A\u001b[1G\u001b[?25h\u001b[?2026l\u001b[?2026h\u001b[?25l\u001b[A\u001b[1G\u001b[?25h\u001b[?2026l\u001b[?2026h\u001b[?25l\u001b[A\u001b[1G\u001b[?25h\u001b[?2026l\u001b[?2026h\u001b[?25l\u001b[A\u001b[1G\u001b[?25h\u001b[?2026l\u001b[?2026h\u001b[?25l\u001b[A\u001b[1G\u001b[?25h\u001b[?2026l\u001b[?2026h\u001b[?25l\u001b[A\u001b[1G\u001b[?25h\u001b[?2026l\u001b[?2026h\u001b[?25l\u001b[A\u001b[1G\u001b[?25h\u001b[?2026l\u001b[?2026h\u001b[?25l\u001b[A\u001b[1G\u001b[?25h\u001b[?2026l\u001b[?2026h\u001b[?25l\u001b[A\u001b[1G\u001b[?25h\u001b[?2026l\u001b[?2026h\u001b[?25l\u001b[A\u001b[1G\u001b[?25h\u001b[?2026l\u001b[?2026h\u001b[?25l\u001b[A\u001b[1G\u001b[?25h\u001b[?2026l\u001b[?2026h\u001b[?25l\u001b[A\u001b[1G\u001b[?25h\u001b[?2026l\u001b[?2026h\u001b[?25l\u001b[A\u001b[1G\u001b[?25h\u001b[?2026l\u001b[?2026h\u001b[?25l\u001b[A\u001b[1G\u001b[?25h\u001b[?2026l\u001b[?2026h\u001b[?25l\u001b[A\u001b[1G\u001b[?25h\u001b[?2026l\u001b[?2026h\u001b[?25l\u001b[A\u001b[1G\u001b[?25h\u001b[?2026l\u001b[?2026h\u001b[?25l\u001b[A\u001b[1G\u001b[?25h\u001b[?2026l\u001b[?2026h\u001b[?25l\u001b[A\u001b[1G\u001b[?25h\u001b[?2026l\u001b[?2026h\u001b[?25l\u001b[A\u001b[1G\u001b[?25h\u001b[?2026l\u001b[?2026h\u001b[?25l\u001b[A\u001b[1G\u001b[?25h\u001b[?2026l\u001b[?2026h\u001b[?25l\u001b[A\u001b[1G\u001b[?25h\u001b[?2026l\u001b[?2026h\u001b[?25l\u001b[A\u001b[1G\u001b[?25h\u001b[?2026l\u001b[?2026h\u001b[?25l\u001b[A\u001b[1G\u001b[?25h\u001b[?2026l\u001b[?2026h\u001b[?25l\u001b[A\u001b[1G\u001b[?25h\u001b[?2026l\u001b[?2026h\u001b[?25l\u001b[A\u001b[1G\u001b[?25h\u001b[?2026l\u001b[?2026h\u001b[?25l\u001b[A\u001b[1G\u001b[?25h\u001b[?2026l\u001b[?2026h\u001b[?25l\u001b[A\u001b[1G\u001b[?25h\u001b[?2026l\u001b[?2026h\u001b[?25l\u001b[A\u001b[1G\u001b[?25h\u001b[?2026l\u001b[?2026h\u001b[?25l\u001b[A\u001b[1G\u001b[?25h\u001b[?2026l\u001b[?2026h\u001b[?25l\u001b[A\u001b[1G\u001b[?25h\u001b[?2026l\u001b[?2026h\u001b[?25l\u001b[A\u001b[1G\u001b[?25h\u001b[?2026l\u001b[?2026h\u001b[?25l\u001b[A\u001b[1G\u001b[?25h\u001b[?2026l\u001b[?2026h\u001b[?25l\u001b[A\u001b[1G\u001b[?25h\u001b[?2026l\u001b[?2026h\u001b[?25l\u001b[A\u001b[1G\u001b[?25h\u001b[?2026l\u001b[?2026h\u001b[?25l\u001b[A\u001b[1G\u001b[?25h\u001b[?2026l\u001b[?2026h\u001b[?25l\u001b[A\u001b[1G\u001b[?25h\u001b[?2026l\u001b[?2026h\u001b[?25l\u001b[A\u001b[1G\u001b[?25h\u001b[?2026l\u001b[?2026h\u001b[?25l\u001b[A\u001b[1G\u001b[?25h\u001b[?2026l\u001b[?2026h\u001b[?25l\u001b[A\u001b[1G\u001b[?25h\u001b[?2026l\u001b[?2026h\u001b[?25l\u001b[A\u001b[1G\u001b[?25h\u001b[?2026l\u001b[?2026h\u001b[?25l\u001b[A\u001b[1G\u001b[?25h\u001b[?2026l\u001b[?2026h\u001b[?25l\u001b[A\u001b[1G\u001b[?25h\u001b[?2026l\u001b[?2026h\u001b[?25l\u001b[A\u001b[1G\u001b[?25h\u001b[?2026l\u001b[?2026h\u001b[?25l\u001b[A\u001b[1G\u001b[?25h\u001b[?2026l\u001b[?2026h\u001b[?25l\u001b[A\u001b[1G\u001b[?25h\u001b[?2026l\u001b[?2026h\u001b[?25l\u001b[A\u001b[1G\u001b[?25h\u001b[?2026l\u001b[?2026h\u001b[?25l\u001b[A\u001b[1G\u001b[?25h\u001b[?2026l\u001b[?2026h\u001b[?25l\u001b[A\u001b[1G\u001b[?25h\u001b[?2026l\u001b[?2026h\u001b[?25l\u001b[A\u001b[1G\u001b[?25h\u001b[?2026l\u001b[?2026h\u001b[?25l\u001b[A\u001b[1G\u001b[?25h\u001b[?2026l\u001b[?2026h\u001b[?25l\u001b[A\u001b[1G\u001b[?25h\u001b[?2026l\u001b[?2026h\u001b[?25l\u001b[A\u001b[1G\u001b[?25h\u001b[?2026l\u001b[?2026h\u001b[?25l\u001b[A\u001b[1G\u001b[?25h\u001b[?2026l\u001b[?2026h\u001b[?25l\u001b[A\u001b[1G\u001b[?25h\u001b[?2026l\u001b[?2026h\u001b[?25l\u001b[A\u001b[1G\u001b[?25h\u001b[?2026l\u001b[?2026h\u001b[?25l\u001b[A\u001b[1G\u001b[?25h\u001b[?2026l\u001b[?2026h\u001b[?25l\u001b[A\u001b[1G\u001b[?25h\u001b[?2026l\u001b[?2026h\u001b[?25l\u001b[A\u001b[1G\u001b[?25h\u001b[?2026l\u001b[?2026h\u001b[?25l\u001b[A\u001b[1G\u001b[?25h\u001b[?2026l\u001b[?2026h\u001b[?25l\u001b[A\u001b[1G\u001b[?25h\u001b[?2026l\u001b[?2026h\u001b[?25l\u001b[A\u001b[1G\u001b[?25h\u001b[?2026l\u001b[?2026h\u001b[?25l\u001b[A\u001b[1G\u001b[?25h\u001b[?2026l\u001b[?2026h\u001b[?25l\u001b[A\u001b[1G\u001b[?25h\u001b[?2026l\u001b[?2026h\u001b[?25l\u001b[A\u001b[1G\u001b[?25h\u001b[?2026l\u001b[?2026h\u001b[?25l\u001b[A\u001b[1G\u001b[?25h\u001b[?2026l\u001b[?2026h\u001b[?25l\u001b[A\u001b[1G\u001b[?25h\u001b[?2026l\u001b[?2026h\u001b[?25l\u001b[A\u001b[1G\u001b[?25h\u001b[?2026l\u001b[?2026h\u001b[?25l\u001b[A\u001b[1G\u001b[?25h\u001b[?2026l\u001b[?2026h\u001b[?25l\u001b[A\u001b[1G\u001b[?25h\u001b[?2026l\u001b[?2026h\u001b[?25l\u001b[A\u001b[1G\u001b[?25h\u001b[?2026l\u001b[?2026h\u001b[?25l\u001b[A\u001b[1G\u001b[?25h\u001b[?2026l\u001b[?2026h\u001b[?25l\u001b[A\u001b[1G\u001b[?25h\u001b[?2026l\u001b[?2026h\u001b[?25l\u001b[A\u001b[1G\u001b[?25h\u001b[?2026l\u001b[?2026h\u001b[?25l\u001b[A\u001b[1G\u001b[?25h\u001b[?2026l\u001b[?2026h\u001b[?25l\u001b[A\u001b[1G\u001b[?25h\u001b[?2026l\u001b[?2026h\u001b[?25l\u001b[A\u001b[1G\u001b[?25h\u001b[?2026l\u001b[?2026h\u001b[?25l\u001b[A\u001b[1G\u001b[?25h\u001b[?2026l\u001b[?2026h\u001b[?25l\u001b[A\u001b[1G\u001b[?25h\u001b[?2026l\u001b[?2026h\u001b[?25l\u001b[A\u001b[1G\u001b[?25h\u001b[?2026l\u001b[?2026h\u001b[?25l\u001b[A\u001b[1G\u001b[?25h\u001b[?2026l\u001b[?2026h\u001b[?25l\u001b[A\u001b[1G\u001b[?25h\u001b[?2026l\u001b[?2026h\u001b[?25l\u001b[A\u001b[1G\u001b[?25h\u001b[?2026l\u001b[?2026h\u001b[?25l\u001b[A\u001b[1G\u001b[?25h\u001b[?2026l\u001b[?2026h\u001b[?25l\u001b[A\u001b[1G\u001b[?25h\u001b[?2026l\u001b[?2026h\u001b[?25l\u001b[A\u001b[1G\u001b[?25h\u001b[?2026l\u001b[?2026h\u001b[?25l\u001b[A\u001b[1G\u001b[?25h\u001b[?2026l\u001b[?2026h\u001b[?25l\u001b[A\u001b[1G\u001b[?25h\u001b[?2026l\u001b[?2026h\u001b[?25l\u001b[A\u001b[1G\u001b[?25h\u001b[?2026l\u001b[?2026h\u001b[?25l\u001b[A\u001b[1G\u001b[?25h\u001b[?2026l\u001b[?2026h\u001b[?25l\u001b[A\u001b[1G\u001b[?25h\u001b[?2026l\u001b[?2026h\u001b[?25l\u001b[A\u001b[1G\u001b[?25h\u001b[?2026l\u001b[?2026h\u001b[?25l\u001b[A\u001b[1G\u001b[?25h\u001b[?2026l\u001b[?2026h\u001b[?25l\u001b[A\u001b[1G\u001b[?25h\u001b[?2026l\u001b[?2026h\u001b[?25l\u001b[A\u001b[1G\u001b[?25h\u001b[?2026l\u001b[?2026h\u001b[?25l\u001b[A\u001b[1G\u001b[?25h\u001b[?2026l\u001b[?2026h\u001b[?25l\u001b[A\u001b[1G\u001b[?25h\u001b[?2026l\u001b[?2026h\u001b[?25l\u001b[A\u001b[1G\u001b[?25h\u001b[?2026l\u001b[?2026h\u001b[?25l\u001b[A\u001b[1G\u001b[?25h\u001b[?2026l\u001b[?2026h\u001b[?25l\u001b[A\u001b[1G\u001b[?25h\u001b[?2026l\u001b[?2026h\u001b[?25l\u001b[A\u001b[1G\u001b[?25h\u001b[?2026l\u001b[?2026h\u001b[?25l\u001b[A\u001b[1G\u001b[?25h\u001b[?2026l\u001b[?2026h\u001b[?25l\u001b[A\u001b[1G\u001b[?25h\u001b[?2026l\u001b[?2026h\u001b[?25l\u001b[A\u001b[1G\u001b[?25h\u001b[?2026l\u001b[?2026h\u001b[?25l\u001b[A\u001b[1G\u001b[?25h\u001b[?2026l\u001b[?2026h\u001b[?25l\u001b[A\u001b[1G\u001b[?25h\u001b[?2026l\u001b[?2026h\u001b[?25l\u001b[A\u001b[1G\u001b[?25h\u001b[?2026l\u001b[?2026h\u001b[?25l\u001b[A\u001b[1G\u001b[?25h\u001b[?2026l\u001b[?2026h\u001b[?25l\u001b[A\u001b[1G\u001b[?25h\u001b[?2026l\u001b[?2026h\u001b[?25l\u001b[A\u001b[1G\u001b[?25h\u001b[?2026l\u001b[?2026h\u001b[?25l\u001b[A\u001b[1G\u001b[?25h\u001b[?2026l\u001b[?2026h\u001b[?25l\u001b[A\u001b[1G\u001b[?25h\u001b[?2026l\u001b[?2026h\u001b[?25l\u001b[A\u001b[1G\u001b[?25h\u001b[?2026l\u001b[?2026h\u001b[?25l\u001b[A\u001b[1G\u001b[?25h\u001b[?2026l\u001b[?2026h\u001b[?25l\u001b[A\u001b[1G\u001b[?25h\u001b[?2026l\u001b[?2026h\u001b[?25l\u001b[A\u001b[1G\u001b[?25h\u001b[?2026l\u001b[?2026h\u001b[?25l\u001b[A\u001b[1G\u001b[?25h\u001b[?2026l\u001b[?2026h\u001b[?25l\u001b[A\u001b[1G\u001b[?25h\u001b[?2026l\u001b[?2026h\u001b[?25l\u001b[A\u001b[1G\u001b[?25h\u001b[?2026l\u001b[?2026h\u001b[?25l\u001b[A\u001b[1G\u001b[?25h\u001b[?2026l\u001b[?2026h\u001b[?25l\u001b[A\u001b[1G\u001b[?25h\u001b[?2026l\u001b[?2026h\u001b[?25l\u001b[A\u001b[1G\u001b[?25h\u001b[?2026l\u001b[?2026h\u001b[?25l\u001b[A\u001b[1G\u001b[?25h\u001b[?2026l\u001b[?2026h\u001b[?25l\u001b[A\u001b[1G\u001b[?25h\u001b[?2026l\u001b[?2026h\u001b[?25l\u001b[A\u001b[1G\u001b[?25h\u001b[?2026l\u001b[?2026h\u001b[?25l\u001b[A\u001b[1G\u001b[?25h\u001b[?2026l\u001b[?2026h\u001b[?25l\u001b[A\u001b[1G\u001b[?25h\u001b[?2026l\u001b[?2026h\u001b[?25l\u001b[A\u001b[1G\u001b[?25h\u001b[?2026l\u001b[?2026h\u001b[?25l\u001b[A\u001b[1G\u001b[?25h\u001b[?2026l\u001b[?2026h\u001b[?25l\u001b[A\u001b[1G\u001b[?25h\u001b[?2026l\u001b[?2026h\u001b[?25l\u001b[A\u001b[1G\u001b[?25h\u001b[?2026l\u001b[?2026h\u001b[?25l\u001b[A\u001b[1G\u001b[?25h\u001b[?2026l\u001b[?2026h\u001b[?25l\u001b[A\u001b[1G\u001b[?25h\u001b[?2026l\u001b[?2026h\u001b[?25l\u001b[A\u001b[1G\u001b[?25h\u001b[?2026l\u001b[?2026h\u001b[?25l\u001b[A\u001b[1G\u001b[?25h\u001b[?2026l\u001b[?2026h\u001b[?25l\u001b[A\u001b[1G\u001b[?25h\u001b[?2026l\u001b[?2026h\u001b[?25l\u001b[A\u001b[1G\u001b[?25h\u001b[?2026l\u001b[?2026h\u001b[?25l\u001b[A\u001b[1G\u001b[?25h\u001b[?2026l\u001b[?2026h\u001b[?25l\u001b[A\u001b[1G\u001b[?25h\u001b[?2026l\u001b[?2026h\u001b[?25l\u001b[A\u001b[A\u001b[1G\u001b[?25h\u001b[?2026l\u001b[?2026h\u001b[?25l\u001b[A\u001b[A\u001b[1G\u001b[?25h\u001b[?2026l\u001b[?2026h\u001b[?25l\u001b[A\u001b[A\u001b[1G\u001b[?25h\u001b[?2026l\u001b[?2026h\u001b[?25l\u001b[A\u001b[A\u001b[1G\u001b[?25h\u001b[?2026l\u001b[?2026h\u001b[?25l\u001b[A\u001b[A\u001b[1G\u001b[?25h\u001b[?2026l\u001b[?2026h\u001b[?25l\u001b[A\u001b[A\u001b[1G\u001b[?25h\u001b[?2026l\u001b[?2026h\u001b[?25l\u001b[A\u001b[A\u001b[1G\u001b[?25h\u001b[?2026l\u001b[?2026h\u001b[?25l\u001b[A\u001b[A\u001b[1G\u001b[?25h\u001b[?2026l\u001b[?2026h\u001b[?25l\u001b[A\u001b[A\u001b[1G\u001b[?25h\u001b[?2026l\u001b[?2026h\u001b[?25l\u001b[A\u001b[A\u001b[1G\u001b[?25h\u001b[?2026l\u001b[?2026h\u001b[?25l\u001b[A\u001b[A\u001b[1G\u001b[?25h\u001b[?2026l\u001b[?2026h\u001b[?25l\u001b[A\u001b[A\u001b[1G\u001b[?25h\u001b[?2026l\u001b[?2026h\u001b[?25l\u001b[A\u001b[A\u001b[1G\u001b[?25h\u001b[?2026l\u001b[?2026h\u001b[?25l\u001b[A\u001b[A\u001b[1G\u001b[?25h\u001b[?2026l\u001b[?2026h\u001b[?25l\u001b[A\u001b[A\u001b[1G\u001b[?25h\u001b[?2026l\u001b[?2026h\u001b[?25l\u001b[A\u001b[A\u001b[1G\u001b[?25h\u001b[?2026l\u001b[?2026h\u001b[?25l\u001b[A\u001b[A\u001b[1G\u001b[?25h\u001b[?2026l\u001b[?2026h\u001b[?25l\u001b[A\u001b[A\u001b[1G\u001b[?25h\u001b[?2026l\u001b[?2026h\u001b[?25l\u001b[A\u001b[A\u001b[1G\u001b[?25h\u001b[?2026l\u001b[?2026h\u001b[?25l\u001b[A\u001b[A\u001b[1G\u001b[?25h\u001b[?2026l\u001b[?2026h\u001b[?25l\u001b[A\u001b[A\u001b[1G\u001b[?25h\u001b[?2026l\u001b[?2026h\u001b[?25l\u001b[A\u001b[A\u001b[1G\u001b[?25h\u001b[?2026l\u001b[?2026h\u001b[?25l\u001b[A\u001b[A\u001b[1G\u001b[?25h\u001b[?2026l\u001b[?2026h\u001b[?25l\u001b[A\u001b[A\u001b[A\u001b[1G\u001b[?25h\u001b[?2026l\u001b[?2026h\u001b[?25l\u001b[A\u001b[A\u001b[A\u001b[1G\u001b[?25h\u001b[?2026l\u001b[?2026h\u001b[?25l\u001b[A\u001b[A\u001b[A\u001b[1G\u001b[?25h\u001b[?2026l\u001b[?2026h\u001b[?25l\u001b[A\u001b[A\u001b[A\u001b[1G\u001b[?25h\u001b[?2026l\u001b[?2026h\u001b[?25l\u001b[A\u001b[A\u001b[A\u001b[1G\u001b[?25h\u001b[?2026l\u001b[?2026h\u001b[?25l\u001b[A\u001b[A\u001b[A\u001b[1G\u001b[?25h\u001b[?2026l\u001b[?2026h\u001b[?25l\u001b[A\u001b[A\u001b[A\u001b[1G\u001b[?25h\u001b[?2026l\u001b[?2026h\u001b[?25l\u001b[A\u001b[A\u001b[A\u001b[1G\u001b[?25h\u001b[?2026l\u001b[?2026h\u001b[?25l\u001b[A\u001b[A\u001b[A\u001b[1G\u001b[?25h\u001b[?2026l\u001b[?2026h\u001b[?25l\u001b[A\u001b[A\u001b[A\u001b[1G\u001b[?25h\u001b[?2026l\u001b[?2026h\u001b[?25l\u001b[A\u001b[A\u001b[A\u001b[1G\u001b[?25h\u001b[?2026l\u001b[?2026h\u001b[?25l\u001b[A\u001b[A\u001b[A\u001b[1G\u001b[?25h\u001b[?2026l\u001b[?2026h\u001b[?25l\u001b[A\u001b[A\u001b[A\u001b[1G\u001b[?25h\u001b[?2026l\u001b[?2026h\u001b[?25l\u001b[A\u001b[A\u001b[A\u001b[1G\u001b[?25h\u001b[?2026l\u001b[?2026h\u001b[?25l\u001b[A\u001b[A\u001b[A\u001b[1G\u001b[?25h\u001b[?2026l\u001b[?2026h\u001b[?25l\u001b[A\u001b[A\u001b[A\u001b[A\u001b[1G\u001b[?25h\u001b[?2026l\u001b[?2026h\u001b[?25l\u001b[A\u001b[A\u001b[A\u001b[A\u001b[1G\u001b[?25h\u001b[?2026l\u001b[?2026h\u001b[?25l\u001b[A\u001b[A\u001b[A\u001b[A\u001b[1G\u001b[?25h\u001b[?2026l\u001b[?2026h\u001b[?25l\u001b[A\u001b[A\u001b[A\u001b[A\u001b[1G\u001b[?25h\u001b[?2026l\u001b[?2026h\u001b[?25l\u001b[A\u001b[A\u001b[A\u001b[A\u001b[1G\u001b[?25h\u001b[?2026l\u001b[?2026h\u001b[?25l\u001b[A\u001b[A\u001b[A\u001b[A\u001b[1G\u001b[?25h\u001b[?2026l\u001b[?2026h\u001b[?25l\u001b[A\u001b[A\u001b[A\u001b[A\u001b[1G\u001b[?25h\u001b[?2026l\u001b[?2026h\u001b[?25l\u001b[A\u001b[A\u001b[A\u001b[A\u001b[1G\u001b[?25h\u001b[?2026l\u001b[?2026h\u001b[?25l\u001b[A\u001b[A\u001b[A\u001b[A\u001b[1G\u001b[?25h\u001b[?2026l\u001b[?2026h\u001b[?25l\u001b[A\u001b[A\u001b[A\u001b[A\u001b[1G\u001b[?25h\u001b[?2026l\u001b[?2026h\u001b[?25l\u001b[A\u001b[A\u001b[A\u001b[A\u001b[1G\u001b[?25h\u001b[?2026l\u001b[?2026h\u001b[?25l\u001b[A\u001b[A\u001b[A\u001b[A\u001b[1G\u001b[?25h\u001b[?2026l\u001b[?2026h\u001b[?25l\u001b[A\u001b[A\u001b[A\u001b[A\u001b[1G\u001b[?25h\u001b[?2026l\u001b[?2026h\u001b[?25l\u001b[A\u001b[A\u001b[A\u001b[A\u001b[1G\u001b[?25h\u001b[?2026l\u001b[?2026h\u001b[?25l\u001b[A\u001b[A\u001b[A\u001b[A\u001b[1G\u001b[?25h\u001b[?2026l\u001b[?2026h\u001b[?25l\u001b[A\u001b[A\u001b[A\u001b[A\u001b[1G\u001b[?25h\u001b[?2026l\u001b[?2026h\u001b[?25l\u001b[A\u001b[A\u001b[A\u001b[A\u001b[A\u001b[1G\u001b[?25h\u001b[?2026l\u001b[?2026h\u001b[?25l\u001b[A\u001b[A\u001b[A\u001b[A\u001b[A\u001b[1G\u001b[?25h\u001b[?2026l\u001b[?2026h\u001b[?25l\u001b[A\u001b[A\u001b[A\u001b[A\u001b[A\u001b[1G\u001b[?25h\u001b[?2026l\u001b[?2026h\u001b[?25l\u001b[A\u001b[A\u001b[A\u001b[A\u001b[A\u001b[1G\u001b[?25h\u001b[?2026l\u001b[?2026h\u001b[?25l\u001b[A\u001b[A\u001b[A\u001b[A\u001b[A\u001b[1G\u001b[?25h\u001b[?2026l\u001b[?2026h\u001b[?25l\u001b[A\u001b[A\u001b[A\u001b[A\u001b[A\u001b[1G\u001b[?25h\u001b[?2026l\u001b[?2026h\u001b[?25l\u001b[A\u001b[A\u001b[A\u001b[A\u001b[A\u001b[1G\u001b[?25h\u001b[?2026l\u001b[?2026h\u001b[?25l\u001b[A\u001b[A\u001b[A\u001b[A\u001b[A\u001b[A\u001b[1G\u001b[?25h\u001b[?2026l\u001b[?2026h\u001b[?25l\u001b[A\u001b[A\u001b[A\u001b[A\u001b[A\u001b[A\u001b[1G\u001b[?25h\u001b[?2026l\u001b[?2026h\u001b[?25l\u001b[A\u001b[A\u001b[A\u001b[A\u001b[A\u001b[A\u001b[1G\u001b[?25h\u001b[?2026l\u001b[?2026h\u001b[?25l\u001b[A\u001b[A\u001b[A\u001b[A\u001b[A\u001b[A\u001b[1G\u001b[?25h\u001b[?2026l\u001b[?2026h\u001b[?25l\u001b[A\u001b[A\u001b[A\u001b[A\u001b[A\u001b[A\u001b[1G\u001b[?25h\u001b[?2026l\u001b[?2026h\u001b[?25l\u001b[A\u001b[A\u001b[A\u001b[A\u001b[A\u001b[A\u001b[1G\u001b[?25h\u001b[?2026l\u001b[?2026h\u001b[?25l\u001b[A\u001b[A\u001b[A\u001b[A\u001b[A\u001b[A\u001b[1G\u001b[?25h\u001b[?2026l\u001b[?2026h\u001b[?25l\u001b[A\u001b[A\u001b[A\u001b[A\u001b[A\u001b[A\u001b[1G\u001b[?25h\u001b[?2026l\u001b[?2026h\u001b[?25l\u001b[A\u001b[A\u001b[A\u001b[A\u001b[A\u001b[A\u001b[1G\u001b[?25h\u001b[?2026l\u001b[?2026h\u001b[?25l\u001b[A\u001b[A\u001b[A\u001b[A\u001b[A\u001b[A\u001b[1G\u001b[?25h\u001b[?2026l\u001b[?2026h\u001b[?25l\u001b[A\u001b[A\u001b[A\u001b[A\u001b[A\u001b[A\u001b[1G\u001b[?25h\u001b[?2026l\u001b[?2026h\u001b[?25l\u001b[A\u001b[A\u001b[A\u001b[A\u001b[A\u001b[A\u001b[1G\u001b[?25h\u001b[?2026l\u001b[?2026h\u001b[?25l\u001b[A\u001b[A\u001b[A\u001b[A\u001b[A\u001b[A\u001b[1G\u001b[?25h\u001b[?2026l\u001b[?2026h\u001b[?25l\u001b[A\u001b[A\u001b[A\u001b[A\u001b[A\u001b[A\u001b[1G\u001b[?25h\u001b[?2026l\u001b[?2026h\u001b[?25l\u001b[A\u001b[A\u001b[A\u001b[A\u001b[A\u001b[A\u001b[1G\u001b[?25h\u001b[?2026l\u001b[?2026h\u001b[?25l\u001b[A\u001b[A\u001b[A\u001b[A\u001b[A\u001b[A\u001b[1G\u001b[?25h\u001b[?2026l\u001b[?2026h\u001b[?25l\u001b[A\u001b[A\u001b[A\u001b[A\u001b[A\u001b[A\u001b[1G\u001b[?25h\u001b[?2026l\u001b[?2026h\u001b[?25l\u001b[A\u001b[A\u001b[A\u001b[A\u001b[A\u001b[A\u001b[1G\u001b[?25h\u001b[?2026l\u001b[?2026h\u001b[?25l\u001b[A\u001b[A\u001b[A\u001b[A\u001b[A\u001b[A\u001b[1G\u001b[?25h\u001b[?2026l\u001b[?2026h\u001b[?25l\u001b[A\u001b[A\u001b[A\u001b[A\u001b[A\u001b[A\u001b[1G\u001b[?25h\u001b[?2026l\u001b[?2026h\u001b[?25l\u001b[A\u001b[A\u001b[A\u001b[A\u001b[A\u001b[A\u001b[1G\u001b[?25h\u001b[?2026l\u001b[?2026h\u001b[?25l\u001b[A\u001b[A\u001b[A\u001b[A\u001b[A\u001b[A\u001b[1G\u001b[?25h\u001b[?2026l\u001b[?2026h\u001b[?25l\u001b[A\u001b[A\u001b[A\u001b[A\u001b[A\u001b[A\u001b[1G\u001b[?25h\u001b[?2026l\u001b[?2026h\u001b[?25l\u001b[A\u001b[A\u001b[A\u001b[A\u001b[A\u001b[A\u001b[1G\u001b[?25h\u001b[?2026l\u001b[?2026h\u001b[?25l\u001b[A\u001b[A\u001b[A\u001b[A\u001b[A\u001b[A\u001b[1G\u001b[?25h\u001b[?2026l\u001b[?2026h\u001b[?25l\u001b[A\u001b[A\u001b[A\u001b[A\u001b[A\u001b[A\u001b[1G\u001b[?25h\u001b[?2026l\u001b[?2026h\u001b[?25l\u001b[A\u001b[A\u001b[A\u001b[A\u001b[A\u001b[A\u001b[1G\u001b[?25h\u001b[?2026l\u001b[?2026h\u001b[?25l\u001b[A\u001b[A\u001b[A\u001b[A\u001b[A\u001b[A\u001b[1G\u001b[?25h\u001b[?2026l\u001b[?2026h\u001b[?25l\u001b[A\u001b[A\u001b[A\u001b[A\u001b[A\u001b[A\u001b[1G\u001b[?25h\u001b[?2026l\u001b[?2026h\u001b[?25l\u001b[A\u001b[A\u001b[A\u001b[A\u001b[A\u001b[A\u001b[1G\u001b[?25h\u001b[?2026l\u001b[?2026h\u001b[?25l\u001b[A\u001b[A\u001b[A\u001b[A\u001b[A\u001b[A\u001b[1G\u001b[?25h\u001b[?2026l\u001b[?2026h\u001b[?25l\u001b[A\u001b[A\u001b[A\u001b[A\u001b[A\u001b[A\u001b[1G\u001b[?25h\u001b[?2026l\u001b[?2026h\u001b[?25l\u001b[A\u001b[A\u001b[A\u001b[A\u001b[A\u001b[A\u001b[1G\u001b[?25h\u001b[?2026l\u001b[?2026h\u001b[?25l\u001b[A\u001b[A\u001b[A\u001b[A\u001b[A\u001b[A\u001b[1G\u001b[?25h\u001b[?2026l\u001b[?2026h\u001b[?25l\u001b[A\u001b[A\u001b[A\u001b[A\u001b[A\u001b[A\u001b[1G\u001b[?25h\u001b[?2026l\u001b[?2026h\u001b[?25l\u001b[A\u001b[A\u001b[A\u001b[A\u001b[A\u001b[A\u001b[1G\u001b[?25h\u001b[?2026l\u001b[?2026h\u001b[?25l\u001b[A\u001b[A\u001b[A\u001b[A\u001b[A\u001b[A\u001b[1G\u001b[?25h\u001b[?2026l\u001b[?2026h\u001b[?25l\u001b[A\u001b[A\u001b[A\u001b[A\u001b[A\u001b[A\u001b[1G\u001b[?25h\u001b[?2026l\u001b[?2026h\u001b[?25l\u001b[A\u001b[A\u001b[A\u001b[A\u001b[A\u001b[A\u001b[1G\u001b[?25h\u001b[?2026l\u001b[?2026h\u001b[?25l\u001b[A\u001b[A\u001b[A\u001b[A\u001b[A\u001b[A\u001b[1G\u001b[?25h\u001b[?2026l\u001b[?2026h\u001b[?25l\u001b[A\u001b[A\u001b[A\u001b[A\u001b[A\u001b[A\u001b[1G\u001b[?25h\u001b[?2026l\u001b[?2026h\u001b[?25l\u001b[A\u001b[A\u001b[A\u001b[A\u001b[A\u001b[A\u001b[1G\u001b[?25h\u001b[?2026l\u001b[?2026h\u001b[?25l\u001b[A\u001b[A\u001b[A\u001b[A\u001b[A\u001b[A\u001b[1G\u001b[?25h\u001b[?2026l\u001b[?2026h\u001b[?25l\u001b[A\u001b[A\u001b[A\u001b[A\u001b[A\u001b[A\u001b[1G\u001b[?25h\u001b[?2026l\u001b[?2026h\u001b[?25l\u001b[A\u001b[A\u001b[A\u001b[A\u001b[A\u001b[A\u001b[1G\u001b[?25h\u001b[?2026l\u001b[?2026h\u001b[?25l\u001b[A\u001b[A\u001b[A\u001b[A\u001b[A\u001b[A\u001b[1G\u001b[?25h\u001b[?2026l\u001b[?2026h\u001b[?25l\u001b[A\u001b[A\u001b[A\u001b[A\u001b[A\u001b[A\u001b[1G\u001b[?25h\u001b[?2026l\u001b[?2026h\u001b[?25l\u001b[A\u001b[A\u001b[A\u001b[A\u001b[A\u001b[A\u001b[1G\u001b[?25h\u001b[?2026l\u001b[?2026h\u001b[?25l\u001b[A\u001b[A\u001b[A\u001b[A\u001b[A\u001b[A\u001b[1G\u001b[?25h\u001b[?2026l\u001b[?2026h\u001b[?25l\u001b[A\u001b[A\u001b[A\u001b[A\u001b[A\u001b[A\u001b[1G\u001b[?25h\u001b[?2026l\u001b[?2026h\u001b[?25l\u001b[A\u001b[A\u001b[A\u001b[A\u001b[A\u001b[A\u001b[1G\u001b[?25h\u001b[?2026l\u001b[?2026h\u001b[?25l\u001b[A\u001b[A\u001b[A\u001b[A\u001b[A\u001b[A\u001b[1G\u001b[?25h\u001b[?2026l\u001b[?2026h\u001b[?25l\u001b[A\u001b[A\u001b[A\u001b[A\u001b[A\u001b[A\u001b[1G\u001b[?25h\u001b[?2026l\u001b[?2026h\u001b[?25l\u001b[A\u001b[A\u001b[A\u001b[A\u001b[A\u001b[A\u001b[1G\u001b[?25h\u001b[?2026l\u001b[?2026h\u001b[?25l\u001b[A\u001b[A\u001b[A\u001b[A\u001b[A\u001b[A\u001b[1G\u001b[?25h\u001b[?2026l\u001b[?2026h\u001b[?25l\u001b[A\u001b[A\u001b[A\u001b[A\u001b[A\u001b[A\u001b[1G\u001b[?25h\u001b[?2026l\u001b[?2026h\u001b[?25l\u001b[A\u001b[A\u001b[A\u001b[A\u001b[A\u001b[A\u001b[1G\u001b[?25h\u001b[?2026l\u001b[?2026h\u001b[?25l\u001b[A\u001b[A\u001b[A\u001b[A\u001b[A\u001b[A\u001b[1G\u001b[?25h\u001b[?2026l\u001b[?2026h\u001b[?25l\u001b[A\u001b[A\u001b[A\u001b[A\u001b[A\u001b[A\u001b[1G\u001b[?25h\u001b[?2026l\u001b[?2026h\u001b[?25l\u001b[A\u001b[A\u001b[A\u001b[A\u001b[A\u001b[A\u001b[1G\u001b[?25h\u001b[?2026l\u001b[?2026h\u001b[?25l\u001b[A\u001b[A\u001b[A\u001b[A\u001b[A\u001b[A\u001b[1G\u001b[?25h\u001b[?2026l\u001b[?2026h\u001b[?25l\u001b[A\u001b[A\u001b[A\u001b[A\u001b[A\u001b[A\u001b[1G\u001b[?25h\u001b[?2026l\u001b[?2026h\u001b[?25l\u001b[A\u001b[A\u001b[A\u001b[A\u001b[A\u001b[A\u001b[1G\u001b[?25h\u001b[?2026l\u001b[?2026h\u001b[?25l\u001b[A\u001b[A\u001b[A\u001b[A\u001b[A\u001b[A\u001b[1G\u001b[?25h\u001b[?2026l\u001b[?2026h\u001b[?25l\u001b[A\u001b[A\u001b[A\u001b[A\u001b[A\u001b[A\u001b[1G\u001b[?25h\u001b[?2026l\u001b[?2026h\u001b[?25l\u001b[A\u001b[A\u001b[A\u001b[A\u001b[A\u001b[A\u001b[1G\u001b[?25h\u001b[?2026l\u001b[?2026h\u001b[?25l\u001b[A\u001b[A\u001b[A\u001b[A\u001b[A\u001b[A\u001b[1G\u001b[?25h\u001b[?2026l\u001b[?2026h\u001b[?25l\u001b[A\u001b[A\u001b[A\u001b[A\u001b[A\u001b[A\u001b[1G\u001b[?25h\u001b[?2026l\u001b[?2026h\u001b[?25l\u001b[A\u001b[A\u001b[A\u001b[A\u001b[A\u001b[A\u001b[1G\u001b[?25h\u001b[?2026l\u001b[?2026h\u001b[?25l\u001b[A\u001b[A\u001b[A\u001b[A\u001b[A\u001b[A\u001b[1G\u001b[?25h\u001b[?2026l\n"
          ]
        }
      ],
      "source": [
        "!curl -fsSL https://ollama.com/install.sh | sh\n",
        "!ollama serve > server.log 2>&1 &\n",
        "!ollama pull qwen3-embedding:8b\n",
        "!ollama pull qwen3-embedding:4b\n",
        "!ollama pull qwen3:8b\n",
        "!ollama pull qwen2.5:3b"
      ]
    },
    {
      "cell_type": "code",
      "source": [
        "!ollama --version"
      ],
      "metadata": {
        "colab": {
          "base_uri": "https://localhost:8080/"
        },
        "id": "gXLXC2cKS7WV",
        "outputId": "7540d121-a559-4927-d930-04ab7c0d2813"
      },
      "execution_count": null,
      "outputs": [
        {
          "output_type": "stream",
          "name": "stdout",
          "text": [
            "ollama version is 0.12.3\n"
          ]
        }
      ]
    },
    {
      "cell_type": "code",
      "source": [
        "!ollama list"
      ],
      "metadata": {
        "colab": {
          "base_uri": "https://localhost:8080/"
        },
        "id": "mFipC2cAUaR7",
        "outputId": "79aa8114-e609-463c-9fb1-ca0e2e240557"
      },
      "execution_count": null,
      "outputs": [
        {
          "output_type": "stream",
          "name": "stdout",
          "text": [
            "NAME                  ID              SIZE      MODIFIED      \n",
            "qwen2.5:3b            357c53fb659c    1.9 GB    3 minutes ago    \n",
            "qwen3:8b              500a1f067a9f    5.2 GB    3 minutes ago    \n",
            "qwen3-embedding:4b    df5bd2e3c74c    2.5 GB    3 minutes ago    \n",
            "qwen2.5:7b            845dbda0ea48    4.7 GB    2 hours ago      \n",
            "qwen3-embedding:8b    64b933495768    4.7 GB    2 hours ago      \n"
          ]
        }
      ]
    },
    {
      "cell_type": "markdown",
      "source": [
        "#### Install all required pip libraries for RAG\n",
        "<b>including LangChain, ChromaDB, FAISS (with gpu support), and RAGAS for evaluation.</b>"
      ],
      "metadata": {
        "id": "SYitKUNGw_fX"
      }
    },
    {
      "cell_type": "code",
      "source": [
        "!pip install -q numpy\n",
        "!pip install -q protobuf\n",
        "!pip install -q chromadb\n",
        "!pip install -q onnx\n",
        "!pip install -q onnxruntime onnxruntime-gpu\n",
        "!pip install -q rapidocr-onnxruntime\n",
        "!pip install -q transformers accelerate datasets evaluate rouge_score\n",
        "!pip install -q sentence-transformers\n",
        "!pip install -q pytesseract\n",
        "!pip install -U -q pydantic ollama\n",
        "!pip install -U -q nltk\n",
        "!pip install -U -q langchain langchain-core langchain-community\n",
        "!pip install -U -q langchain-chroma langchain-ollama langchain-huggingface langchainhub langserve langsmith\n",
        "!pip install -U -q langchain-unstructured unstructured-client unstructured \"unstructured[all-docs]\" python-magic pydantic lxml pypdf pymupdf\n",
        "!pip install -U -q ragas"
      ],
      "metadata": {
        "id": "JQ4Ghkt3RtfM",
        "colab": {
          "base_uri": "https://localhost:8080/"
        },
        "outputId": "b8592515-14c1-4ff4-f8c4-49101bff2d36"
      },
      "execution_count": null,
      "outputs": [
        {
          "output_type": "stream",
          "name": "stdout",
          "text": [
            "\u001b[?25l     \u001b[90m━━━━━━━━━━━━━━━━━━━━━━━━━━━━━━━━━━━━━━━━\u001b[0m \u001b[32m0.0/67.3 kB\u001b[0m \u001b[31m?\u001b[0m eta \u001b[36m-:--:--\u001b[0m\r\u001b[2K     \u001b[90m━━━━━━━━━━━━━━━━━━━━━━━━━━━━━━━━━━━━━━━━\u001b[0m \u001b[32m67.3/67.3 kB\u001b[0m \u001b[31m3.5 MB/s\u001b[0m eta \u001b[36m0:00:00\u001b[0m\n",
            "\u001b[?25h  Installing build dependencies ... \u001b[?25l\u001b[?25hdone\n",
            "  Getting requirements to build wheel ... \u001b[?25l\u001b[?25hdone\n",
            "  Preparing metadata (pyproject.toml) ... \u001b[?25l\u001b[?25hdone\n",
            "\u001b[2K   \u001b[90m━━━━━━━━━━━━━━━━━━━━━━━━━━━━━━━━━━━━━━━━\u001b[0m \u001b[32m19.9/19.9 MB\u001b[0m \u001b[31m78.8 MB/s\u001b[0m eta \u001b[36m0:00:00\u001b[0m\n",
            "\u001b[2K   \u001b[90m━━━━━━━━━━━━━━━━━━━━━━━━━━━━━━━━━━━━━━━━\u001b[0m \u001b[32m278.2/278.2 kB\u001b[0m \u001b[31m24.8 MB/s\u001b[0m eta \u001b[36m0:00:00\u001b[0m\n",
            "\u001b[2K   \u001b[90m━━━━━━━━━━━━━━━━━━━━━━━━━━━━━━━━━━━━━━━━\u001b[0m \u001b[32m2.0/2.0 MB\u001b[0m \u001b[31m82.4 MB/s\u001b[0m eta \u001b[36m0:00:00\u001b[0m\n",
            "\u001b[2K   \u001b[90m━━━━━━━━━━━━━━━━━━━━━━━━━━━━━━━━━━━━━━━━\u001b[0m \u001b[32m103.3/103.3 kB\u001b[0m \u001b[31m9.8 MB/s\u001b[0m eta \u001b[36m0:00:00\u001b[0m\n",
            "\u001b[2K   \u001b[90m━━━━━━━━━━━━━━━━━━━━━━━━━━━━━━━━━━━━━━━━\u001b[0m \u001b[32m17.3/17.3 MB\u001b[0m \u001b[31m88.9 MB/s\u001b[0m eta \u001b[36m0:00:00\u001b[0m\n",
            "\u001b[2K   \u001b[90m━━━━━━━━━━━━━━━━━━━━━━━━━━━━━━━━━━━━━━━━\u001b[0m \u001b[32m105.4/105.4 kB\u001b[0m \u001b[31m9.9 MB/s\u001b[0m eta \u001b[36m0:00:00\u001b[0m\n",
            "\u001b[2K   \u001b[90m━━━━━━━━━━━━━━━━━━━━━━━━━━━━━━━━━━━━━━━━\u001b[0m \u001b[32m71.6/71.6 kB\u001b[0m \u001b[31m6.7 MB/s\u001b[0m eta \u001b[36m0:00:00\u001b[0m\n",
            "\u001b[2K   \u001b[90m━━━━━━━━━━━━━━━━━━━━━━━━━━━━━━━━━━━━━━━━\u001b[0m \u001b[32m510.8/510.8 kB\u001b[0m \u001b[31m38.9 MB/s\u001b[0m eta \u001b[36m0:00:00\u001b[0m\n",
            "\u001b[2K   \u001b[90m━━━━━━━━━━━━━━━━━━━━━━━━━━━━━━━━━━━━━━━━\u001b[0m \u001b[32m128.4/128.4 kB\u001b[0m \u001b[31m10.6 MB/s\u001b[0m eta \u001b[36m0:00:00\u001b[0m\n",
            "\u001b[2K   \u001b[90m━━━━━━━━━━━━━━━━━━━━━━━━━━━━━━━━━━━━━━━━\u001b[0m \u001b[32m4.7/4.7 MB\u001b[0m \u001b[31m87.6 MB/s\u001b[0m eta \u001b[36m0:00:00\u001b[0m\n",
            "\u001b[2K   \u001b[90m━━━━━━━━━━━━━━━━━━━━━━━━━━━━━━━━━━━━━━━━\u001b[0m \u001b[32m452.2/452.2 kB\u001b[0m \u001b[31m36.9 MB/s\u001b[0m eta \u001b[36m0:00:00\u001b[0m\n",
            "\u001b[2K   \u001b[90m━━━━━━━━━━━━━━━━━━━━━━━━━━━━━━━━━━━━━━━━\u001b[0m \u001b[32m46.0/46.0 kB\u001b[0m \u001b[31m4.0 MB/s\u001b[0m eta \u001b[36m0:00:00\u001b[0m\n",
            "\u001b[2K   \u001b[90m━━━━━━━━━━━━━━━━━━━━━━━━━━━━━━━━━━━━━━━━\u001b[0m \u001b[32m86.8/86.8 kB\u001b[0m \u001b[31m7.6 MB/s\u001b[0m eta \u001b[36m0:00:00\u001b[0m\n",
            "\u001b[?25h  Building wheel for pypika (pyproject.toml) ... \u001b[?25l\u001b[?25hdone\n",
            "\u001b[2K   \u001b[90m━━━━━━━━━━━━━━━━━━━━━━━━━━━━━━━━━━━━━━━━\u001b[0m \u001b[32m18.2/18.2 MB\u001b[0m \u001b[31m120.7 MB/s\u001b[0m eta \u001b[36m0:00:00\u001b[0m\n",
            "\u001b[2K   \u001b[90m━━━━━━━━━━━━━━━━━━━━━━━━━━━━━━━━━━━━━━━━\u001b[0m \u001b[32m300.5/300.5 MB\u001b[0m \u001b[31m1.4 MB/s\u001b[0m eta \u001b[36m0:00:00\u001b[0m\n",
            "\u001b[2K   \u001b[90m━━━━━━━━━━━━━━━━━━━━━━━━━━━━━━━━━━━━━━━━\u001b[0m \u001b[32m14.9/14.9 MB\u001b[0m \u001b[31m132.2 MB/s\u001b[0m eta \u001b[36m0:00:00\u001b[0m\n",
            "\u001b[2K   \u001b[90m━━━━━━━━━━━━━━━━━━━━━━━━━━━━━━━━━━━━━━━━\u001b[0m \u001b[32m963.8/963.8 kB\u001b[0m \u001b[31m64.9 MB/s\u001b[0m eta \u001b[36m0:00:00\u001b[0m\n",
            "\u001b[?25h  Preparing metadata (setup.py) ... \u001b[?25l\u001b[?25hdone\n",
            "\u001b[2K   \u001b[90m━━━━━━━━━━━━━━━━━━━━━━━━━━━━━━━━━━━━━━━━\u001b[0m \u001b[32m84.1/84.1 kB\u001b[0m \u001b[31m4.5 MB/s\u001b[0m eta \u001b[36m0:00:00\u001b[0m\n",
            "\u001b[?25h  Building wheel for rouge_score (setup.py) ... \u001b[?25l\u001b[?25hdone\n",
            "\u001b[2K     \u001b[90m━━━━━━━━━━━━━━━━━━━━━━━━━━━━━━━━━━━━━━━━\u001b[0m \u001b[32m68.6/68.6 kB\u001b[0m \u001b[31m3.2 MB/s\u001b[0m eta \u001b[36m0:00:00\u001b[0m\n",
            "\u001b[2K   \u001b[90m━━━━━━━━━━━━━━━━━━━━━━━━━━━━━━━━━━━━━━━━\u001b[0m \u001b[32m444.8/444.8 kB\u001b[0m \u001b[31m20.4 MB/s\u001b[0m eta \u001b[36m0:00:00\u001b[0m\n",
            "\u001b[2K   \u001b[90m━━━━━━━━━━━━━━━━━━━━━━━━━━━━━━━━━━━━━━━━\u001b[0m \u001b[32m1.5/1.5 MB\u001b[0m \u001b[31m30.2 MB/s\u001b[0m eta \u001b[36m0:00:00\u001b[0m\n",
            "\u001b[2K   \u001b[90m━━━━━━━━━━━━━━━━━━━━━━━━━━━━━━━━━━━━━━━━\u001b[0m \u001b[32m449.6/449.6 kB\u001b[0m \u001b[31m16.5 MB/s\u001b[0m eta \u001b[36m0:00:00\u001b[0m\n",
            "\u001b[2K   \u001b[90m━━━━━━━━━━━━━━━━━━━━━━━━━━━━━━━━━━━━━━━━\u001b[0m \u001b[32m2.5/2.5 MB\u001b[0m \u001b[31m93.1 MB/s\u001b[0m eta \u001b[36m0:00:00\u001b[0m\n",
            "\u001b[2K   \u001b[90m━━━━━━━━━━━━━━━━━━━━━━━━━━━━━━━━━━━━━━━━\u001b[0m \u001b[32m64.7/64.7 kB\u001b[0m \u001b[31m6.4 MB/s\u001b[0m eta \u001b[36m0:00:00\u001b[0m\n",
            "\u001b[2K   \u001b[90m━━━━━━━━━━━━━━━━━━━━━━━━━━━━━━━━━━━━━━━━\u001b[0m \u001b[32m50.9/50.9 kB\u001b[0m \u001b[31m4.8 MB/s\u001b[0m eta \u001b[36m0:00:00\u001b[0m\n",
            "\u001b[?25h\u001b[31mERROR: pip's dependency resolver does not currently take into account all the packages that are installed. This behaviour is the source of the following dependency conflicts.\n",
            "google-colab 1.0.0 requires requests==2.32.4, but you have requests 2.32.5 which is incompatible.\u001b[0m\u001b[31m\n",
            "\u001b[2K     \u001b[90m━━━━━━━━━━━━━━━━━━━━━━━━━━━━━━━━━━━━━━━━\u001b[0m \u001b[32m40.3/40.3 kB\u001b[0m \u001b[31m3.6 MB/s\u001b[0m eta \u001b[36m0:00:00\u001b[0m\n",
            "\u001b[2K   \u001b[90m━━━━━━━━━━━━━━━━━━━━━━━━━━━━━━━━━━━━━━━━\u001b[0m \u001b[32m1.2/1.2 MB\u001b[0m \u001b[31m30.5 MB/s\u001b[0m eta \u001b[36m0:00:00\u001b[0m\n",
            "\u001b[2K   \u001b[90m━━━━━━━━━━━━━━━━━━━━━━━━━━━━━━━━━━━━━━━━\u001b[0m \u001b[32m386.4/386.4 kB\u001b[0m \u001b[31m33.5 MB/s\u001b[0m eta \u001b[36m0:00:00\u001b[0m\n",
            "\u001b[2K   \u001b[90m━━━━━━━━━━━━━━━━━━━━━━━━━━━━━━━━━━━━━━━━\u001b[0m \u001b[32m65.5/65.5 kB\u001b[0m \u001b[31m6.9 MB/s\u001b[0m eta \u001b[36m0:00:00\u001b[0m\n",
            "\u001b[2K     \u001b[90m━━━━━━━━━━━━━━━━━━━━━━━━━━━━━━━━━━━━━━\u001b[0m \u001b[32m981.5/981.5 kB\u001b[0m \u001b[31m30.6 MB/s\u001b[0m eta \u001b[36m0:00:00\u001b[0m\n",
            "\u001b[?25h  Preparing metadata (setup.py) ... \u001b[?25l\u001b[?25hdone\n",
            "\u001b[2K     \u001b[90m━━━━━━━━━━━━━━━━━━━━━━━━━━━━━━━━━━━━━━━━\u001b[0m \u001b[32m48.5/48.5 kB\u001b[0m \u001b[31m4.8 MB/s\u001b[0m eta \u001b[36m0:00:00\u001b[0m\n",
            "\u001b[2K   \u001b[90m━━━━━━━━━━━━━━━━━━━━━━━━━━━━━━━━━━━━━━━━\u001b[0m \u001b[32m207.8/207.8 kB\u001b[0m \u001b[31m18.9 MB/s\u001b[0m eta \u001b[36m0:00:00\u001b[0m\n",
            "\u001b[2K   \u001b[90m━━━━━━━━━━━━━━━━━━━━━━━━━━━━━━━━━━━━━━━━\u001b[0m \u001b[32m1.8/1.8 MB\u001b[0m \u001b[31m82.0 MB/s\u001b[0m eta \u001b[36m0:00:00\u001b[0m\n",
            "\u001b[2K   \u001b[90m━━━━━━━━━━━━━━━━━━━━━━━━━━━━━━━━━━━━━━━━\u001b[0m \u001b[32m5.3/5.3 MB\u001b[0m \u001b[31m131.5 MB/s\u001b[0m eta \u001b[36m0:00:00\u001b[0m\n",
            "\u001b[2K   \u001b[90m━━━━━━━━━━━━━━━━━━━━━━━━━━━━━━━━━━━━━━━━\u001b[0m \u001b[32m323.5/323.5 kB\u001b[0m \u001b[31m22.9 MB/s\u001b[0m eta \u001b[36m0:00:00\u001b[0m\n",
            "\u001b[2K   \u001b[90m━━━━━━━━━━━━━━━━━━━━━━━━━━━━━━━━━━━━━━━━\u001b[0m \u001b[32m24.1/24.1 MB\u001b[0m \u001b[31m102.6 MB/s\u001b[0m eta \u001b[36m0:00:00\u001b[0m\n",
            "\u001b[2K   \u001b[90m━━━━━━━━━━━━━━━━━━━━━━━━━━━━━━━━━━━━━━━━\u001b[0m \u001b[32m13.2/13.2 MB\u001b[0m \u001b[31m109.3 MB/s\u001b[0m eta \u001b[36m0:00:00\u001b[0m\n",
            "\u001b[2K   \u001b[90m━━━━━━━━━━━━━━━━━━━━━━━━━━━━━━━━━━━━━━━━\u001b[0m \u001b[32m253.0/253.0 kB\u001b[0m \u001b[31m23.4 MB/s\u001b[0m eta \u001b[36m0:00:00\u001b[0m\n",
            "\u001b[2K   \u001b[90m━━━━━━━━━━━━━━━━━━━━━━━━━━━━━━━━━━━━━━━━\u001b[0m \u001b[32m472.8/472.8 kB\u001b[0m \u001b[31m39.9 MB/s\u001b[0m eta \u001b[36m0:00:00\u001b[0m\n",
            "\u001b[2K   \u001b[90m━━━━━━━━━━━━━━━━━━━━━━━━━━━━━━━━━━━━━━━━\u001b[0m \u001b[32m48.1/48.1 kB\u001b[0m \u001b[31m4.7 MB/s\u001b[0m eta \u001b[36m0:00:00\u001b[0m\n",
            "\u001b[2K   \u001b[90m━━━━━━━━━━━━━━━━━━━━━━━━━━━━━━━━━━━━━━━━\u001b[0m \u001b[32m112.5/112.5 kB\u001b[0m \u001b[31m11.7 MB/s\u001b[0m eta \u001b[36m0:00:00\u001b[0m\n",
            "\u001b[2K   \u001b[90m━━━━━━━━━━━━━━━━━━━━━━━━━━━━━━━━━━━━━━━━\u001b[0m \u001b[32m608.4/608.4 kB\u001b[0m \u001b[31m48.8 MB/s\u001b[0m eta \u001b[36m0:00:00\u001b[0m\n",
            "\u001b[2K   \u001b[90m━━━━━━━━━━━━━━━━━━━━━━━━━━━━━━━━━━━━━━━━\u001b[0m \u001b[32m527.9/527.9 kB\u001b[0m \u001b[31m44.8 MB/s\u001b[0m eta \u001b[36m0:00:00\u001b[0m\n",
            "\u001b[2K   \u001b[90m━━━━━━━━━━━━━━━━━━━━━━━━━━━━━━━━━━━━━━━━\u001b[0m \u001b[32m48.7/48.7 kB\u001b[0m \u001b[31m4.6 MB/s\u001b[0m eta \u001b[36m0:00:00\u001b[0m\n",
            "\u001b[2K   \u001b[90m━━━━━━━━━━━━━━━━━━━━━━━━━━━━━━━━━━━━━━━━\u001b[0m \u001b[32m5.6/5.6 MB\u001b[0m \u001b[31m133.6 MB/s\u001b[0m eta \u001b[36m0:00:00\u001b[0m\n",
            "\u001b[2K   \u001b[90m━━━━━━━━━━━━━━━━━━━━━━━━━━━━━━━━━━━━━━━━\u001b[0m \u001b[32m1.4/1.4 MB\u001b[0m \u001b[31m81.8 MB/s\u001b[0m eta \u001b[36m0:00:00\u001b[0m\n",
            "\u001b[2K   \u001b[90m━━━━━━━━━━━━━━━━━━━━━━━━━━━━━━━━━━━━━━━━\u001b[0m \u001b[32m2.6/2.6 MB\u001b[0m \u001b[31m97.1 MB/s\u001b[0m eta \u001b[36m0:00:00\u001b[0m\n",
            "\u001b[2K   \u001b[90m━━━━━━━━━━━━━━━━━━━━━━━━━━━━━━━━━━━━━━━━\u001b[0m \u001b[32m167.6/167.6 kB\u001b[0m \u001b[31m16.1 MB/s\u001b[0m eta \u001b[36m0:00:00\u001b[0m\n",
            "\u001b[2K   \u001b[90m━━━━━━━━━━━━━━━━━━━━━━━━━━━━━━━━━━━━━━━━\u001b[0m \u001b[32m3.2/3.2 MB\u001b[0m \u001b[31m115.3 MB/s\u001b[0m eta \u001b[36m0:00:00\u001b[0m\n",
            "\u001b[2K   \u001b[90m━━━━━━━━━━━━━━━━━━━━━━━━━━━━━━━━━━━━━━━━\u001b[0m \u001b[32m114.6/114.6 kB\u001b[0m \u001b[31m11.5 MB/s\u001b[0m eta \u001b[36m0:00:00\u001b[0m\n",
            "\u001b[2K   \u001b[90m━━━━━━━━━━━━━━━━━━━━━━━━━━━━━━━━━━━━━━━━\u001b[0m \u001b[32m175.3/175.3 kB\u001b[0m \u001b[31m17.9 MB/s\u001b[0m eta \u001b[36m0:00:00\u001b[0m\n",
            "\u001b[2K   \u001b[90m━━━━━━━━━━━━━━━━━━━━━━━━━━━━━━━━━━━━━━━━\u001b[0m \u001b[32m2.8/2.8 MB\u001b[0m \u001b[31m103.5 MB/s\u001b[0m eta \u001b[36m0:00:00\u001b[0m\n",
            "\u001b[?25h  Building wheel for langdetect (setup.py) ... \u001b[?25l\u001b[?25hdone\n",
            "\u001b[2K   \u001b[90m━━━━━━━━━━━━━━━━━━━━━━━━━━━━━━━━━━━━━━━━\u001b[0m \u001b[32m303.6/303.6 kB\u001b[0m \u001b[31m10.3 MB/s\u001b[0m eta \u001b[36m0:00:00\u001b[0m\n",
            "\u001b[2K   \u001b[90m━━━━━━━━━━━━━━━━━━━━━━━━━━━━━━━━━━━━━━━━\u001b[0m \u001b[32m45.5/45.5 kB\u001b[0m \u001b[31m4.3 MB/s\u001b[0m eta \u001b[36m0:00:00\u001b[0m\n",
            "\u001b[2K   \u001b[90m━━━━━━━━━━━━━━━━━━━━━━━━━━━━━━━━━━━━━━━━\u001b[0m \u001b[32m155.5/155.5 kB\u001b[0m \u001b[31m14.9 MB/s\u001b[0m eta \u001b[36m0:00:00\u001b[0m\n",
            "\u001b[2K   \u001b[90m━━━━━━━━━━━━━━━━━━━━━━━━━━━━━━━━━━━━━━━━\u001b[0m \u001b[32m76.0/76.0 kB\u001b[0m \u001b[31m7.5 MB/s\u001b[0m eta \u001b[36m0:00:00\u001b[0m\n",
            "\u001b[2K   \u001b[90m━━━━━━━━━━━━━━━━━━━━━━━━━━━━━━━━━━━━━━━━\u001b[0m \u001b[32m8.0/8.0 MB\u001b[0m \u001b[31m99.7 MB/s\u001b[0m eta \u001b[36m0:00:00\u001b[0m\n",
            "\u001b[2K   \u001b[90m━━━━━━━━━━━━━━━━━━━━━━━━━━━━━━━━━━━━━━━━\u001b[0m \u001b[32m352.0/352.0 kB\u001b[0m \u001b[31m28.2 MB/s\u001b[0m eta \u001b[36m0:00:00\u001b[0m\n",
            "\u001b[?25h"
          ]
        }
      ]
    },
    {
      "cell_type": "code",
      "source": [
        "!pip install -q opencv-python==4.10.0.84 opencv-python-headless==4.10.0.84 opencv-contrib-python==4.10.0.84\n",
        "!pip install -q numpy==1.26.4 faiss-gpu-cu12"
      ],
      "metadata": {
        "id": "5le_0SlIrgnw",
        "colab": {
          "base_uri": "https://localhost:8080/"
        },
        "outputId": "248eb938-f32f-44d0-d0d5-9f6d0ca8199e"
      },
      "execution_count": null,
      "outputs": [
        {
          "output_type": "stream",
          "name": "stdout",
          "text": [
            "\u001b[2K   \u001b[90m━━━━━━━━━━━━━━━━━━━━━━━━━━━━━━━━━━━━━━━━\u001b[0m \u001b[32m62.5/62.5 MB\u001b[0m \u001b[31m10.4 MB/s\u001b[0m eta \u001b[36m0:00:00\u001b[0m\n",
            "\u001b[2K   \u001b[90m━━━━━━━━━━━━━━━━━━━━━━━━━━━━━━━━━━━━━━━━\u001b[0m \u001b[32m49.9/49.9 MB\u001b[0m \u001b[31m11.3 MB/s\u001b[0m eta \u001b[36m0:00:00\u001b[0m\n",
            "\u001b[2K   \u001b[90m━━━━━━━━━━━━━━━━━━━━━━━━━━━━━━━━━━━━━━━━\u001b[0m \u001b[32m68.7/68.7 MB\u001b[0m \u001b[31m9.4 MB/s\u001b[0m eta \u001b[36m0:00:00\u001b[0m\n",
            "\u001b[2K     \u001b[90m━━━━━━━━━━━━━━━━━━━━━━━━━━━━━━━━━━━━━━━━\u001b[0m \u001b[32m61.0/61.0 kB\u001b[0m \u001b[31m3.4 MB/s\u001b[0m eta \u001b[36m0:00:00\u001b[0m\n",
            "\u001b[2K   \u001b[90m━━━━━━━━━━━━━━━━━━━━━━━━━━━━━━━━━━━━━━━━\u001b[0m \u001b[32m18.0/18.0 MB\u001b[0m \u001b[31m117.2 MB/s\u001b[0m eta \u001b[36m0:00:00\u001b[0m\n",
            "\u001b[2K   \u001b[90m━━━━━━━━━━━━━━━━━━━━━━━━━━━━━━━━━━━━━━━━\u001b[0m \u001b[32m48.1/48.1 MB\u001b[0m \u001b[31m18.9 MB/s\u001b[0m eta \u001b[36m0:00:00\u001b[0m\n",
            "\u001b[?25h\u001b[31mERROR: pip's dependency resolver does not currently take into account all the packages that are installed. This behaviour is the source of the following dependency conflicts.\n",
            "thinc 8.3.6 requires numpy<3.0.0,>=2.0.0, but you have numpy 1.26.4 which is incompatible.\u001b[0m\u001b[31m\n",
            "\u001b[0m"
          ]
        }
      ]
    },
    {
      "cell_type": "code",
      "source": [
        "# Please restart the runtime in order to take changes, otherwise PDFLoader will throw numpy error"
      ],
      "metadata": {
        "id": "vwhQ7LC61-zJ"
      },
      "execution_count": null,
      "outputs": []
    },
    {
      "cell_type": "markdown",
      "source": [
        "### Table of Contents\n",
        "1. Data Preprocessing\n",
        "2. Retrieval Strategy\n",
        "3. Model Selection\n",
        "4. Evaluation Dataset Creation\n",
        "5. Evaluation\n",
        "6. Recommendation"
      ],
      "metadata": {
        "id": "ABFk5aQNuEDQ"
      }
    },
    {
      "cell_type": "markdown",
      "source": [
        "### 1. Data Preprocessing\n",
        "Here we are preparing the required libraries and load the PDF with `UnstructuredPDFLoader`"
      ],
      "metadata": {
        "id": "zV-hCx4buR-G"
      }
    },
    {
      "cell_type": "markdown",
      "source": [
        "<b>Import the required libraries</b><br>\n",
        "- Langchain: main library/tools for RAG\n",
        "- Chroma: for storing vector databases that generated from Embeddings\n",
        "- RecursiveCharacterSplitter: use the recursive text splitter for splitting documents\n",
        "- UnstructurdPDFLoader: for loading unstructured documents like PDFs.\n",
        "- ChatOllama: use open-source Ollama for Chat LLMs.\n",
        "- Ollama Embeddings: use open-source Ollama for Embeddings.\n",
        "- ChatPromptTemplate and PromptTemplate: template for inserting the prompts.\n",
        "- StrOutputParser: string output parsers.\n",
        "- RunnablePassthrough: runnable for passing the question inputs from the user.\n",
        "- MultiQueryRetriever: the main Retrieval method that we want to use."
      ],
      "metadata": {
        "id": "Tj9acHMkuWMx"
      }
    },
    {
      "cell_type": "code",
      "source": [
        "from langchain_core.messages import (\n",
        "    AIMessage,\n",
        "    HumanMessage,\n",
        "    SystemMessage\n",
        ")\n",
        "from langchain_text_splitters import RecursiveCharacterTextSplitter\n",
        "from langchain_community.document_loaders import UnstructuredPDFLoader\n",
        "from langchain_community.document_loaders import PyPDFLoader\n",
        "from langchain_community.vectorstores import FAISS\n",
        "\n",
        "from langchain_chroma import Chroma\n",
        "from langchain_community.chat_models import ChatOllama\n",
        "from langchain_community.embeddings import OllamaEmbeddings\n",
        "from langchain.prompts import ChatPromptTemplate, PromptTemplate\n",
        "from langchain_core.output_parsers import StrOutputParser\n",
        "from langchain_core.runnables import RunnablePassthrough\n",
        "from langchain.retrievers.multi_query import MultiQueryRetriever"
      ],
      "metadata": {
        "id": "LIwnOvvCRVMr"
      },
      "execution_count": null,
      "outputs": []
    },
    {
      "cell_type": "markdown",
      "source": [
        "<b>Load the document</b><br>\n",
        "Let's load the paper"
      ],
      "metadata": {
        "id": "aJzOh_cgvwaR"
      }
    },
    {
      "cell_type": "code",
      "source": [
        "loader = UnstructuredPDFLoader('./1.Jurnal_MBG_keracunan.pdf')\n",
        "data = loader.load()"
      ],
      "metadata": {
        "id": "qbZsP_hhXq-4"
      },
      "execution_count": null,
      "outputs": []
    },
    {
      "cell_type": "markdown",
      "source": [
        "MBG Paper source: https://ojs.ruangpublikasi.com/index.php/jpim/article/view/534"
      ],
      "metadata": {
        "id": "X_15rvE0BEdN"
      }
    },
    {
      "cell_type": "markdown",
      "source": [
        "Display head of paper"
      ],
      "metadata": {
        "id": "xNDkc10Bv2SJ"
      }
    },
    {
      "cell_type": "code",
      "source": [
        "print(data[0].page_content[:1000])"
      ],
      "metadata": {
        "colab": {
          "base_uri": "https://localhost:8080/"
        },
        "id": "z_8zdD44YP0U",
        "outputId": "cfa53c2c-0013-4cce-8a24-5ed3d2053947"
      },
      "execution_count": null,
      "outputs": [
        {
          "output_type": "stream",
          "name": "stdout",
          "text": [
            "JPIM: Jurnal Penelitian Ilmiah Multidisipliner Vol. 01, No. 04, Tahun 2025, Hal. 1329-1342, ISSN: 3089-0128 (Online)\n",
            "\n",
            "Keracunan Program Makan Siang Bergizi Gratis dalam Tinjauan Hukum Kemasyarkatan dan Aspek Negara Berkembang\n",
            "\n",
            "Kelvin Felix Vivano Emmanulle1, Radhitya Adji Saputra2, Anta Sena Pratama Yuda Wicaksono3, Dhyavant Pramasthya Wicaksana4, Ubaidillah Kamal5\n",
            "\n",
            "1,2,3,4,5 Universitas Negeri Semarang\n",
            "\n",
            "Email : kelvinvivano@students.unnes.ac.id1, radhitya271@students.unnes.ac.id2 antasenapratama04@students.unnes.ac.id3, ggdq6771@students.unnes.ac.id4 ubaidillahkamal@mail.unnes.ac.id5\n",
            "\n",
            "Article Info Article history: Received July 05, 2025 Revised July 15, 2025 Accepted July 25, 2025\n",
            "\n",
            "Keywords: Legal protection, Free lunch program, Public participation\n",
            "\n",
            "ABSTRACT This study examines the legal protection of free lunch programs from the perspective of community law in Indonesia. The aim is to analyze legal basis, monitoring mechanisms, public participation, and implementation challenges to \n"
          ]
        }
      ]
    },
    {
      "cell_type": "markdown",
      "source": [
        "<b>Splitting document</b>"
      ],
      "metadata": {
        "id": "VTlHWkXuv_3K"
      }
    },
    {
      "cell_type": "markdown",
      "source": [
        "For Splitting documents, there is two known method from Langchain:\n",
        "- `CharacterTextSplitter`: This is a simpler method that splits the text based on a specified character, such as spaces or newlines.\n",
        "- `RecursiveCharacterTextSplitter`: This method is more advanced and versatile. It attempts to split the text using a series of separators in a hierarchical or recursive manner. For example, it might first try to split the text at paragraph breaks (\\n\\n), and if the resulting chunks are too large, it then tries to split by single newlines (\\n), and if necessary, by spaces, and finally by individual characters."
      ],
      "metadata": {
        "id": "6JB8azN0v-i9"
      }
    },
    {
      "cell_type": "code",
      "source": [
        "# Split and chunk\n",
        "text_splitter = RecursiveCharacterTextSplitter(chunk_size=1000, chunk_overlap=200)\n",
        "chunks = text_splitter.split_documents(data)"
      ],
      "metadata": {
        "id": "VrcWlVMAYbFq"
      },
      "execution_count": null,
      "outputs": []
    },
    {
      "cell_type": "markdown",
      "source": [
        "<b>Preview document chunks</b>"
      ],
      "metadata": {
        "id": "PaVxVI-mwghH"
      }
    },
    {
      "cell_type": "code",
      "source": [
        "# preview chunks\n",
        "for item in chunks:\n",
        "  print(item)\n",
        "  break"
      ],
      "metadata": {
        "colab": {
          "base_uri": "https://localhost:8080/"
        },
        "id": "WxpV0hrVZo4E",
        "outputId": "c6e5d83e-af0a-470a-faa4-d9038b25b299"
      },
      "execution_count": null,
      "outputs": [
        {
          "output_type": "stream",
          "name": "stdout",
          "text": [
            "page_content='JPIM: Jurnal Penelitian Ilmiah Multidisipliner Vol. 01, No. 04, Tahun 2025, Hal. 1329-1342, ISSN: 3089-0128 (Online)\n",
            "\n",
            "Keracunan Program Makan Siang Bergizi Gratis dalam Tinjauan Hukum Kemasyarkatan dan Aspek Negara Berkembang\n",
            "\n",
            "Kelvin Felix Vivano Emmanulle1, Radhitya Adji Saputra2, Anta Sena Pratama Yuda Wicaksono3, Dhyavant Pramasthya Wicaksana4, Ubaidillah Kamal5\n",
            "\n",
            "1,2,3,4,5 Universitas Negeri Semarang\n",
            "\n",
            "Email : kelvinvivano@students.unnes.ac.id1, radhitya271@students.unnes.ac.id2 antasenapratama04@students.unnes.ac.id3, ggdq6771@students.unnes.ac.id4 ubaidillahkamal@mail.unnes.ac.id5\n",
            "\n",
            "Article Info Article history: Received July 05, 2025 Revised July 15, 2025 Accepted July 25, 2025\n",
            "\n",
            "Keywords: Legal protection, Free lunch program, Public participation' metadata={'source': './1.Jurnal_MBG_keracunan.pdf'}\n"
          ]
        }
      ]
    },
    {
      "cell_type": "code",
      "source": [
        "chunks[1]"
      ],
      "metadata": {
        "colab": {
          "base_uri": "https://localhost:8080/"
        },
        "id": "qMDlS462hHS6",
        "outputId": "1de433df-6a96-49da-c45d-9f3181d0f161"
      },
      "execution_count": null,
      "outputs": [
        {
          "output_type": "execute_result",
          "data": {
            "text/plain": [
              "Document(metadata={'source': './1.Jurnal_MBG_keracunan.pdf'}, page_content='ABSTRACT This study examines the legal protection of free lunch programs from the perspective of community law in Indonesia. The aim is to analyze legal basis, monitoring mechanisms, public participation, and implementation challenges to ensure the program operates with accountability, transparency, and fairness. The method employed is a literature review and qualitative analysis of regulations, oversight reports, and case studies related to the implementation of free lunch programs in primary schools. The findings indicate that the program requires a strong legal foundation aligned with Articles 28C and 28H of the 1945 Constitution, which guarantee the right to food and social security. The absence of binding legal instruments creates opportunities for abuses, including corruption in procurement and limited public involvement in program planning. Legal protection must be strengthened through procurement transparency, public oversight, and ensuring the safety and health of')"
            ]
          },
          "metadata": {},
          "execution_count": 11
        }
      ]
    },
    {
      "cell_type": "markdown",
      "source": [
        "### 2. Retrieval Strategy\n",
        "For Retrieval Strategy: here we will be using Dense Retrieval (Embedding Vectors) and `MultiQueryRetriever`, it can send multiple queries at one time and one prompt.<br>\n",
        "<br>\n",
        "At first, we test the `OllamaEmbeddings` inference with `qwen3-embedding:8b`"
      ],
      "metadata": {
        "id": "JWPHaPXNwHrH"
      }
    },
    {
      "cell_type": "code",
      "source": [
        "import ollama\n",
        "\n",
        "def get_embedding(text: str):\n",
        "    try:\n",
        "        response = ollama.embeddings(\n",
        "            model=\"qwen3-embedding:8b\",\n",
        "            prompt=text\n",
        "        )\n",
        "        return response['embedding']\n",
        "    except Exception as e:\n",
        "        print(f\"Terjadi kesalahan: {e}\")\n",
        "        return None"
      ],
      "metadata": {
        "id": "3AYXLMhiaabx"
      },
      "execution_count": null,
      "outputs": []
    },
    {
      "cell_type": "code",
      "source": [
        "sentence = \"Ollama memudahkan untuk menjalankan LLM secara lokal.\"\n",
        "embedding = get_embedding(sentence)"
      ],
      "metadata": {
        "id": "bWP805w7ad6Y"
      },
      "execution_count": null,
      "outputs": []
    },
    {
      "cell_type": "code",
      "source": [
        "if embedding:\n",
        "    print(f\"Embedding untuk: '{sentence}'\")\n",
        "    # Cetak beberapa dimensi pertama untuk singkatnya\n",
        "    print(f\"5 dimensi pertama: {embedding[:5]}\")\n",
        "    print(f\"Total dimensi: {len(embedding)}\")"
      ],
      "metadata": {
        "colab": {
          "base_uri": "https://localhost:8080/"
        },
        "id": "0ZhbZXaBaiD7",
        "outputId": "53016fcc-6c16-4aeb-f589-29ed66986115"
      },
      "execution_count": null,
      "outputs": [
        {
          "output_type": "stream",
          "name": "stdout",
          "text": [
            "Embedding untuk: 'Ollama memudahkan untuk menjalankan LLM secara lokal.'\n",
            "5 dimensi pertama: [0.01519235409796238, -0.0031913125421851873, 0.000517558422870934, -0.02944565750658512, 0.03546567261219025]\n",
            "Total dimensi: 4096\n"
          ]
        }
      ]
    },
    {
      "cell_type": "markdown",
      "source": [
        "<b>Adding Vector Databases to ChromaDB</b><br>\n",
        "We will using `OllamaEmbeddings` with model: `qwen3-embedding:8b`<br>(open-source Embedding model that has achieved state-of-the-art performance across a wide range of downstream application evaluations. The 8B size embedding model ranks No.1 in the MTEB multilingual leaderboard (as of June 5, 2025, score 70.58) and supports 100+ languages. <a href=\"https://ollama.com/library/qwen3-embedding\">[source]</a>)\n",
        "<br><br>\n",
        "Then there is two choices for storing Embedding Vectors, either storing it local via `ChromaDB` Vector Database, or load it with `FAISS-gpu` for faster computationality."
      ],
      "metadata": {
        "id": "vLYY0CTkwKW9"
      }
    },
    {
      "cell_type": "code",
      "source": [
        "# Add to vector database\n",
        "vector_db = Chroma.from_documents(\n",
        "    documents=chunks,\n",
        "    embedding=OllamaEmbeddings(model=\"qwen3-embedding:8b\",show_progress=True),\n",
        "    collection_name=\"mbg-vectordb\",\n",
        "    persist_directory=\"./rag-mbg-vectordb\"\n",
        ")"
      ],
      "metadata": {
        "colab": {
          "base_uri": "https://localhost:8080/"
        },
        "id": "8dncNaokZpke",
        "outputId": "82dab777-8d07-4032-9421-d400f8e686ff"
      },
      "execution_count": null,
      "outputs": [
        {
          "output_type": "stream",
          "name": "stderr",
          "text": [
            "/tmp/ipython-input-3356752140.py:4: LangChainDeprecationWarning: The class `OllamaEmbeddings` was deprecated in LangChain 0.3.1 and will be removed in 1.0.0. An updated version of the class exists in the :class:`~langchain-ollama package and should be used instead. To use it run `pip install -U :class:`~langchain-ollama` and import as `from :class:`~langchain_ollama import OllamaEmbeddings``.\n",
            "  embedding=OllamaEmbeddings(model=\"qwen3-embedding:8b\",show_progress=True),\n",
            "OllamaEmbeddings: 100%|██████████| 52/52 [00:22<00:00,  2.28it/s]\n"
          ]
        }
      ]
    },
    {
      "cell_type": "markdown",
      "source": [
        "Using `FAISS` with CUDA-gpu support improve computationality of Vector operations."
      ],
      "metadata": {
        "id": "yASlzFj1yyGS"
      }
    },
    {
      "cell_type": "code",
      "source": [
        "# Build vectorstore\n",
        "vectorstore = FAISS.from_documents(documents=chunks,\n",
        "                                   embedding=OllamaEmbeddings(model=\"qwen3-embedding:8b\", show_progress=True))\n",
        "vector_retriever = vectorstore.as_retriever(search_kwargs={\"k\": 2})"
      ],
      "metadata": {
        "colab": {
          "base_uri": "https://localhost:8080/"
        },
        "id": "gtH4szUzkcR8",
        "outputId": "6c156d8e-e8a1-4725-d6d7-4ff45c4b00f6"
      },
      "execution_count": null,
      "outputs": [
        {
          "output_type": "stream",
          "name": "stderr",
          "text": [
            "/tmp/ipython-input-2628937837.py:3: LangChainDeprecationWarning: The class `OllamaEmbeddings` was deprecated in LangChain 0.3.1 and will be removed in 1.0.0. An updated version of the class exists in the :class:`~langchain-ollama package and should be used instead. To use it run `pip install -U :class:`~langchain-ollama` and import as `from :class:`~langchain_ollama import OllamaEmbeddings``.\n",
            "  embedding=OllamaEmbeddings(model=\"qwen3-embedding:8b\", show_progress=True))\n",
            "OllamaEmbeddings: 100%|██████████| 76/76 [00:29<00:00,  2.56it/s]\n"
          ]
        }
      ]
    },
    {
      "cell_type": "markdown",
      "source": [
        "### 3. Model Selection\n",
        "Load the LLM Chat model, we will be using the Qwen3-8B: open-source LLM that improved from Qwen2.5 and very competitive with other LLMs such as Gemma3 and DeepSeek-R1 8B.<br>\n",
        "For detailed bechmarks and comparisons, here: https://blogs.novita.ai/qwen-3-and-qwen-2-5/\n",
        "\n",
        "Why use open-source LLMs? Well, there's several reasons:\n",
        "- Deployment can be local and anywhere\n",
        "- No need to pay or subscription services\n",
        "- Privacy matters, as open-source LLMs runs on local, privacy stays on local machine\n",
        "- Open-source models has worldwide contributions unlike closed-source is classified contributions\n",
        "- Open-source has massive support of community developers like HuggingFace, llama.cpp, Ollama, Langchain, etc."
      ],
      "metadata": {
        "id": "yZSAVReZzHKt"
      }
    },
    {
      "cell_type": "code",
      "source": [
        "llm = ChatOllama(model='qwen3:8b')"
      ],
      "metadata": {
        "colab": {
          "base_uri": "https://localhost:8080/"
        },
        "id": "nk-61J0jb-ZM",
        "outputId": "9b023c7b-5fb3-4d12-c35b-119f587bd1e5"
      },
      "execution_count": null,
      "outputs": [
        {
          "output_type": "stream",
          "name": "stderr",
          "text": [
            "/tmp/ipython-input-884170594.py:1: LangChainDeprecationWarning: The class `ChatOllama` was deprecated in LangChain 0.3.1 and will be removed in 1.0.0. An updated version of the class exists in the :class:`~langchain-ollama package and should be used instead. To use it run `pip install -U :class:`~langchain-ollama` and import as `from :class:`~langchain_ollama import ChatOllama``.\n",
            "  llm = ChatOllama(model='qwen3:8b')\n"
          ]
        }
      ]
    },
    {
      "cell_type": "markdown",
      "source": [
        "Define the Query Prompt Template"
      ],
      "metadata": {
        "id": "dD5AcE7L01My"
      }
    },
    {
      "cell_type": "code",
      "source": [
        "QUERY_PROMPT = PromptTemplate(\n",
        "    input_variables=[\"question\"],\n",
        "    template=\"\"\"You are an AI language model assistant. Your task is to generate five\n",
        "    different versions of the given user question to retrieve relevant documents from\n",
        "    a vector database. By generating multiple perspectives on the user question, your\n",
        "    goal is to help the user overcome some of the limitations of the distance-based\n",
        "    similarity search. Provide these alternative questions separated by newlines.\n",
        "    Original question: {question}\"\"\",\n",
        ")"
      ],
      "metadata": {
        "id": "IWUAMq2OcB3e"
      },
      "execution_count": null,
      "outputs": []
    },
    {
      "cell_type": "markdown",
      "source": [
        "<b>Still about Retrieval Strategy</b>"
      ],
      "metadata": {
        "id": "FH2xrju206hW"
      }
    },
    {
      "cell_type": "markdown",
      "source": [
        "We will be using `MultiQueryRetriever` for main strategy, as it can send multiple queries at one time and one prompt."
      ],
      "metadata": {
        "id": "wpwEpvac0789"
      }
    },
    {
      "cell_type": "code",
      "source": [
        "retriever = MultiQueryRetriever.from_llm(\n",
        "    vector_retriever,\n",
        "    llm,\n",
        "    prompt=QUERY_PROMPT\n",
        ")\n",
        "\n",
        "# RAG prompt\n",
        "template = \"\"\"Answer the question based ONLY on the following context:\n",
        "{context}\n",
        "Question: {question}\n",
        "\"\"\"\n",
        "\n",
        "prompt = ChatPromptTemplate.from_template(template)"
      ],
      "metadata": {
        "id": "SVzsxz2GcN2a"
      },
      "execution_count": null,
      "outputs": []
    },
    {
      "cell_type": "markdown",
      "source": [
        "Create the Retrieval Chains"
      ],
      "metadata": {
        "id": "d5NwSVdj1Fqx"
      }
    },
    {
      "cell_type": "code",
      "source": [
        "chain = (\n",
        "    {\"context\": retriever, \"question\": RunnablePassthrough()}\n",
        "    | prompt\n",
        "    | llm\n",
        "    | StrOutputParser()\n",
        ")"
      ],
      "metadata": {
        "id": "Y3bfknQbcPyE"
      },
      "execution_count": null,
      "outputs": []
    },
    {
      "cell_type": "markdown",
      "source": [
        "List to collect retrieved data"
      ],
      "metadata": {
        "id": "aMFDsRT01roU"
      }
    },
    {
      "cell_type": "code",
      "source": [
        "contexts = []\n",
        "answers = []"
      ],
      "metadata": {
        "id": "mnoY5NPucagD"
      },
      "execution_count": null,
      "outputs": []
    },
    {
      "cell_type": "markdown",
      "source": [
        "Regex string parser to ignore `<think>`...`</think>` blocks by reasoning Qwen3-8B model"
      ],
      "metadata": {
        "id": "S5xydMql17Er"
      }
    },
    {
      "cell_type": "code",
      "source": [
        "import re\n",
        "\n",
        "pattern = re.compile(r\"<think\\b[^>]*>.*?</think>\", flags=re.IGNORECASE | re.DOTALL)\n",
        "\n",
        "# remove <think>...</think> with: pattern.sub(\"\", text)"
      ],
      "metadata": {
        "id": "Ft8w05FEQPu3"
      },
      "execution_count": null,
      "outputs": []
    },
    {
      "cell_type": "markdown",
      "source": [
        "### 4. Evaluation Dataset Creation\n",
        "Develop an evaluation dataset that reflects realistic queries researchers might have. Include both simple and complex queries (basic questions, detailed informations, analytical questions, fact checking) that test the system's ability to retrieve and generate accurate information. Around 30 questions should be enough. The ground-truth answer were generated by LLM (ChatGPT) from input PDF MBG Paper."
      ],
      "metadata": {
        "id": "AzGuzWYM1KwC"
      }
    },
    {
      "cell_type": "code",
      "source": [
        "qa_pairs = [\n",
        "    {\n",
        "        \"question\": \"Apa tujuan utama penelitian tentang Program Makan Bergizi Gratis (MBG) dalam jurnal ini?\",\n",
        "        \"answer\": \"Penelitian ini bertujuan untuk menganalisis perlindungan hukum terhadap Program Makan Bergizi Gratis (MBG) dari perspektif hukum masyarakat di Indonesia. Kajian difokuskan pada dasar hukum, mekanisme pengawasan, partisipasi publik, serta tantangan implementasi agar program berjalan akuntabel, transparan, dan berkeadilan. Penulis menegaskan bahwa MBG harus menjadi instrumen keadilan sosial yang ditopang kerangka hukum kuat dan partisipasi masyarakat aktif untuk menjamin perlindungan anak dan pemenuhan hak dasar. Jawaban: Mengkaji dasar hukum, mekanisme pengawasan, partisipasi publik, serta tantangan implementasi agar program berjalan akuntabel, transparan, dan berkeadilan.\"\n",
        "    },\n",
        "    {\n",
        "        \"question\": \"Pasal berapa dalam UUD 1945 yang dijadikan dasar hukum untuk menjamin hak atas pangan dan jaminan sosial?\",\n",
        "        \"answer\": \"Berdasarkan hasil analisis dalam jurnal, dasar hukum pemenuhan hak atas pangan dan jaminan sosial terdapat pada Pasal 28C dan Pasal 28H UUD 1945. Pasal 28C menegaskan hak warga negara atas pengakuan, jaminan, perlindungan, dan kepastian hukum yang adil, sedangkan Pasal 28H menyatakan bahwa setiap orang berhak hidup sejahtera, bertempat tinggal, serta memperoleh lingkungan hidup yang baik dan sehat. Kedua pasal ini menjadi fondasi konstitusional bagi program MBG. Jawaban: Pasal 28C dan Pasal 28H UUD 1945.\"\n",
        "    },\n",
        "    {\n",
        "        \"question\": \"Siapa presiden yang meluncurkan Program MBG dan pada tahun berapa?\",\n",
        "        \"answer\": \"Program Makan Bergizi Gratis (MBG) diluncurkan oleh Presiden Prabowo Subianto pada tahun 2024 sebagai salah satu program unggulan masa awal pemerintahannya. Program ini merupakan bagian dari visi pembangunan manusia unggul dan pemerataan gizi nasional. Jawaban: Presiden Prabowo Subianto pada tahun 2024.\"\n",
        "    },\n",
        "    {\n",
        "        \"question\": \"Kasus apa yang sering muncul sejak awal pelaksanaan MBG?\",\n",
        "        \"answer\": \"Sejak awal pelaksanaan MBG, berbagai daerah mengalami kasus keracunan massal akibat konsumsi makanan yang tidak memenuhi standar keamanan pangan. Insiden terjadi di wilayah seperti Cianjur, Sukoharjo, dan daerah lain, menunjukkan kelalaian dalam pengawasan, distribusi, dan pengadaan bahan makanan. Jawaban: Kasus keracunan massal akibat konsumsi makanan dari program tersebut.\"\n",
        "    },\n",
        "    {\n",
        "        \"question\": \"Negara mana yang dijadikan rujukan model MBG oleh pemerintah Indonesia?\",\n",
        "        \"answer\": \"Pemerintah Indonesia menjadikan Jepang sebagai rujukan utama pelaksanaan MBG. Jepang memiliki sistem makan siang sekolah bernama Kyūshoku yang sudah berlangsung sejak pasca-Perang Dunia II, dengan keberhasilan karena adanya pendidikan gizi, kontrol mutu ketat, dan budaya disiplin di sekolah. Jawaban: Jepang dengan sistem Kyūshoku.\"\n",
        "    },\n",
        "    {\n",
        "        \"question\": \"Mengapa replikasi model Jepang dalam MBG dinilai bermasalah di Indonesia?\",\n",
        "        \"answer\": \"Replikasi model Jepang dalam MBG dinilai bermasalah karena tidak memperhitungkan konteks sosial, ekonomi, dan kelembagaan Indonesia. Kesiapan infrastruktur, sanitasi, serta pengawasan pangan di Indonesia masih lemah, sementara Jepang memiliki sistem pendidikan dan kesehatan yang jauh lebih mapan. Akibatnya, model tersebut sulit diadaptasi secara efektif. Jawaban: Karena kurangnya kesiapan infrastruktur, pengawasan, dan pemahaman konteks sosial-ekonomi Indonesia.\"\n",
        "    },\n",
        "    {\n",
        "        \"question\": \"Apa saja faktor penyebab utama keracunan makanan dalam program MBG menurut jurnal?\",\n",
        "        \"answer\": \"Jurnal menjelaskan bahwa penyebab utama keracunan makanan berasal dari kelalaian dalam pengadaan bahan, penyimpanan tidak higienis, distribusi yang tidak memenuhi standar, serta lemahnya pengawasan di sekolah. Banyak penyedia katering tidak memiliki fasilitas memadai untuk menjaga keamanan pangan. Jawaban: Kelalaian dalam pengadaan bahan makanan, distribusi, kurangnya pengawasan, dan fasilitas penyimpanan yang tidak memadai.\"\n",
        "    },\n",
        "    {\n",
        "        \"question\": \"Apa yang dimaksud dengan moral hazard dalam konteks MBG?\",\n",
        "        \"answer\": \"Dalam konteks MBG, moral hazard muncul ketika penyedia katering atau pelaksana program mengejar keuntungan finansial dengan mengabaikan standar keamanan pangan. Fenomena ini diperparah oleh lemahnya pengawasan dan kurangnya partisipasi publik dalam kontrol mutu program. Jawaban: Penyedia katering mengejar keuntungan dengan mengabaikan standar keamanan pangan.\"\n",
        "    },\n",
        "    {\n",
        "        \"question\": \"Mengapa tanggung jawab hukum dalam kasus keracunan MBG sering kabur?\",\n",
        "        \"answer\": \"Tanggung jawab hukum kabur karena belum ada regulasi khusus yang mengatur pembagian peran antara penyedia makanan, sekolah, dan pemerintah daerah. Ketika terjadi insiden, tidak jelas siapa yang bertanggung jawab secara hukum atas kelalaian dalam distribusi atau pengawasan. Jawaban: Karena tidak adanya regulasi khusus, sehingga tidak jelas apakah tanggung jawab ada pada penyedia makanan, kepala sekolah, atau pemerintah daerah.\"\n",
        "    },\n",
        "    {\n",
        "        \"question\": \"Apa dasar hukum yang mengatur hak anak sebagai konsumen di Indonesia?\",\n",
        "        \"answer\": \"Hak anak sebagai konsumen dilindungi oleh Undang-Undang Nomor 8 Tahun 1999 tentang Perlindungan Konsumen. UU ini menjamin hak anak untuk mendapatkan barang dan jasa yang aman, termasuk makanan sekolah, serta melarang penyedia memproduksi makanan yang tidak memenuhi standar keamanan pangan. Jawaban: Undang-Undang No. 8 Tahun 1999 tentang Perlindungan Konsumen.\"\n",
        "    },\n",
        "    {\n",
        "        \"question\": \"Bagaimana bentuk tanggung jawab negara menurut Pasal 111 ayat (2) UU No. 36 Tahun 2009 tentang Kesehatan?\",\n",
        "        \"answer\": \"Menurut Pasal 111 ayat (2) UU No. 36 Tahun 2009, pemerintah bertanggung jawab atas ketersediaan pangan yang aman, bergizi, bermutu, dan tidak membahayakan kesehatan masyarakat. Dalam konteks MBG, hal ini berarti negara wajib memastikan seluruh rantai penyediaan makanan memenuhi standar kesehatan. Jawaban: Negara bertanggung jawab atas ketersediaan pangan yang aman, bermutu, bergizi, dan tidak membahayakan kesehatan masyarakat.\"\n",
        "    },\n",
        "    {\n",
        "        \"question\": \"Apa contoh negara berkembang yang berhasil mengintegrasikan program makan siang gratis ke dalam sistem pendidikan?\",\n",
        "        \"answer\": \"Brasil menjadi contoh sukses melalui Program Nacional de Alimentação Escolar (PNAE). Program ini mengintegrasikan penyediaan makanan bergizi dengan sistem pendidikan dan melibatkan pemerintah daerah serta petani lokal sebagai pemasok utama, menciptakan sinergi antara gizi, pendidikan, dan ekonomi lokal. Jawaban: Brasil melalui Program Nacional de Alimentação Escolar (PNAE).\"\n",
        "    },\n",
        "    {\n",
        "        \"question\": \"Apa masalah utama yang muncul dalam Midday Meal Scheme di India?\",\n",
        "        \"answer\": \"Masalah utama dalam program Midday Meal Scheme di India adalah banyaknya kasus keracunan massal karena bahan makanan berkualitas buruk, lemahnya pengawasan, serta keterlibatan mafia pangan. Hal ini menunjukkan bahwa kebijakan sosial tanpa pengawasan efektif rentan gagal. Jawaban: Kasus keracunan massal akibat kualitas bahan makanan yang buruk, lemahnya pengawasan, dan praktik mafia pangan.\"\n",
        "    },\n",
        "    {\n",
        "        \"question\": \"Berapa besar anggaran yang dialokasikan pemerintah Indonesia untuk program Makan Siang Gratis?\",\n",
        "        \"answer\": \"Pemerintah Indonesia mengalokasikan sekitar Rp71 triliun untuk program MBG, dengan sasaran 82,9 juta penerima di seluruh jenjang pendidikan dasar dan menengah. Anggaran besar ini menunjukkan skala nasional program, namun juga menimbulkan risiko penyimpangan jika tidak diawasi ketat. Jawaban: Rp71 triliun untuk 82,9 juta penerima.\"\n",
        "    },\n",
        "    {\n",
        "        \"question\": \"Apa kritik utama terhadap MBG terkait anggaran pendidikan?\",\n",
        "        \"answer\": \"Kritik utama terhadap MBG adalah adanya pengalihan dana Bantuan Operasional Sekolah (BOS) untuk pembiayaan makan siang, sehingga kegiatan belajar-mengajar terganggu. Beberapa laporan juga menunjukkan munculnya kembali praktik pungutan liar di sekolah akibat kekurangan dana operasional. Jawaban: Dana BOS dialihkan untuk program makan siang, sehingga kegiatan belajar-mengajar terganggu dan pungutan liar kembali muncul.\"\n",
        "    },\n",
        "    {\n",
        "        \"question\": \"Apa prinsip utama dalam pengadaan barang/jasa pemerintah menurut UU No. 2 Tahun 2017?\",\n",
        "        \"answer\": \"UU No. 2 Tahun 2017 menegaskan bahwa pengadaan barang/jasa pemerintah harus berlandaskan pada prinsip transparansi, efisiensi, dan akuntabilitas. Dalam konteks MBG, prinsip ini penting untuk mencegah praktik korupsi dan kolusi dalam pengadaan makanan. Jawaban: Transparansi, efisiensi, dan akuntabilitas.\"\n",
        "    },\n",
        "    {\n",
        "        \"question\": \"Mengapa partisipasi publik penting dalam pelaksanaan MBG?\",\n",
        "        \"answer\": \"Partisipasi publik penting agar masyarakat, orang tua, dan sekolah dapat terlibat dalam perencanaan dan pengawasan MBG. Pelibatan publik meningkatkan legitimasi, mencegah penyalahgunaan, dan memastikan program sesuai kebutuhan lokal serta budaya pangan setempat. Jawaban: Untuk memastikan program sesuai kebutuhan lokal, meningkatkan kontrol sosial, dan mencegah penyalahgunaan.\"\n",
        "    },\n",
        "    {\n",
        "        \"question\": \"Apa risiko terbesar jika MBG tidak dikelola dengan transparan?\",\n",
        "        \"answer\": \"Tanpa transparansi, program MBG berisiko tinggi mengalami praktik korupsi, kolusi, dan nepotisme. Ketertutupan informasi juga menurunkan kepercayaan publik terhadap pemerintah dan berpotensi menimbulkan pembangkangan sosial. Jawaban: Korupsi, kolusi, nepotisme, serta menurunnya kepercayaan publik terhadap pemerintah.\"\n",
        "    },\n",
        "    {\n",
        "        \"question\": \"Apa bentuk perlindungan hukum yang dibutuhkan peserta didik dalam program MBG?\",\n",
        "        \"answer\": \"Peserta didik membutuhkan perlindungan hukum berupa standar higienitas makanan, inspeksi rutin, mekanisme pengaduan dan tanggap darurat, serta kompensasi yang adil bagi korban keracunan. Hal ini sejalan dengan prinsip perlindungan konsumen dan anak dalam hukum nasional. Jawaban: Standar higienitas makanan, inspeksi berkala, mekanisme tanggap darurat, dan ganti rugi yang adil bagi korban keracunan.\"\n",
        "    },\n",
        "    {\n",
        "        \"question\": \"Apa kesimpulan utama jurnal terkait keberhasilan MBG?\",\n",
        "        \"answer\": \"Jurnal menyimpulkan bahwa keberhasilan MBG hanya dapat dicapai jika program didukung oleh kerangka hukum kuat, sistem pengawasan transparan, partisipasi masyarakat aktif, serta perlindungan konsumen dan anak yang efektif. Tanpa itu, MBG rentan menjadi proyek politis semata. Jawaban: Keberhasilan MBG bergantung pada kerangka hukum yang kuat, transparansi pengadaan, partisipasi masyarakat, serta perlindungan konsumen dan anak.\"\n",
        "    },\n",
        "    {\n",
        "        \"question\": \"Apa metode penelitian yang digunakan dalam kajian jurnal ini?\",\n",
        "        \"answer\": \"Penelitian ini menggunakan metode hukum normatif dengan pendekatan studi kepustakaan. Analisis difokuskan pada peraturan perundang-undangan, doktrin hukum, dan literatur akademik yang relevan untuk menjelaskan tanggung jawab negara atas program MBG. Jawaban: Metode penelitian hukum normatif dengan studi kepustakaan dan analisis regulasi, doktrin hukum, serta bahan hukum tertulis.\"\n",
        "    },\n",
        "    {\n",
        "        \"question\": \"Mengapa MBG dianggap berpotensi menjadi proyek populis?\",\n",
        "        \"answer\": \"MBG dianggap berpotensi menjadi proyek populis karena diluncurkan secara cepat dengan motif politik, tanpa kesiapan teknis dan infrastruktur yang memadai. Program lebih difokuskan pada citra politik ketimbang keberlanjutan jangka panjang. Jawaban: Karena pelaksanaannya lebih menekankan citra politik dibanding kesiapan teknis, sehingga berisiko tidak berkelanjutan.\"\n",
        "    },\n",
        "    {\n",
        "        \"question\": \"Apa kewajiban negara menurut Konvensi Hak Anak terkait program gizi?\",\n",
        "        \"answer\": \"Menurut Konvensi Hak Anak yang diratifikasi melalui Keppres No. 36 Tahun 1990, negara wajib menjamin akses anak terhadap pelayanan kesehatan dan gizi yang optimal. Pelanggaran terhadap kewajiban ini dianggap pengingkaran terhadap komitmen internasional. Jawaban: Negara wajib menjamin akses anak terhadap pelayanan kesehatan dan gizi yang optimal.\"\n",
        "    },\n",
        "    {\n",
        "        \"question\": \"Apa masalah sanitasi yang memperbesar risiko keracunan dalam MBG?\",\n",
        "        \"answer\": \"Masalah sanitasi seperti kurangnya akses air bersih, fasilitas cuci tangan, dan toilet layak di sekolah menyebabkan meningkatnya risiko kontaminasi makanan. Kondisi ini menurunkan efektivitas program MBG dan meningkatkan potensi keracunan massal. Jawaban: Kurangnya akses air bersih, fasilitas cuci tangan, dan toilet layak di sekolah.\"\n",
        "    },\n",
        "    {\n",
        "        \"question\": \"Apa peran BPKP, KPK, dan Ombudsman dalam pelaksanaan MBG?\",\n",
        "        \"answer\": \"BPKP, KPK, dan Ombudsman berperan sebagai lembaga pengawas eksternal yang memastikan transparansi, mencegah korupsi, dan menjaga akuntabilitas program. Pengawasan mereka penting untuk mencegah penyimpangan dana publik dan menjaga kredibilitas pelaksanaan MBG. Jawaban: Sebagai lembaga pengawas untuk memastikan transparansi, mencegah korupsi, dan menjaga akuntabilitas program.\"\n",
        "    },\n",
        "    {\n",
        "        \"question\": \"Bagaimana Jepang menjamin keberhasilan program makan siang sekolahnya?\",\n",
        "        \"answer\": \"Jepang menjamin keberhasilan Kyūshoku dengan membangun infrastruktur sanitasi yang baik, pelatihan tenaga dapur, pendidikan gizi di sekolah, dan sistem kontrol mutu yang ketat. Program ini juga menanamkan nilai disiplin dan tanggung jawab pada siswa. Jawaban: Dengan membangun infrastruktur sanitasi, pelatihan tenaga, pendidikan gizi, dan kontrol mutu yang ketat.\"\n",
        "    },\n",
        "    {\n",
        "        \"question\": \"Apa risiko hukum bagi penyedia katering jika terbukti lalai dalam MBG?\",\n",
        "        \"answer\": \"Penyedia katering yang lalai dapat dikenai sanksi pidana dan perdata berdasarkan UU Perlindungan Konsumen dan peraturan BPOM, karena melanggar standar keamanan pangan dan menimbulkan kerugian bagi peserta didik. Jawaban: Dapat diproses pidana dan perdata karena melanggar standar keamanan pangan dan merugikan konsumen.\"\n",
        "    },\n",
        "    {\n",
        "        \"question\": \"Mengapa keterlibatan masyarakat lokal penting dalam pengadaan makanan sekolah?\",\n",
        "        \"answer\": \"Keterlibatan masyarakat lokal memungkinkan menu disesuaikan dengan budaya pangan setempat, menekan biaya logistik, dan memberdayakan petani kecil sebagai pemasok. Pendekatan partisipatif ini terbukti efektif seperti dalam model Brasil (PNAE). Jawaban: Agar menu sesuai budaya pangan lokal, menekan harga, dan memberdayakan petani kecil sebagai pemasok.\"\n",
        "    },\n",
        "    {\n",
        "        \"question\": \"Apa ancaman terbesar jika negara tidak transparan soal insiden keracunan MBG?\",\n",
        "        \"answer\": \"Ketertutupan informasi mengenai insiden keracunan dapat menimbulkan krisis kepercayaan publik dan memicu resistensi sosial terhadap program pemerintah. Transparansi diperlukan untuk menjaga legitimasi negara. Jawaban: Terjadi krisis kepercayaan masyarakat terhadap pemerintah dan potensi pembangkangan sosial.\"\n",
        "    },\n",
        "    {\n",
        "        \"question\": \"Apa prinsip rule of law yang harus ditegakkan dalam MBG?\",\n",
        "        \"answer\": \"Prinsip rule of law dalam MBG menekankan pentingnya aturan hukum yang jelas, konsisten, dan ditegakkan tanpa diskriminasi. Program harus berpihak pada keadilan sosial dengan mekanisme sanksi yang tegas agar tidak ada pelanggaran hukum yang dibiarkan. Jawaban: Aturan hukum yang jelas, konsisten, ditegakkan tanpa diskriminasi, serta berpihak pada keadilan sosial.\"\n",
        "    }\n",
        "]\n"
      ],
      "metadata": {
        "id": "4iotWztjcFK5"
      },
      "execution_count": null,
      "outputs": []
    },
    {
      "cell_type": "markdown",
      "source": [
        "<b>Preparing functions to collect (retrieve) RAG answers from 30 QnA dataset creation</b><br>\n",
        "The function will iterate every `qa_pairs` and do `retriever.invoke(question)`"
      ],
      "metadata": {
        "id": "PgKnf0M73MA_"
      }
    },
    {
      "cell_type": "code",
      "source": [
        "import re\n",
        "\n",
        "def process_qa_pairs_with_rag(qa_pairs, retriever, chain):\n",
        "    contexts = []\n",
        "    answers = []\n",
        "\n",
        "    for i, qa_pair in enumerate(qa_pairs):\n",
        "        content = []\n",
        "        retrieval = retriever.invoke(qa_pair[\"question\"])\n",
        "\n",
        "        for item in retrieval:\n",
        "            content.append(item.page_content)\n",
        "        contexts.append(content)\n",
        "\n",
        "        # Generate answer\n",
        "        answer = chain.invoke(qa_pair[\"question\"])\n",
        "        answer = pattern.sub(\"\", answer)  # remove <think>...</think>\n",
        "        if answer.startswith(\"\\n\\n\"):\n",
        "            answer = answer.replace(\"\\n\\n\", \"\")\n",
        "        answers.append(answer)\n",
        "\n",
        "        print(f\"Question {i + 1}: {qa_pair['question']}\")\n",
        "        print(f\"Generated Answer {i + 1}: {answer}\")\n",
        "        print(f\"Original Answer {i + 1}: {qa_pair['answer']}\\n\")\n",
        "\n",
        "    return contexts, answers"
      ],
      "metadata": {
        "id": "ayr_vV9LUPxg"
      },
      "execution_count": null,
      "outputs": []
    },
    {
      "cell_type": "markdown",
      "source": [
        "Let\\'s execute the retriever loop"
      ],
      "metadata": {
        "id": "QWnc6Huk3vJ5"
      }
    },
    {
      "cell_type": "code",
      "source": [
        "contexts, answers = process_qa_pairs_with_rag(qa_pairs, retriever, chain)"
      ],
      "metadata": {
        "colab": {
          "base_uri": "https://localhost:8080/"
        },
        "id": "OVmnp-S7U7ef",
        "outputId": "b7fd5f08-2f3b-4ce6-ca3d-ff313d4ad72a"
      },
      "execution_count": null,
      "outputs": [
        {
          "output_type": "stream",
          "name": "stderr",
          "text": [
            "OllamaEmbeddings: 100%|██████████| 1/1 [00:19<00:00, 19.25s/it]\n",
            "OllamaEmbeddings: 100%|██████████| 1/1 [00:00<00:00,  3.16it/s]\n",
            "OllamaEmbeddings: 100%|██████████| 1/1 [00:00<00:00,  4.70it/s]\n",
            "OllamaEmbeddings: 100%|██████████| 1/1 [00:00<00:00,  5.08it/s]\n",
            "OllamaEmbeddings: 100%|██████████| 1/1 [00:00<00:00,  4.39it/s]\n",
            "OllamaEmbeddings: 100%|██████████| 1/1 [00:00<00:00,  5.62it/s]\n",
            "OllamaEmbeddings: 100%|██████████| 1/1 [00:00<00:00,  6.21it/s]\n",
            "OllamaEmbeddings: 100%|██████████| 1/1 [00:00<00:00,  5.38it/s]\n",
            "OllamaEmbeddings: 100%|██████████| 1/1 [00:00<00:00,  6.01it/s]\n",
            "OllamaEmbeddings: 100%|██████████| 1/1 [00:00<00:00,  6.03it/s]\n",
            "OllamaEmbeddings: 100%|██████████| 1/1 [00:00<00:00,  6.18it/s]\n",
            "OllamaEmbeddings: 100%|██████████| 1/1 [00:00<00:00,  6.08it/s]\n",
            "OllamaEmbeddings: 100%|██████████| 1/1 [00:00<00:00,  4.88it/s]\n",
            "OllamaEmbeddings: 100%|██████████| 1/1 [00:00<00:00,  4.71it/s]\n",
            "OllamaEmbeddings: 100%|██████████| 1/1 [00:00<00:00,  5.97it/s]\n",
            "OllamaEmbeddings: 100%|██████████| 1/1 [00:00<00:00,  6.45it/s]\n",
            "OllamaEmbeddings: 100%|██████████| 1/1 [00:00<00:00,  6.05it/s]\n",
            "OllamaEmbeddings: 100%|██████████| 1/1 [00:00<00:00,  5.78it/s]\n",
            "OllamaEmbeddings: 100%|██████████| 1/1 [00:00<00:00,  5.86it/s]\n",
            "OllamaEmbeddings: 100%|██████████| 1/1 [00:00<00:00,  6.27it/s]\n",
            "OllamaEmbeddings: 100%|██████████| 1/1 [00:00<00:00,  5.99it/s]\n",
            "OllamaEmbeddings: 100%|██████████| 1/1 [00:00<00:00,  6.01it/s]\n",
            "OllamaEmbeddings: 100%|██████████| 1/1 [00:00<00:00,  5.63it/s]\n",
            "OllamaEmbeddings: 100%|██████████| 1/1 [00:00<00:00,  5.47it/s]\n",
            "OllamaEmbeddings: 100%|██████████| 1/1 [00:00<00:00,  5.81it/s]\n",
            "OllamaEmbeddings: 100%|██████████| 1/1 [00:00<00:00,  5.66it/s]\n",
            "OllamaEmbeddings: 100%|██████████| 1/1 [00:00<00:00,  5.18it/s]\n",
            "OllamaEmbeddings: 100%|██████████| 1/1 [00:00<00:00,  3.81it/s]\n",
            "OllamaEmbeddings: 100%|██████████| 1/1 [00:00<00:00,  3.55it/s]\n",
            "OllamaEmbeddings: 100%|██████████| 1/1 [00:00<00:00,  3.67it/s]\n",
            "OllamaEmbeddings: 100%|██████████| 1/1 [00:00<00:00,  3.69it/s]\n",
            "OllamaEmbeddings: 100%|██████████| 1/1 [00:00<00:00,  3.65it/s]\n",
            "OllamaEmbeddings: 100%|██████████| 1/1 [00:00<00:00,  3.65it/s]\n",
            "OllamaEmbeddings: 100%|██████████| 1/1 [00:00<00:00,  3.60it/s]\n",
            "OllamaEmbeddings: 100%|██████████| 1/1 [00:00<00:00,  3.48it/s]\n",
            "OllamaEmbeddings: 100%|██████████| 1/1 [00:00<00:00,  3.44it/s]\n"
          ]
        },
        {
          "output_type": "stream",
          "name": "stdout",
          "text": [
            "Question 1: Apa tujuan utama penelitian tentang Program Makan Bergizi Gratis (MBG) dalam jurnal ini?\n",
            "Generated Answer 1: Tujuan utama penelitian tentang Program Makan Bergizi Gratis (MBG) dalam jurnal ini adalah **menganalisis kelalaian sistemik, inkonsistensi kebijakan, dan lemahnya tata kelola dalam pelaksanaan program tersebut**, serta mengevaluasi efektivitas mekanisme kontrol mutu makanan. Penelitian ini juga mengeksplorasi dampak etis dan politik dari program, termasuk risiko penggunaan MBG sebagai alat populisme elektoral, serta mengkritik kurangnya standar pengawasan pangan yang menyebabkan insiden keracunan massal. Pendekatan normatif digunakan untuk menilai kerangka hukum dan kebijakan yang seharusnya mengatur program ini, dengan tujuan memberikan solusi hukum dan kebijakan untuk memperbaiki keberlanjutan dan integritas MBG.\n",
            "Original Answer 1: Penelitian ini bertujuan untuk menganalisis perlindungan hukum terhadap Program Makan Bergizi Gratis (MBG) dari perspektif hukum masyarakat di Indonesia. Kajian difokuskan pada dasar hukum, mekanisme pengawasan, partisipasi publik, serta tantangan implementasi agar program berjalan akuntabel, transparan, dan berkeadilan. Penulis menegaskan bahwa MBG harus menjadi instrumen keadilan sosial yang ditopang kerangka hukum kuat dan partisipasi masyarakat aktif untuk menjamin perlindungan anak dan pemenuhan hak dasar. Jawaban: Mengkaji dasar hukum, mekanisme pengawasan, partisipasi publik, serta tantangan implementasi agar program berjalan akuntabel, transparan, dan berkeadilan.\n",
            "\n"
          ]
        },
        {
          "output_type": "stream",
          "name": "stderr",
          "text": [
            "OllamaEmbeddings: 100%|██████████| 1/1 [00:00<00:00,  5.81it/s]\n",
            "OllamaEmbeddings: 100%|██████████| 1/1 [00:00<00:00,  5.71it/s]\n",
            "OllamaEmbeddings: 100%|██████████| 1/1 [00:00<00:00,  4.44it/s]\n",
            "OllamaEmbeddings: 100%|██████████| 1/1 [00:00<00:00,  5.18it/s]\n",
            "OllamaEmbeddings: 100%|██████████| 1/1 [00:00<00:00,  5.50it/s]\n",
            "OllamaEmbeddings: 100%|██████████| 1/1 [00:00<00:00,  5.93it/s]\n",
            "OllamaEmbeddings: 100%|██████████| 1/1 [00:00<00:00,  6.66it/s]\n",
            "OllamaEmbeddings: 100%|██████████| 1/1 [00:00<00:00,  6.28it/s]\n",
            "OllamaEmbeddings: 100%|██████████| 1/1 [00:00<00:00,  5.56it/s]\n",
            "OllamaEmbeddings: 100%|██████████| 1/1 [00:00<00:00,  6.29it/s]\n",
            "OllamaEmbeddings: 100%|██████████| 1/1 [00:00<00:00,  5.86it/s]\n",
            "OllamaEmbeddings: 100%|██████████| 1/1 [00:00<00:00,  5.89it/s]\n",
            "OllamaEmbeddings: 100%|██████████| 1/1 [00:00<00:00,  5.41it/s]\n",
            "OllamaEmbeddings: 100%|██████████| 1/1 [00:00<00:00,  2.45it/s]\n",
            "OllamaEmbeddings: 100%|██████████| 1/1 [00:00<00:00,  6.64it/s]\n",
            "OllamaEmbeddings: 100%|██████████| 1/1 [00:00<00:00,  6.17it/s]\n",
            "OllamaEmbeddings: 100%|██████████| 1/1 [00:00<00:00,  6.36it/s]\n",
            "OllamaEmbeddings: 100%|██████████| 1/1 [00:00<00:00,  5.52it/s]\n",
            "OllamaEmbeddings: 100%|██████████| 1/1 [00:00<00:00,  5.18it/s]\n",
            "OllamaEmbeddings: 100%|██████████| 1/1 [00:00<00:00,  6.04it/s]\n"
          ]
        },
        {
          "output_type": "stream",
          "name": "stdout",
          "text": [
            "Question 2: Pasal berapa dalam UUD 1945 yang dijadikan dasar hukum untuk menjamin hak atas pangan dan jaminan sosial?\n",
            "Generated Answer 2: Pasal 28C dan Pasal 28H dalam UUD 1945 dijadikan dasar hukum untuk menjamin hak atas pangan dan jaminan sosial. Kedua pasal tersebut menyatakan bahwa setiap warga negara berhak atas pengakuan, jaminan, perlindungan, dan kepastian hukum yang adil, termasuk hak atas pangan yang layak dan bergizi, serta perlindungan sosial yang merata.\n",
            "Original Answer 2: Berdasarkan hasil analisis dalam jurnal, dasar hukum pemenuhan hak atas pangan dan jaminan sosial terdapat pada Pasal 28C dan Pasal 28H UUD 1945. Pasal 28C menegaskan hak warga negara atas pengakuan, jaminan, perlindungan, dan kepastian hukum yang adil, sedangkan Pasal 28H menyatakan bahwa setiap orang berhak hidup sejahtera, bertempat tinggal, serta memperoleh lingkungan hidup yang baik dan sehat. Kedua pasal ini menjadi fondasi konstitusional bagi program MBG. Jawaban: Pasal 28C dan Pasal 28H UUD 1945.\n",
            "\n"
          ]
        },
        {
          "output_type": "stream",
          "name": "stderr",
          "text": [
            "OllamaEmbeddings: 100%|██████████| 1/1 [00:00<00:00,  4.01it/s]\n",
            "OllamaEmbeddings: 100%|██████████| 1/1 [00:00<00:00,  4.04it/s]\n",
            "OllamaEmbeddings: 100%|██████████| 1/1 [00:00<00:00,  5.51it/s]\n",
            "OllamaEmbeddings: 100%|██████████| 1/1 [00:00<00:00,  5.53it/s]\n",
            "OllamaEmbeddings: 100%|██████████| 1/1 [00:00<00:00,  4.81it/s]\n",
            "OllamaEmbeddings: 100%|██████████| 1/1 [00:00<00:00,  5.40it/s]\n",
            "OllamaEmbeddings: 100%|██████████| 1/1 [00:00<00:00,  5.65it/s]\n",
            "OllamaEmbeddings: 100%|██████████| 1/1 [00:00<00:00,  5.43it/s]\n",
            "OllamaEmbeddings: 100%|██████████| 1/1 [00:00<00:00,  4.73it/s]\n",
            "OllamaEmbeddings: 100%|██████████| 1/1 [00:00<00:00,  5.90it/s]\n",
            "OllamaEmbeddings: 100%|██████████| 1/1 [00:00<00:00,  6.11it/s]\n",
            "OllamaEmbeddings: 100%|██████████| 1/1 [00:00<00:00,  6.40it/s]\n",
            "OllamaEmbeddings: 100%|██████████| 1/1 [00:00<00:00,  6.16it/s]\n",
            "OllamaEmbeddings: 100%|██████████| 1/1 [00:00<00:00,  6.28it/s]\n",
            "OllamaEmbeddings: 100%|██████████| 1/1 [00:00<00:00,  5.58it/s]\n",
            "OllamaEmbeddings: 100%|██████████| 1/1 [00:00<00:00,  6.42it/s]\n",
            "OllamaEmbeddings: 100%|██████████| 1/1 [00:00<00:00,  6.50it/s]\n",
            "OllamaEmbeddings: 100%|██████████| 1/1 [00:00<00:00,  6.21it/s]\n",
            "OllamaEmbeddings: 100%|██████████| 1/1 [00:00<00:00,  4.73it/s]\n",
            "OllamaEmbeddings: 100%|██████████| 1/1 [00:00<00:00,  5.10it/s]\n",
            "OllamaEmbeddings: 100%|██████████| 1/1 [00:00<00:00,  5.21it/s]\n",
            "OllamaEmbeddings: 100%|██████████| 1/1 [00:00<00:00,  5.44it/s]\n",
            "OllamaEmbeddings: 100%|██████████| 1/1 [00:00<00:00,  5.22it/s]\n",
            "OllamaEmbeddings: 100%|██████████| 1/1 [00:00<00:00,  5.83it/s]\n",
            "OllamaEmbeddings: 100%|██████████| 1/1 [00:00<00:00,  4.76it/s]\n",
            "OllamaEmbeddings: 100%|██████████| 1/1 [00:00<00:00,  5.65it/s]\n",
            "OllamaEmbeddings: 100%|██████████| 1/1 [00:00<00:00,  5.01it/s]\n",
            "OllamaEmbeddings: 100%|██████████| 1/1 [00:00<00:00,  3.82it/s]\n",
            "OllamaEmbeddings: 100%|██████████| 1/1 [00:00<00:00,  3.82it/s]\n",
            "OllamaEmbeddings: 100%|██████████| 1/1 [00:00<00:00,  3.96it/s]\n",
            "OllamaEmbeddings: 100%|██████████| 1/1 [00:00<00:00,  4.00it/s]\n",
            "OllamaEmbeddings: 100%|██████████| 1/1 [00:00<00:00,  3.97it/s]\n",
            "OllamaEmbeddings: 100%|██████████| 1/1 [00:00<00:00,  3.20it/s]\n",
            "OllamaEmbeddings: 100%|██████████| 1/1 [00:00<00:00,  3.15it/s]\n",
            "OllamaEmbeddings: 100%|██████████| 1/1 [00:00<00:00,  3.91it/s]\n",
            "OllamaEmbeddings: 100%|██████████| 1/1 [00:00<00:00,  3.65it/s]\n",
            "OllamaEmbeddings: 100%|██████████| 1/1 [00:00<00:00,  3.84it/s]\n",
            "OllamaEmbeddings: 100%|██████████| 1/1 [00:00<00:00,  5.92it/s]\n",
            "OllamaEmbeddings: 100%|██████████| 1/1 [00:00<00:00,  6.07it/s]\n",
            "OllamaEmbeddings: 100%|██████████| 1/1 [00:00<00:00,  6.08it/s]\n",
            "OllamaEmbeddings: 100%|██████████| 1/1 [00:00<00:00,  6.14it/s]\n"
          ]
        },
        {
          "output_type": "stream",
          "name": "stdout",
          "text": [
            "Question 3: Siapa presiden yang meluncurkan Program MBG dan pada tahun berapa?\n",
            "Generated Answer 3: Presiden yang meluncurkan Program Makan Bergizi Gratis (MBG) adalah **Prabowo Subianto**, dan peluncuran program ini dilakukan pada **tahun 2024**. Informasi ini disebutkan dalam dokumen dengan ID `77e06f42-97cd-4835-84e1-ae2ccffcbced`, yang menyatakan bahwa Prabowo Subianto resmi menjabat presiden pada 2024 dan memulai masa pemerintahannya dengan inisiasi MBG.\n",
            "Original Answer 3: Program Makan Bergizi Gratis (MBG) diluncurkan oleh Presiden Prabowo Subianto pada tahun 2024 sebagai salah satu program unggulan masa awal pemerintahannya. Program ini merupakan bagian dari visi pembangunan manusia unggul dan pemerataan gizi nasional. Jawaban: Presiden Prabowo Subianto pada tahun 2024.\n",
            "\n"
          ]
        },
        {
          "output_type": "stream",
          "name": "stderr",
          "text": [
            "OllamaEmbeddings: 100%|██████████| 1/1 [00:00<00:00,  6.23it/s]\n",
            "OllamaEmbeddings: 100%|██████████| 1/1 [00:00<00:00,  3.68it/s]\n",
            "OllamaEmbeddings: 100%|██████████| 1/1 [00:00<00:00,  3.71it/s]\n",
            "OllamaEmbeddings: 100%|██████████| 1/1 [00:00<00:00,  3.70it/s]\n",
            "OllamaEmbeddings: 100%|██████████| 1/1 [00:00<00:00,  3.88it/s]\n",
            "OllamaEmbeddings: 100%|██████████| 1/1 [00:00<00:00,  3.73it/s]\n",
            "OllamaEmbeddings: 100%|██████████| 1/1 [00:00<00:00,  3.72it/s]\n",
            "OllamaEmbeddings: 100%|██████████| 1/1 [00:00<00:00,  3.67it/s]\n",
            "OllamaEmbeddings: 100%|██████████| 1/1 [00:00<00:00,  3.11it/s]\n",
            "OllamaEmbeddings: 100%|██████████| 1/1 [00:00<00:00,  3.35it/s]\n",
            "OllamaEmbeddings: 100%|██████████| 1/1 [00:00<00:00,  3.33it/s]\n",
            "OllamaEmbeddings: 100%|██████████| 1/1 [00:00<00:00,  5.26it/s]\n",
            "OllamaEmbeddings: 100%|██████████| 1/1 [00:00<00:00,  5.53it/s]\n",
            "OllamaEmbeddings: 100%|██████████| 1/1 [00:00<00:00,  5.47it/s]\n",
            "OllamaEmbeddings: 100%|██████████| 1/1 [00:00<00:00,  6.22it/s]\n",
            "OllamaEmbeddings: 100%|██████████| 1/1 [00:00<00:00,  6.15it/s]\n",
            "OllamaEmbeddings: 100%|██████████| 1/1 [00:00<00:00,  4.92it/s]\n",
            "OllamaEmbeddings: 100%|██████████| 1/1 [00:00<00:00,  5.08it/s]\n",
            "OllamaEmbeddings: 100%|██████████| 1/1 [00:00<00:00,  5.63it/s]\n",
            "OllamaEmbeddings: 100%|██████████| 1/1 [00:00<00:00,  5.58it/s]\n",
            "OllamaEmbeddings: 100%|██████████| 1/1 [00:00<00:00,  5.50it/s]\n",
            "OllamaEmbeddings: 100%|██████████| 1/1 [00:00<00:00,  5.40it/s]\n",
            "OllamaEmbeddings: 100%|██████████| 1/1 [00:00<00:00,  5.64it/s]\n",
            "OllamaEmbeddings: 100%|██████████| 1/1 [00:00<00:00,  5.56it/s]\n",
            "OllamaEmbeddings: 100%|██████████| 1/1 [00:00<00:00,  6.56it/s]\n",
            "OllamaEmbeddings: 100%|██████████| 1/1 [00:00<00:00,  5.60it/s]\n",
            "OllamaEmbeddings: 100%|██████████| 1/1 [00:00<00:00,  5.69it/s]\n",
            "OllamaEmbeddings: 100%|██████████| 1/1 [00:00<00:00,  5.80it/s]\n",
            "OllamaEmbeddings: 100%|██████████| 1/1 [00:00<00:00,  3.95it/s]\n",
            "OllamaEmbeddings: 100%|██████████| 1/1 [00:00<00:00,  4.02it/s]\n"
          ]
        },
        {
          "output_type": "stream",
          "name": "stdout",
          "text": [
            "Question 4: Kasus apa yang sering muncul sejak awal pelaksanaan MBG?\n",
            "Generated Answer 4: Kasus yang sering muncul sejak awal pelaksanaan Program Makanan Sekolah Gratis (MBG) adalah **keracunan massal di sekolah-sekolah**. Berdasarkan data empiris, sejak kuartal pertama pelaksanaan MBG, telah terjadi lebih dari lima kasus keracunan massal yang menimpa ratusan siswa dalam kurun waktu yang berdekatan. Contoh kasus tercatat di daerah seperti **Cianjur** dan **Sukoharjo**, yang menimbulkan korban rawat inap serta trauma berkepanjangan bagi anak-anak. Keracunan ini terjadi karena minimnya pengawasan kualitas makanan, lemahnya koordinasi lintas sektor, dan ketidaksiapan infrastruktur serta sistem pengawasan yang memadai. Kasus berulang ini menunjukkan kegagalan struktural MBG sejak awal pelaksanaannya, serta mencerminkan kelalaian sistemik dalam pengadaan, distribusi, dan pengawasan makanan.\n",
            "Original Answer 4: Sejak awal pelaksanaan MBG, berbagai daerah mengalami kasus keracunan massal akibat konsumsi makanan yang tidak memenuhi standar keamanan pangan. Insiden terjadi di wilayah seperti Cianjur, Sukoharjo, dan daerah lain, menunjukkan kelalaian dalam pengawasan, distribusi, dan pengadaan bahan makanan. Jawaban: Kasus keracunan massal akibat konsumsi makanan dari program tersebut.\n",
            "\n"
          ]
        },
        {
          "output_type": "stream",
          "name": "stderr",
          "text": [
            "OllamaEmbeddings: 100%|██████████| 1/1 [00:00<00:00,  5.63it/s]\n",
            "OllamaEmbeddings: 100%|██████████| 1/1 [00:00<00:00,  4.84it/s]\n",
            "OllamaEmbeddings: 100%|██████████| 1/1 [00:00<00:00,  5.59it/s]\n",
            "OllamaEmbeddings: 100%|██████████| 1/1 [00:00<00:00,  4.75it/s]\n",
            "OllamaEmbeddings: 100%|██████████| 1/1 [00:00<00:00,  5.93it/s]\n",
            "OllamaEmbeddings: 100%|██████████| 1/1 [00:00<00:00,  5.95it/s]\n",
            "OllamaEmbeddings: 100%|██████████| 1/1 [00:00<00:00,  5.77it/s]\n",
            "OllamaEmbeddings: 100%|██████████| 1/1 [00:00<00:00,  6.16it/s]\n",
            "OllamaEmbeddings: 100%|██████████| 1/1 [00:00<00:00,  5.43it/s]\n",
            "OllamaEmbeddings: 100%|██████████| 1/1 [00:00<00:00,  5.49it/s]\n",
            "OllamaEmbeddings: 100%|██████████| 1/1 [00:00<00:00,  6.34it/s]\n",
            "OllamaEmbeddings: 100%|██████████| 1/1 [00:00<00:00,  6.57it/s]\n",
            "OllamaEmbeddings: 100%|██████████| 1/1 [00:00<00:00,  6.35it/s]\n",
            "OllamaEmbeddings: 100%|██████████| 1/1 [00:00<00:00,  6.69it/s]\n",
            "OllamaEmbeddings: 100%|██████████| 1/1 [00:00<00:00,  6.36it/s]\n",
            "OllamaEmbeddings: 100%|██████████| 1/1 [00:00<00:00,  5.84it/s]\n",
            "OllamaEmbeddings: 100%|██████████| 1/1 [00:00<00:00,  4.69it/s]\n",
            "OllamaEmbeddings: 100%|██████████| 1/1 [00:00<00:00,  5.26it/s]\n",
            "OllamaEmbeddings: 100%|██████████| 1/1 [00:00<00:00,  5.41it/s]\n",
            "OllamaEmbeddings: 100%|██████████| 1/1 [00:00<00:00,  5.33it/s]\n",
            "OllamaEmbeddings: 100%|██████████| 1/1 [00:00<00:00,  4.98it/s]\n",
            "OllamaEmbeddings: 100%|██████████| 1/1 [00:00<00:00,  5.21it/s]\n",
            "OllamaEmbeddings: 100%|██████████| 1/1 [00:00<00:00,  5.37it/s]\n",
            "OllamaEmbeddings: 100%|██████████| 1/1 [00:00<00:00,  5.73it/s]\n",
            "OllamaEmbeddings: 100%|██████████| 1/1 [00:00<00:00,  5.75it/s]\n",
            "OllamaEmbeddings: 100%|██████████| 1/1 [00:00<00:00,  5.37it/s]\n",
            "OllamaEmbeddings: 100%|██████████| 1/1 [00:00<00:00,  5.66it/s]\n",
            "OllamaEmbeddings: 100%|██████████| 1/1 [00:00<00:00,  6.42it/s]\n",
            "OllamaEmbeddings: 100%|██████████| 1/1 [00:00<00:00,  6.47it/s]\n",
            "OllamaEmbeddings: 100%|██████████| 1/1 [00:00<00:00,  6.45it/s]\n",
            "OllamaEmbeddings: 100%|██████████| 1/1 [00:00<00:00,  6.26it/s]\n",
            "OllamaEmbeddings: 100%|██████████| 1/1 [00:00<00:00,  6.46it/s]\n"
          ]
        },
        {
          "output_type": "stream",
          "name": "stdout",
          "text": [
            "Question 5: Negara mana yang dijadikan rujukan model MBG oleh pemerintah Indonesia?\n",
            "Generated Answer 5: Negara yang dijadikan rujukan model MBG oleh pemerintah Indonesia adalah **Jepang**. Dokumen menyatakan bahwa MBG merupakan hasil studi dari praktik internasional, terutama Jepang, yang berhasil menerapkan model serupa secara berkelanjutan sejak pasca-Perang Dunia II melalui sistem kyuushoku (makan siang gratis yang ditanamkan dalam budaya pendidikan karakter).\n",
            "Original Answer 5: Pemerintah Indonesia menjadikan Jepang sebagai rujukan utama pelaksanaan MBG. Jepang memiliki sistem makan siang sekolah bernama Kyūshoku yang sudah berlangsung sejak pasca-Perang Dunia II, dengan keberhasilan karena adanya pendidikan gizi, kontrol mutu ketat, dan budaya disiplin di sekolah. Jawaban: Jepang dengan sistem Kyūshoku.\n",
            "\n"
          ]
        },
        {
          "output_type": "stream",
          "name": "stderr",
          "text": [
            "OllamaEmbeddings: 100%|██████████| 1/1 [00:00<00:00,  6.02it/s]\n",
            "OllamaEmbeddings: 100%|██████████| 1/1 [00:00<00:00,  5.16it/s]\n",
            "OllamaEmbeddings: 100%|██████████| 1/1 [00:00<00:00,  5.65it/s]\n",
            "OllamaEmbeddings: 100%|██████████| 1/1 [00:00<00:00,  5.18it/s]\n",
            "OllamaEmbeddings: 100%|██████████| 1/1 [00:00<00:00,  5.91it/s]\n",
            "OllamaEmbeddings: 100%|██████████| 1/1 [00:00<00:00,  5.39it/s]\n",
            "OllamaEmbeddings: 100%|██████████| 1/1 [00:00<00:00,  5.18it/s]\n",
            "OllamaEmbeddings: 100%|██████████| 1/1 [00:00<00:00,  6.62it/s]\n",
            "OllamaEmbeddings: 100%|██████████| 1/1 [00:00<00:00,  6.23it/s]\n",
            "OllamaEmbeddings: 100%|██████████| 1/1 [00:00<00:00,  6.05it/s]\n",
            "OllamaEmbeddings: 100%|██████████| 1/1 [00:00<00:00,  6.34it/s]\n",
            "OllamaEmbeddings: 100%|██████████| 1/1 [00:00<00:00,  5.78it/s]\n",
            "OllamaEmbeddings: 100%|██████████| 1/1 [00:00<00:00,  6.22it/s]\n",
            "OllamaEmbeddings: 100%|██████████| 1/1 [00:00<00:00,  6.13it/s]\n",
            "OllamaEmbeddings: 100%|██████████| 1/1 [00:00<00:00,  4.46it/s]\n",
            "OllamaEmbeddings: 100%|██████████| 1/1 [00:00<00:00,  4.31it/s]\n",
            "OllamaEmbeddings: 100%|██████████| 1/1 [00:00<00:00,  4.60it/s]\n",
            "OllamaEmbeddings: 100%|██████████| 1/1 [00:00<00:00,  6.50it/s]\n",
            "OllamaEmbeddings: 100%|██████████| 1/1 [00:00<00:00,  6.43it/s]\n",
            "OllamaEmbeddings: 100%|██████████| 1/1 [00:00<00:00,  6.43it/s]\n",
            "OllamaEmbeddings: 100%|██████████| 1/1 [00:00<00:00,  5.57it/s]\n",
            "OllamaEmbeddings: 100%|██████████| 1/1 [00:00<00:00,  6.11it/s]\n",
            "OllamaEmbeddings: 100%|██████████| 1/1 [00:00<00:00,  5.51it/s]\n"
          ]
        },
        {
          "output_type": "stream",
          "name": "stdout",
          "text": [
            "Question 6: Mengapa replikasi model Jepang dalam MBG dinilai bermasalah di Indonesia?\n",
            "Generated Answer 6: Replikasi model Jepang dalam MBG dinilai bermasalah di Indonesia karena beberapa alasan:  \n",
            "1. **Perbedaan Konteks Sosial dan Infrastruktur**: Indonesia belum memiliki dasar institusional, kapasitas kelembagaan, dan infrastruktur sanitasi yang memadai (seperti akses air bersih, fasilitas cuci tangan, dan toilet layak) seperti Jepang. Hal ini meningkatkan risiko keracunan makanan.  \n",
            "2. **Kesiapan Implementasi yang Tidak Memadai**: Program MBG dijalankan terlalu cepat tanpa fondasi implementasi yang kokoh, menyebabkan kegagalan sistemik seperti insiden keracunan massal di beberapa daerah (Sukabumi, Lampung, Balikpapan).  \n",
            "3. **Ketidakmampuan Regulasi dan Pengawasan**: Kebijakan adopsi tidak disertai regulasi yang kuat, pengawasan mutu, dan transparansi pelaporan, sehingga memicu penyimpangan dan kelalaian sistemik dalam pengadaan, distribusi, dan konsumsi makanan.  \n",
            "4. **Fokus pada Angka Partisipasi, Bukan Dampak**: Pemerintah lebih menekankan cakupan program daripada kualitas dan dampaknya, menyebabkan kebijakan hanya berada di level administratif tanpa perubahan nyata di lapangan.  \n",
            "5. **Krisis Legitimasi dan Distraksi Publik**: Ketidakpuasan masyarakat terhadap keberhasilan MBG memicu krisis legitimasi, menunjukkan kegagalan negara dalam membangun ekosistem pendukung yang sehat bagi pertumbuhan anak-anak.  Keseluruhan ini menunjukkan bahwa replikasi model Jepang tanpa adaptasi konteks lokal dan persiapan yang matang berisiko mengancam kesehatan publik dan kepercayaan masyarakat.\n",
            "Original Answer 6: Replikasi model Jepang dalam MBG dinilai bermasalah karena tidak memperhitungkan konteks sosial, ekonomi, dan kelembagaan Indonesia. Kesiapan infrastruktur, sanitasi, serta pengawasan pangan di Indonesia masih lemah, sementara Jepang memiliki sistem pendidikan dan kesehatan yang jauh lebih mapan. Akibatnya, model tersebut sulit diadaptasi secara efektif. Jawaban: Karena kurangnya kesiapan infrastruktur, pengawasan, dan pemahaman konteks sosial-ekonomi Indonesia.\n",
            "\n"
          ]
        },
        {
          "output_type": "stream",
          "name": "stderr",
          "text": [
            "OllamaEmbeddings: 100%|██████████| 1/1 [00:00<00:00,  6.07it/s]\n",
            "OllamaEmbeddings: 100%|██████████| 1/1 [00:00<00:00,  4.81it/s]\n",
            "OllamaEmbeddings: 100%|██████████| 1/1 [00:00<00:00,  5.40it/s]\n",
            "OllamaEmbeddings: 100%|██████████| 1/1 [00:00<00:00,  5.53it/s]\n",
            "OllamaEmbeddings: 100%|██████████| 1/1 [00:00<00:00,  5.15it/s]\n",
            "OllamaEmbeddings: 100%|██████████| 1/1 [00:00<00:00,  4.11it/s]\n",
            "OllamaEmbeddings: 100%|██████████| 1/1 [00:00<00:00,  5.20it/s]\n",
            "OllamaEmbeddings: 100%|██████████| 1/1 [00:00<00:00,  5.21it/s]\n",
            "OllamaEmbeddings: 100%|██████████| 1/1 [00:00<00:00,  5.99it/s]\n",
            "OllamaEmbeddings: 100%|██████████| 1/1 [00:00<00:00,  6.38it/s]\n",
            "OllamaEmbeddings: 100%|██████████| 1/1 [00:00<00:00,  5.82it/s]\n",
            "OllamaEmbeddings: 100%|██████████| 1/1 [00:00<00:00,  5.99it/s]\n",
            "OllamaEmbeddings: 100%|██████████| 1/1 [00:00<00:00,  5.67it/s]\n",
            "OllamaEmbeddings: 100%|██████████| 1/1 [00:00<00:00,  5.82it/s]\n",
            "OllamaEmbeddings: 100%|██████████| 1/1 [00:00<00:00,  5.94it/s]\n",
            "OllamaEmbeddings: 100%|██████████| 1/1 [00:00<00:00,  5.96it/s]\n",
            "OllamaEmbeddings: 100%|██████████| 1/1 [00:00<00:00,  4.14it/s]\n",
            "OllamaEmbeddings: 100%|██████████| 1/1 [00:00<00:00,  4.72it/s]\n",
            "OllamaEmbeddings: 100%|██████████| 1/1 [00:00<00:00,  5.06it/s]\n",
            "OllamaEmbeddings: 100%|██████████| 1/1 [00:00<00:00,  5.22it/s]\n",
            "OllamaEmbeddings: 100%|██████████| 1/1 [00:00<00:00,  5.07it/s]\n",
            "OllamaEmbeddings: 100%|██████████| 1/1 [00:00<00:00,  4.39it/s]\n",
            "OllamaEmbeddings: 100%|██████████| 1/1 [00:00<00:00,  5.03it/s]\n",
            "OllamaEmbeddings: 100%|██████████| 1/1 [00:00<00:00,  6.80it/s]\n",
            "OllamaEmbeddings: 100%|██████████| 1/1 [00:00<00:00,  6.15it/s]\n",
            "OllamaEmbeddings: 100%|██████████| 1/1 [00:00<00:00,  6.06it/s]\n",
            "OllamaEmbeddings: 100%|██████████| 1/1 [00:00<00:00,  5.56it/s]\n",
            "OllamaEmbeddings: 100%|██████████| 1/1 [00:00<00:00,  5.86it/s]\n",
            "OllamaEmbeddings: 100%|██████████| 1/1 [00:00<00:00,  6.21it/s]\n",
            "OllamaEmbeddings: 100%|██████████| 1/1 [00:00<00:00,  4.47it/s]\n",
            "OllamaEmbeddings: 100%|██████████| 1/1 [00:00<00:00,  6.53it/s]\n",
            "OllamaEmbeddings: 100%|██████████| 1/1 [00:00<00:00,  6.51it/s]\n",
            "OllamaEmbeddings: 100%|██████████| 1/1 [00:00<00:00,  6.17it/s]\n",
            "OllamaEmbeddings: 100%|██████████| 1/1 [00:00<00:00,  6.20it/s]\n",
            "OllamaEmbeddings: 100%|██████████| 1/1 [00:00<00:00,  6.16it/s]\n",
            "OllamaEmbeddings: 100%|██████████| 1/1 [00:00<00:00,  6.36it/s]\n"
          ]
        },
        {
          "output_type": "stream",
          "name": "stdout",
          "text": [
            "Question 7: Apa saja faktor penyebab utama keracunan makanan dalam program MBG menurut jurnal?\n",
            "Generated Answer 7: Berdasarkan jurnal tersebut, faktor penyebab utama keracunan makanan dalam program MBG meliputi:  \n",
            "1. **Kelalaian sistemik dalam pengelolaan pangan**: Terdapat kelemahan di seluruh rantai distribusi, mulai dari pengadaan bahan makanan, distribusi, hingga pengawasan akhir di titik konsumsi.  \n",
            "2. **Kurangnya kesiapan infrastruktur dan pengawasan lokal**: Replikasi model internasional (seperti Jepang) tidak disertai dengan adaptasi konteks sosial, ekonomi, dan kapasitas kelembagaan Indonesia.  \n",
            "3. **Tidak adanya regulasi yang jelas**: Program MBG diluncurkan tanpa peraturan presiden atau undang-undang khusus, sehingga mekanisme penegakan hukum dan standar operasional menjadi kabur.  \n",
            "4. **Koordinasi lintas sektor yang lemah**: Kegagalan koordinasi antara Kementerian Pendidikan, Kesehatan, dan pemerintah daerah memperparah masalah pengawasan kualitas makanan.  \n",
            "5. **Fokus pada cakupan administratif daripada kualitas**: Pemerintah lebih menekankan angka partisipasi dan cakupan program ketimbang dampak nyata, menyebabkan kebijakan berhenti di tingkat administratif tanpa perbaikan di lapangan.  Faktor-faktor ini menciptakan celah untuk kegagalan struktural dalam pengelolaan program MBG, yang berujung pada keracunan massal dan risiko kesehatan publik.\n",
            "Original Answer 7: Jurnal menjelaskan bahwa penyebab utama keracunan makanan berasal dari kelalaian dalam pengadaan bahan, penyimpanan tidak higienis, distribusi yang tidak memenuhi standar, serta lemahnya pengawasan di sekolah. Banyak penyedia katering tidak memiliki fasilitas memadai untuk menjaga keamanan pangan. Jawaban: Kelalaian dalam pengadaan bahan makanan, distribusi, kurangnya pengawasan, dan fasilitas penyimpanan yang tidak memadai.\n",
            "\n"
          ]
        },
        {
          "output_type": "stream",
          "name": "stderr",
          "text": [
            "OllamaEmbeddings: 100%|██████████| 1/1 [00:00<00:00,  5.97it/s]\n",
            "OllamaEmbeddings: 100%|██████████| 1/1 [00:00<00:00,  4.26it/s]\n",
            "OllamaEmbeddings: 100%|██████████| 1/1 [00:00<00:00,  5.16it/s]\n",
            "OllamaEmbeddings: 100%|██████████| 1/1 [00:00<00:00,  4.20it/s]\n",
            "OllamaEmbeddings: 100%|██████████| 1/1 [00:00<00:00,  4.93it/s]\n",
            "OllamaEmbeddings: 100%|██████████| 1/1 [00:00<00:00,  4.57it/s]\n",
            "OllamaEmbeddings: 100%|██████████| 1/1 [00:00<00:00,  6.30it/s]\n",
            "OllamaEmbeddings: 100%|██████████| 1/1 [00:00<00:00,  6.07it/s]\n",
            "OllamaEmbeddings: 100%|██████████| 1/1 [00:00<00:00,  6.82it/s]\n",
            "OllamaEmbeddings: 100%|██████████| 1/1 [00:00<00:00,  6.85it/s]\n",
            "OllamaEmbeddings: 100%|██████████| 1/1 [00:00<00:00,  4.19it/s]\n",
            "OllamaEmbeddings: 100%|██████████| 1/1 [00:00<00:00,  4.39it/s]\n",
            "OllamaEmbeddings: 100%|██████████| 1/1 [00:00<00:00,  3.29it/s]\n",
            "OllamaEmbeddings: 100%|██████████| 1/1 [00:00<00:00,  3.24it/s]\n",
            "OllamaEmbeddings: 100%|██████████| 1/1 [00:00<00:00,  4.15it/s]\n",
            "OllamaEmbeddings: 100%|██████████| 1/1 [00:00<00:00,  4.01it/s]\n",
            "OllamaEmbeddings: 100%|██████████| 1/1 [00:00<00:00,  4.12it/s]\n",
            "OllamaEmbeddings: 100%|██████████| 1/1 [00:00<00:00,  3.88it/s]\n",
            "OllamaEmbeddings: 100%|██████████| 1/1 [00:00<00:00,  3.81it/s]\n",
            "OllamaEmbeddings: 100%|██████████| 1/1 [00:00<00:00,  3.94it/s]\n",
            "OllamaEmbeddings: 100%|██████████| 1/1 [00:00<00:00,  3.38it/s]\n",
            "OllamaEmbeddings: 100%|██████████| 1/1 [00:00<00:00,  6.08it/s]\n",
            "OllamaEmbeddings: 100%|██████████| 1/1 [00:00<00:00,  5.44it/s]\n",
            "OllamaEmbeddings: 100%|██████████| 1/1 [00:00<00:00,  6.73it/s]\n",
            "OllamaEmbeddings: 100%|██████████| 1/1 [00:00<00:00,  6.50it/s]\n",
            "OllamaEmbeddings: 100%|██████████| 1/1 [00:00<00:00,  6.77it/s]\n",
            "OllamaEmbeddings: 100%|██████████| 1/1 [00:00<00:00,  5.92it/s]\n",
            "OllamaEmbeddings: 100%|██████████| 1/1 [00:00<00:00,  6.51it/s]\n",
            "OllamaEmbeddings: 100%|██████████| 1/1 [00:00<00:00,  5.40it/s]\n",
            "OllamaEmbeddings: 100%|██████████| 1/1 [00:00<00:00,  6.46it/s]\n",
            "OllamaEmbeddings: 100%|██████████| 1/1 [00:00<00:00,  6.56it/s]\n",
            "OllamaEmbeddings: 100%|██████████| 1/1 [00:00<00:00,  6.79it/s]\n",
            "OllamaEmbeddings: 100%|██████████| 1/1 [00:00<00:00,  6.54it/s]\n",
            "OllamaEmbeddings: 100%|██████████| 1/1 [00:00<00:00,  6.64it/s]\n",
            "OllamaEmbeddings: 100%|██████████| 1/1 [00:00<00:00,  6.74it/s]\n",
            "OllamaEmbeddings: 100%|██████████| 1/1 [00:00<00:00,  3.75it/s]\n",
            "OllamaEmbeddings: 100%|██████████| 1/1 [00:00<00:00,  2.61it/s]\n",
            "OllamaEmbeddings: 100%|██████████| 1/1 [00:00<00:00,  3.79it/s]\n",
            "OllamaEmbeddings: 100%|██████████| 1/1 [00:00<00:00,  4.78it/s]\n",
            "OllamaEmbeddings: 100%|██████████| 1/1 [00:00<00:00,  3.56it/s]\n",
            "OllamaEmbeddings: 100%|██████████| 1/1 [00:00<00:00,  5.58it/s]\n",
            "OllamaEmbeddings: 100%|██████████| 1/1 [00:00<00:00,  6.62it/s]\n",
            "OllamaEmbeddings: 100%|██████████| 1/1 [00:00<00:00,  6.70it/s]\n",
            "OllamaEmbeddings: 100%|██████████| 1/1 [00:00<00:00,  6.76it/s]\n",
            "OllamaEmbeddings: 100%|██████████| 1/1 [00:00<00:00,  6.65it/s]\n",
            "OllamaEmbeddings: 100%|██████████| 1/1 [00:00<00:00,  6.68it/s]\n",
            "OllamaEmbeddings: 100%|██████████| 1/1 [00:00<00:00,  6.69it/s]\n"
          ]
        },
        {
          "output_type": "stream",
          "name": "stdout",
          "text": [
            "Question 8: Apa yang dimaksud dengan moral hazard dalam konteks MBG?\n",
            "Generated Answer 8: Dalam konteks MBG (Bantuan Pangan Sekolah), **moral hazard** merujuk pada potensi risiko yang muncul akibat penyedia jasa katering yang lebih mengejar keuntungan pribadi daripada memperhatikan standar keamanan pangan. Hal ini terjadi karena kurangnya pengawasan, kontrol sosial, dan kelembagaan yang efektif, sehingga menyebabkan penyedia jasa mengabaikan protokol keselamatan makanan. Akibatnya, muncul kasus seperti keracunan massal akibat makanan yang disiapkan dalam jumlah besar tanpa fasilitas yang memadai. Moral hazard dalam MBG juga mencerminkan kegagalan sistem pengawasan dan transparansi, yang memperbesar risiko ancaman kesehatan publik.\n",
            "Original Answer 8: Dalam konteks MBG, moral hazard muncul ketika penyedia katering atau pelaksana program mengejar keuntungan finansial dengan mengabaikan standar keamanan pangan. Fenomena ini diperparah oleh lemahnya pengawasan dan kurangnya partisipasi publik dalam kontrol mutu program. Jawaban: Penyedia katering mengejar keuntungan dengan mengabaikan standar keamanan pangan.\n",
            "\n"
          ]
        },
        {
          "output_type": "stream",
          "name": "stderr",
          "text": [
            "OllamaEmbeddings: 100%|██████████| 1/1 [00:00<00:00,  6.07it/s]\n",
            "OllamaEmbeddings: 100%|██████████| 1/1 [00:00<00:00,  5.46it/s]\n",
            "OllamaEmbeddings: 100%|██████████| 1/1 [00:00<00:00,  5.46it/s]\n",
            "OllamaEmbeddings: 100%|██████████| 1/1 [00:00<00:00,  5.47it/s]\n",
            "OllamaEmbeddings: 100%|██████████| 1/1 [00:00<00:00,  5.36it/s]\n",
            "OllamaEmbeddings: 100%|██████████| 1/1 [00:00<00:00,  4.16it/s]\n",
            "OllamaEmbeddings: 100%|██████████| 1/1 [00:00<00:00,  3.33it/s]\n",
            "OllamaEmbeddings: 100%|██████████| 1/1 [00:00<00:00,  4.21it/s]\n",
            "OllamaEmbeddings: 100%|██████████| 1/1 [00:00<00:00,  3.45it/s]\n",
            "OllamaEmbeddings: 100%|██████████| 1/1 [00:00<00:00,  4.31it/s]\n",
            "OllamaEmbeddings: 100%|██████████| 1/1 [00:00<00:00,  3.58it/s]\n",
            "OllamaEmbeddings: 100%|██████████| 1/1 [00:00<00:00,  3.15it/s]\n",
            "OllamaEmbeddings: 100%|██████████| 1/1 [00:00<00:00,  3.26it/s]\n",
            "OllamaEmbeddings: 100%|██████████| 1/1 [00:00<00:00,  3.52it/s]\n",
            "OllamaEmbeddings: 100%|██████████| 1/1 [00:00<00:00,  3.74it/s]\n",
            "OllamaEmbeddings: 100%|██████████| 1/1 [00:00<00:00,  3.28it/s]\n",
            "OllamaEmbeddings: 100%|██████████| 1/1 [00:00<00:00,  3.71it/s]\n",
            "OllamaEmbeddings: 100%|██████████| 1/1 [00:00<00:00,  3.98it/s]\n",
            "OllamaEmbeddings: 100%|██████████| 1/1 [00:00<00:00,  3.92it/s]\n",
            "OllamaEmbeddings: 100%|██████████| 1/1 [00:00<00:00,  3.82it/s]\n",
            "OllamaEmbeddings: 100%|██████████| 1/1 [00:00<00:00,  5.71it/s]\n",
            "OllamaEmbeddings: 100%|██████████| 1/1 [00:00<00:00,  6.02it/s]\n",
            "OllamaEmbeddings: 100%|██████████| 1/1 [00:00<00:00,  5.90it/s]\n",
            "OllamaEmbeddings: 100%|██████████| 1/1 [00:00<00:00,  5.52it/s]\n",
            "OllamaEmbeddings: 100%|██████████| 1/1 [00:00<00:00,  5.90it/s]\n",
            "OllamaEmbeddings: 100%|██████████| 1/1 [00:00<00:00,  5.74it/s]\n",
            "OllamaEmbeddings: 100%|██████████| 1/1 [00:00<00:00,  6.17it/s]\n",
            "OllamaEmbeddings: 100%|██████████| 1/1 [00:00<00:00,  6.64it/s]\n",
            "OllamaEmbeddings: 100%|██████████| 1/1 [00:00<00:00,  6.25it/s]\n",
            "OllamaEmbeddings: 100%|██████████| 1/1 [00:00<00:00,  6.02it/s]\n",
            "OllamaEmbeddings: 100%|██████████| 1/1 [00:00<00:00,  5.97it/s]\n",
            "OllamaEmbeddings: 100%|██████████| 1/1 [00:00<00:00,  5.83it/s]\n",
            "OllamaEmbeddings: 100%|██████████| 1/1 [00:00<00:00,  5.80it/s]\n"
          ]
        },
        {
          "output_type": "stream",
          "name": "stdout",
          "text": [
            "Question 9: Mengapa tanggung jawab hukum dalam kasus keracunan MBG sering kabur?\n",
            "Generated Answer 9: Tanggung jawab hukum dalam kasus keracunan MBG sering kabur karena beberapa alasan yang dijelaskan dalam konteks:  1. **Ketidakhadiran Regulasi yang Jelas**: Program MBG diluncurkan tanpa peraturan presiden atau undang-undang khusus, sehingga mekanisme penegakan hukum menjadi tidak jelas. Hal ini menyebabkan ketidakpastian siapa yang bertanggung jawab, baik penyedia makanan, kepala sekolah, maupun pemerintah daerah.  2. **Kurangnya Standar Operasional Baku**: Tidak adanya standar operasional baku dan mekanisme sanksi yang jelas membuat pengawasan dan penegakan hukum sulit dilakukan. Penyedia jasa katering yang tidak memenuhi standar sanitasi atau keamanan pangan tidak memiliki dasar hukum yang jelas untuk diproses secara pidana atau perdata.  3. **Kaburnya Otoritas dan Tanggung Jawab**: Ketidakjelasan otoritas antara pihak-pihak terkait (misalnya, pemerintah pusat, daerah, dan penyedia makanan) berpotensi memperpanjang penderitaan korban dan menghambat penyelesaian kasus secara adil.  4. **Potensi Penyalahgunaan untuk Tujuan Politik**: Persepsi bahwa program ini lebih bersifat politis daripada substansial membuat tanggung jawab hukum menjadi kabur, karena pelaksanaan program mungkin dipertanyakan sebagai upaya populisme elektoral.  Ketidakhadiran kerangka hukum yang memadai dan pengawasan yang tidak ketat menjadi penyebab utama ketidakjelasan tanggung jawab hukum dalam kasus keracunan MBG.\n",
            "Original Answer 9: Tanggung jawab hukum kabur karena belum ada regulasi khusus yang mengatur pembagian peran antara penyedia makanan, sekolah, dan pemerintah daerah. Ketika terjadi insiden, tidak jelas siapa yang bertanggung jawab secara hukum atas kelalaian dalam distribusi atau pengawasan. Jawaban: Karena tidak adanya regulasi khusus, sehingga tidak jelas apakah tanggung jawab ada pada penyedia makanan, kepala sekolah, atau pemerintah daerah.\n",
            "\n"
          ]
        },
        {
          "output_type": "stream",
          "name": "stderr",
          "text": [
            "OllamaEmbeddings: 100%|██████████| 1/1 [00:00<00:00,  3.78it/s]\n",
            "OllamaEmbeddings: 100%|██████████| 1/1 [00:00<00:00,  2.72it/s]\n",
            "OllamaEmbeddings: 100%|██████████| 1/1 [00:00<00:00,  3.32it/s]\n",
            "OllamaEmbeddings: 100%|██████████| 1/1 [00:00<00:00,  3.36it/s]\n",
            "OllamaEmbeddings: 100%|██████████| 1/1 [00:00<00:00,  3.35it/s]\n",
            "OllamaEmbeddings: 100%|██████████| 1/1 [00:00<00:00,  3.03it/s]\n",
            "OllamaEmbeddings: 100%|██████████| 1/1 [00:00<00:00,  3.79it/s]\n",
            "OllamaEmbeddings: 100%|██████████| 1/1 [00:00<00:00,  4.20it/s]\n",
            "OllamaEmbeddings: 100%|██████████| 1/1 [00:00<00:00,  3.96it/s]\n",
            "OllamaEmbeddings: 100%|██████████| 1/1 [00:00<00:00,  6.42it/s]\n",
            "OllamaEmbeddings: 100%|██████████| 1/1 [00:00<00:00,  6.29it/s]\n",
            "OllamaEmbeddings: 100%|██████████| 1/1 [00:00<00:00,  6.58it/s]\n",
            "OllamaEmbeddings: 100%|██████████| 1/1 [00:00<00:00,  4.68it/s]\n",
            "OllamaEmbeddings: 100%|██████████| 1/1 [00:00<00:00,  6.65it/s]\n",
            "OllamaEmbeddings: 100%|██████████| 1/1 [00:00<00:00,  6.33it/s]\n",
            "OllamaEmbeddings: 100%|██████████| 1/1 [00:00<00:00,  6.24it/s]\n",
            "OllamaEmbeddings: 100%|██████████| 1/1 [00:00<00:00,  6.17it/s]\n",
            "OllamaEmbeddings: 100%|██████████| 1/1 [00:00<00:00,  6.00it/s]\n",
            "OllamaEmbeddings: 100%|██████████| 1/1 [00:00<00:00,  6.09it/s]\n",
            "OllamaEmbeddings: 100%|██████████| 1/1 [00:00<00:00,  6.31it/s]\n",
            "OllamaEmbeddings: 100%|██████████| 1/1 [00:00<00:00,  5.00it/s]\n",
            "OllamaEmbeddings: 100%|██████████| 1/1 [00:00<00:00,  5.41it/s]\n",
            "OllamaEmbeddings: 100%|██████████| 1/1 [00:00<00:00,  5.52it/s]\n",
            "OllamaEmbeddings: 100%|██████████| 1/1 [00:00<00:00,  5.98it/s]\n",
            "OllamaEmbeddings: 100%|██████████| 1/1 [00:00<00:00,  5.98it/s]\n",
            "OllamaEmbeddings: 100%|██████████| 1/1 [00:00<00:00,  6.22it/s]\n",
            "OllamaEmbeddings: 100%|██████████| 1/1 [00:00<00:00,  5.52it/s]\n",
            "OllamaEmbeddings: 100%|██████████| 1/1 [00:00<00:00,  5.96it/s]\n",
            "OllamaEmbeddings: 100%|██████████| 1/1 [00:00<00:00,  5.79it/s]\n",
            "OllamaEmbeddings: 100%|██████████| 1/1 [00:00<00:00,  6.27it/s]\n",
            "OllamaEmbeddings: 100%|██████████| 1/1 [00:00<00:00,  6.21it/s]\n",
            "OllamaEmbeddings: 100%|██████████| 1/1 [00:00<00:00,  6.29it/s]\n",
            "OllamaEmbeddings: 100%|██████████| 1/1 [00:00<00:00,  6.34it/s]\n"
          ]
        },
        {
          "output_type": "stream",
          "name": "stdout",
          "text": [
            "Question 10: Apa dasar hukum yang mengatur hak anak sebagai konsumen di Indonesia?\n",
            "Generated Answer 10: Dasar hukum yang mengatur hak anak sebagai konsumen di Indonesia terutama diatur oleh **Undang-Undang Nomor 8 Tahun 1999 tentang Perlindungan Konsumen** (UU No. 8/1999). Dalam UU ini, konsumen, termasuk anak-anak, berhak atas kenyamanan, keamanan, dan keselamatan dalam mengonsumsi barang/jasa (Pasal 4 huruf a). Anak-anak sebagai penerima manfaat program Makan Siang Bergizi Gratis (MBG) dianggap memiliki posisi hukum sebagai konsumen, sehingga hak mereka untuk mendapatkan makanan yang layak dikonsumsi dijamin oleh UU tersebut. Selain itu, **Konstitusi Republik Indonesia Tahun 1945** juga menjadi dasar hukum. Pasal 31 UUD 1945 menjamin hak setiap orang untuk hidup sejahtera lahir dan batin, termasuk hak atas lingkungan hidup yang baik dan sehat. Hak atas makanan bergizi dan aman merupakan derivasi langsung dari hak ini. Ketentuan tambahan terkait standar keamanan makanan merujuk pada peraturan teknis dari **Badan Pengawas Obat dan Makanan (BPOM)** serta **Kementerian Kesehatan**. Jika makanan dalam program MBG tidak memenuhi standar, penyedia jasa katering dan pemerintah dapat dikenai sanksi hukum, termasuk pidana dan perdata.\n",
            "Original Answer 10: Hak anak sebagai konsumen dilindungi oleh Undang-Undang Nomor 8 Tahun 1999 tentang Perlindungan Konsumen. UU ini menjamin hak anak untuk mendapatkan barang dan jasa yang aman, termasuk makanan sekolah, serta melarang penyedia memproduksi makanan yang tidak memenuhi standar keamanan pangan. Jawaban: Undang-Undang No. 8 Tahun 1999 tentang Perlindungan Konsumen.\n",
            "\n"
          ]
        },
        {
          "output_type": "stream",
          "name": "stderr",
          "text": [
            "OllamaEmbeddings: 100%|██████████| 1/1 [00:00<00:00,  6.17it/s]\n",
            "OllamaEmbeddings: 100%|██████████| 1/1 [00:00<00:00,  4.81it/s]\n",
            "OllamaEmbeddings: 100%|██████████| 1/1 [00:00<00:00,  3.28it/s]\n",
            "OllamaEmbeddings: 100%|██████████| 1/1 [00:00<00:00,  4.49it/s]\n",
            "OllamaEmbeddings: 100%|██████████| 1/1 [00:00<00:00,  4.80it/s]\n",
            "OllamaEmbeddings: 100%|██████████| 1/1 [00:00<00:00,  3.96it/s]\n",
            "OllamaEmbeddings: 100%|██████████| 1/1 [00:00<00:00,  3.82it/s]\n",
            "OllamaEmbeddings: 100%|██████████| 1/1 [00:00<00:00,  3.65it/s]\n",
            "OllamaEmbeddings: 100%|██████████| 1/1 [00:00<00:00,  3.42it/s]\n",
            "OllamaEmbeddings: 100%|██████████| 1/1 [00:00<00:00,  3.32it/s]\n",
            "OllamaEmbeddings: 100%|██████████| 1/1 [00:00<00:00,  3.38it/s]\n",
            "OllamaEmbeddings: 100%|██████████| 1/1 [00:00<00:00,  3.52it/s]\n",
            "OllamaEmbeddings: 100%|██████████| 1/1 [00:00<00:00,  2.59it/s]\n",
            "OllamaEmbeddings: 100%|██████████| 1/1 [00:00<00:00,  3.37it/s]\n",
            "OllamaEmbeddings: 100%|██████████| 1/1 [00:00<00:00,  4.28it/s]\n",
            "OllamaEmbeddings: 100%|██████████| 1/1 [00:00<00:00,  5.31it/s]\n",
            "OllamaEmbeddings: 100%|██████████| 1/1 [00:00<00:00,  5.49it/s]\n",
            "OllamaEmbeddings: 100%|██████████| 1/1 [00:00<00:00,  5.41it/s]\n",
            "OllamaEmbeddings: 100%|██████████| 1/1 [00:00<00:00,  5.15it/s]\n",
            "OllamaEmbeddings: 100%|██████████| 1/1 [00:00<00:00,  6.11it/s]\n",
            "OllamaEmbeddings: 100%|██████████| 1/1 [00:00<00:00,  5.35it/s]\n",
            "OllamaEmbeddings: 100%|██████████| 1/1 [00:00<00:00,  3.56it/s]\n",
            "OllamaEmbeddings: 100%|██████████| 1/1 [00:00<00:00,  3.56it/s]\n",
            "OllamaEmbeddings: 100%|██████████| 1/1 [00:00<00:00,  3.69it/s]\n",
            "OllamaEmbeddings: 100%|██████████| 1/1 [00:00<00:00,  3.26it/s]\n",
            "OllamaEmbeddings: 100%|██████████| 1/1 [00:00<00:00,  3.23it/s]\n",
            "OllamaEmbeddings: 100%|██████████| 1/1 [00:00<00:00,  4.22it/s]\n",
            "OllamaEmbeddings: 100%|██████████| 1/1 [00:00<00:00,  3.36it/s]\n",
            "OllamaEmbeddings: 100%|██████████| 1/1 [00:00<00:00,  3.46it/s]\n",
            "OllamaEmbeddings: 100%|██████████| 1/1 [00:00<00:00,  3.49it/s]\n",
            "OllamaEmbeddings: 100%|██████████| 1/1 [00:00<00:00,  4.10it/s]\n",
            "OllamaEmbeddings: 100%|██████████| 1/1 [00:00<00:00,  5.48it/s]\n"
          ]
        },
        {
          "output_type": "stream",
          "name": "stdout",
          "text": [
            "Question 11: Bagaimana bentuk tanggung jawab negara menurut Pasal 111 ayat (2) UU No. 36 Tahun 2009 tentang Kesehatan?\n",
            "Generated Answer 11: Berdasarkan Pasal 111 ayat (2) UU No. 36 Tahun 2009 tentang Kesehatan, tanggung jawab negara berbentuk kewajiban untuk menjamin ketersediaan pangan yang **aman, bermutu, bergizi, dan tidak membahayakan kesehatan masyarakat**. Jika terjadi pelanggaran, seperti keracunan makanan dalam program pemerintah (misalnya program MAKAN SIANG BERGIZI GRATIS), negara **tidak dapat melepaskan diri dari tanggung jawab hukum**. Tanggung jawab ini mencakup pengawasan seluruh rantai distribusi makanan, mulai dari pemilihan penyedia jasa katering, pengawasan bahan baku, proses penyimpanan, pengemasan, hingga distribusi ke sekolah-sekolah. Kegagalan dalam mengelola dan mengawasi proses tersebut dianggap sebagai **kelalaian yang menimbulkan akibat hukum**, sehingga negara dapat dipertanggungjawabkan secara administratif maupun yudisial.\n",
            "Original Answer 11: Menurut Pasal 111 ayat (2) UU No. 36 Tahun 2009, pemerintah bertanggung jawab atas ketersediaan pangan yang aman, bergizi, bermutu, dan tidak membahayakan kesehatan masyarakat. Dalam konteks MBG, hal ini berarti negara wajib memastikan seluruh rantai penyediaan makanan memenuhi standar kesehatan. Jawaban: Negara bertanggung jawab atas ketersediaan pangan yang aman, bermutu, bergizi, dan tidak membahayakan kesehatan masyarakat.\n",
            "\n"
          ]
        },
        {
          "output_type": "stream",
          "name": "stderr",
          "text": [
            "OllamaEmbeddings: 100%|██████████| 1/1 [00:00<00:00,  5.50it/s]\n",
            "OllamaEmbeddings: 100%|██████████| 1/1 [00:00<00:00,  5.68it/s]\n",
            "OllamaEmbeddings: 100%|██████████| 1/1 [00:00<00:00,  5.52it/s]\n",
            "OllamaEmbeddings: 100%|██████████| 1/1 [00:00<00:00,  5.87it/s]\n",
            "OllamaEmbeddings: 100%|██████████| 1/1 [00:00<00:00,  5.44it/s]\n",
            "OllamaEmbeddings: 100%|██████████| 1/1 [00:00<00:00,  5.43it/s]\n",
            "OllamaEmbeddings: 100%|██████████| 1/1 [00:00<00:00,  4.67it/s]\n",
            "OllamaEmbeddings: 100%|██████████| 1/1 [00:00<00:00,  6.67it/s]\n",
            "OllamaEmbeddings: 100%|██████████| 1/1 [00:00<00:00,  6.14it/s]\n",
            "OllamaEmbeddings: 100%|██████████| 1/1 [00:00<00:00,  5.98it/s]\n",
            "OllamaEmbeddings: 100%|██████████| 1/1 [00:00<00:00,  6.02it/s]\n",
            "OllamaEmbeddings: 100%|██████████| 1/1 [00:00<00:00,  6.22it/s]\n",
            "OllamaEmbeddings: 100%|██████████| 1/1 [00:00<00:00,  5.50it/s]\n",
            "OllamaEmbeddings: 100%|██████████| 1/1 [00:00<00:00,  5.02it/s]\n",
            "OllamaEmbeddings: 100%|██████████| 1/1 [00:00<00:00,  6.31it/s]\n",
            "OllamaEmbeddings: 100%|██████████| 1/1 [00:00<00:00,  6.00it/s]\n",
            "OllamaEmbeddings: 100%|██████████| 1/1 [00:00<00:00,  5.92it/s]\n",
            "OllamaEmbeddings: 100%|██████████| 1/1 [00:00<00:00,  5.92it/s]\n",
            "OllamaEmbeddings: 100%|██████████| 1/1 [00:00<00:00,  6.07it/s]\n",
            "OllamaEmbeddings: 100%|██████████| 1/1 [00:00<00:00,  5.97it/s]\n",
            "OllamaEmbeddings: 100%|██████████| 1/1 [00:00<00:00,  5.87it/s]\n",
            "OllamaEmbeddings: 100%|██████████| 1/1 [00:00<00:00,  5.58it/s]\n",
            "OllamaEmbeddings: 100%|██████████| 1/1 [00:00<00:00,  5.55it/s]\n",
            "OllamaEmbeddings: 100%|██████████| 1/1 [00:00<00:00,  4.95it/s]\n",
            "OllamaEmbeddings: 100%|██████████| 1/1 [00:00<00:00,  6.21it/s]\n",
            "OllamaEmbeddings: 100%|██████████| 1/1 [00:00<00:00,  6.45it/s]\n",
            "OllamaEmbeddings: 100%|██████████| 1/1 [00:00<00:00,  6.28it/s]\n",
            "OllamaEmbeddings: 100%|██████████| 1/1 [00:00<00:00,  5.04it/s]\n",
            "OllamaEmbeddings: 100%|██████████| 1/1 [00:00<00:00,  4.46it/s]\n",
            "OllamaEmbeddings: 100%|██████████| 1/1 [00:00<00:00,  3.57it/s]\n",
            "OllamaEmbeddings: 100%|██████████| 1/1 [00:00<00:00,  3.77it/s]\n",
            "OllamaEmbeddings: 100%|██████████| 1/1 [00:00<00:00,  3.68it/s]\n",
            "OllamaEmbeddings: 100%|██████████| 1/1 [00:00<00:00,  3.47it/s]\n",
            "OllamaEmbeddings: 100%|██████████| 1/1 [00:00<00:00,  3.53it/s]\n"
          ]
        },
        {
          "output_type": "stream",
          "name": "stdout",
          "text": [
            "Question 12: Apa contoh negara berkembang yang berhasil mengintegrasikan program makan siang gratis ke dalam sistem pendidikan?\n",
            "Generated Answer 12: Contoh negara berkembang yang berhasil mengintegrasikan program makan siang gratis ke dalam sistem pendidikan adalah **Brazil**. Brazil memiliki sistem layanan kesehatan universal sebelum meluncurkan Program Nasional Pangan Sekolah (PNAE), yang menjadi pelopor dalam mengintegrasikan hak atas pangan ke dalam sistem pendidikan. Model ini tidak hanya memastikan akses makanan yang aman dan bergizi bagi siswa, tetapi juga memberdayakan petani lokal sebagai pemasok utama, serta mengurangi korupsi dan ketidakadilan struktural.\n",
            "Original Answer 12: Brasil menjadi contoh sukses melalui Program Nacional de Alimentação Escolar (PNAE). Program ini mengintegrasikan penyediaan makanan bergizi dengan sistem pendidikan dan melibatkan pemerintah daerah serta petani lokal sebagai pemasok utama, menciptakan sinergi antara gizi, pendidikan, dan ekonomi lokal. Jawaban: Brasil melalui Program Nacional de Alimentação Escolar (PNAE).\n",
            "\n"
          ]
        },
        {
          "output_type": "stream",
          "name": "stderr",
          "text": [
            "OllamaEmbeddings: 100%|██████████| 1/1 [00:00<00:00,  5.90it/s]\n",
            "OllamaEmbeddings: 100%|██████████| 1/1 [00:00<00:00,  4.89it/s]\n",
            "OllamaEmbeddings: 100%|██████████| 1/1 [00:00<00:00,  4.87it/s]\n",
            "OllamaEmbeddings: 100%|██████████| 1/1 [00:00<00:00,  4.94it/s]\n",
            "OllamaEmbeddings: 100%|██████████| 1/1 [00:00<00:00,  5.45it/s]\n",
            "OllamaEmbeddings: 100%|██████████| 1/1 [00:00<00:00,  6.44it/s]\n",
            "OllamaEmbeddings: 100%|██████████| 1/1 [00:00<00:00,  6.40it/s]\n",
            "OllamaEmbeddings: 100%|██████████| 1/1 [00:00<00:00,  6.41it/s]\n",
            "OllamaEmbeddings: 100%|██████████| 1/1 [00:00<00:00,  6.39it/s]\n",
            "OllamaEmbeddings: 100%|██████████| 1/1 [00:00<00:00,  6.37it/s]\n",
            "OllamaEmbeddings: 100%|██████████| 1/1 [00:00<00:00,  4.83it/s]\n",
            "OllamaEmbeddings: 100%|██████████| 1/1 [00:00<00:00,  5.36it/s]\n",
            "OllamaEmbeddings: 100%|██████████| 1/1 [00:00<00:00,  6.04it/s]\n",
            "OllamaEmbeddings: 100%|██████████| 1/1 [00:00<00:00,  6.33it/s]\n",
            "OllamaEmbeddings: 100%|██████████| 1/1 [00:00<00:00,  6.31it/s]\n",
            "OllamaEmbeddings: 100%|██████████| 1/1 [00:00<00:00,  6.17it/s]\n",
            "OllamaEmbeddings: 100%|██████████| 1/1 [00:00<00:00,  6.18it/s]\n",
            "OllamaEmbeddings: 100%|██████████| 1/1 [00:00<00:00,  6.16it/s]\n",
            "OllamaEmbeddings: 100%|██████████| 1/1 [00:00<00:00,  6.05it/s]\n",
            "OllamaEmbeddings: 100%|██████████| 1/1 [00:00<00:00,  6.00it/s]\n",
            "OllamaEmbeddings: 100%|██████████| 1/1 [00:00<00:00,  3.55it/s]\n",
            "OllamaEmbeddings: 100%|██████████| 1/1 [00:00<00:00,  3.70it/s]\n",
            "OllamaEmbeddings: 100%|██████████| 1/1 [00:00<00:00,  3.74it/s]\n",
            "OllamaEmbeddings: 100%|██████████| 1/1 [00:00<00:00,  3.48it/s]\n",
            "OllamaEmbeddings: 100%|██████████| 1/1 [00:00<00:00,  3.46it/s]\n",
            "OllamaEmbeddings: 100%|██████████| 1/1 [00:00<00:00,  3.65it/s]\n",
            "OllamaEmbeddings: 100%|██████████| 1/1 [00:00<00:00,  3.28it/s]\n",
            "OllamaEmbeddings: 100%|██████████| 1/1 [00:00<00:00,  3.74it/s]\n",
            "OllamaEmbeddings: 100%|██████████| 1/1 [00:00<00:00,  3.44it/s]\n",
            "OllamaEmbeddings: 100%|██████████| 1/1 [00:00<00:00,  3.62it/s]\n",
            "OllamaEmbeddings: 100%|██████████| 1/1 [00:00<00:00,  5.69it/s]\n",
            "OllamaEmbeddings: 100%|██████████| 1/1 [00:00<00:00,  5.83it/s]\n",
            "OllamaEmbeddings: 100%|██████████| 1/1 [00:00<00:00,  5.75it/s]\n"
          ]
        },
        {
          "output_type": "stream",
          "name": "stdout",
          "text": [
            "Question 13: Apa masalah utama yang muncul dalam Midday Meal Scheme di India?\n",
            "Generated Answer 13: Masalah utama yang muncul dalam Midday Meal Scheme di India adalah **korupsi sistemik dan kelemahan tata kelola kebijakan**, yang mencakup praktik mafia pangan yang merusak rantai distribusi makanan, kualitas bahan makanan yang buruk, serta kurangnya pengawasan yang efektif. Hal ini menyebabkan insiden keracunan massal dan kegagalan program, seperti kasus di Bihar yang menewaskan lebih dari 20 siswa. Selain itu, kebijakan ini juga terhambat oleh lemahnya lembaga pengawasan dan ketidakmampuan pemerintah untuk memastikan transparansi dalam pengelolaan dana serta koordinasi lintas sektor.\n",
            "Original Answer 13: Masalah utama dalam program Midday Meal Scheme di India adalah banyaknya kasus keracunan massal karena bahan makanan berkualitas buruk, lemahnya pengawasan, serta keterlibatan mafia pangan. Hal ini menunjukkan bahwa kebijakan sosial tanpa pengawasan efektif rentan gagal. Jawaban: Kasus keracunan massal akibat kualitas bahan makanan yang buruk, lemahnya pengawasan, dan praktik mafia pangan.\n",
            "\n"
          ]
        },
        {
          "output_type": "stream",
          "name": "stderr",
          "text": [
            "OllamaEmbeddings: 100%|██████████| 1/1 [00:00<00:00,  3.69it/s]\n",
            "OllamaEmbeddings: 100%|██████████| 1/1 [00:00<00:00,  3.46it/s]\n",
            "OllamaEmbeddings: 100%|██████████| 1/1 [00:00<00:00,  3.41it/s]\n",
            "OllamaEmbeddings: 100%|██████████| 1/1 [00:00<00:00,  3.57it/s]\n",
            "OllamaEmbeddings: 100%|██████████| 1/1 [00:00<00:00,  3.39it/s]\n",
            "OllamaEmbeddings: 100%|██████████| 1/1 [00:00<00:00,  4.06it/s]\n",
            "OllamaEmbeddings: 100%|██████████| 1/1 [00:00<00:00,  3.85it/s]\n",
            "OllamaEmbeddings: 100%|██████████| 1/1 [00:00<00:00,  4.11it/s]\n",
            "OllamaEmbeddings: 100%|██████████| 1/1 [00:00<00:00,  6.42it/s]\n",
            "OllamaEmbeddings: 100%|██████████| 1/1 [00:00<00:00,  5.66it/s]\n",
            "OllamaEmbeddings: 100%|██████████| 1/1 [00:00<00:00,  4.51it/s]\n",
            "OllamaEmbeddings: 100%|██████████| 1/1 [00:00<00:00,  3.57it/s]\n",
            "OllamaEmbeddings: 100%|██████████| 1/1 [00:00<00:00,  3.77it/s]\n",
            "OllamaEmbeddings: 100%|██████████| 1/1 [00:00<00:00,  3.57it/s]\n",
            "OllamaEmbeddings: 100%|██████████| 1/1 [00:00<00:00,  3.64it/s]\n",
            "OllamaEmbeddings: 100%|██████████| 1/1 [00:00<00:00,  3.67it/s]\n",
            "OllamaEmbeddings: 100%|██████████| 1/1 [00:00<00:00,  3.61it/s]\n",
            "OllamaEmbeddings: 100%|██████████| 1/1 [00:00<00:00,  3.73it/s]\n",
            "OllamaEmbeddings: 100%|██████████| 1/1 [00:00<00:00,  3.74it/s]\n",
            "OllamaEmbeddings: 100%|██████████| 1/1 [00:00<00:00,  3.36it/s]\n",
            "OllamaEmbeddings: 100%|██████████| 1/1 [00:00<00:00,  3.62it/s]\n",
            "OllamaEmbeddings: 100%|██████████| 1/1 [00:00<00:00,  3.37it/s]\n",
            "OllamaEmbeddings: 100%|██████████| 1/1 [00:00<00:00,  3.32it/s]\n",
            "OllamaEmbeddings: 100%|██████████| 1/1 [00:00<00:00,  3.59it/s]\n",
            "OllamaEmbeddings: 100%|██████████| 1/1 [00:00<00:00,  5.10it/s]\n",
            "OllamaEmbeddings: 100%|██████████| 1/1 [00:00<00:00,  4.77it/s]\n",
            "OllamaEmbeddings: 100%|██████████| 1/1 [00:00<00:00,  5.55it/s]\n",
            "OllamaEmbeddings: 100%|██████████| 1/1 [00:00<00:00,  6.62it/s]\n",
            "OllamaEmbeddings: 100%|██████████| 1/1 [00:00<00:00,  5.66it/s]\n",
            "OllamaEmbeddings: 100%|██████████| 1/1 [00:00<00:00,  6.49it/s]\n",
            "OllamaEmbeddings: 100%|██████████| 1/1 [00:00<00:00,  6.42it/s]\n",
            "OllamaEmbeddings: 100%|██████████| 1/1 [00:00<00:00,  6.23it/s]\n",
            "OllamaEmbeddings: 100%|██████████| 1/1 [00:00<00:00,  6.34it/s]\n"
          ]
        },
        {
          "output_type": "stream",
          "name": "stdout",
          "text": [
            "Question 14: Berapa besar anggaran yang dialokasikan pemerintah Indonesia untuk program Makan Siang Gratis?\n",
            "Generated Answer 14: Berdasarkan dokumen yang disediakan, pemerintah Indonesia mengalokasikan anggaran sebesar **Rp71 triliun** untuk program Makan Siang Gratis bagi 82,9 juta penerima, seperti yang disebutkan dalam dokumen dengan ID `0fd6514c-59b8-424d-a276-59e9cecdfeea`.\n",
            "Original Answer 14: Pemerintah Indonesia mengalokasikan sekitar Rp71 triliun untuk program MBG, dengan sasaran 82,9 juta penerima di seluruh jenjang pendidikan dasar dan menengah. Anggaran besar ini menunjukkan skala nasional program, namun juga menimbulkan risiko penyimpangan jika tidak diawasi ketat. Jawaban: Rp71 triliun untuk 82,9 juta penerima.\n",
            "\n"
          ]
        },
        {
          "output_type": "stream",
          "name": "stderr",
          "text": [
            "OllamaEmbeddings: 100%|██████████| 1/1 [00:00<00:00,  6.13it/s]\n",
            "OllamaEmbeddings: 100%|██████████| 1/1 [00:00<00:00,  5.14it/s]\n",
            "OllamaEmbeddings: 100%|██████████| 1/1 [00:00<00:00,  5.50it/s]\n",
            "OllamaEmbeddings: 100%|██████████| 1/1 [00:00<00:00,  6.36it/s]\n",
            "OllamaEmbeddings: 100%|██████████| 1/1 [00:00<00:00,  5.63it/s]\n",
            "OllamaEmbeddings: 100%|██████████| 1/1 [00:00<00:00,  6.47it/s]\n",
            "OllamaEmbeddings: 100%|██████████| 1/1 [00:00<00:00,  6.30it/s]\n",
            "OllamaEmbeddings: 100%|██████████| 1/1 [00:00<00:00,  6.63it/s]\n",
            "OllamaEmbeddings: 100%|██████████| 1/1 [00:00<00:00,  5.49it/s]\n",
            "OllamaEmbeddings: 100%|██████████| 1/1 [00:00<00:00,  6.38it/s]\n",
            "OllamaEmbeddings: 100%|██████████| 1/1 [00:00<00:00,  6.16it/s]\n",
            "OllamaEmbeddings: 100%|██████████| 1/1 [00:00<00:00,  4.92it/s]\n",
            "OllamaEmbeddings: 100%|██████████| 1/1 [00:00<00:00,  5.68it/s]\n",
            "OllamaEmbeddings: 100%|██████████| 1/1 [00:00<00:00,  5.35it/s]\n",
            "OllamaEmbeddings: 100%|██████████| 1/1 [00:00<00:00,  5.64it/s]\n",
            "OllamaEmbeddings: 100%|██████████| 1/1 [00:00<00:00,  6.06it/s]\n",
            "OllamaEmbeddings: 100%|██████████| 1/1 [00:00<00:00,  4.37it/s]\n",
            "OllamaEmbeddings: 100%|██████████| 1/1 [00:00<00:00,  5.02it/s]\n",
            "OllamaEmbeddings: 100%|██████████| 1/1 [00:00<00:00,  5.43it/s]\n",
            "OllamaEmbeddings: 100%|██████████| 1/1 [00:00<00:00,  5.51it/s]\n",
            "OllamaEmbeddings: 100%|██████████| 1/1 [00:00<00:00,  5.50it/s]\n",
            "OllamaEmbeddings: 100%|██████████| 1/1 [00:00<00:00,  6.52it/s]\n",
            "OllamaEmbeddings: 100%|██████████| 1/1 [00:00<00:00,  6.22it/s]\n",
            "OllamaEmbeddings: 100%|██████████| 1/1 [00:00<00:00,  6.39it/s]\n",
            "OllamaEmbeddings: 100%|██████████| 1/1 [00:00<00:00,  6.52it/s]\n",
            "OllamaEmbeddings: 100%|██████████| 1/1 [00:00<00:00,  6.58it/s]\n",
            "OllamaEmbeddings: 100%|██████████| 1/1 [00:00<00:00,  5.05it/s]\n",
            "OllamaEmbeddings: 100%|██████████| 1/1 [00:00<00:00,  5.90it/s]\n",
            "OllamaEmbeddings: 100%|██████████| 1/1 [00:00<00:00,  5.98it/s]\n",
            "OllamaEmbeddings: 100%|██████████| 1/1 [00:00<00:00,  6.20it/s]\n",
            "OllamaEmbeddings: 100%|██████████| 1/1 [00:00<00:00,  6.05it/s]\n",
            "OllamaEmbeddings: 100%|██████████| 1/1 [00:00<00:00,  5.99it/s]\n",
            "OllamaEmbeddings: 100%|██████████| 1/1 [00:00<00:00,  6.19it/s]\n",
            "OllamaEmbeddings: 100%|██████████| 1/1 [00:00<00:00,  6.28it/s]\n",
            "OllamaEmbeddings: 100%|██████████| 1/1 [00:00<00:00,  5.62it/s]\n"
          ]
        },
        {
          "output_type": "stream",
          "name": "stdout",
          "text": [
            "Question 15: Apa kritik utama terhadap MBG terkait anggaran pendidikan?\n",
            "Generated Answer 15: Kritik utama terhadap MBG terkait anggaran pendidikan adalah:  \n",
            "1. **Pemindahan Dana BOS ke Program Makan Siang**: Dana Bantuan Operasional Sekolah (BOS) yang seharusnya mendukung operasional sekolah dialihkan untuk program makan siang, menyebabkan pengurangan kegiatan belajar-mengajar dan keterbatasan dana bagi sekolah.  \n",
            "2. **Korupsi dan Penyimpangan Anggaran**: Terdapat praktik korupsi seperti manipulasi tender, mark-up harga bahan makanan, dan kolusi antara pejabat lokal dengan penyedia jasa. Anggaran sekolah juga tidak transparan, memicu penyalahgunaan dana.  \n",
            "3. **Kurangnya Fokus pada Kualitas Pendidikan**: Pemerintah lebih menekankan cakupan program daripada kualitas pendidikan, sehingga anggaran pendidikan tidak dialokasikan untuk meningkatkan infrastruktur, tenaga pengajar, atau layanan pendidikan berkualitas.  Kritik ini menunjukkan bahwa MBG tidak hanya menghadapi masalah logistik, tetapi juga kelemahan dalam pengelolaan anggaran pendidikan yang berdampak pada keseriusan upaya peningkatan kualitas pendidikan.\n",
            "Original Answer 15: Kritik utama terhadap MBG adalah adanya pengalihan dana Bantuan Operasional Sekolah (BOS) untuk pembiayaan makan siang, sehingga kegiatan belajar-mengajar terganggu. Beberapa laporan juga menunjukkan munculnya kembali praktik pungutan liar di sekolah akibat kekurangan dana operasional. Jawaban: Dana BOS dialihkan untuk program makan siang, sehingga kegiatan belajar-mengajar terganggu dan pungutan liar kembali muncul.\n",
            "\n"
          ]
        },
        {
          "output_type": "stream",
          "name": "stderr",
          "text": [
            "OllamaEmbeddings: 100%|██████████| 1/1 [00:00<00:00,  6.04it/s]\n",
            "OllamaEmbeddings: 100%|██████████| 1/1 [00:00<00:00,  5.08it/s]\n",
            "OllamaEmbeddings: 100%|██████████| 1/1 [00:00<00:00,  5.04it/s]\n",
            "OllamaEmbeddings: 100%|██████████| 1/1 [00:00<00:00,  5.15it/s]\n",
            "OllamaEmbeddings: 100%|██████████| 1/1 [00:00<00:00,  4.92it/s]\n",
            "OllamaEmbeddings: 100%|██████████| 1/1 [00:00<00:00,  4.97it/s]\n",
            "OllamaEmbeddings: 100%|██████████| 1/1 [00:00<00:00,  6.50it/s]\n",
            "OllamaEmbeddings: 100%|██████████| 1/1 [00:00<00:00,  6.21it/s]\n",
            "OllamaEmbeddings: 100%|██████████| 1/1 [00:00<00:00,  5.92it/s]\n",
            "OllamaEmbeddings: 100%|██████████| 1/1 [00:00<00:00,  5.62it/s]\n",
            "OllamaEmbeddings: 100%|██████████| 1/1 [00:00<00:00,  5.74it/s]\n",
            "OllamaEmbeddings: 100%|██████████| 1/1 [00:00<00:00,  5.65it/s]\n",
            "OllamaEmbeddings: 100%|██████████| 1/1 [00:00<00:00,  5.85it/s]\n",
            "OllamaEmbeddings: 100%|██████████| 1/1 [00:00<00:00,  5.80it/s]\n",
            "OllamaEmbeddings: 100%|██████████| 1/1 [00:00<00:00,  4.42it/s]\n",
            "OllamaEmbeddings: 100%|██████████| 1/1 [00:00<00:00,  5.28it/s]\n",
            "OllamaEmbeddings: 100%|██████████| 1/1 [00:00<00:00,  3.57it/s]\n",
            "OllamaEmbeddings: 100%|██████████| 1/1 [00:00<00:00,  3.85it/s]\n",
            "OllamaEmbeddings: 100%|██████████| 1/1 [00:00<00:00,  3.45it/s]\n",
            "OllamaEmbeddings: 100%|██████████| 1/1 [00:00<00:00,  3.28it/s]\n",
            "OllamaEmbeddings: 100%|██████████| 1/1 [00:00<00:00,  3.83it/s]\n",
            "OllamaEmbeddings: 100%|██████████| 1/1 [00:00<00:00,  3.36it/s]\n",
            "OllamaEmbeddings: 100%|██████████| 1/1 [00:00<00:00,  3.53it/s]\n",
            "OllamaEmbeddings: 100%|██████████| 1/1 [00:00<00:00,  3.49it/s]\n",
            "OllamaEmbeddings: 100%|██████████| 1/1 [00:00<00:00,  3.75it/s]\n",
            "OllamaEmbeddings: 100%|██████████| 1/1 [00:00<00:00,  3.59it/s]\n"
          ]
        },
        {
          "output_type": "stream",
          "name": "stdout",
          "text": [
            "Question 16: Apa prinsip utama dalam pengadaan barang/jasa pemerintah menurut UU No. 2 Tahun 2017?\n",
            "Generated Answer 16: Berdasarkan konteks yang diberikan, prinsip utama dalam pengadaan barang/jasa pemerintah menurut Undang-Undang Republik Indonesia No. 2 Tahun 2017 adalah **asas-asas umum pemerintahan yang baik (AUPB)**, yang mencakup prinsip **kepastian hukum, kehati-hatian, dan akuntabilitas**. Prinsip-prinsip ini menjadi pedoman dalam pelaksanaan pengadaan barang/jasa dan menjadi dasar untuk mengajukan upaya administratif atau yudisial jika terjadi pelanggaran. Selain itu, dokumen juga menyebutkan prinsip **Rule of Law** dan **keadilan sosial** sebagai panduan dalam pengelolaan kebijakan publik, tetapi ini lebih bersifat kontekstual daripada ketentuan spesifik dalam UU No. 2 Tahun 2017.\n",
            "Original Answer 16: UU No. 2 Tahun 2017 menegaskan bahwa pengadaan barang/jasa pemerintah harus berlandaskan pada prinsip transparansi, efisiensi, dan akuntabilitas. Dalam konteks MBG, prinsip ini penting untuk mencegah praktik korupsi dan kolusi dalam pengadaan makanan. Jawaban: Transparansi, efisiensi, dan akuntabilitas.\n",
            "\n"
          ]
        },
        {
          "output_type": "stream",
          "name": "stderr",
          "text": [
            "OllamaEmbeddings: 100%|██████████| 1/1 [00:00<00:00,  5.92it/s]\n",
            "OllamaEmbeddings: 100%|██████████| 1/1 [00:00<00:00,  4.34it/s]\n",
            "OllamaEmbeddings: 100%|██████████| 1/1 [00:00<00:00,  5.92it/s]\n",
            "OllamaEmbeddings: 100%|██████████| 1/1 [00:00<00:00,  5.01it/s]\n",
            "OllamaEmbeddings: 100%|██████████| 1/1 [00:00<00:00,  3.60it/s]\n",
            "OllamaEmbeddings: 100%|██████████| 1/1 [00:00<00:00,  3.78it/s]\n",
            "OllamaEmbeddings: 100%|██████████| 1/1 [00:00<00:00,  4.37it/s]\n",
            "OllamaEmbeddings: 100%|██████████| 1/1 [00:00<00:00,  3.24it/s]\n",
            "OllamaEmbeddings: 100%|██████████| 1/1 [00:00<00:00,  3.67it/s]\n",
            "OllamaEmbeddings: 100%|██████████| 1/1 [00:00<00:00,  3.65it/s]\n",
            "OllamaEmbeddings: 100%|██████████| 1/1 [00:00<00:00,  3.93it/s]\n",
            "OllamaEmbeddings: 100%|██████████| 1/1 [00:00<00:00,  3.31it/s]\n",
            "OllamaEmbeddings: 100%|██████████| 1/1 [00:00<00:00,  3.51it/s]\n",
            "OllamaEmbeddings: 100%|██████████| 1/1 [00:00<00:00,  3.47it/s]\n",
            "OllamaEmbeddings: 100%|██████████| 1/1 [00:00<00:00,  5.43it/s]\n",
            "OllamaEmbeddings: 100%|██████████| 1/1 [00:00<00:00,  5.79it/s]\n",
            "OllamaEmbeddings: 100%|██████████| 1/1 [00:00<00:00,  5.48it/s]\n",
            "OllamaEmbeddings: 100%|██████████| 1/1 [00:00<00:00,  4.75it/s]\n",
            "OllamaEmbeddings: 100%|██████████| 1/1 [00:00<00:00,  5.92it/s]\n",
            "OllamaEmbeddings: 100%|██████████| 1/1 [00:00<00:00,  5.84it/s]\n",
            "OllamaEmbeddings: 100%|██████████| 1/1 [00:00<00:00,  5.98it/s]\n",
            "OllamaEmbeddings: 100%|██████████| 1/1 [00:00<00:00,  6.09it/s]\n",
            "OllamaEmbeddings: 100%|██████████| 1/1 [00:00<00:00,  6.03it/s]\n",
            "OllamaEmbeddings: 100%|██████████| 1/1 [00:00<00:00,  6.09it/s]\n",
            "OllamaEmbeddings: 100%|██████████| 1/1 [00:00<00:00,  5.56it/s]\n",
            "OllamaEmbeddings: 100%|██████████| 1/1 [00:00<00:00,  5.01it/s]\n",
            "OllamaEmbeddings: 100%|██████████| 1/1 [00:00<00:00,  5.39it/s]\n",
            "OllamaEmbeddings: 100%|██████████| 1/1 [00:00<00:00,  6.39it/s]\n",
            "OllamaEmbeddings: 100%|██████████| 1/1 [00:00<00:00,  6.52it/s]\n",
            "OllamaEmbeddings: 100%|██████████| 1/1 [00:00<00:00,  6.42it/s]\n",
            "OllamaEmbeddings: 100%|██████████| 1/1 [00:00<00:00,  5.88it/s]\n",
            "OllamaEmbeddings: 100%|██████████| 1/1 [00:00<00:00,  6.47it/s]\n",
            "OllamaEmbeddings: 100%|██████████| 1/1 [00:00<00:00,  3.57it/s]\n",
            "OllamaEmbeddings: 100%|██████████| 1/1 [00:00<00:00,  6.32it/s]\n",
            "OllamaEmbeddings: 100%|██████████| 1/1 [00:00<00:00,  6.45it/s]\n",
            "OllamaEmbeddings: 100%|██████████| 1/1 [00:00<00:00,  6.33it/s]\n",
            "OllamaEmbeddings: 100%|██████████| 1/1 [00:00<00:00,  5.86it/s]\n",
            "OllamaEmbeddings: 100%|██████████| 1/1 [00:00<00:00,  6.40it/s]\n",
            "OllamaEmbeddings: 100%|██████████| 1/1 [00:00<00:00,  6.58it/s]\n"
          ]
        },
        {
          "output_type": "stream",
          "name": "stdout",
          "text": [
            "Question 17: Mengapa partisipasi publik penting dalam pelaksanaan MBG?\n",
            "Generated Answer 17: Partisipasi publik penting dalam pelaksanaan Program Bantuan Makanan (MBG) karena beberapa alasan:  \n",
            "1. **Demokrasi Substansial**: Partisipasi warga sebagai subjek dalam penyusunan dan pelaksanaan kebijakan publik adalah prinsip demokrasi substansial, bukan sekadar prosedur formal (Habermas, 1996). Tanpa keterlibatan masyarakat, program berisiko menimbulkan resistensi dan ketidakpercayaan yang menghambat keberhasilan.  \n",
            "2. **Pencegahan Penyalahgunaan**: Partisipasi menjadi instrumen kontrol sosial untuk mencegah pelaksanaan program disalahgunakan, seperti korupsi atau manipulasi tender (Hartati, 2024).  \n",
            "3. **Desain Sesuai Kebutuhan Lokal**: Libatkan orang tua siswa, komite sekolah, dan masyarakat dalam perencanaan dan evaluasi agar program lebih sesuai dengan kebutuhan lokal dan budaya setempat.  \n",
            "4. **Akuntabilitas dan Transparansi**: Publikasi laporan keuangan dan pelaksanaan program secara berkala, serta mekanisme pengaduan, memastikan akuntabilitas penyelenggara dan mengurangi risiko penyalahgunaan anggaran.  \n",
            "5. **Menghindari Krisis Legitimasi**: Partisipasi masyarakat memperkuat kepercayaan terhadap program, mencegah krisis legitimasi yang muncul dari ketidakpuasan publik terhadap kebijakan yang tidak transparan atau tidak inklusif.  Tanpa partisipasi, MBG berisiko mengulangi kesalahan korupsi dan etika tata kelola seperti yang terjadi dalam program bantuan sosial sebelumnya di Indonesia.\n",
            "Original Answer 17: Partisipasi publik penting agar masyarakat, orang tua, dan sekolah dapat terlibat dalam perencanaan dan pengawasan MBG. Pelibatan publik meningkatkan legitimasi, mencegah penyalahgunaan, dan memastikan program sesuai kebutuhan lokal serta budaya pangan setempat. Jawaban: Untuk memastikan program sesuai kebutuhan lokal, meningkatkan kontrol sosial, dan mencegah penyalahgunaan.\n",
            "\n"
          ]
        },
        {
          "output_type": "stream",
          "name": "stderr",
          "text": [
            "OllamaEmbeddings: 100%|██████████| 1/1 [00:00<00:00,  5.88it/s]\n",
            "OllamaEmbeddings: 100%|██████████| 1/1 [00:00<00:00,  4.65it/s]\n",
            "OllamaEmbeddings: 100%|██████████| 1/1 [00:00<00:00,  4.13it/s]\n",
            "OllamaEmbeddings: 100%|██████████| 1/1 [00:00<00:00,  5.08it/s]\n",
            "OllamaEmbeddings: 100%|██████████| 1/1 [00:00<00:00,  6.59it/s]\n",
            "OllamaEmbeddings: 100%|██████████| 1/1 [00:00<00:00,  5.70it/s]\n",
            "OllamaEmbeddings: 100%|██████████| 1/1 [00:00<00:00,  5.89it/s]\n",
            "OllamaEmbeddings: 100%|██████████| 1/1 [00:00<00:00,  6.16it/s]\n",
            "OllamaEmbeddings: 100%|██████████| 1/1 [00:00<00:00,  5.11it/s]\n",
            "OllamaEmbeddings: 100%|██████████| 1/1 [00:00<00:00,  3.71it/s]\n",
            "OllamaEmbeddings: 100%|██████████| 1/1 [00:00<00:00,  3.07it/s]\n",
            "OllamaEmbeddings: 100%|██████████| 1/1 [00:00<00:00,  3.85it/s]\n",
            "OllamaEmbeddings: 100%|██████████| 1/1 [00:00<00:00,  3.96it/s]\n",
            "OllamaEmbeddings: 100%|██████████| 1/1 [00:00<00:00,  3.92it/s]\n",
            "OllamaEmbeddings: 100%|██████████| 1/1 [00:00<00:00,  3.79it/s]\n",
            "OllamaEmbeddings: 100%|██████████| 1/1 [00:00<00:00,  3.78it/s]\n",
            "OllamaEmbeddings: 100%|██████████| 1/1 [00:00<00:00,  3.94it/s]\n",
            "OllamaEmbeddings: 100%|██████████| 1/1 [00:00<00:00,  5.97it/s]\n",
            "OllamaEmbeddings: 100%|██████████| 1/1 [00:00<00:00,  4.75it/s]\n",
            "OllamaEmbeddings: 100%|██████████| 1/1 [00:00<00:00,  5.38it/s]\n",
            "OllamaEmbeddings: 100%|██████████| 1/1 [00:00<00:00,  5.78it/s]\n",
            "OllamaEmbeddings: 100%|██████████| 1/1 [00:00<00:00,  5.92it/s]\n",
            "OllamaEmbeddings: 100%|██████████| 1/1 [00:00<00:00,  6.14it/s]\n",
            "OllamaEmbeddings: 100%|██████████| 1/1 [00:00<00:00,  6.10it/s]\n",
            "OllamaEmbeddings: 100%|██████████| 1/1 [00:00<00:00,  4.95it/s]\n",
            "OllamaEmbeddings: 100%|██████████| 1/1 [00:00<00:00,  4.75it/s]\n",
            "OllamaEmbeddings: 100%|██████████| 1/1 [00:00<00:00,  6.48it/s]\n",
            "OllamaEmbeddings: 100%|██████████| 1/1 [00:00<00:00,  6.73it/s]\n",
            "OllamaEmbeddings: 100%|██████████| 1/1 [00:00<00:00,  6.23it/s]\n",
            "OllamaEmbeddings: 100%|██████████| 1/1 [00:00<00:00,  6.62it/s]\n",
            "OllamaEmbeddings: 100%|██████████| 1/1 [00:00<00:00,  5.72it/s]\n",
            "OllamaEmbeddings: 100%|██████████| 1/1 [00:00<00:00,  6.32it/s]\n"
          ]
        },
        {
          "output_type": "stream",
          "name": "stdout",
          "text": [
            "Question 18: Apa risiko terbesar jika MBG tidak dikelola dengan transparan?\n",
            "Generated Answer 18: Berdasarkan konteks, risiko terbesar jika MBG tidak dikelola dengan transparan adalah **kerusakan sistemik yang mencakup korupsi, moral hazard, dan erosi kepercayaan publik**. Berikut penjelasannya:1. **Korupsi dan Penyalahgunaan Dana**:  \n",
            "   - Program MBG berpotensi menjadi ladang baru korupsi, seperti manipulasi tender, mark-up harga bahan makanan, dan kolusi antara pejabat lokal dengan penyedia jasa (dokumen 29b3f969-fa3d-47f8-891b-80380c39a659).  \n",
            "   - Ketidaktahuan tentang standar dan asal makanan juga memudahkan praktik penyimpangan.2. **Moral Hazard dan Bahaya Kesehatan**:  \n",
            "   - Penyedia jasa katering mungkin mengejar keuntungan semata tanpa memperhatikan standar keamanan pangan, menyebabkan risiko keracunan yang lebih besar (dokumen 7c827adb-0060-4a9d-bc01-1d630dc9e723).  \n",
            "   - Jumlah korban keracunan yang tidak tercatat dengan akurat menunjukkan upaya minimisasi masalah sistemik untuk menjaga citra pemerintah.3. **Ketidakpastian Hukum dan Ketidakadilan**:  \n",
            "   - Tidak adanya regulasi khusus dan mekanisme sanksi jelas membuat tanggung jawab hukum menjadi kabur (dokumen 474382fb-6b58-4dd8-8949-32d0fd115c3a).  \n",
            "   - Kasus keracunan bisa terlambat ditangani, memperparah penderitaan korban dan merusak kepercayaan masyarakat.4. **Erosi Kepercayaan Publik**:  \n",
            "   - Ketidaktransparan memicu persepsi bahwa MBG bersifat politis dan tidak substansial, meningkatkan risiko pembangkangan sosial terhadap program negara (dokumen 474382fb-6b58-4dd8-8949-32d0fd115c3a).  \n",
            "   - Ini berpotensi memperburuk krisis kepercayaan terhadap pemerintah (dokumen acc31b40-24e5-410e-8735-8e130766ced7).**Kesimpulan**: Risiko terbesar adalah **kerusakan sistemik yang menggabungkan korupsi, bahaya kesehatan, dan hilangnya kepercayaan publik**, yang dapat merusak tujuan utama program MBG, yaitu pengentasan kelaparan dan peningkatan gizi.\n",
            "Original Answer 18: Tanpa transparansi, program MBG berisiko tinggi mengalami praktik korupsi, kolusi, dan nepotisme. Ketertutupan informasi juga menurunkan kepercayaan publik terhadap pemerintah dan berpotensi menimbulkan pembangkangan sosial. Jawaban: Korupsi, kolusi, nepotisme, serta menurunnya kepercayaan publik terhadap pemerintah.\n",
            "\n"
          ]
        },
        {
          "output_type": "stream",
          "name": "stderr",
          "text": [
            "OllamaEmbeddings: 100%|██████████| 1/1 [00:00<00:00,  5.81it/s]\n",
            "OllamaEmbeddings: 100%|██████████| 1/1 [00:00<00:00,  4.35it/s]\n",
            "OllamaEmbeddings: 100%|██████████| 1/1 [00:00<00:00,  5.40it/s]\n",
            "OllamaEmbeddings: 100%|██████████| 1/1 [00:00<00:00,  4.44it/s]\n",
            "OllamaEmbeddings: 100%|██████████| 1/1 [00:00<00:00,  6.64it/s]\n",
            "OllamaEmbeddings: 100%|██████████| 1/1 [00:00<00:00,  6.75it/s]\n",
            "OllamaEmbeddings: 100%|██████████| 1/1 [00:00<00:00,  5.95it/s]\n",
            "OllamaEmbeddings: 100%|██████████| 1/1 [00:00<00:00,  6.71it/s]\n",
            "OllamaEmbeddings: 100%|██████████| 1/1 [00:00<00:00,  6.50it/s]\n",
            "OllamaEmbeddings: 100%|██████████| 1/1 [00:00<00:00,  4.40it/s]\n",
            "OllamaEmbeddings: 100%|██████████| 1/1 [00:00<00:00,  6.52it/s]\n",
            "OllamaEmbeddings: 100%|██████████| 1/1 [00:00<00:00,  6.23it/s]\n",
            "OllamaEmbeddings: 100%|██████████| 1/1 [00:00<00:00,  5.56it/s]\n",
            "OllamaEmbeddings: 100%|██████████| 1/1 [00:00<00:00,  6.14it/s]\n",
            "OllamaEmbeddings: 100%|██████████| 1/1 [00:00<00:00,  5.90it/s]\n",
            "OllamaEmbeddings: 100%|██████████| 1/1 [00:00<00:00,  6.04it/s]\n",
            "OllamaEmbeddings: 100%|██████████| 1/1 [00:00<00:00,  6.02it/s]\n",
            "OllamaEmbeddings: 100%|██████████| 1/1 [00:00<00:00,  4.76it/s]\n",
            "OllamaEmbeddings: 100%|██████████| 1/1 [00:00<00:00,  5.09it/s]\n",
            "OllamaEmbeddings: 100%|██████████| 1/1 [00:00<00:00,  4.45it/s]\n",
            "OllamaEmbeddings: 100%|██████████| 1/1 [00:00<00:00,  5.04it/s]\n",
            "OllamaEmbeddings: 100%|██████████| 1/1 [00:00<00:00,  5.00it/s]\n",
            "OllamaEmbeddings: 100%|██████████| 1/1 [00:00<00:00,  6.26it/s]\n",
            "OllamaEmbeddings: 100%|██████████| 1/1 [00:00<00:00,  5.94it/s]\n",
            "OllamaEmbeddings: 100%|██████████| 1/1 [00:00<00:00,  5.43it/s]\n",
            "OllamaEmbeddings: 100%|██████████| 1/1 [00:00<00:00,  6.14it/s]\n",
            "OllamaEmbeddings: 100%|██████████| 1/1 [00:00<00:00,  5.78it/s]\n",
            "OllamaEmbeddings: 100%|██████████| 1/1 [00:00<00:00,  5.87it/s]\n"
          ]
        },
        {
          "output_type": "stream",
          "name": "stdout",
          "text": [
            "Question 19: Apa bentuk perlindungan hukum yang dibutuhkan peserta didik dalam program MBG?\n",
            "Generated Answer 19: Berdasarkan konteks yang diberikan, bentuk perlindungan hukum yang dibutuhkan peserta didik dalam program MBG (Makan Siang Bergizi Gratis) meliputi:  1. **Penguatan Hak Konsumen**: Peserta didik sebagai konsumen berhak atas keamanan, kenyamanan, dan keselamatan dalam mengonsumsi makanan. Hal ini diatur dalam Undang-Undang No. 8 Tahun 1999 tentang Perlindungan Konsumen, yang melarang penyedia makanan memproduksi atau memperdagangkan barang yang tidak memenuhi standar kesehatan dan gizi.  2. **Transparansi Pengadaan**: Proses pengadaan barang dan jasa dalam MBG harus transparan untuk mencegah korupsi dan memastikan kualitas makanan yang disediakan.  3. **Pengawasan Publik dan Partisipasi Masyarakat**: Perlindungan hukum perlu didukung oleh pengawasan publik dan partisipasi masyarakat dalam perencanaan dan pelaksanaan program untuk memastikan akuntabilitas.  4. **Regulasi yang Jelas**: Program MBG harus dibingkai dalam regulasi yang jelas (seperti peraturan presiden atau undang-undang khusus) untuk menghindari ambiguitas dalam penegakan hukum dan menegaskan tanggung jawab pihak terkait.  5. **Sanksi Administratif dan Pidana**: Penerapan sanksi yang konsisten terhadap pelanggaran standar kesehatan dan gizi, baik secara administratif maupun pidana, untuk melindungi peserta didik dari risiko keracunan atau kekurangan gizi.  6. **Penegakan Tanggung Jawab Hukum**: Penjelasan jelas mengenai tanggung jawab hukum antara penyedia makanan, kepala sekolah, dan pemerintah daerah dalam kasus keracunan atau pelanggaran standar.  7. **Keterlibatan Komunitas dalam Pelayanan**: Memastikan program MBG tidak hanya bersifat politis tetapi juga substansial dengan melibatkan komunitas dalam pengawasan dan pelayanan untuk memenuhi kebutuhan dasar anak.  Dengan adanya perlindungan hukum ini, program MBG dapat menjadi alat keadilan sosial yang efektif, sekaligus melindungi kesehatan dan hak peserta didik.\n",
            "Original Answer 19: Peserta didik membutuhkan perlindungan hukum berupa standar higienitas makanan, inspeksi rutin, mekanisme pengaduan dan tanggap darurat, serta kompensasi yang adil bagi korban keracunan. Hal ini sejalan dengan prinsip perlindungan konsumen dan anak dalam hukum nasional. Jawaban: Standar higienitas makanan, inspeksi berkala, mekanisme tanggap darurat, dan ganti rugi yang adil bagi korban keracunan.\n",
            "\n"
          ]
        },
        {
          "output_type": "stream",
          "name": "stderr",
          "text": [
            "OllamaEmbeddings: 100%|██████████| 1/1 [00:00<00:00,  5.99it/s]\n",
            "OllamaEmbeddings: 100%|██████████| 1/1 [00:00<00:00,  4.67it/s]\n",
            "OllamaEmbeddings: 100%|██████████| 1/1 [00:00<00:00,  5.03it/s]\n",
            "OllamaEmbeddings: 100%|██████████| 1/1 [00:00<00:00,  3.20it/s]\n",
            "OllamaEmbeddings: 100%|██████████| 1/1 [00:00<00:00,  3.01it/s]\n",
            "OllamaEmbeddings: 100%|██████████| 1/1 [00:00<00:00,  3.86it/s]\n",
            "OllamaEmbeddings: 100%|██████████| 1/1 [00:00<00:00,  3.55it/s]\n",
            "OllamaEmbeddings: 100%|██████████| 1/1 [00:00<00:00,  3.77it/s]\n",
            "OllamaEmbeddings: 100%|██████████| 1/1 [00:00<00:00,  4.10it/s]\n",
            "OllamaEmbeddings: 100%|██████████| 1/1 [00:00<00:00,  3.64it/s]\n",
            "OllamaEmbeddings: 100%|██████████| 1/1 [00:00<00:00,  3.48it/s]\n",
            "OllamaEmbeddings: 100%|██████████| 1/1 [00:00<00:00,  5.37it/s]\n",
            "OllamaEmbeddings: 100%|██████████| 1/1 [00:00<00:00,  5.27it/s]\n",
            "OllamaEmbeddings: 100%|██████████| 1/1 [00:00<00:00,  6.16it/s]\n",
            "OllamaEmbeddings: 100%|██████████| 1/1 [00:00<00:00,  5.86it/s]\n",
            "OllamaEmbeddings: 100%|██████████| 1/1 [00:00<00:00,  5.39it/s]\n",
            "OllamaEmbeddings: 100%|██████████| 1/1 [00:00<00:00,  5.84it/s]\n",
            "OllamaEmbeddings: 100%|██████████| 1/1 [00:00<00:00,  5.70it/s]\n",
            "OllamaEmbeddings: 100%|██████████| 1/1 [00:00<00:00,  5.46it/s]\n",
            "OllamaEmbeddings: 100%|██████████| 1/1 [00:00<00:00,  5.21it/s]\n",
            "OllamaEmbeddings: 100%|██████████| 1/1 [00:00<00:00,  6.37it/s]\n",
            "OllamaEmbeddings: 100%|██████████| 1/1 [00:00<00:00,  5.76it/s]\n",
            "OllamaEmbeddings: 100%|██████████| 1/1 [00:00<00:00,  6.69it/s]\n",
            "OllamaEmbeddings: 100%|██████████| 1/1 [00:00<00:00,  6.50it/s]\n",
            "OllamaEmbeddings: 100%|██████████| 1/1 [00:00<00:00,  6.25it/s]\n",
            "OllamaEmbeddings: 100%|██████████| 1/1 [00:00<00:00,  6.43it/s]\n"
          ]
        },
        {
          "output_type": "stream",
          "name": "stdout",
          "text": [
            "Question 20: Apa kesimpulan utama jurnal terkait keberhasilan MBG?\n",
            "Generated Answer 20: Kesimpulan utama jurnal terkait keberhasilan MBG adalah bahwa program tersebut **tidak berhasil** dalam implementasinya. Jurnal menyoroti kegagalan struktural MBG yang dipicu oleh beberapa faktor:  \n",
            "1. **Pelaksanaan terlalu cepat tanpa fondasi yang kokoh**, sehingga tidak memperhatikan kesiapan infrastruktur, pengawasan, dan pendidikan pangan lokal.  \n",
            "2. **Kasus keracunan massal** yang terjadi sejak awal pelaksanaan, dengan lebih dari lima insiden yang menyasar ratusan siswa, menunjukkan kelalaian sistemik dalam pengawasan dan standar keamanan pangan.  \n",
            "3. **Kebijakan yang tidak terkoordinasi** antara sektor pendidikan, kesehatan, dan pemerintah daerah, serta kurangnya regulasi jelas dan mekanisme penegakan hukum.  \n",
            "4. **Kritik terhadap keterlibatan politik** yang lebih dominan daripada substansial, dengan dugaan penggunaan program untuk tujuan populisme elektoral.  \n",
            "5. **Krisis legitimasi** publik karena ketidakpuasan masyarakat terhadap keberhasilan program, yang berujung pada kepercayaan terhadap pemerintah yang menurun.  Jurnal menyimpulkan bahwa MBG **tidak hanya gagal mencapai tujuannya** (menciptakan generasi sehat dan berdaya saing) **tetapi juga membahayakan kesehatan publik** dan memperkuat persepsi negatif terhadap kebijakan sosial di Indonesia.\n",
            "Original Answer 20: Jurnal menyimpulkan bahwa keberhasilan MBG hanya dapat dicapai jika program didukung oleh kerangka hukum kuat, sistem pengawasan transparan, partisipasi masyarakat aktif, serta perlindungan konsumen dan anak yang efektif. Tanpa itu, MBG rentan menjadi proyek politis semata. Jawaban: Keberhasilan MBG bergantung pada kerangka hukum yang kuat, transparansi pengadaan, partisipasi masyarakat, serta perlindungan konsumen dan anak.\n",
            "\n"
          ]
        },
        {
          "output_type": "stream",
          "name": "stderr",
          "text": [
            "OllamaEmbeddings: 100%|██████████| 1/1 [00:00<00:00,  6.14it/s]\n",
            "OllamaEmbeddings: 100%|██████████| 1/1 [00:00<00:00,  5.02it/s]\n",
            "OllamaEmbeddings: 100%|██████████| 1/1 [00:00<00:00,  5.39it/s]\n",
            "OllamaEmbeddings: 100%|██████████| 1/1 [00:00<00:00,  4.45it/s]\n",
            "OllamaEmbeddings: 100%|██████████| 1/1 [00:00<00:00,  5.41it/s]\n",
            "OllamaEmbeddings: 100%|██████████| 1/1 [00:00<00:00,  6.23it/s]\n",
            "OllamaEmbeddings: 100%|██████████| 1/1 [00:00<00:00,  6.76it/s]\n",
            "OllamaEmbeddings: 100%|██████████| 1/1 [00:00<00:00,  5.93it/s]\n",
            "OllamaEmbeddings: 100%|██████████| 1/1 [00:00<00:00,  6.46it/s]\n",
            "OllamaEmbeddings: 100%|██████████| 1/1 [00:00<00:00,  6.00it/s]\n",
            "OllamaEmbeddings: 100%|██████████| 1/1 [00:00<00:00,  6.18it/s]\n",
            "OllamaEmbeddings: 100%|██████████| 1/1 [00:00<00:00,  4.79it/s]\n",
            "OllamaEmbeddings: 100%|██████████| 1/1 [00:00<00:00,  6.49it/s]\n",
            "OllamaEmbeddings: 100%|██████████| 1/1 [00:00<00:00,  6.54it/s]\n",
            "OllamaEmbeddings: 100%|██████████| 1/1 [00:00<00:00,  6.33it/s]\n",
            "OllamaEmbeddings: 100%|██████████| 1/1 [00:00<00:00,  6.68it/s]\n",
            "OllamaEmbeddings: 100%|██████████| 1/1 [00:00<00:00,  6.30it/s]\n",
            "OllamaEmbeddings: 100%|██████████| 1/1 [00:00<00:00,  6.14it/s]\n",
            "OllamaEmbeddings: 100%|██████████| 1/1 [00:00<00:00,  3.90it/s]\n",
            "OllamaEmbeddings: 100%|██████████| 1/1 [00:00<00:00,  3.23it/s]\n",
            "OllamaEmbeddings: 100%|██████████| 1/1 [00:00<00:00,  3.48it/s]\n",
            "OllamaEmbeddings: 100%|██████████| 1/1 [00:00<00:00,  3.35it/s]\n",
            "OllamaEmbeddings: 100%|██████████| 1/1 [00:00<00:00,  4.72it/s]\n",
            "OllamaEmbeddings: 100%|██████████| 1/1 [00:00<00:00,  5.57it/s]\n",
            "OllamaEmbeddings: 100%|██████████| 1/1 [00:00<00:00,  5.54it/s]\n",
            "OllamaEmbeddings: 100%|██████████| 1/1 [00:00<00:00,  4.71it/s]\n",
            "OllamaEmbeddings: 100%|██████████| 1/1 [00:00<00:00,  5.12it/s]\n",
            "OllamaEmbeddings: 100%|██████████| 1/1 [00:00<00:00,  6.28it/s]\n",
            "OllamaEmbeddings: 100%|██████████| 1/1 [00:00<00:00,  6.07it/s]\n",
            "OllamaEmbeddings: 100%|██████████| 1/1 [00:00<00:00,  6.11it/s]\n",
            "OllamaEmbeddings: 100%|██████████| 1/1 [00:00<00:00,  6.77it/s]\n",
            "OllamaEmbeddings: 100%|██████████| 1/1 [00:00<00:00,  6.06it/s]\n"
          ]
        },
        {
          "output_type": "stream",
          "name": "stdout",
          "text": [
            "Question 21: Apa metode penelitian yang digunakan dalam kajian jurnal ini?\n",
            "Generated Answer 21: Berdasarkan konteks yang diberikan, tidak ada informasi spesifik tentang metode penelitian yang digunakan dalam kajian jurnal tersebut. Dokumen hanya mencantumkan metadata seperti judul jurnal, volume, nomor, tahun terbit, halaman, dan ISSN, tanpa menjelaskan metode penelitian yang digunakan. Untuk menjawab pertanyaan ini, diperlukan konten atau detail tambahan dari artikel jurnal tersebut.\n",
            "Original Answer 21: Penelitian ini menggunakan metode hukum normatif dengan pendekatan studi kepustakaan. Analisis difokuskan pada peraturan perundang-undangan, doktrin hukum, dan literatur akademik yang relevan untuk menjelaskan tanggung jawab negara atas program MBG. Jawaban: Metode penelitian hukum normatif dengan studi kepustakaan dan analisis regulasi, doktrin hukum, serta bahan hukum tertulis.\n",
            "\n"
          ]
        },
        {
          "output_type": "stream",
          "name": "stderr",
          "text": [
            "OllamaEmbeddings: 100%|██████████| 1/1 [00:00<00:00,  3.75it/s]\n",
            "OllamaEmbeddings: 100%|██████████| 1/1 [00:00<00:00,  3.91it/s]\n",
            "OllamaEmbeddings: 100%|██████████| 1/1 [00:00<00:00,  3.94it/s]\n",
            "OllamaEmbeddings: 100%|██████████| 1/1 [00:00<00:00,  4.24it/s]\n",
            "OllamaEmbeddings: 100%|██████████| 1/1 [00:00<00:00,  3.76it/s]\n",
            "OllamaEmbeddings: 100%|██████████| 1/1 [00:00<00:00,  6.00it/s]\n",
            "OllamaEmbeddings: 100%|██████████| 1/1 [00:00<00:00,  5.42it/s]\n",
            "OllamaEmbeddings: 100%|██████████| 1/1 [00:00<00:00,  5.43it/s]\n",
            "OllamaEmbeddings: 100%|██████████| 1/1 [00:00<00:00,  6.29it/s]\n",
            "OllamaEmbeddings: 100%|██████████| 1/1 [00:00<00:00,  6.23it/s]\n",
            "OllamaEmbeddings: 100%|██████████| 1/1 [00:00<00:00,  6.27it/s]\n",
            "OllamaEmbeddings: 100%|██████████| 1/1 [00:00<00:00,  6.11it/s]\n",
            "OllamaEmbeddings: 100%|██████████| 1/1 [00:00<00:00,  5.60it/s]\n",
            "OllamaEmbeddings: 100%|██████████| 1/1 [00:00<00:00,  6.46it/s]\n",
            "OllamaEmbeddings: 100%|██████████| 1/1 [00:00<00:00,  5.96it/s]\n",
            "OllamaEmbeddings: 100%|██████████| 1/1 [00:00<00:00,  4.82it/s]\n",
            "OllamaEmbeddings: 100%|██████████| 1/1 [00:00<00:00,  5.20it/s]\n",
            "OllamaEmbeddings: 100%|██████████| 1/1 [00:00<00:00,  5.44it/s]\n",
            "OllamaEmbeddings: 100%|██████████| 1/1 [00:00<00:00,  5.49it/s]\n",
            "OllamaEmbeddings: 100%|██████████| 1/1 [00:00<00:00,  5.53it/s]\n",
            "OllamaEmbeddings: 100%|██████████| 1/1 [00:00<00:00,  4.74it/s]\n",
            "OllamaEmbeddings: 100%|██████████| 1/1 [00:00<00:00,  6.65it/s]\n",
            "OllamaEmbeddings: 100%|██████████| 1/1 [00:00<00:00,  6.19it/s]\n",
            "OllamaEmbeddings: 100%|██████████| 1/1 [00:00<00:00,  5.61it/s]\n",
            "OllamaEmbeddings: 100%|██████████| 1/1 [00:00<00:00,  5.81it/s]\n",
            "OllamaEmbeddings: 100%|██████████| 1/1 [00:00<00:00,  5.89it/s]\n",
            "OllamaEmbeddings: 100%|██████████| 1/1 [00:00<00:00,  5.53it/s]\n"
          ]
        },
        {
          "output_type": "stream",
          "name": "stdout",
          "text": [
            "Question 22: Mengapa MBG dianggap berpotensi menjadi proyek populis?\n",
            "Generated Answer 22: MBG dianggap berpotensi menjadi proyek populis karena beberapa alasan yang tercantum dalam konteks:  \n",
            "1. **Pemanfaatan untuk Tujuan Populisme Elektoral**: Pendekatan MBG dipandang lebih bersifat politis daripada substansial. Program ini dikaitkan dengan upaya memperoleh dukungan publik secara masif, terutama dalam konteks kampanye politik, sehingga risiko pemanfaatan untuk keuntungan elektoral meningkat.  \n",
            "2. **Kurangnya Regulasi dan Akuntabilitas**: MBG diluncurkan tanpa peraturan presiden atau undang-undang khusus, menyebabkan ketidakjelasan tanggung jawab hukum antara penyedia makanan, pemerintah daerah, dan kepala sekolah. Hal ini memperkuat persepsi bahwa program ini tidak didasarkan pada kebijakan yang matang, melainkan tergantung pada kekuasaan politik.  \n",
            "3. **Ketergantungan pada Angka Partisipasi**: Fokus pemerintah pada cakupan dan angka partisipasi program, bukan kualitas atau dampaknya, mengarah pada implementasi yang bersifat administratif. Ini mencerminkan kebijakan yang lebih mengutamakan citra daripada solusi nyata.  \n",
            "4. **Manipulasi Politik dalam Pelaksanaan**: Penyedia makanan dan seleksi penyedia diduga dipengaruhi oleh kedekatan politik, sehingga MBG berpotensi menjadi alat kontrol atau instrumen negosiasi yang tidak berdasar.  \n",
            "5. **Krisis Legitimasi dan Kegagalan Struktural**: Ketidakmampuan pemerintah pusat dan daerah dalam memastikan keamanan, transparansi, dan keberlanjutan program memperkuat kecurigaan bahwa MBG tidak dijalankan secara konsisten, melainkan sebagai proyek yang rentan terhadap tekanan politik.  Keseluruhan ini menunjukkan bahwa MBG dipandang sebagai kebijakan yang lebih mengutamakan aspek politik daripada kebutuhan substantif masyarakat, sesuai dengan karakteristik proyek populis.\n",
            "Original Answer 22: MBG dianggap berpotensi menjadi proyek populis karena diluncurkan secara cepat dengan motif politik, tanpa kesiapan teknis dan infrastruktur yang memadai. Program lebih difokuskan pada citra politik ketimbang keberlanjutan jangka panjang. Jawaban: Karena pelaksanaannya lebih menekankan citra politik dibanding kesiapan teknis, sehingga berisiko tidak berkelanjutan.\n",
            "\n"
          ]
        },
        {
          "output_type": "stream",
          "name": "stderr",
          "text": [
            "OllamaEmbeddings: 100%|██████████| 1/1 [00:00<00:00,  3.68it/s]\n",
            "OllamaEmbeddings: 100%|██████████| 1/1 [00:00<00:00,  4.40it/s]\n",
            "OllamaEmbeddings: 100%|██████████| 1/1 [00:00<00:00,  5.12it/s]\n",
            "OllamaEmbeddings: 100%|██████████| 1/1 [00:00<00:00,  4.64it/s]\n",
            "OllamaEmbeddings: 100%|██████████| 1/1 [00:00<00:00,  5.53it/s]\n",
            "OllamaEmbeddings: 100%|██████████| 1/1 [00:00<00:00,  5.35it/s]\n",
            "OllamaEmbeddings: 100%|██████████| 1/1 [00:00<00:00,  4.41it/s]\n",
            "OllamaEmbeddings: 100%|██████████| 1/1 [00:00<00:00,  5.80it/s]\n",
            "OllamaEmbeddings: 100%|██████████| 1/1 [00:00<00:00,  4.67it/s]\n",
            "OllamaEmbeddings: 100%|██████████| 1/1 [00:00<00:00,  6.12it/s]\n",
            "OllamaEmbeddings: 100%|██████████| 1/1 [00:00<00:00,  6.31it/s]\n",
            "OllamaEmbeddings: 100%|██████████| 1/1 [00:00<00:00,  5.79it/s]\n",
            "OllamaEmbeddings: 100%|██████████| 1/1 [00:00<00:00,  6.14it/s]\n",
            "OllamaEmbeddings: 100%|██████████| 1/1 [00:00<00:00,  6.20it/s]\n",
            "OllamaEmbeddings: 100%|██████████| 1/1 [00:00<00:00,  5.32it/s]\n",
            "OllamaEmbeddings: 100%|██████████| 1/1 [00:00<00:00,  5.97it/s]\n",
            "OllamaEmbeddings: 100%|██████████| 1/1 [00:00<00:00,  3.75it/s]\n",
            "OllamaEmbeddings: 100%|██████████| 1/1 [00:00<00:00,  3.50it/s]\n",
            "OllamaEmbeddings: 100%|██████████| 1/1 [00:00<00:00,  3.29it/s]\n",
            "OllamaEmbeddings: 100%|██████████| 1/1 [00:00<00:00,  3.32it/s]\n",
            "OllamaEmbeddings: 100%|██████████| 1/1 [00:00<00:00,  4.03it/s]\n",
            "OllamaEmbeddings: 100%|██████████| 1/1 [00:00<00:00,  3.63it/s]\n",
            "OllamaEmbeddings: 100%|██████████| 1/1 [00:00<00:00,  5.70it/s]\n",
            "OllamaEmbeddings: 100%|██████████| 1/1 [00:00<00:00,  5.66it/s]\n",
            "OllamaEmbeddings: 100%|██████████| 1/1 [00:00<00:00,  6.06it/s]\n",
            "OllamaEmbeddings: 100%|██████████| 1/1 [00:00<00:00,  6.34it/s]\n",
            "OllamaEmbeddings: 100%|██████████| 1/1 [00:00<00:00,  5.20it/s]\n",
            "OllamaEmbeddings: 100%|██████████| 1/1 [00:00<00:00,  6.03it/s]\n",
            "OllamaEmbeddings: 100%|██████████| 1/1 [00:00<00:00,  5.59it/s]\n",
            "OllamaEmbeddings: 100%|██████████| 1/1 [00:00<00:00,  5.29it/s]\n",
            "OllamaEmbeddings: 100%|██████████| 1/1 [00:00<00:00,  6.16it/s]\n",
            "OllamaEmbeddings: 100%|██████████| 1/1 [00:00<00:00,  5.43it/s]\n",
            "OllamaEmbeddings: 100%|██████████| 1/1 [00:00<00:00,  5.87it/s]\n"
          ]
        },
        {
          "output_type": "stream",
          "name": "stdout",
          "text": [
            "Question 23: Apa kewajiban negara menurut Konvensi Hak Anak terkait program gizi?\n",
            "Generated Answer 23: Berdasarkan konteks yang diberikan, kewajiban negara menurut Konvensi Hak Anak (CRC) terkait program gizi adalah:  \n",
            "1. **Menjamin akses anak terhadap pelayanan kesehatan dan gizi yang optimal** (seperti yang disebutkan dalam dokumen, negara berkewajiban memastikan kebutuhan dasar anak, termasuk gizi, terpenuhi).  \n",
            "2. **Melakukan pengawasan dan penegakan hukum** terhadap penyedia layanan gizi untuk memastikan keamanan dan kualitas makanan, serta mencegah korupsi atau penyalahgunaan dana.  \n",
            "3. **Mengembangkan kerangka hukum yang kuat** untuk melindungi hak anak, termasuk mekanisme akuntabilitas, transparansi, dan partisipasi masyarakat dalam pengelolaan program.  \n",
            "4. **Menghindari pelanggaran administratif atau hukum** yang berdampak pada kesejahteraan anak, seperti ketidakefisienan pengadaan makanan atau penyalahgunaan dana.  Kewajiban ini berdasarkan komitmen internasional negara terhadap CRC dan keharusan memenuhi hak anak dalam bidang kesehatan dan gizi.\n",
            "Original Answer 23: Menurut Konvensi Hak Anak yang diratifikasi melalui Keppres No. 36 Tahun 1990, negara wajib menjamin akses anak terhadap pelayanan kesehatan dan gizi yang optimal. Pelanggaran terhadap kewajiban ini dianggap pengingkaran terhadap komitmen internasional. Jawaban: Negara wajib menjamin akses anak terhadap pelayanan kesehatan dan gizi yang optimal.\n",
            "\n"
          ]
        },
        {
          "output_type": "stream",
          "name": "stderr",
          "text": [
            "OllamaEmbeddings: 100%|██████████| 1/1 [00:00<00:00,  3.66it/s]\n",
            "OllamaEmbeddings: 100%|██████████| 1/1 [00:00<00:00,  2.39it/s]\n",
            "OllamaEmbeddings: 100%|██████████| 1/1 [00:00<00:00,  3.21it/s]\n",
            "OllamaEmbeddings: 100%|██████████| 1/1 [00:00<00:00,  3.37it/s]\n",
            "OllamaEmbeddings: 100%|██████████| 1/1 [00:00<00:00,  3.25it/s]\n",
            "OllamaEmbeddings: 100%|██████████| 1/1 [00:00<00:00,  4.14it/s]\n",
            "OllamaEmbeddings: 100%|██████████| 1/1 [00:00<00:00,  4.24it/s]\n",
            "OllamaEmbeddings: 100%|██████████| 1/1 [00:00<00:00,  4.23it/s]\n",
            "OllamaEmbeddings: 100%|██████████| 1/1 [00:00<00:00,  4.27it/s]\n",
            "OllamaEmbeddings: 100%|██████████| 1/1 [00:00<00:00,  3.89it/s]\n",
            "OllamaEmbeddings: 100%|██████████| 1/1 [00:00<00:00,  5.72it/s]\n",
            "OllamaEmbeddings: 100%|██████████| 1/1 [00:00<00:00,  3.82it/s]\n",
            "OllamaEmbeddings: 100%|██████████| 1/1 [00:00<00:00,  3.31it/s]\n",
            "OllamaEmbeddings: 100%|██████████| 1/1 [00:00<00:00,  3.39it/s]\n",
            "OllamaEmbeddings: 100%|██████████| 1/1 [00:00<00:00,  5.85it/s]\n",
            "OllamaEmbeddings: 100%|██████████| 1/1 [00:00<00:00,  5.52it/s]\n",
            "OllamaEmbeddings: 100%|██████████| 1/1 [00:00<00:00,  5.78it/s]\n",
            "OllamaEmbeddings: 100%|██████████| 1/1 [00:00<00:00,  6.58it/s]\n",
            "OllamaEmbeddings: 100%|██████████| 1/1 [00:00<00:00,  6.30it/s]\n",
            "OllamaEmbeddings: 100%|██████████| 1/1 [00:00<00:00,  6.45it/s]\n",
            "OllamaEmbeddings: 100%|██████████| 1/1 [00:00<00:00,  7.49it/s]\n",
            "OllamaEmbeddings: 100%|██████████| 1/1 [00:00<00:00,  4.00it/s]\n",
            "OllamaEmbeddings: 100%|██████████| 1/1 [00:00<00:00,  6.24it/s]\n",
            "OllamaEmbeddings: 100%|██████████| 1/1 [00:00<00:00,  6.47it/s]\n",
            "OllamaEmbeddings: 100%|██████████| 1/1 [00:00<00:00,  6.35it/s]\n",
            "OllamaEmbeddings: 100%|██████████| 1/1 [00:00<00:00,  6.76it/s]\n",
            "OllamaEmbeddings: 100%|██████████| 1/1 [00:00<00:00,  6.59it/s]\n",
            "OllamaEmbeddings: 100%|██████████| 1/1 [00:00<00:00,  6.31it/s]\n",
            "OllamaEmbeddings: 100%|██████████| 1/1 [00:00<00:00,  5.38it/s]\n",
            "OllamaEmbeddings: 100%|██████████| 1/1 [00:00<00:00,  6.32it/s]\n",
            "OllamaEmbeddings: 100%|██████████| 1/1 [00:00<00:00,  6.20it/s]\n",
            "OllamaEmbeddings: 100%|██████████| 1/1 [00:00<00:00,  6.05it/s]\n",
            "OllamaEmbeddings: 100%|██████████| 1/1 [00:00<00:00,  6.10it/s]\n",
            "OllamaEmbeddings: 100%|██████████| 1/1 [00:00<00:00,  6.05it/s]\n",
            "OllamaEmbeddings: 100%|██████████| 1/1 [00:00<00:00,  5.25it/s]\n"
          ]
        },
        {
          "output_type": "stream",
          "name": "stdout",
          "text": [
            "Question 24: Apa masalah sanitasi yang memperbesar risiko keracunan dalam MBG?\n",
            "Generated Answer 24: Masalah sanitasi yang memperbesar risiko keracunan dalam Program Makan Siang Gratis (MBG) meliputi:  \n",
            "1. **Kurangnya akses air bersih** di sekolah, yang esensial untuk mencuci bahan makanan dan menjaga kebersihan.  \n",
            "2. **Fasilitas cuci tangan yang tidak memadai**, yang berkontribusi pada penyebaran kuman dan kontaminasi makanan.  \n",
            "3. **Toilet layak yang tidak tersedia**, yang memperparah kondisi sanitasi dan meningkatkan risiko kontaminasi lingkungan.  Kondisi sanitasi yang buruk ini menjadi kendala utama dalam pelaksanaan MBG, karena memperbesar risiko keracunan makanan dan menunjukkan kegagalan sistemik dalam pengelolaan program. (Dokumen: 91de1531-e5e4-4179-8b92-47455318c393, 5be7439a-2321-4cbc-a446-60b47ad29320)\n",
            "Original Answer 24: Masalah sanitasi seperti kurangnya akses air bersih, fasilitas cuci tangan, dan toilet layak di sekolah menyebabkan meningkatnya risiko kontaminasi makanan. Kondisi ini menurunkan efektivitas program MBG dan meningkatkan potensi keracunan massal. Jawaban: Kurangnya akses air bersih, fasilitas cuci tangan, dan toilet layak di sekolah.\n",
            "\n"
          ]
        },
        {
          "output_type": "stream",
          "name": "stderr",
          "text": [
            "OllamaEmbeddings: 100%|██████████| 1/1 [00:00<00:00,  5.89it/s]\n",
            "OllamaEmbeddings: 100%|██████████| 1/1 [00:00<00:00,  5.56it/s]\n",
            "OllamaEmbeddings: 100%|██████████| 1/1 [00:00<00:00,  4.32it/s]\n",
            "OllamaEmbeddings: 100%|██████████| 1/1 [00:00<00:00,  5.11it/s]\n",
            "OllamaEmbeddings: 100%|██████████| 1/1 [00:00<00:00,  6.30it/s]\n",
            "OllamaEmbeddings: 100%|██████████| 1/1 [00:00<00:00,  6.34it/s]\n",
            "OllamaEmbeddings: 100%|██████████| 1/1 [00:00<00:00,  6.45it/s]\n",
            "OllamaEmbeddings: 100%|██████████| 1/1 [00:00<00:00,  6.48it/s]\n",
            "OllamaEmbeddings: 100%|██████████| 1/1 [00:00<00:00,  6.26it/s]\n",
            "OllamaEmbeddings: 100%|██████████| 1/1 [00:00<00:00,  4.08it/s]\n",
            "OllamaEmbeddings: 100%|██████████| 1/1 [00:00<00:00,  6.51it/s]\n",
            "OllamaEmbeddings: 100%|██████████| 1/1 [00:00<00:00,  6.08it/s]\n",
            "OllamaEmbeddings: 100%|██████████| 1/1 [00:00<00:00,  5.78it/s]\n",
            "OllamaEmbeddings: 100%|██████████| 1/1 [00:00<00:00,  5.63it/s]\n",
            "OllamaEmbeddings: 100%|██████████| 1/1 [00:00<00:00,  6.33it/s]\n",
            "OllamaEmbeddings: 100%|██████████| 1/1 [00:00<00:00,  6.05it/s]\n",
            "OllamaEmbeddings: 100%|██████████| 1/1 [00:00<00:00,  5.89it/s]\n",
            "OllamaEmbeddings: 100%|██████████| 1/1 [00:00<00:00,  2.38it/s]\n",
            "OllamaEmbeddings: 100%|██████████| 1/1 [00:00<00:00,  4.96it/s]\n",
            "OllamaEmbeddings: 100%|██████████| 1/1 [00:00<00:00,  4.86it/s]\n",
            "OllamaEmbeddings: 100%|██████████| 1/1 [00:00<00:00,  6.64it/s]\n",
            "OllamaEmbeddings: 100%|██████████| 1/1 [00:00<00:00,  6.01it/s]\n",
            "OllamaEmbeddings: 100%|██████████| 1/1 [00:00<00:00,  5.95it/s]\n",
            "OllamaEmbeddings: 100%|██████████| 1/1 [00:00<00:00,  5.42it/s]\n",
            "OllamaEmbeddings: 100%|██████████| 1/1 [00:00<00:00,  5.98it/s]\n",
            "OllamaEmbeddings: 100%|██████████| 1/1 [00:00<00:00,  5.91it/s]\n",
            "OllamaEmbeddings: 100%|██████████| 1/1 [00:00<00:00,  3.20it/s]\n",
            "OllamaEmbeddings: 100%|██████████| 1/1 [00:00<00:00,  4.96it/s]\n",
            "OllamaEmbeddings: 100%|██████████| 1/1 [00:00<00:00,  5.39it/s]\n",
            "OllamaEmbeddings: 100%|██████████| 1/1 [00:00<00:00,  6.38it/s]\n",
            "OllamaEmbeddings: 100%|██████████| 1/1 [00:00<00:00,  5.79it/s]\n",
            "OllamaEmbeddings: 100%|██████████| 1/1 [00:00<00:00,  5.58it/s]\n",
            "OllamaEmbeddings: 100%|██████████| 1/1 [00:00<00:00,  6.10it/s]\n",
            "OllamaEmbeddings: 100%|██████████| 1/1 [00:00<00:00,  6.05it/s]\n",
            "OllamaEmbeddings: 100%|██████████| 1/1 [00:00<00:00,  5.81it/s]\n"
          ]
        },
        {
          "output_type": "stream",
          "name": "stdout",
          "text": [
            "Question 25: Apa peran BPKP, KPK, dan Ombudsman dalam pelaksanaan MBG?\n",
            "Generated Answer 25: Berdasarkan konteks yang diberikan, peran **BPKP (Badan Pengawasan Keuangan dan Pembangunan)**, **KPK (Komisi Pemberantasan Korupsi)**, dan **Ombudsman** dalam pelaksanaan **MBG (Program Bantuan Makanan Gratis)** adalah sebagai berikut:1. **BPKP**:  \n",
            "   - Memastikan **transparansi dan akuntabilitas keuangan** dalam pelaksanaan MBG.  \n",
            "   - Melakukan **audit berkala** terhadap laporan keuangan sekolah dan program MBG untuk memastikan penggunaan dana yang sesuai dan tidak disalahgunakan.  \n",
            "   - Memisahkan dana BOS (Bantuan Operasional Sekolah) dari proyek makan siang untuk mencegah konflik kepentingan.  2. **KPK**:  \n",
            "   - Membantu **mencegah dan menindak korupsi** dalam pengadaan barang dan jasa terkait MBG, seperti manipulasi tender, mark-up harga, atau kolusi antar pejabat.  \n",
            "   - Memastikan kepatuhan terhadap **asas kepastian hukum dan akuntabilitas** dalam pelaksanaan program.  3. **Ombudsman**:  \n",
            "   - Menjadi **mekanisme pengawasan publik** untuk menangani pelanggaran atau penyalahgunaan dalam pelaksanaan MBG.  \n",
            "   - Memastikan keadilan dan keterbukaan dalam pengelolaan program, serta memberikan ruang bagi masyarakat untuk mengadu keluhan terkait penyelenggaraan MBG.  Ketiga lembaga ini dianggap sebagai **prasyarat kunci** sebelum MBG dapat dilaksanakan penuh, karena mereka membantu memastikan **integritas, transparansi, dan keberlanjutan** program untuk mencegah korupsi, maladministrasi, dan penyalahgunaan dana publik.\n",
            "Original Answer 25: BPKP, KPK, dan Ombudsman berperan sebagai lembaga pengawas eksternal yang memastikan transparansi, mencegah korupsi, dan menjaga akuntabilitas program. Pengawasan mereka penting untuk mencegah penyimpangan dana publik dan menjaga kredibilitas pelaksanaan MBG. Jawaban: Sebagai lembaga pengawas untuk memastikan transparansi, mencegah korupsi, dan menjaga akuntabilitas program.\n",
            "\n"
          ]
        },
        {
          "output_type": "stream",
          "name": "stderr",
          "text": [
            "OllamaEmbeddings: 100%|██████████| 1/1 [00:00<00:00,  5.91it/s]\n",
            "OllamaEmbeddings: 100%|██████████| 1/1 [00:00<00:00,  3.93it/s]\n",
            "OllamaEmbeddings: 100%|██████████| 1/1 [00:00<00:00,  3.89it/s]\n",
            "OllamaEmbeddings: 100%|██████████| 1/1 [00:00<00:00,  3.74it/s]\n",
            "OllamaEmbeddings: 100%|██████████| 1/1 [00:00<00:00,  3.75it/s]\n",
            "OllamaEmbeddings: 100%|██████████| 1/1 [00:00<00:00,  3.73it/s]\n",
            "OllamaEmbeddings: 100%|██████████| 1/1 [00:00<00:00,  3.78it/s]\n",
            "OllamaEmbeddings: 100%|██████████| 1/1 [00:00<00:00,  3.06it/s]\n",
            "OllamaEmbeddings: 100%|██████████| 1/1 [00:00<00:00,  3.58it/s]\n",
            "OllamaEmbeddings: 100%|██████████| 1/1 [00:00<00:00,  3.84it/s]\n",
            "OllamaEmbeddings: 100%|██████████| 1/1 [00:00<00:00,  3.73it/s]\n",
            "OllamaEmbeddings: 100%|██████████| 1/1 [00:00<00:00,  5.62it/s]\n",
            "OllamaEmbeddings: 100%|██████████| 1/1 [00:00<00:00,  5.72it/s]\n",
            "OllamaEmbeddings: 100%|██████████| 1/1 [00:00<00:00,  6.12it/s]\n",
            "OllamaEmbeddings: 100%|██████████| 1/1 [00:00<00:00,  5.73it/s]\n",
            "OllamaEmbeddings: 100%|██████████| 1/1 [00:00<00:00,  5.51it/s]\n",
            "OllamaEmbeddings: 100%|██████████| 1/1 [00:00<00:00,  5.55it/s]\n",
            "OllamaEmbeddings: 100%|██████████| 1/1 [00:00<00:00,  5.48it/s]\n",
            "OllamaEmbeddings: 100%|██████████| 1/1 [00:00<00:00,  5.48it/s]\n",
            "OllamaEmbeddings: 100%|██████████| 1/1 [00:00<00:00,  6.31it/s]\n",
            "OllamaEmbeddings: 100%|██████████| 1/1 [00:00<00:00,  5.60it/s]\n",
            "OllamaEmbeddings: 100%|██████████| 1/1 [00:00<00:00,  6.12it/s]\n",
            "OllamaEmbeddings: 100%|██████████| 1/1 [00:00<00:00,  5.97it/s]\n",
            "OllamaEmbeddings: 100%|██████████| 1/1 [00:00<00:00,  6.24it/s]\n",
            "OllamaEmbeddings: 100%|██████████| 1/1 [00:00<00:00,  6.02it/s]\n"
          ]
        },
        {
          "output_type": "stream",
          "name": "stdout",
          "text": [
            "Question 26: Bagaimana Jepang menjamin keberhasilan program makan siang sekolahnya?\n",
            "Generated Answer 26: Jepang menjamin keberhasilan program makan siang sekolahnya melalui pendekatan yang komprehensif dan terstruktur, seperti yang dijelaskan dalam konteks berikut:  \n",
            "1. **Desain Program yang Terpadu**: Program Kyūshoku didesain secara menyeluruh dengan pendidikan gizi, tanggung jawab kolektif, serta keterlibatan masyarakat lokal (Takahashi, 2020).  \n",
            "2. **Infrastruktur Sanitasi dan Kontrol Mutu**: Fondasi keamanan dan keberhasilan program didukung oleh infrastruktur sanitasi, pelatihan, serta kontrol mutu yang ketat (Saito, 2021).  \n",
            "3. **Keterlibatan Daerah dan Kolaborasi**: Keterlibatan daerah dalam pengelolaan program memastikan adaptasi terhadap kebutuhan lokal dan meningkatkan akuntabilitas.  \n",
            "4. **Visi Jangka Panjang**: Model ini dikembangkan dengan visi jangka panjang pasca-perang, yang mencerminkan komitmen terhadap kesejahteraan anak dan pendidikan (Yamada, 2018).  Dengan kombinasi pendidikan gizi, pengawasan ketat, dan partisipasi masyarakat, Jepang mampu menciptakan program yang berkelanjutan dan efektif.\n",
            "Original Answer 26: Jepang menjamin keberhasilan Kyūshoku dengan membangun infrastruktur sanitasi yang baik, pelatihan tenaga dapur, pendidikan gizi di sekolah, dan sistem kontrol mutu yang ketat. Program ini juga menanamkan nilai disiplin dan tanggung jawab pada siswa. Jawaban: Dengan membangun infrastruktur sanitasi, pelatihan tenaga, pendidikan gizi, dan kontrol mutu yang ketat.\n",
            "\n"
          ]
        },
        {
          "output_type": "stream",
          "name": "stderr",
          "text": [
            "OllamaEmbeddings: 100%|██████████| 1/1 [00:00<00:00,  5.77it/s]\n",
            "OllamaEmbeddings: 100%|██████████| 1/1 [00:00<00:00,  4.14it/s]\n",
            "OllamaEmbeddings: 100%|██████████| 1/1 [00:00<00:00,  4.98it/s]\n",
            "OllamaEmbeddings: 100%|██████████| 1/1 [00:00<00:00,  5.49it/s]\n",
            "OllamaEmbeddings: 100%|██████████| 1/1 [00:00<00:00,  5.42it/s]\n",
            "OllamaEmbeddings: 100%|██████████| 1/1 [00:00<00:00,  5.13it/s]\n",
            "OllamaEmbeddings: 100%|██████████| 1/1 [00:00<00:00,  4.70it/s]\n",
            "OllamaEmbeddings: 100%|██████████| 1/1 [00:00<00:00,  6.07it/s]\n",
            "OllamaEmbeddings: 100%|██████████| 1/1 [00:00<00:00,  6.26it/s]\n",
            "OllamaEmbeddings: 100%|██████████| 1/1 [00:00<00:00,  5.92it/s]\n",
            "OllamaEmbeddings: 100%|██████████| 1/1 [00:00<00:00,  5.87it/s]\n",
            "OllamaEmbeddings: 100%|██████████| 1/1 [00:00<00:00,  5.79it/s]\n",
            "OllamaEmbeddings: 100%|██████████| 1/1 [00:00<00:00,  5.78it/s]\n",
            "OllamaEmbeddings: 100%|██████████| 1/1 [00:00<00:00,  5.97it/s]\n",
            "OllamaEmbeddings: 100%|██████████| 1/1 [00:00<00:00,  5.93it/s]\n",
            "OllamaEmbeddings: 100%|██████████| 1/1 [00:00<00:00,  3.50it/s]\n",
            "OllamaEmbeddings: 100%|██████████| 1/1 [00:00<00:00,  4.42it/s]\n",
            "OllamaEmbeddings: 100%|██████████| 1/1 [00:00<00:00,  4.97it/s]\n",
            "OllamaEmbeddings: 100%|██████████| 1/1 [00:00<00:00,  5.56it/s]\n",
            "OllamaEmbeddings: 100%|██████████| 1/1 [00:00<00:00,  5.86it/s]\n",
            "OllamaEmbeddings: 100%|██████████| 1/1 [00:00<00:00,  5.12it/s]\n",
            "OllamaEmbeddings: 100%|██████████| 1/1 [00:00<00:00,  5.53it/s]\n",
            "OllamaEmbeddings: 100%|██████████| 1/1 [00:00<00:00,  5.37it/s]\n",
            "OllamaEmbeddings: 100%|██████████| 1/1 [00:00<00:00,  5.37it/s]\n",
            "OllamaEmbeddings: 100%|██████████| 1/1 [00:00<00:00,  4.95it/s]\n",
            "OllamaEmbeddings: 100%|██████████| 1/1 [00:00<00:00,  4.97it/s]\n",
            "OllamaEmbeddings: 100%|██████████| 1/1 [00:00<00:00,  6.21it/s]\n",
            "OllamaEmbeddings: 100%|██████████| 1/1 [00:00<00:00,  5.84it/s]\n",
            "OllamaEmbeddings: 100%|██████████| 1/1 [00:00<00:00,  5.29it/s]\n",
            "OllamaEmbeddings: 100%|██████████| 1/1 [00:00<00:00,  5.60it/s]\n",
            "OllamaEmbeddings: 100%|██████████| 1/1 [00:00<00:00,  5.61it/s]\n",
            "OllamaEmbeddings: 100%|██████████| 1/1 [00:00<00:00,  5.55it/s]\n"
          ]
        },
        {
          "output_type": "stream",
          "name": "stdout",
          "text": [
            "Question 27: Apa risiko hukum bagi penyedia katering jika terbukti lalai dalam MBG?\n",
            "Generated Answer 27: Berdasarkan konteks yang diberikan, risiko hukum bagi penyedia katering yang terbukti lalai dalam program MBG meliputi:  1. **Tanggung JawabPidana**: Penyedia katering dapat diproses secara **pidana** jika terbukti menyediakan makanan yang tidak memenuhi standar sanitasi, keamanan, atau kesehatan, yang berakibat keracunan massal. Hal ini terkait dengan ketentuan Badan Pengawas Obat dan Makanan (BPOM) serta peraturan teknis Kementerian Kesehatan.  2. **Tanggung Jawab Perdata**: Penyedia katering dapat dikenai **sanksi perdata** karena melanggar UU Perlindungan Konsumen (UU No. 8 Tahun 1999), khususnya Pasal 8 ayat (1) huruf a, yang melarang produksi/perdagangan makanan yang tidak memenuhi standar keamanan.  3. **Tanggung Jawab Negara**: Jika negara (melalui pemerintah) dianggap lalai dalam seleksi dan pengawasan penyedia katering, negara dapat dimintai pertanggungjawaban hukum berdasarkan **konsep perbuatan melawan hukum oleh penguasa (onrechtmatige overheidsdaad)**. Hal ini diatur dalam Pasal 1365 Kitab Undang-Undang Hukum Perdata (KUHPerdata), yang menyatakan bahwa negara bertanggung jawab jika kelalaian mereka menyebabkan kerugian.  4. **Dampak Sosial dan Administratif**: Kegagalan pengawasan dalam rantai distribusi makanan (mulai dari pemilihan penyedia, penyimpanan, hingga distribusi) dapat dianggap sebagai **kelalaian** yang menimbulkan akibat hukum, termasuk kerugian keuangan atau reputasi.  Dengan demikian, penyedia katering yang lalai menghadapi risiko hukum **pidana, perdata, dan administratif**, sementara negara juga dapat terlibat dalam proses penuntutan jika dianggap tidak melakukan pengawasan yang memadai.\n",
            "Original Answer 27: Penyedia katering yang lalai dapat dikenai sanksi pidana dan perdata berdasarkan UU Perlindungan Konsumen dan peraturan BPOM, karena melanggar standar keamanan pangan dan menimbulkan kerugian bagi peserta didik. Jawaban: Dapat diproses pidana dan perdata karena melanggar standar keamanan pangan dan merugikan konsumen.\n",
            "\n"
          ]
        },
        {
          "output_type": "stream",
          "name": "stderr",
          "text": [
            "OllamaEmbeddings: 100%|██████████| 1/1 [00:00<00:00,  3.62it/s]\n",
            "OllamaEmbeddings: 100%|██████████| 1/1 [00:00<00:00,  3.94it/s]\n",
            "OllamaEmbeddings: 100%|██████████| 1/1 [00:00<00:00,  3.47it/s]\n",
            "OllamaEmbeddings: 100%|██████████| 1/1 [00:00<00:00,  3.72it/s]\n",
            "OllamaEmbeddings: 100%|██████████| 1/1 [00:00<00:00,  3.30it/s]\n",
            "OllamaEmbeddings: 100%|██████████| 1/1 [00:00<00:00,  3.64it/s]\n",
            "OllamaEmbeddings: 100%|██████████| 1/1 [00:00<00:00,  3.51it/s]\n",
            "OllamaEmbeddings: 100%|██████████| 1/1 [00:00<00:00,  3.65it/s]\n",
            "OllamaEmbeddings: 100%|██████████| 1/1 [00:00<00:00,  4.52it/s]\n",
            "OllamaEmbeddings: 100%|██████████| 1/1 [00:00<00:00,  6.25it/s]\n",
            "OllamaEmbeddings: 100%|██████████| 1/1 [00:00<00:00,  6.35it/s]\n",
            "OllamaEmbeddings: 100%|██████████| 1/1 [00:00<00:00,  5.70it/s]\n",
            "OllamaEmbeddings: 100%|██████████| 1/1 [00:00<00:00,  5.99it/s]\n",
            "OllamaEmbeddings: 100%|██████████| 1/1 [00:00<00:00,  6.34it/s]\n",
            "OllamaEmbeddings: 100%|██████████| 1/1 [00:00<00:00,  6.39it/s]\n",
            "OllamaEmbeddings: 100%|██████████| 1/1 [00:00<00:00,  5.84it/s]\n",
            "OllamaEmbeddings: 100%|██████████| 1/1 [00:00<00:00,  5.86it/s]\n",
            "OllamaEmbeddings: 100%|██████████| 1/1 [00:00<00:00,  6.05it/s]\n",
            "OllamaEmbeddings: 100%|██████████| 1/1 [00:00<00:00,  5.97it/s]\n",
            "OllamaEmbeddings: 100%|██████████| 1/1 [00:00<00:00,  5.89it/s]\n",
            "OllamaEmbeddings: 100%|██████████| 1/1 [00:00<00:00,  6.43it/s]\n",
            "OllamaEmbeddings: 100%|██████████| 1/1 [00:00<00:00,  6.11it/s]\n",
            "OllamaEmbeddings: 100%|██████████| 1/1 [00:00<00:00,  6.18it/s]\n",
            "OllamaEmbeddings: 100%|██████████| 1/1 [00:00<00:00,  4.72it/s]\n",
            "OllamaEmbeddings: 100%|██████████| 1/1 [00:00<00:00,  6.25it/s]\n",
            "OllamaEmbeddings: 100%|██████████| 1/1 [00:00<00:00,  6.30it/s]\n",
            "OllamaEmbeddings: 100%|██████████| 1/1 [00:00<00:00,  6.34it/s]\n",
            "OllamaEmbeddings: 100%|██████████| 1/1 [00:00<00:00,  5.86it/s]\n",
            "OllamaEmbeddings: 100%|██████████| 1/1 [00:00<00:00,  6.05it/s]\n",
            "OllamaEmbeddings: 100%|██████████| 1/1 [00:00<00:00,  6.20it/s]\n"
          ]
        },
        {
          "output_type": "stream",
          "name": "stdout",
          "text": [
            "Question 28: Mengapa keterlibatan masyarakat lokal penting dalam pengadaan makanan sekolah?\n",
            "Generated Answer 28: Keterlibatan masyarakat lokal dalam pengadaan makanan sekolah penting untuk beberapa alasan berdasarkan konteks yang diberikan:  1. **Mencegah Korupsi dan Kolusi**: Transparansi serta partisipasi masyarakat menjadi kunci untuk menghindari praktik korupsi, seperti manipulasi tender, mark-up harga, dan kolusi antar pejabat dengan penyedia jasa. Tanpa keterlibatan masyarakat, dana program berisiko disalahgunakan, yang dapat merugikan hak anak dan kepentingan publik.  2. **Memastikan Kesesuaian dengan Kebutuhan Lokal**: Partisipasi masyarakat memungkinkan desain program yang lebih sesuai dengan kebutuhan geografis dan budaya setempat. Standarisasi menu yang tidak mempertimbangkan kebutuhan lokal bisa menciptakan limbah makanan dan tidak efektif dalam memenuhi asupan gizi.  3. **Mendorong Partisipasi Aktif dan Kontrol Sosial**: Keterlibatan warga, seperti orang tua siswa, komite sekolah, dan anak-anak, memperkuat demokrasi substansial. Mekanisme musyawarah dan konsultasi publik membantu mengawasi pelaksanaan program, mencegah penyalahgunaan, dan meningkatkan kepercayaan masyarakat.  4. **Meningkatkan Kepemilikan dan Kemandirian Masyarakat**: Model seperti yang diterapkan Brasil dalam Program Nasional Alimentasi (PNAE) menunjukkan bahwa melibatkan petani lokal sebagai pemasok utama tidak hanya menekan harga tetapi juga memberdayakan masyarakat desa. Hal ini memperkuat ekonomi lokal dan keberlanjutan program.  5. **Menghindari Resistensi dan Ketidakpercayaan**: Keterlibatan masyarakat dalam perencanaan dan evaluasi program mengurangi risiko resistensi atau ketidakpercayaan terhadap program, karena kebijakan yang dirancang lebih responsif terhadap kebutuhan nyata.  Dengan demikian, keterlibatan masyarakat lokal adalah instrumen penting untuk memastikan keadilan, transparansi, dan keberlanjutan program makanan sekolah.\n",
            "Original Answer 28: Keterlibatan masyarakat lokal memungkinkan menu disesuaikan dengan budaya pangan setempat, menekan biaya logistik, dan memberdayakan petani kecil sebagai pemasok. Pendekatan partisipatif ini terbukti efektif seperti dalam model Brasil (PNAE). Jawaban: Agar menu sesuai budaya pangan lokal, menekan harga, dan memberdayakan petani kecil sebagai pemasok.\n",
            "\n"
          ]
        },
        {
          "output_type": "stream",
          "name": "stderr",
          "text": [
            "OllamaEmbeddings: 100%|██████████| 1/1 [00:00<00:00,  5.23it/s]\n",
            "OllamaEmbeddings: 100%|██████████| 1/1 [00:00<00:00,  4.77it/s]\n",
            "OllamaEmbeddings: 100%|██████████| 1/1 [00:00<00:00,  5.10it/s]\n",
            "OllamaEmbeddings: 100%|██████████| 1/1 [00:00<00:00,  4.20it/s]\n",
            "OllamaEmbeddings: 100%|██████████| 1/1 [00:00<00:00,  6.59it/s]\n",
            "OllamaEmbeddings: 100%|██████████| 1/1 [00:00<00:00,  6.39it/s]\n",
            "OllamaEmbeddings: 100%|██████████| 1/1 [00:00<00:00,  6.10it/s]\n",
            "OllamaEmbeddings: 100%|██████████| 1/1 [00:00<00:00,  6.14it/s]\n",
            "OllamaEmbeddings: 100%|██████████| 1/1 [00:00<00:00,  6.11it/s]\n",
            "OllamaEmbeddings: 100%|██████████| 1/1 [00:00<00:00,  6.10it/s]\n",
            "OllamaEmbeddings: 100%|██████████| 1/1 [00:00<00:00,  6.16it/s]\n",
            "OllamaEmbeddings: 100%|██████████| 1/1 [00:00<00:00,  5.48it/s]\n",
            "OllamaEmbeddings: 100%|██████████| 1/1 [00:00<00:00,  4.99it/s]\n",
            "OllamaEmbeddings: 100%|██████████| 1/1 [00:00<00:00,  5.03it/s]\n",
            "OllamaEmbeddings: 100%|██████████| 1/1 [00:00<00:00,  4.92it/s]\n",
            "OllamaEmbeddings: 100%|██████████| 1/1 [00:00<00:00,  3.60it/s]\n",
            "OllamaEmbeddings: 100%|██████████| 1/1 [00:00<00:00,  3.72it/s]\n",
            "OllamaEmbeddings: 100%|██████████| 1/1 [00:00<00:00,  3.40it/s]\n",
            "OllamaEmbeddings: 100%|██████████| 1/1 [00:00<00:00,  3.82it/s]\n",
            "OllamaEmbeddings: 100%|██████████| 1/1 [00:00<00:00,  3.51it/s]\n",
            "OllamaEmbeddings: 100%|██████████| 1/1 [00:00<00:00,  3.86it/s]\n"
          ]
        },
        {
          "output_type": "stream",
          "name": "stdout",
          "text": [
            "Question 29: Apa ancaman terbesar jika negara tidak transparan soal insiden keracunan MBG?\n",
            "Generated Answer 29: Acaman terbesar jika negara tidak transparan soal insiden keracunan MBG adalah **risiko pembangkangan sosial terhadap program negara**. Ketidaktransparansi memperparah kelalaian sistemik dalam pengelolaan program, seperti kegagalan kontrol mutu makanan, koordinasi lintas sektor, dan akuntabilitas. Hal ini mengurangi kepercayaan masyarakat, menciptakan ketidakstabilan citra pemerintah, dan berpotensi memicu ketidakpuasan yang berujung pada penolakan atau pembangkangan terhadap kebijakan nasional. Selain itu, penanganan yang tidak terbuka juga memperkuat kritik internasional dan merusak tata kelola proyek sosial, yang berdampak pada stabilitas diplomatis dan kredibilitas pemerintahan.\n",
            "Original Answer 29: Ketertutupan informasi mengenai insiden keracunan dapat menimbulkan krisis kepercayaan publik dan memicu resistensi sosial terhadap program pemerintah. Transparansi diperlukan untuk menjaga legitimasi negara. Jawaban: Terjadi krisis kepercayaan masyarakat terhadap pemerintah dan potensi pembangkangan sosial.\n",
            "\n"
          ]
        },
        {
          "output_type": "stream",
          "name": "stderr",
          "text": [
            "OllamaEmbeddings: 100%|██████████| 1/1 [00:00<00:00,  5.77it/s]\n",
            "OllamaEmbeddings: 100%|██████████| 1/1 [00:00<00:00,  4.16it/s]\n",
            "OllamaEmbeddings: 100%|██████████| 1/1 [00:00<00:00,  5.25it/s]\n",
            "OllamaEmbeddings: 100%|██████████| 1/1 [00:00<00:00,  5.03it/s]\n",
            "OllamaEmbeddings: 100%|██████████| 1/1 [00:00<00:00,  4.92it/s]\n",
            "OllamaEmbeddings: 100%|██████████| 1/1 [00:00<00:00,  4.31it/s]\n",
            "OllamaEmbeddings: 100%|██████████| 1/1 [00:00<00:00,  5.73it/s]\n",
            "OllamaEmbeddings: 100%|██████████| 1/1 [00:00<00:00,  6.45it/s]\n",
            "OllamaEmbeddings: 100%|██████████| 1/1 [00:00<00:00,  6.29it/s]\n",
            "OllamaEmbeddings: 100%|██████████| 1/1 [00:00<00:00,  6.28it/s]\n",
            "OllamaEmbeddings: 100%|██████████| 1/1 [00:00<00:00,  6.46it/s]\n",
            "OllamaEmbeddings: 100%|██████████| 1/1 [00:00<00:00,  5.33it/s]\n",
            "OllamaEmbeddings: 100%|██████████| 1/1 [00:00<00:00,  6.13it/s]\n",
            "OllamaEmbeddings: 100%|██████████| 1/1 [00:00<00:00,  5.99it/s]\n",
            "OllamaEmbeddings: 100%|██████████| 1/1 [00:00<00:00,  4.80it/s]\n",
            "OllamaEmbeddings: 100%|██████████| 1/1 [00:00<00:00,  5.03it/s]\n",
            "OllamaEmbeddings: 100%|██████████| 1/1 [00:00<00:00,  5.82it/s]\n",
            "OllamaEmbeddings: 100%|██████████| 1/1 [00:00<00:00,  6.26it/s]\n",
            "OllamaEmbeddings: 100%|██████████| 1/1 [00:00<00:00,  6.26it/s]\n",
            "OllamaEmbeddings: 100%|██████████| 1/1 [00:00<00:00,  6.12it/s]\n",
            "OllamaEmbeddings: 100%|██████████| 1/1 [00:00<00:00,  6.13it/s]\n",
            "OllamaEmbeddings: 100%|██████████| 1/1 [00:00<00:00,  6.28it/s]\n",
            "OllamaEmbeddings: 100%|██████████| 1/1 [00:00<00:00,  3.23it/s]\n",
            "OllamaEmbeddings: 100%|██████████| 1/1 [00:00<00:00,  6.64it/s]\n",
            "OllamaEmbeddings: 100%|██████████| 1/1 [00:00<00:00,  6.11it/s]\n",
            "OllamaEmbeddings: 100%|██████████| 1/1 [00:00<00:00,  6.29it/s]\n",
            "OllamaEmbeddings: 100%|██████████| 1/1 [00:00<00:00,  5.02it/s]\n",
            "OllamaEmbeddings: 100%|██████████| 1/1 [00:00<00:00,  5.94it/s]\n",
            "OllamaEmbeddings: 100%|██████████| 1/1 [00:00<00:00,  6.31it/s]\n"
          ]
        },
        {
          "output_type": "stream",
          "name": "stdout",
          "text": [
            "Question 30: Apa prinsip rule of law yang harus ditegakkan dalam MBG?\n",
            "Generated Answer 30: Prinsip **rule of law** yang harus ditegakkan dalam program MBG (Makan Siang Gratis) adalah bahwa program ini harus beroperasi dalam bingkai aturan hukum yang **jelas, konsisten, dan ditegakkan tanpa diskriminasi** (seperti yang dijelaskan dalam referensi Rawls, 1971). Hal ini berarti:  \n",
            "1. **Keterbukaan dan kejelasan regulasi**: MBG harus diatur dalam peraturan yang jelas dan berlaku umum, bukan hanya berbasis kebijakan politis.  \n",
            "2. **Konsistensi dalam penerapan**: Penegakan hukum dan standar operasional harus konsisten, sehingga tidak ada pengecualian atau diskriminasi dalam distribusi makanan atau pengelolaan anggaran.  \n",
            "3. **Tidak diskriminatif**: Hakikat program MBG sebagai bentuk jaminan sosial harus ditegakkan secara adil, tanpa membeda-bedakan kelompok masyarakat.  Ketidaktegasan dalam hal ini, seperti yang disebutkan dalam penelitian Naafi (2024), berpotensi memicu konflik sosial dan mengurangi legitimasi negara. Oleh karena itu, prinsip rule of law menjadi penting untuk memastikan keadilan sosial dan pemerataan akses layanan dalam pelaksanaan MBG.\n",
            "Original Answer 30: Prinsip rule of law dalam MBG menekankan pentingnya aturan hukum yang jelas, konsisten, dan ditegakkan tanpa diskriminasi. Program harus berpihak pada keadilan sosial dengan mekanisme sanksi yang tegas agar tidak ada pelanggaran hukum yang dibiarkan. Jawaban: Aturan hukum yang jelas, konsisten, ditegakkan tanpa diskriminasi, serta berpihak pada keadilan sosial.\n",
            "\n"
          ]
        }
      ]
    },
    {
      "cell_type": "markdown",
      "source": [
        "### 5. Evaluation\n",
        "Here we will be using RAGAS evaluation metrics for evaluating RAG results.<br>\n",
        "There are several RAGAS metrics:<br>\n",
        "1. Faithfullness: Faithfulness measures how factually consistent the generated answer is with the provided context. It ensures that the claims made in the answer can be directly inferred from the given context. A faithful answer means that all statements in the answer are supported by the context.<br>(Example: If the context states that \"Einstein was born on March 14, 1879,\" an answer saying he was born on March 20, 1879, would have low faithfulness.)<br>\n",
        "2. Answer Relevancy: This metric assesses how relevant the generated answer is to the original question. It focuses on whether the answer addresses the query directly and avoids unnecessary or unrelated information. Relevance is often measured by generating variations of the question based on the answer and comparing them to the original question using cosine similarity.<br>(Example: For a question asking \"What is the capital of France?\", an answer stating \"Paris is the capital of France\" is highly relevant, while an answer discussing French cuisine would score lower.).<br>\n",
        "3. Context Precision: Context precision evaluates how accurately the retrieved context provides the necessary information to answer the question. It measures whether the relevant information is ranked higher among the retrieved documents, focusing on the signal-to-noise ratio in the retrieval process.<br>(Example: If the context retrieved is directly related to the query without much irrelevant information, the precision is high.).<br>\n",
        "4. Context Recall: Context recall measures how much of the relevant information from the ground truth is included in the retrieved context. It compares the retrieved context with the expected answer to see if all necessary details are captured.<br>(Example: If the ground truth for a question includes multiple details, and the retrieved context covers most of these, the recall would be high.).<br>\n",
        "5. Answer Similarity: Answer similarity assesses how close the generated answer is to the ground truth by comparing the semantic similarity between the two. This metric ensures that even if different words are used, the meaning conveyed is similar.<br>(Example: If the ground truth answer is \"Paris is the capital of France,\" and the generated answer is \"The capital of France is Paris,\" the similarity would be high.).<br>"
      ],
      "metadata": {
        "id": "kfywYj4-4D7w"
      }
    },
    {
      "cell_type": "markdown",
      "source": [
        "<b>RAGAS Evaluation preparation</b><br>\n",
        "Before starting RAGAS eval, the RAGAS have input criteria as below:<br>\n",
        "`{`<br>\n",
        "`  \"question\": List[str],`<br>\n",
        "`  \"answer\": List[str],`<br>\n",
        "`  \"contexts\": List[List[str]],`<br>\n",
        "`  \"reference\": List[str]`<br>\n",
        "`}`<br>\n",
        "\n",
        "Where it explains:\n",
        "- \"question\": is the input question\n",
        "- \"answer\" is generated answer from LLM RAG\n",
        "- \"contexts\" is context chunks from document chunks\n",
        "- \"reference\" is ground truth (actual or references) answers"
      ],
      "metadata": {
        "id": "8MoglEuO5Wm2"
      }
    },
    {
      "cell_type": "code",
      "source": [
        "# Formatting the dataset for inputting to RAGAS\n",
        "\n",
        "from datasets import Dataset, DatasetDict\n",
        "\n",
        "rag_question = []\n",
        "rag_answer = []\n",
        "rag_ground_truth = []\n",
        "rag_context = contexts\n",
        "\n",
        "for item in qa_pairs:\n",
        "    rag_question.append(item[\"question\"])\n",
        "    rag_ground_truth.append(item[\"answer\"])\n",
        "\n",
        "for item in answers:\n",
        "    rag_answer.append(item)\n",
        "\n",
        "d = {\n",
        "    \"question\": rag_question,\n",
        "    \"answer\": rag_answer,\n",
        "    \"contexts\": rag_context,\n",
        "    \"reference\": rag_ground_truth\n",
        "}\n",
        "dataset = Dataset.from_dict(d)"
      ],
      "metadata": {
        "id": "hSoTdYmzoAlQ"
      },
      "execution_count": null,
      "outputs": []
    },
    {
      "cell_type": "markdown",
      "source": [
        "Then the Dictionary dataset should be converted into HuggingFace Dataset using `Dataset.from_dict()`"
      ],
      "metadata": {
        "id": "KKpiD4rl7ZRi"
      }
    },
    {
      "cell_type": "code",
      "source": [
        "dataset"
      ],
      "metadata": {
        "colab": {
          "base_uri": "https://localhost:8080/"
        },
        "id": "Qx_M-YrgxJNS",
        "outputId": "635d3b4b-4fff-4704-8adb-d83284fc14fe"
      },
      "execution_count": null,
      "outputs": [
        {
          "output_type": "execute_result",
          "data": {
            "text/plain": [
              "Dataset({\n",
              "    features: ['question', 'answer', 'contexts', 'reference'],\n",
              "    num_rows: 30\n",
              "})"
            ]
          },
          "metadata": {},
          "execution_count": 25
        }
      ]
    },
    {
      "cell_type": "markdown",
      "source": [
        "<b>Preparing RAGAS metrics, LLM Wrapper, and Embedding Wrapper</b><br>\n",
        "for evaluating with RAGAS, we will use `Qwen2.5:7b` and `Qwen3-embedding:8b` for faster computation evaluation.<br>\n",
        "Also we setting up longer timeouts to prevent many timeouts while evaluating RAGAS."
      ],
      "metadata": {
        "id": "6Q0b-fgP7l97"
      }
    },
    {
      "cell_type": "code",
      "source": [
        "!ollama list"
      ],
      "metadata": {
        "colab": {
          "base_uri": "https://localhost:8080/"
        },
        "id": "-9qQVzt2Czxb",
        "outputId": "e711ac79-4c63-414c-eb33-acc360647f94"
      },
      "execution_count": null,
      "outputs": [
        {
          "output_type": "stream",
          "name": "stdout",
          "text": [
            "NAME                  ID              SIZE      MODIFIED           \n",
            "qwen2.5:3b            357c53fb659c    1.9 GB    About a minute ago    \n",
            "qwen3:8b              500a1f067a9f    5.2 GB    About a minute ago    \n",
            "qwen3-embedding:4b    df5bd2e3c74c    2.5 GB    About a minute ago    \n",
            "qwen2.5:7b            845dbda0ea48    4.7 GB    About an hour ago     \n",
            "qwen3-embedding:8b    64b933495768    4.7 GB    About an hour ago     \n"
          ]
        }
      ]
    },
    {
      "cell_type": "code",
      "source": [
        "from ragas import evaluate\n",
        "from ragas.metrics import (\n",
        "    faithfulness,\n",
        "    answer_relevancy,\n",
        "    context_recall,\n",
        "    context_precision,\n",
        "    answer_similarity,\n",
        "    answer_correctness,\n",
        ")\n",
        "from ragas.run_config import RunConfig\n",
        "from ragas.llms.base import LangchainLLMWrapper\n",
        "from ragas.embeddings.base import LangchainEmbeddingsWrapper\n",
        "\n",
        "# Increase timeout to 1200 seconds (20 minutes) for longer timeout\n",
        "run_config = RunConfig(\n",
        "    max_retries=99999,\n",
        "    max_wait=600,\n",
        "    timeout=1200,\n",
        "    max_workers=1,\n",
        "    log_tenacity=True\n",
        ")\n",
        "\n",
        "wrapped_llm = LangchainLLMWrapper(ChatOllama(model='qwen2.5:7b'), run_config=run_config)\n",
        "wrapped_embeddings = LangchainEmbeddingsWrapper(OllamaEmbeddings(model='qwen3-embedding:8b'), run_config=run_config)"
      ],
      "metadata": {
        "colab": {
          "base_uri": "https://localhost:8080/"
        },
        "id": "r_V-4NdV1fxe",
        "outputId": "c8d9ca8e-1053-4f25-ae8f-8043f41fd29f"
      },
      "execution_count": null,
      "outputs": [
        {
          "output_type": "stream",
          "name": "stderr",
          "text": [
            "/tmp/ipython-input-4261840290.py:25: DeprecationWarning: LangchainEmbeddingsWrapper is deprecated and will be removed in a future version. Use the modern embedding providers instead: embedding_factory('openai', model='text-embedding-3-small', client=openai_client) or from ragas.embeddings import OpenAIEmbeddings, GoogleEmbeddings, HuggingFaceEmbeddings\n",
            "  wrapped_embeddings = LangchainEmbeddingsWrapper(OllamaEmbeddings(model='qwen3-embedding:8b'), run_config=run_config)\n"
          ]
        }
      ]
    },
    {
      "cell_type": "markdown",
      "source": [
        "<b>Execute the RAGAS eval</b>"
      ],
      "metadata": {
        "id": "Nq8oT-co8lJ-"
      }
    },
    {
      "cell_type": "code",
      "source": [
        "result = evaluate(\n",
        "    dataset = dataset,\n",
        "    metrics=[\n",
        "        context_precision,\n",
        "        context_recall,\n",
        "        faithfulness,\n",
        "        answer_relevancy,\n",
        "        answer_similarity,\n",
        "    ],\n",
        "    llm=wrapped_llm,\n",
        "    embeddings=wrapped_embeddings\n",
        ")\n",
        "\n",
        "df_ragas = result.to_pandas()"
      ],
      "metadata": {
        "colab": {
          "base_uri": "https://localhost:8080/",
          "height": 1000,
          "referenced_widgets": [
            "474f79da904f4971a923881f496fcf14",
            "ab34016ee1f84e5fae7a7ccb5d1038af",
            "d84faeb6be8144c3a5730cc913c35f91",
            "cfa4d57986e541e89c53352d24d9bb49",
            "21577ade14d14643ab4fca4b5fb24b08",
            "3e7618f06f6d4b9f93443bb8439b4d38",
            "f1a14fdb457945a3a95d9674ed23fc2c",
            "029c98e25a0f4821be4f82ea9d85b95b",
            "6710e0c9006249dbb35d5ac0d5c759c3",
            "450d6084e16b4afa9a408da1cac92082",
            "e3225da91b4942ea81c71d96faaff989"
          ]
        },
        "id": "dYzq9AQgx92l",
        "outputId": "29c2169a-4de5-4989-f619-9d7acf27ac49"
      },
      "execution_count": null,
      "outputs": [
        {
          "output_type": "display_data",
          "data": {
            "text/plain": [
              "Evaluating:   0%|          | 0/150 [00:00<?, ?it/s]"
            ],
            "application/vnd.jupyter.widget-view+json": {
              "version_major": 2,
              "version_minor": 0,
              "model_id": "474f79da904f4971a923881f496fcf14"
            }
          },
          "metadata": {}
        },
        {
          "output_type": "stream",
          "name": "stderr",
          "text": [
            "ERROR:ragas.executor:Exception raised in Job[0]: TimeoutError()\n",
            "ERROR:ragas.executor:Exception raised in Job[2]: TimeoutError()\n",
            "ERROR:ragas.executor:Exception raised in Job[5]: TimeoutError()\n",
            "ERROR:ragas.executor:Exception raised in Job[7]: TimeoutError()\n",
            "ERROR:ragas.executor:Exception raised in Job[10]: TimeoutError()\n",
            "ERROR:ragas.executor:Exception raised in Job[12]: TimeoutError()\n",
            "ERROR:ragas.executor:Exception raised in Job[15]: TimeoutError()\n",
            "ERROR:ragas.executor:Exception raised in Job[17]: TimeoutError()\n",
            "ERROR:ragas.executor:Exception raised in Job[20]: TimeoutError()\n",
            "ERROR:ragas.executor:Exception raised in Job[22]: TimeoutError()\n",
            "ERROR:ragas.executor:Exception raised in Job[25]: TimeoutError()\n",
            "ERROR:ragas.executor:Exception raised in Job[27]: TimeoutError()\n",
            "ERROR:ragas.executor:Exception raised in Job[30]: TimeoutError()\n",
            "ERROR:ragas.executor:Exception raised in Job[32]: TimeoutError()\n",
            "ERROR:ragas.executor:Exception raised in Job[35]: TimeoutError()\n",
            "ERROR:ragas.executor:Exception raised in Job[37]: TimeoutError()\n",
            "ERROR:ragas.executor:Exception raised in Job[40]: TimeoutError()\n",
            "ERROR:ragas.executor:Exception raised in Job[42]: TimeoutError()\n"
          ]
        }
      ]
    },
    {
      "cell_type": "markdown",
      "source": [
        "<b>Viewing RAGAS eval result in Pandas DataFrame format</b>"
      ],
      "metadata": {
        "id": "OOc63KCk8aGh"
      }
    },
    {
      "cell_type": "code",
      "source": [
        "df_ragas"
      ],
      "metadata": {
        "colab": {
          "base_uri": "https://localhost:8080/",
          "height": 1000
        },
        "id": "VKXWA5iWyIIW",
        "outputId": "5d40c3d6-3b73-4238-a0d4-6ebfa758aaa8"
      },
      "execution_count": null,
      "outputs": [
        {
          "output_type": "execute_result",
          "data": {
            "text/plain": [
              "                                           user_input  \\\n",
              "0   Apa tujuan utama penelitian tentang Program Ma...   \n",
              "1   Pasal berapa dalam UUD 1945 yang dijadikan das...   \n",
              "2   Siapa presiden yang meluncurkan Program MBG da...   \n",
              "3   Kasus apa yang sering muncul sejak awal pelaks...   \n",
              "4   Negara mana yang dijadikan rujukan model MBG o...   \n",
              "5   Mengapa replikasi model Jepang dalam MBG dinil...   \n",
              "6   Apa saja faktor penyebab utama keracunan makan...   \n",
              "7   Apa yang dimaksud dengan moral hazard dalam ko...   \n",
              "8   Mengapa tanggung jawab hukum dalam kasus kerac...   \n",
              "9   Apa dasar hukum yang mengatur hak anak sebagai...   \n",
              "10  Bagaimana bentuk tanggung jawab negara menurut...   \n",
              "11  Apa contoh negara berkembang yang berhasil men...   \n",
              "12  Apa masalah utama yang muncul dalam Midday Mea...   \n",
              "13  Berapa besar anggaran yang dialokasikan pemeri...   \n",
              "14  Apa kritik utama terhadap MBG terkait anggaran...   \n",
              "15  Apa prinsip utama dalam pengadaan barang/jasa ...   \n",
              "16  Mengapa partisipasi publik penting dalam pelak...   \n",
              "17  Apa risiko terbesar jika MBG tidak dikelola de...   \n",
              "18  Apa bentuk perlindungan hukum yang dibutuhkan ...   \n",
              "19  Apa kesimpulan utama jurnal terkait keberhasil...   \n",
              "20  Apa metode penelitian yang digunakan dalam kaj...   \n",
              "21  Mengapa MBG dianggap berpotensi menjadi proyek...   \n",
              "22  Apa kewajiban negara menurut Konvensi Hak Anak...   \n",
              "23  Apa masalah sanitasi yang memperbesar risiko k...   \n",
              "24  Apa peran BPKP, KPK, dan Ombudsman dalam pelak...   \n",
              "25  Bagaimana Jepang menjamin keberhasilan program...   \n",
              "26  Apa risiko hukum bagi penyedia katering jika t...   \n",
              "27  Mengapa keterlibatan masyarakat lokal penting ...   \n",
              "28  Apa ancaman terbesar jika negara tidak transpa...   \n",
              "29  Apa prinsip rule of law yang harus ditegakkan ...   \n",
              "\n",
              "                                   retrieved_contexts  \\\n",
              "0   [1330 |Jurnal Penelitian Ilmiah Multidisipline...   \n",
              "1   [1330 |Jurnal Penelitian Ilmiah Multidisipline...   \n",
              "2   [1330 |Jurnal Penelitian Ilmiah Multidisipline...   \n",
              "3   [1330 |Jurnal Penelitian Ilmiah Multidisipline...   \n",
              "4   [1330 |Jurnal Penelitian Ilmiah Multidisipline...   \n",
              "5   [1330 |Jurnal Penelitian Ilmiah Multidisipline...   \n",
              "6   [1330 |Jurnal Penelitian Ilmiah Multidisipline...   \n",
              "7   [1330 |Jurnal Penelitian Ilmiah Multidisipline...   \n",
              "8   [1330 |Jurnal Penelitian Ilmiah Multidisipline...   \n",
              "9   [1330 |Jurnal Penelitian Ilmiah Multidisipline...   \n",
              "10  [1330 |Jurnal Penelitian Ilmiah Multidisipline...   \n",
              "11  [1330 |Jurnal Penelitian Ilmiah Multidisipline...   \n",
              "12  [1330 |Jurnal Penelitian Ilmiah Multidisipline...   \n",
              "13  [1330 |Jurnal Penelitian Ilmiah Multidisipline...   \n",
              "14  [1330 |Jurnal Penelitian Ilmiah Multidisipline...   \n",
              "15  [1330 |Jurnal Penelitian Ilmiah Multidisipline...   \n",
              "16  [1330 |Jurnal Penelitian Ilmiah Multidisipline...   \n",
              "17  [1330 |Jurnal Penelitian Ilmiah Multidisipline...   \n",
              "18  [1330 |Jurnal Penelitian Ilmiah Multidisipline...   \n",
              "19  [1330 |Jurnal Penelitian Ilmiah Multidisipline...   \n",
              "20  [1330 |Jurnal Penelitian Ilmiah Multidisipline...   \n",
              "21  [1330 |Jurnal Penelitian Ilmiah Multidisipline...   \n",
              "22  [1330 |Jurnal Penelitian Ilmiah Multidisipline...   \n",
              "23  [1330 |Jurnal Penelitian Ilmiah Multidisipline...   \n",
              "24  [1330 |Jurnal Penelitian Ilmiah Multidisipline...   \n",
              "25  [1330 |Jurnal Penelitian Ilmiah Multidisipline...   \n",
              "26  [1330 |Jurnal Penelitian Ilmiah Multidisipline...   \n",
              "27  [1330 |Jurnal Penelitian Ilmiah Multidisipline...   \n",
              "28  [1330 |Jurnal Penelitian Ilmiah Multidisipline...   \n",
              "29  [1330 |Jurnal Penelitian Ilmiah Multidisipline...   \n",
              "\n",
              "                                             response  \\\n",
              "0   Tujuan utama penelitian tentang Program Makan ...   \n",
              "1   Pasal 28C dan Pasal 28H dalam UUD 1945 dijadik...   \n",
              "2   Presiden yang meluncurkan Program Makan Bergiz...   \n",
              "3   Kasus yang sering muncul sejak awal pelaksanaa...   \n",
              "4   Negara yang dijadikan rujukan model MBG oleh p...   \n",
              "5   Replikasi model Jepang dalam MBG dinilai berma...   \n",
              "6   Berdasarkan jurnal tersebut, faktor penyebab u...   \n",
              "7   Dalam konteks MBG (Bantuan Pangan Sekolah), **...   \n",
              "8   Tanggung jawab hukum dalam kasus keracunan MBG...   \n",
              "9   Dasar hukum yang mengatur hak anak sebagai kon...   \n",
              "10  Berdasarkan Pasal 111 ayat (2) UU No. 36 Tahun...   \n",
              "11  Contoh negara berkembang yang berhasil mengint...   \n",
              "12  Masalah utama yang muncul dalam Midday Meal Sc...   \n",
              "13  Berdasarkan dokumen yang disediakan, pemerinta...   \n",
              "14  Kritik utama terhadap MBG terkait anggaran pen...   \n",
              "15  Berdasarkan konteks yang diberikan, prinsip ut...   \n",
              "16  Partisipasi publik penting dalam pelaksanaan P...   \n",
              "17  Berdasarkan konteks, risiko terbesar jika MBG ...   \n",
              "18  Berdasarkan konteks yang diberikan, bentuk per...   \n",
              "19  Kesimpulan utama jurnal terkait keberhasilan M...   \n",
              "20  Berdasarkan konteks yang diberikan, tidak ada ...   \n",
              "21  MBG dianggap berpotensi menjadi proyek populis...   \n",
              "22  Berdasarkan konteks yang diberikan, kewajiban ...   \n",
              "23  Masalah sanitasi yang memperbesar risiko kerac...   \n",
              "24  Berdasarkan konteks yang diberikan, peran **BP...   \n",
              "25  Jepang menjamin keberhasilan program makan sia...   \n",
              "26  Berdasarkan konteks yang diberikan, risiko huk...   \n",
              "27  Keterlibatan masyarakat lokal dalam pengadaan ...   \n",
              "28  Acaman terbesar jika negara tidak transparan s...   \n",
              "29  Prinsip **rule of law** yang harus ditegakkan ...   \n",
              "\n",
              "                                            reference  context_precision  \\\n",
              "0   Penelitian ini bertujuan untuk menganalisis pe...                NaN   \n",
              "1   Berdasarkan hasil analisis dalam jurnal, dasar...                NaN   \n",
              "2   Program Makan Bergizi Gratis (MBG) diluncurkan...                NaN   \n",
              "3   Sejak awal pelaksanaan MBG, berbagai daerah me...                NaN   \n",
              "4   Pemerintah Indonesia menjadikan Jepang sebagai...                NaN   \n",
              "5   Replikasi model Jepang dalam MBG dinilai berma...                NaN   \n",
              "6   Jurnal menjelaskan bahwa penyebab utama keracu...                NaN   \n",
              "7   Dalam konteks MBG, moral hazard muncul ketika ...                NaN   \n",
              "8   Tanggung jawab hukum kabur karena belum ada re...                NaN   \n",
              "9   Hak anak sebagai konsumen dilindungi oleh Unda...                NaN   \n",
              "10  Menurut Pasal 111 ayat (2) UU No. 36 Tahun 200...                NaN   \n",
              "11  Brasil menjadi contoh sukses melalui Program N...                NaN   \n",
              "12  Masalah utama dalam program Midday Meal Scheme...                NaN   \n",
              "13  Pemerintah Indonesia mengalokasikan sekitar Rp...                NaN   \n",
              "14  Kritik utama terhadap MBG adalah adanya pengal...                NaN   \n",
              "15  UU No. 2 Tahun 2017 menegaskan bahwa pengadaan...                NaN   \n",
              "16  Partisipasi publik penting agar masyarakat, or...                NaN   \n",
              "17  Tanpa transparansi, program MBG berisiko tingg...                NaN   \n",
              "18  Peserta didik membutuhkan perlindungan hukum b...                NaN   \n",
              "19  Jurnal menyimpulkan bahwa keberhasilan MBG han...                NaN   \n",
              "20  Penelitian ini menggunakan metode hukum normat...                NaN   \n",
              "21  MBG dianggap berpotensi menjadi proyek populis...                NaN   \n",
              "22  Menurut Konvensi Hak Anak yang diratifikasi me...                NaN   \n",
              "23  Masalah sanitasi seperti kurangnya akses air b...                NaN   \n",
              "24  BPKP, KPK, dan Ombudsman berperan sebagai lemb...                NaN   \n",
              "25  Jepang menjamin keberhasilan Kyūshoku dengan m...                NaN   \n",
              "26  Penyedia katering yang lalai dapat dikenai san...                NaN   \n",
              "27  Keterlibatan masyarakat lokal memungkinkan men...                NaN   \n",
              "28  Ketertutupan informasi mengenai insiden keracu...                NaN   \n",
              "29  Prinsip rule of law dalam MBG menekankan penti...                NaN   \n",
              "\n",
              "    context_recall  faithfulness  answer_relevancy  answer_similarity  \n",
              "0         1.000000           NaN          0.878864           0.794339  \n",
              "1         0.000000           NaN          0.772772           0.827427  \n",
              "2         1.000000           NaN          0.740310           0.924215  \n",
              "3         0.666667           NaN          0.638595           0.863598  \n",
              "4         1.000000           NaN          0.867576           0.878364  \n",
              "5         1.000000           NaN          0.812232           0.905232  \n",
              "6         0.500000           NaN          0.870091           0.680111  \n",
              "7         0.666667           NaN          0.759887           0.913032  \n",
              "8         1.000000           NaN          0.821422           0.764162  \n",
              "9         1.000000           NaN          0.765611           0.800007  \n",
              "10        0.666667           NaN          0.607255           0.758426  \n",
              "11        1.000000           NaN          0.983850           0.851162  \n",
              "12        0.666667           NaN          0.901755           0.854166  \n",
              "13        0.666667           NaN          0.959614           0.658903  \n",
              "14        1.000000           NaN          0.797120           0.885108  \n",
              "15        0.500000           NaN          0.713750           0.728344  \n",
              "16        1.000000           NaN          0.768797           0.870197  \n",
              "17        1.000000           NaN          0.795541           0.812923  \n",
              "18        1.000000           NaN          0.884406           0.766096  \n",
              "19        0.500000           NaN          0.798548           0.766917  \n",
              "20        0.666667           NaN          0.000000           0.471564  \n",
              "21        0.333333           NaN          0.985265           0.861276  \n",
              "22        1.000000           NaN          0.822256           0.742347  \n",
              "23        0.000000           NaN          0.716114           0.898624  \n",
              "24        1.000000           NaN          0.771992           0.774779  \n",
              "25        0.500000           NaN          0.811400           0.843773  \n",
              "26        1.000000           NaN          0.908418           0.761192  \n",
              "27        1.000000           NaN          0.987374           0.752282  \n",
              "28        1.000000           1.0          0.915674           0.800646  \n",
              "29        0.666667           0.8          0.631441           0.860309  "
            ],
            "text/html": [
              "\n",
              "  <div id=\"df-39bb9679-32ab-4ab1-bd7d-ba112c3f8125\" class=\"colab-df-container\">\n",
              "    <div>\n",
              "<style scoped>\n",
              "    .dataframe tbody tr th:only-of-type {\n",
              "        vertical-align: middle;\n",
              "    }\n",
              "\n",
              "    .dataframe tbody tr th {\n",
              "        vertical-align: top;\n",
              "    }\n",
              "\n",
              "    .dataframe thead th {\n",
              "        text-align: right;\n",
              "    }\n",
              "</style>\n",
              "<table border=\"1\" class=\"dataframe\">\n",
              "  <thead>\n",
              "    <tr style=\"text-align: right;\">\n",
              "      <th></th>\n",
              "      <th>user_input</th>\n",
              "      <th>retrieved_contexts</th>\n",
              "      <th>response</th>\n",
              "      <th>reference</th>\n",
              "      <th>context_precision</th>\n",
              "      <th>context_recall</th>\n",
              "      <th>faithfulness</th>\n",
              "      <th>answer_relevancy</th>\n",
              "      <th>answer_similarity</th>\n",
              "    </tr>\n",
              "  </thead>\n",
              "  <tbody>\n",
              "    <tr>\n",
              "      <th>0</th>\n",
              "      <td>Apa tujuan utama penelitian tentang Program Ma...</td>\n",
              "      <td>[1330 |Jurnal Penelitian Ilmiah Multidisipline...</td>\n",
              "      <td>Tujuan utama penelitian tentang Program Makan ...</td>\n",
              "      <td>Penelitian ini bertujuan untuk menganalisis pe...</td>\n",
              "      <td>NaN</td>\n",
              "      <td>1.000000</td>\n",
              "      <td>NaN</td>\n",
              "      <td>0.878864</td>\n",
              "      <td>0.794339</td>\n",
              "    </tr>\n",
              "    <tr>\n",
              "      <th>1</th>\n",
              "      <td>Pasal berapa dalam UUD 1945 yang dijadikan das...</td>\n",
              "      <td>[1330 |Jurnal Penelitian Ilmiah Multidisipline...</td>\n",
              "      <td>Pasal 28C dan Pasal 28H dalam UUD 1945 dijadik...</td>\n",
              "      <td>Berdasarkan hasil analisis dalam jurnal, dasar...</td>\n",
              "      <td>NaN</td>\n",
              "      <td>0.000000</td>\n",
              "      <td>NaN</td>\n",
              "      <td>0.772772</td>\n",
              "      <td>0.827427</td>\n",
              "    </tr>\n",
              "    <tr>\n",
              "      <th>2</th>\n",
              "      <td>Siapa presiden yang meluncurkan Program MBG da...</td>\n",
              "      <td>[1330 |Jurnal Penelitian Ilmiah Multidisipline...</td>\n",
              "      <td>Presiden yang meluncurkan Program Makan Bergiz...</td>\n",
              "      <td>Program Makan Bergizi Gratis (MBG) diluncurkan...</td>\n",
              "      <td>NaN</td>\n",
              "      <td>1.000000</td>\n",
              "      <td>NaN</td>\n",
              "      <td>0.740310</td>\n",
              "      <td>0.924215</td>\n",
              "    </tr>\n",
              "    <tr>\n",
              "      <th>3</th>\n",
              "      <td>Kasus apa yang sering muncul sejak awal pelaks...</td>\n",
              "      <td>[1330 |Jurnal Penelitian Ilmiah Multidisipline...</td>\n",
              "      <td>Kasus yang sering muncul sejak awal pelaksanaa...</td>\n",
              "      <td>Sejak awal pelaksanaan MBG, berbagai daerah me...</td>\n",
              "      <td>NaN</td>\n",
              "      <td>0.666667</td>\n",
              "      <td>NaN</td>\n",
              "      <td>0.638595</td>\n",
              "      <td>0.863598</td>\n",
              "    </tr>\n",
              "    <tr>\n",
              "      <th>4</th>\n",
              "      <td>Negara mana yang dijadikan rujukan model MBG o...</td>\n",
              "      <td>[1330 |Jurnal Penelitian Ilmiah Multidisipline...</td>\n",
              "      <td>Negara yang dijadikan rujukan model MBG oleh p...</td>\n",
              "      <td>Pemerintah Indonesia menjadikan Jepang sebagai...</td>\n",
              "      <td>NaN</td>\n",
              "      <td>1.000000</td>\n",
              "      <td>NaN</td>\n",
              "      <td>0.867576</td>\n",
              "      <td>0.878364</td>\n",
              "    </tr>\n",
              "    <tr>\n",
              "      <th>5</th>\n",
              "      <td>Mengapa replikasi model Jepang dalam MBG dinil...</td>\n",
              "      <td>[1330 |Jurnal Penelitian Ilmiah Multidisipline...</td>\n",
              "      <td>Replikasi model Jepang dalam MBG dinilai berma...</td>\n",
              "      <td>Replikasi model Jepang dalam MBG dinilai berma...</td>\n",
              "      <td>NaN</td>\n",
              "      <td>1.000000</td>\n",
              "      <td>NaN</td>\n",
              "      <td>0.812232</td>\n",
              "      <td>0.905232</td>\n",
              "    </tr>\n",
              "    <tr>\n",
              "      <th>6</th>\n",
              "      <td>Apa saja faktor penyebab utama keracunan makan...</td>\n",
              "      <td>[1330 |Jurnal Penelitian Ilmiah Multidisipline...</td>\n",
              "      <td>Berdasarkan jurnal tersebut, faktor penyebab u...</td>\n",
              "      <td>Jurnal menjelaskan bahwa penyebab utama keracu...</td>\n",
              "      <td>NaN</td>\n",
              "      <td>0.500000</td>\n",
              "      <td>NaN</td>\n",
              "      <td>0.870091</td>\n",
              "      <td>0.680111</td>\n",
              "    </tr>\n",
              "    <tr>\n",
              "      <th>7</th>\n",
              "      <td>Apa yang dimaksud dengan moral hazard dalam ko...</td>\n",
              "      <td>[1330 |Jurnal Penelitian Ilmiah Multidisipline...</td>\n",
              "      <td>Dalam konteks MBG (Bantuan Pangan Sekolah), **...</td>\n",
              "      <td>Dalam konteks MBG, moral hazard muncul ketika ...</td>\n",
              "      <td>NaN</td>\n",
              "      <td>0.666667</td>\n",
              "      <td>NaN</td>\n",
              "      <td>0.759887</td>\n",
              "      <td>0.913032</td>\n",
              "    </tr>\n",
              "    <tr>\n",
              "      <th>8</th>\n",
              "      <td>Mengapa tanggung jawab hukum dalam kasus kerac...</td>\n",
              "      <td>[1330 |Jurnal Penelitian Ilmiah Multidisipline...</td>\n",
              "      <td>Tanggung jawab hukum dalam kasus keracunan MBG...</td>\n",
              "      <td>Tanggung jawab hukum kabur karena belum ada re...</td>\n",
              "      <td>NaN</td>\n",
              "      <td>1.000000</td>\n",
              "      <td>NaN</td>\n",
              "      <td>0.821422</td>\n",
              "      <td>0.764162</td>\n",
              "    </tr>\n",
              "    <tr>\n",
              "      <th>9</th>\n",
              "      <td>Apa dasar hukum yang mengatur hak anak sebagai...</td>\n",
              "      <td>[1330 |Jurnal Penelitian Ilmiah Multidisipline...</td>\n",
              "      <td>Dasar hukum yang mengatur hak anak sebagai kon...</td>\n",
              "      <td>Hak anak sebagai konsumen dilindungi oleh Unda...</td>\n",
              "      <td>NaN</td>\n",
              "      <td>1.000000</td>\n",
              "      <td>NaN</td>\n",
              "      <td>0.765611</td>\n",
              "      <td>0.800007</td>\n",
              "    </tr>\n",
              "    <tr>\n",
              "      <th>10</th>\n",
              "      <td>Bagaimana bentuk tanggung jawab negara menurut...</td>\n",
              "      <td>[1330 |Jurnal Penelitian Ilmiah Multidisipline...</td>\n",
              "      <td>Berdasarkan Pasal 111 ayat (2) UU No. 36 Tahun...</td>\n",
              "      <td>Menurut Pasal 111 ayat (2) UU No. 36 Tahun 200...</td>\n",
              "      <td>NaN</td>\n",
              "      <td>0.666667</td>\n",
              "      <td>NaN</td>\n",
              "      <td>0.607255</td>\n",
              "      <td>0.758426</td>\n",
              "    </tr>\n",
              "    <tr>\n",
              "      <th>11</th>\n",
              "      <td>Apa contoh negara berkembang yang berhasil men...</td>\n",
              "      <td>[1330 |Jurnal Penelitian Ilmiah Multidisipline...</td>\n",
              "      <td>Contoh negara berkembang yang berhasil mengint...</td>\n",
              "      <td>Brasil menjadi contoh sukses melalui Program N...</td>\n",
              "      <td>NaN</td>\n",
              "      <td>1.000000</td>\n",
              "      <td>NaN</td>\n",
              "      <td>0.983850</td>\n",
              "      <td>0.851162</td>\n",
              "    </tr>\n",
              "    <tr>\n",
              "      <th>12</th>\n",
              "      <td>Apa masalah utama yang muncul dalam Midday Mea...</td>\n",
              "      <td>[1330 |Jurnal Penelitian Ilmiah Multidisipline...</td>\n",
              "      <td>Masalah utama yang muncul dalam Midday Meal Sc...</td>\n",
              "      <td>Masalah utama dalam program Midday Meal Scheme...</td>\n",
              "      <td>NaN</td>\n",
              "      <td>0.666667</td>\n",
              "      <td>NaN</td>\n",
              "      <td>0.901755</td>\n",
              "      <td>0.854166</td>\n",
              "    </tr>\n",
              "    <tr>\n",
              "      <th>13</th>\n",
              "      <td>Berapa besar anggaran yang dialokasikan pemeri...</td>\n",
              "      <td>[1330 |Jurnal Penelitian Ilmiah Multidisipline...</td>\n",
              "      <td>Berdasarkan dokumen yang disediakan, pemerinta...</td>\n",
              "      <td>Pemerintah Indonesia mengalokasikan sekitar Rp...</td>\n",
              "      <td>NaN</td>\n",
              "      <td>0.666667</td>\n",
              "      <td>NaN</td>\n",
              "      <td>0.959614</td>\n",
              "      <td>0.658903</td>\n",
              "    </tr>\n",
              "    <tr>\n",
              "      <th>14</th>\n",
              "      <td>Apa kritik utama terhadap MBG terkait anggaran...</td>\n",
              "      <td>[1330 |Jurnal Penelitian Ilmiah Multidisipline...</td>\n",
              "      <td>Kritik utama terhadap MBG terkait anggaran pen...</td>\n",
              "      <td>Kritik utama terhadap MBG adalah adanya pengal...</td>\n",
              "      <td>NaN</td>\n",
              "      <td>1.000000</td>\n",
              "      <td>NaN</td>\n",
              "      <td>0.797120</td>\n",
              "      <td>0.885108</td>\n",
              "    </tr>\n",
              "    <tr>\n",
              "      <th>15</th>\n",
              "      <td>Apa prinsip utama dalam pengadaan barang/jasa ...</td>\n",
              "      <td>[1330 |Jurnal Penelitian Ilmiah Multidisipline...</td>\n",
              "      <td>Berdasarkan konteks yang diberikan, prinsip ut...</td>\n",
              "      <td>UU No. 2 Tahun 2017 menegaskan bahwa pengadaan...</td>\n",
              "      <td>NaN</td>\n",
              "      <td>0.500000</td>\n",
              "      <td>NaN</td>\n",
              "      <td>0.713750</td>\n",
              "      <td>0.728344</td>\n",
              "    </tr>\n",
              "    <tr>\n",
              "      <th>16</th>\n",
              "      <td>Mengapa partisipasi publik penting dalam pelak...</td>\n",
              "      <td>[1330 |Jurnal Penelitian Ilmiah Multidisipline...</td>\n",
              "      <td>Partisipasi publik penting dalam pelaksanaan P...</td>\n",
              "      <td>Partisipasi publik penting agar masyarakat, or...</td>\n",
              "      <td>NaN</td>\n",
              "      <td>1.000000</td>\n",
              "      <td>NaN</td>\n",
              "      <td>0.768797</td>\n",
              "      <td>0.870197</td>\n",
              "    </tr>\n",
              "    <tr>\n",
              "      <th>17</th>\n",
              "      <td>Apa risiko terbesar jika MBG tidak dikelola de...</td>\n",
              "      <td>[1330 |Jurnal Penelitian Ilmiah Multidisipline...</td>\n",
              "      <td>Berdasarkan konteks, risiko terbesar jika MBG ...</td>\n",
              "      <td>Tanpa transparansi, program MBG berisiko tingg...</td>\n",
              "      <td>NaN</td>\n",
              "      <td>1.000000</td>\n",
              "      <td>NaN</td>\n",
              "      <td>0.795541</td>\n",
              "      <td>0.812923</td>\n",
              "    </tr>\n",
              "    <tr>\n",
              "      <th>18</th>\n",
              "      <td>Apa bentuk perlindungan hukum yang dibutuhkan ...</td>\n",
              "      <td>[1330 |Jurnal Penelitian Ilmiah Multidisipline...</td>\n",
              "      <td>Berdasarkan konteks yang diberikan, bentuk per...</td>\n",
              "      <td>Peserta didik membutuhkan perlindungan hukum b...</td>\n",
              "      <td>NaN</td>\n",
              "      <td>1.000000</td>\n",
              "      <td>NaN</td>\n",
              "      <td>0.884406</td>\n",
              "      <td>0.766096</td>\n",
              "    </tr>\n",
              "    <tr>\n",
              "      <th>19</th>\n",
              "      <td>Apa kesimpulan utama jurnal terkait keberhasil...</td>\n",
              "      <td>[1330 |Jurnal Penelitian Ilmiah Multidisipline...</td>\n",
              "      <td>Kesimpulan utama jurnal terkait keberhasilan M...</td>\n",
              "      <td>Jurnal menyimpulkan bahwa keberhasilan MBG han...</td>\n",
              "      <td>NaN</td>\n",
              "      <td>0.500000</td>\n",
              "      <td>NaN</td>\n",
              "      <td>0.798548</td>\n",
              "      <td>0.766917</td>\n",
              "    </tr>\n",
              "    <tr>\n",
              "      <th>20</th>\n",
              "      <td>Apa metode penelitian yang digunakan dalam kaj...</td>\n",
              "      <td>[1330 |Jurnal Penelitian Ilmiah Multidisipline...</td>\n",
              "      <td>Berdasarkan konteks yang diberikan, tidak ada ...</td>\n",
              "      <td>Penelitian ini menggunakan metode hukum normat...</td>\n",
              "      <td>NaN</td>\n",
              "      <td>0.666667</td>\n",
              "      <td>NaN</td>\n",
              "      <td>0.000000</td>\n",
              "      <td>0.471564</td>\n",
              "    </tr>\n",
              "    <tr>\n",
              "      <th>21</th>\n",
              "      <td>Mengapa MBG dianggap berpotensi menjadi proyek...</td>\n",
              "      <td>[1330 |Jurnal Penelitian Ilmiah Multidisipline...</td>\n",
              "      <td>MBG dianggap berpotensi menjadi proyek populis...</td>\n",
              "      <td>MBG dianggap berpotensi menjadi proyek populis...</td>\n",
              "      <td>NaN</td>\n",
              "      <td>0.333333</td>\n",
              "      <td>NaN</td>\n",
              "      <td>0.985265</td>\n",
              "      <td>0.861276</td>\n",
              "    </tr>\n",
              "    <tr>\n",
              "      <th>22</th>\n",
              "      <td>Apa kewajiban negara menurut Konvensi Hak Anak...</td>\n",
              "      <td>[1330 |Jurnal Penelitian Ilmiah Multidisipline...</td>\n",
              "      <td>Berdasarkan konteks yang diberikan, kewajiban ...</td>\n",
              "      <td>Menurut Konvensi Hak Anak yang diratifikasi me...</td>\n",
              "      <td>NaN</td>\n",
              "      <td>1.000000</td>\n",
              "      <td>NaN</td>\n",
              "      <td>0.822256</td>\n",
              "      <td>0.742347</td>\n",
              "    </tr>\n",
              "    <tr>\n",
              "      <th>23</th>\n",
              "      <td>Apa masalah sanitasi yang memperbesar risiko k...</td>\n",
              "      <td>[1330 |Jurnal Penelitian Ilmiah Multidisipline...</td>\n",
              "      <td>Masalah sanitasi yang memperbesar risiko kerac...</td>\n",
              "      <td>Masalah sanitasi seperti kurangnya akses air b...</td>\n",
              "      <td>NaN</td>\n",
              "      <td>0.000000</td>\n",
              "      <td>NaN</td>\n",
              "      <td>0.716114</td>\n",
              "      <td>0.898624</td>\n",
              "    </tr>\n",
              "    <tr>\n",
              "      <th>24</th>\n",
              "      <td>Apa peran BPKP, KPK, dan Ombudsman dalam pelak...</td>\n",
              "      <td>[1330 |Jurnal Penelitian Ilmiah Multidisipline...</td>\n",
              "      <td>Berdasarkan konteks yang diberikan, peran **BP...</td>\n",
              "      <td>BPKP, KPK, dan Ombudsman berperan sebagai lemb...</td>\n",
              "      <td>NaN</td>\n",
              "      <td>1.000000</td>\n",
              "      <td>NaN</td>\n",
              "      <td>0.771992</td>\n",
              "      <td>0.774779</td>\n",
              "    </tr>\n",
              "    <tr>\n",
              "      <th>25</th>\n",
              "      <td>Bagaimana Jepang menjamin keberhasilan program...</td>\n",
              "      <td>[1330 |Jurnal Penelitian Ilmiah Multidisipline...</td>\n",
              "      <td>Jepang menjamin keberhasilan program makan sia...</td>\n",
              "      <td>Jepang menjamin keberhasilan Kyūshoku dengan m...</td>\n",
              "      <td>NaN</td>\n",
              "      <td>0.500000</td>\n",
              "      <td>NaN</td>\n",
              "      <td>0.811400</td>\n",
              "      <td>0.843773</td>\n",
              "    </tr>\n",
              "    <tr>\n",
              "      <th>26</th>\n",
              "      <td>Apa risiko hukum bagi penyedia katering jika t...</td>\n",
              "      <td>[1330 |Jurnal Penelitian Ilmiah Multidisipline...</td>\n",
              "      <td>Berdasarkan konteks yang diberikan, risiko huk...</td>\n",
              "      <td>Penyedia katering yang lalai dapat dikenai san...</td>\n",
              "      <td>NaN</td>\n",
              "      <td>1.000000</td>\n",
              "      <td>NaN</td>\n",
              "      <td>0.908418</td>\n",
              "      <td>0.761192</td>\n",
              "    </tr>\n",
              "    <tr>\n",
              "      <th>27</th>\n",
              "      <td>Mengapa keterlibatan masyarakat lokal penting ...</td>\n",
              "      <td>[1330 |Jurnal Penelitian Ilmiah Multidisipline...</td>\n",
              "      <td>Keterlibatan masyarakat lokal dalam pengadaan ...</td>\n",
              "      <td>Keterlibatan masyarakat lokal memungkinkan men...</td>\n",
              "      <td>NaN</td>\n",
              "      <td>1.000000</td>\n",
              "      <td>NaN</td>\n",
              "      <td>0.987374</td>\n",
              "      <td>0.752282</td>\n",
              "    </tr>\n",
              "    <tr>\n",
              "      <th>28</th>\n",
              "      <td>Apa ancaman terbesar jika negara tidak transpa...</td>\n",
              "      <td>[1330 |Jurnal Penelitian Ilmiah Multidisipline...</td>\n",
              "      <td>Acaman terbesar jika negara tidak transparan s...</td>\n",
              "      <td>Ketertutupan informasi mengenai insiden keracu...</td>\n",
              "      <td>NaN</td>\n",
              "      <td>1.000000</td>\n",
              "      <td>1.0</td>\n",
              "      <td>0.915674</td>\n",
              "      <td>0.800646</td>\n",
              "    </tr>\n",
              "    <tr>\n",
              "      <th>29</th>\n",
              "      <td>Apa prinsip rule of law yang harus ditegakkan ...</td>\n",
              "      <td>[1330 |Jurnal Penelitian Ilmiah Multidisipline...</td>\n",
              "      <td>Prinsip **rule of law** yang harus ditegakkan ...</td>\n",
              "      <td>Prinsip rule of law dalam MBG menekankan penti...</td>\n",
              "      <td>NaN</td>\n",
              "      <td>0.666667</td>\n",
              "      <td>0.8</td>\n",
              "      <td>0.631441</td>\n",
              "      <td>0.860309</td>\n",
              "    </tr>\n",
              "  </tbody>\n",
              "</table>\n",
              "</div>\n",
              "    <div class=\"colab-df-buttons\">\n",
              "\n",
              "  <div class=\"colab-df-container\">\n",
              "    <button class=\"colab-df-convert\" onclick=\"convertToInteractive('df-39bb9679-32ab-4ab1-bd7d-ba112c3f8125')\"\n",
              "            title=\"Convert this dataframe to an interactive table.\"\n",
              "            style=\"display:none;\">\n",
              "\n",
              "  <svg xmlns=\"http://www.w3.org/2000/svg\" height=\"24px\" viewBox=\"0 -960 960 960\">\n",
              "    <path d=\"M120-120v-720h720v720H120Zm60-500h600v-160H180v160Zm220 220h160v-160H400v160Zm0 220h160v-160H400v160ZM180-400h160v-160H180v160Zm440 0h160v-160H620v160ZM180-180h160v-160H180v160Zm440 0h160v-160H620v160Z\"/>\n",
              "  </svg>\n",
              "    </button>\n",
              "\n",
              "  <style>\n",
              "    .colab-df-container {\n",
              "      display:flex;\n",
              "      gap: 12px;\n",
              "    }\n",
              "\n",
              "    .colab-df-convert {\n",
              "      background-color: #E8F0FE;\n",
              "      border: none;\n",
              "      border-radius: 50%;\n",
              "      cursor: pointer;\n",
              "      display: none;\n",
              "      fill: #1967D2;\n",
              "      height: 32px;\n",
              "      padding: 0 0 0 0;\n",
              "      width: 32px;\n",
              "    }\n",
              "\n",
              "    .colab-df-convert:hover {\n",
              "      background-color: #E2EBFA;\n",
              "      box-shadow: 0px 1px 2px rgba(60, 64, 67, 0.3), 0px 1px 3px 1px rgba(60, 64, 67, 0.15);\n",
              "      fill: #174EA6;\n",
              "    }\n",
              "\n",
              "    .colab-df-buttons div {\n",
              "      margin-bottom: 4px;\n",
              "    }\n",
              "\n",
              "    [theme=dark] .colab-df-convert {\n",
              "      background-color: #3B4455;\n",
              "      fill: #D2E3FC;\n",
              "    }\n",
              "\n",
              "    [theme=dark] .colab-df-convert:hover {\n",
              "      background-color: #434B5C;\n",
              "      box-shadow: 0px 1px 3px 1px rgba(0, 0, 0, 0.15);\n",
              "      filter: drop-shadow(0px 1px 2px rgba(0, 0, 0, 0.3));\n",
              "      fill: #FFFFFF;\n",
              "    }\n",
              "  </style>\n",
              "\n",
              "    <script>\n",
              "      const buttonEl =\n",
              "        document.querySelector('#df-39bb9679-32ab-4ab1-bd7d-ba112c3f8125 button.colab-df-convert');\n",
              "      buttonEl.style.display =\n",
              "        google.colab.kernel.accessAllowed ? 'block' : 'none';\n",
              "\n",
              "      async function convertToInteractive(key) {\n",
              "        const element = document.querySelector('#df-39bb9679-32ab-4ab1-bd7d-ba112c3f8125');\n",
              "        const dataTable =\n",
              "          await google.colab.kernel.invokeFunction('convertToInteractive',\n",
              "                                                    [key], {});\n",
              "        if (!dataTable) return;\n",
              "\n",
              "        const docLinkHtml = 'Like what you see? Visit the ' +\n",
              "          '<a target=\"_blank\" href=https://colab.research.google.com/notebooks/data_table.ipynb>data table notebook</a>'\n",
              "          + ' to learn more about interactive tables.';\n",
              "        element.innerHTML = '';\n",
              "        dataTable['output_type'] = 'display_data';\n",
              "        await google.colab.output.renderOutput(dataTable, element);\n",
              "        const docLink = document.createElement('div');\n",
              "        docLink.innerHTML = docLinkHtml;\n",
              "        element.appendChild(docLink);\n",
              "      }\n",
              "    </script>\n",
              "  </div>\n",
              "\n",
              "\n",
              "    <div id=\"df-cb713733-6deb-4fb6-bb4b-29b63a243341\">\n",
              "      <button class=\"colab-df-quickchart\" onclick=\"quickchart('df-cb713733-6deb-4fb6-bb4b-29b63a243341')\"\n",
              "                title=\"Suggest charts\"\n",
              "                style=\"display:none;\">\n",
              "\n",
              "<svg xmlns=\"http://www.w3.org/2000/svg\" height=\"24px\"viewBox=\"0 0 24 24\"\n",
              "     width=\"24px\">\n",
              "    <g>\n",
              "        <path d=\"M19 3H5c-1.1 0-2 .9-2 2v14c0 1.1.9 2 2 2h14c1.1 0 2-.9 2-2V5c0-1.1-.9-2-2-2zM9 17H7v-7h2v7zm4 0h-2V7h2v10zm4 0h-2v-4h2v4z\"/>\n",
              "    </g>\n",
              "</svg>\n",
              "      </button>\n",
              "\n",
              "<style>\n",
              "  .colab-df-quickchart {\n",
              "      --bg-color: #E8F0FE;\n",
              "      --fill-color: #1967D2;\n",
              "      --hover-bg-color: #E2EBFA;\n",
              "      --hover-fill-color: #174EA6;\n",
              "      --disabled-fill-color: #AAA;\n",
              "      --disabled-bg-color: #DDD;\n",
              "  }\n",
              "\n",
              "  [theme=dark] .colab-df-quickchart {\n",
              "      --bg-color: #3B4455;\n",
              "      --fill-color: #D2E3FC;\n",
              "      --hover-bg-color: #434B5C;\n",
              "      --hover-fill-color: #FFFFFF;\n",
              "      --disabled-bg-color: #3B4455;\n",
              "      --disabled-fill-color: #666;\n",
              "  }\n",
              "\n",
              "  .colab-df-quickchart {\n",
              "    background-color: var(--bg-color);\n",
              "    border: none;\n",
              "    border-radius: 50%;\n",
              "    cursor: pointer;\n",
              "    display: none;\n",
              "    fill: var(--fill-color);\n",
              "    height: 32px;\n",
              "    padding: 0;\n",
              "    width: 32px;\n",
              "  }\n",
              "\n",
              "  .colab-df-quickchart:hover {\n",
              "    background-color: var(--hover-bg-color);\n",
              "    box-shadow: 0 1px 2px rgba(60, 64, 67, 0.3), 0 1px 3px 1px rgba(60, 64, 67, 0.15);\n",
              "    fill: var(--button-hover-fill-color);\n",
              "  }\n",
              "\n",
              "  .colab-df-quickchart-complete:disabled,\n",
              "  .colab-df-quickchart-complete:disabled:hover {\n",
              "    background-color: var(--disabled-bg-color);\n",
              "    fill: var(--disabled-fill-color);\n",
              "    box-shadow: none;\n",
              "  }\n",
              "\n",
              "  .colab-df-spinner {\n",
              "    border: 2px solid var(--fill-color);\n",
              "    border-color: transparent;\n",
              "    border-bottom-color: var(--fill-color);\n",
              "    animation:\n",
              "      spin 1s steps(1) infinite;\n",
              "  }\n",
              "\n",
              "  @keyframes spin {\n",
              "    0% {\n",
              "      border-color: transparent;\n",
              "      border-bottom-color: var(--fill-color);\n",
              "      border-left-color: var(--fill-color);\n",
              "    }\n",
              "    20% {\n",
              "      border-color: transparent;\n",
              "      border-left-color: var(--fill-color);\n",
              "      border-top-color: var(--fill-color);\n",
              "    }\n",
              "    30% {\n",
              "      border-color: transparent;\n",
              "      border-left-color: var(--fill-color);\n",
              "      border-top-color: var(--fill-color);\n",
              "      border-right-color: var(--fill-color);\n",
              "    }\n",
              "    40% {\n",
              "      border-color: transparent;\n",
              "      border-right-color: var(--fill-color);\n",
              "      border-top-color: var(--fill-color);\n",
              "    }\n",
              "    60% {\n",
              "      border-color: transparent;\n",
              "      border-right-color: var(--fill-color);\n",
              "    }\n",
              "    80% {\n",
              "      border-color: transparent;\n",
              "      border-right-color: var(--fill-color);\n",
              "      border-bottom-color: var(--fill-color);\n",
              "    }\n",
              "    90% {\n",
              "      border-color: transparent;\n",
              "      border-bottom-color: var(--fill-color);\n",
              "    }\n",
              "  }\n",
              "</style>\n",
              "\n",
              "      <script>\n",
              "        async function quickchart(key) {\n",
              "          const quickchartButtonEl =\n",
              "            document.querySelector('#' + key + ' button');\n",
              "          quickchartButtonEl.disabled = true;  // To prevent multiple clicks.\n",
              "          quickchartButtonEl.classList.add('colab-df-spinner');\n",
              "          try {\n",
              "            const charts = await google.colab.kernel.invokeFunction(\n",
              "                'suggestCharts', [key], {});\n",
              "          } catch (error) {\n",
              "            console.error('Error during call to suggestCharts:', error);\n",
              "          }\n",
              "          quickchartButtonEl.classList.remove('colab-df-spinner');\n",
              "          quickchartButtonEl.classList.add('colab-df-quickchart-complete');\n",
              "        }\n",
              "        (() => {\n",
              "          let quickchartButtonEl =\n",
              "            document.querySelector('#df-cb713733-6deb-4fb6-bb4b-29b63a243341 button');\n",
              "          quickchartButtonEl.style.display =\n",
              "            google.colab.kernel.accessAllowed ? 'block' : 'none';\n",
              "        })();\n",
              "      </script>\n",
              "    </div>\n",
              "\n",
              "  <div id=\"id_359c2d77-c8e6-4ce4-9231-ae9ac890485d\">\n",
              "    <style>\n",
              "      .colab-df-generate {\n",
              "        background-color: #E8F0FE;\n",
              "        border: none;\n",
              "        border-radius: 50%;\n",
              "        cursor: pointer;\n",
              "        display: none;\n",
              "        fill: #1967D2;\n",
              "        height: 32px;\n",
              "        padding: 0 0 0 0;\n",
              "        width: 32px;\n",
              "      }\n",
              "\n",
              "      .colab-df-generate:hover {\n",
              "        background-color: #E2EBFA;\n",
              "        box-shadow: 0px 1px 2px rgba(60, 64, 67, 0.3), 0px 1px 3px 1px rgba(60, 64, 67, 0.15);\n",
              "        fill: #174EA6;\n",
              "      }\n",
              "\n",
              "      [theme=dark] .colab-df-generate {\n",
              "        background-color: #3B4455;\n",
              "        fill: #D2E3FC;\n",
              "      }\n",
              "\n",
              "      [theme=dark] .colab-df-generate:hover {\n",
              "        background-color: #434B5C;\n",
              "        box-shadow: 0px 1px 3px 1px rgba(0, 0, 0, 0.15);\n",
              "        filter: drop-shadow(0px 1px 2px rgba(0, 0, 0, 0.3));\n",
              "        fill: #FFFFFF;\n",
              "      }\n",
              "    </style>\n",
              "    <button class=\"colab-df-generate\" onclick=\"generateWithVariable('df_ragas')\"\n",
              "            title=\"Generate code using this dataframe.\"\n",
              "            style=\"display:none;\">\n",
              "\n",
              "  <svg xmlns=\"http://www.w3.org/2000/svg\" height=\"24px\"viewBox=\"0 0 24 24\"\n",
              "       width=\"24px\">\n",
              "    <path d=\"M7,19H8.4L18.45,9,17,7.55,7,17.6ZM5,21V16.75L18.45,3.32a2,2,0,0,1,2.83,0l1.4,1.43a1.91,1.91,0,0,1,.58,1.4,1.91,1.91,0,0,1-.58,1.4L9.25,21ZM18.45,9,17,7.55Zm-12,3A5.31,5.31,0,0,0,4.9,8.1,5.31,5.31,0,0,0,1,6.5,5.31,5.31,0,0,0,4.9,4.9,5.31,5.31,0,0,0,6.5,1,5.31,5.31,0,0,0,8.1,4.9,5.31,5.31,0,0,0,12,6.5,5.46,5.46,0,0,0,6.5,12Z\"/>\n",
              "  </svg>\n",
              "    </button>\n",
              "    <script>\n",
              "      (() => {\n",
              "      const buttonEl =\n",
              "        document.querySelector('#id_359c2d77-c8e6-4ce4-9231-ae9ac890485d button.colab-df-generate');\n",
              "      buttonEl.style.display =\n",
              "        google.colab.kernel.accessAllowed ? 'block' : 'none';\n",
              "\n",
              "      buttonEl.onclick = () => {\n",
              "        google.colab.notebook.generateWithVariable('df_ragas');\n",
              "      }\n",
              "      })();\n",
              "    </script>\n",
              "  </div>\n",
              "\n",
              "    </div>\n",
              "  </div>\n"
            ],
            "application/vnd.google.colaboratory.intrinsic+json": {
              "type": "dataframe",
              "variable_name": "df_ragas",
              "summary": "{\n  \"name\": \"df_ragas\",\n  \"rows\": 30,\n  \"fields\": [\n    {\n      \"column\": \"user_input\",\n      \"properties\": {\n        \"dtype\": \"string\",\n        \"num_unique_values\": 30,\n        \"samples\": [\n          \"Mengapa keterlibatan masyarakat lokal penting dalam pengadaan makanan sekolah?\",\n          \"Apa prinsip utama dalam pengadaan barang/jasa pemerintah menurut UU No. 2 Tahun 2017?\",\n          \"Apa masalah sanitasi yang memperbesar risiko keracunan dalam MBG?\"\n        ],\n        \"semantic_type\": \"\",\n        \"description\": \"\"\n      }\n    },\n    {\n      \"column\": \"retrieved_contexts\",\n      \"properties\": {\n        \"dtype\": \"object\",\n        \"semantic_type\": \"\",\n        \"description\": \"\"\n      }\n    },\n    {\n      \"column\": \"response\",\n      \"properties\": {\n        \"dtype\": \"string\",\n        \"num_unique_values\": 30,\n        \"samples\": [\n          \"Keterlibatan masyarakat lokal dalam pengadaan makanan sekolah penting untuk beberapa alasan berdasarkan konteks yang diberikan:  1. **Mencegah Korupsi dan Kolusi**: Transparansi serta partisipasi masyarakat menjadi kunci untuk menghindari praktik korupsi, seperti manipulasi tender, mark-up harga, dan kolusi antar pejabat dengan penyedia jasa. Tanpa keterlibatan masyarakat, dana program berisiko disalahgunakan, yang dapat merugikan hak anak dan kepentingan publik.  2. **Memastikan Kesesuaian dengan Kebutuhan Lokal**: Partisipasi masyarakat memungkinkan desain program yang lebih sesuai dengan kebutuhan geografis dan budaya setempat. Standarisasi menu yang tidak mempertimbangkan kebutuhan lokal bisa menciptakan limbah makanan dan tidak efektif dalam memenuhi asupan gizi.  3. **Mendorong Partisipasi Aktif dan Kontrol Sosial**: Keterlibatan warga, seperti orang tua siswa, komite sekolah, dan anak-anak, memperkuat demokrasi substansial. Mekanisme musyawarah dan konsultasi publik membantu mengawasi pelaksanaan program, mencegah penyalahgunaan, dan meningkatkan kepercayaan masyarakat.  4. **Meningkatkan Kepemilikan dan Kemandirian Masyarakat**: Model seperti yang diterapkan Brasil dalam Program Nasional Alimentasi (PNAE) menunjukkan bahwa melibatkan petani lokal sebagai pemasok utama tidak hanya menekan harga tetapi juga memberdayakan masyarakat desa. Hal ini memperkuat ekonomi lokal dan keberlanjutan program.  5. **Menghindari Resistensi dan Ketidakpercayaan**: Keterlibatan masyarakat dalam perencanaan dan evaluasi program mengurangi risiko resistensi atau ketidakpercayaan terhadap program, karena kebijakan yang dirancang lebih responsif terhadap kebutuhan nyata.  Dengan demikian, keterlibatan masyarakat lokal adalah instrumen penting untuk memastikan keadilan, transparansi, dan keberlanjutan program makanan sekolah.\",\n          \"Berdasarkan konteks yang diberikan, prinsip utama dalam pengadaan barang/jasa pemerintah menurut Undang-Undang Republik Indonesia No. 2 Tahun 2017 adalah **asas-asas umum pemerintahan yang baik (AUPB)**, yang mencakup prinsip **kepastian hukum, kehati-hatian, dan akuntabilitas**. Prinsip-prinsip ini menjadi pedoman dalam pelaksanaan pengadaan barang/jasa dan menjadi dasar untuk mengajukan upaya administratif atau yudisial jika terjadi pelanggaran. Selain itu, dokumen juga menyebutkan prinsip **Rule of Law** dan **keadilan sosial** sebagai panduan dalam pengelolaan kebijakan publik, tetapi ini lebih bersifat kontekstual daripada ketentuan spesifik dalam UU No. 2 Tahun 2017.\",\n          \"Masalah sanitasi yang memperbesar risiko keracunan dalam Program Makan Siang Gratis (MBG) meliputi:  \\n1. **Kurangnya akses air bersih** di sekolah, yang esensial untuk mencuci bahan makanan dan menjaga kebersihan.  \\n2. **Fasilitas cuci tangan yang tidak memadai**, yang berkontribusi pada penyebaran kuman dan kontaminasi makanan.  \\n3. **Toilet layak yang tidak tersedia**, yang memperparah kondisi sanitasi dan meningkatkan risiko kontaminasi lingkungan.  Kondisi sanitasi yang buruk ini menjadi kendala utama dalam pelaksanaan MBG, karena memperbesar risiko keracunan makanan dan menunjukkan kegagalan sistemik dalam pengelolaan program. (Dokumen: 91de1531-e5e4-4179-8b92-47455318c393, 5be7439a-2321-4cbc-a446-60b47ad29320)\"\n        ],\n        \"semantic_type\": \"\",\n        \"description\": \"\"\n      }\n    },\n    {\n      \"column\": \"reference\",\n      \"properties\": {\n        \"dtype\": \"string\",\n        \"num_unique_values\": 30,\n        \"samples\": [\n          \"Keterlibatan masyarakat lokal memungkinkan menu disesuaikan dengan budaya pangan setempat, menekan biaya logistik, dan memberdayakan petani kecil sebagai pemasok. Pendekatan partisipatif ini terbukti efektif seperti dalam model Brasil (PNAE). Jawaban: Agar menu sesuai budaya pangan lokal, menekan harga, dan memberdayakan petani kecil sebagai pemasok.\",\n          \"UU No. 2 Tahun 2017 menegaskan bahwa pengadaan barang/jasa pemerintah harus berlandaskan pada prinsip transparansi, efisiensi, dan akuntabilitas. Dalam konteks MBG, prinsip ini penting untuk mencegah praktik korupsi dan kolusi dalam pengadaan makanan. Jawaban: Transparansi, efisiensi, dan akuntabilitas.\",\n          \"Masalah sanitasi seperti kurangnya akses air bersih, fasilitas cuci tangan, dan toilet layak di sekolah menyebabkan meningkatnya risiko kontaminasi makanan. Kondisi ini menurunkan efektivitas program MBG dan meningkatkan potensi keracunan massal. Jawaban: Kurangnya akses air bersih, fasilitas cuci tangan, dan toilet layak di sekolah.\"\n        ],\n        \"semantic_type\": \"\",\n        \"description\": \"\"\n      }\n    },\n    {\n      \"column\": \"context_precision\",\n      \"properties\": {\n        \"dtype\": \"number\",\n        \"std\": null,\n        \"min\": null,\n        \"max\": null,\n        \"num_unique_values\": 0,\n        \"samples\": [],\n        \"semantic_type\": \"\",\n        \"description\": \"\"\n      }\n    },\n    {\n      \"column\": \"context_recall\",\n      \"properties\": {\n        \"dtype\": \"number\",\n        \"std\": 0.298784254356452,\n        \"min\": 0.0,\n        \"max\": 1.0,\n        \"num_unique_values\": 5,\n        \"samples\": [],\n        \"semantic_type\": \"\",\n        \"description\": \"\"\n      }\n    },\n    {\n      \"column\": \"faithfulness\",\n      \"properties\": {\n        \"dtype\": \"number\",\n        \"std\": 0.14142135623730948,\n        \"min\": 0.8,\n        \"max\": 1.0,\n        \"num_unique_values\": 2,\n        \"samples\": [],\n        \"semantic_type\": \"\",\n        \"description\": \"\"\n      }\n    },\n    {\n      \"column\": \"answer_relevancy\",\n      \"properties\": {\n        \"dtype\": \"number\",\n        \"std\": 0.23043768388989022,\n        \"min\": 0.0,\n        \"max\": 0.9873740019740689,\n        \"num_unique_values\": 29,\n        \"samples\": [],\n        \"semantic_type\": \"\",\n        \"description\": \"\"\n      }\n    },\n    {\n      \"column\": \"answer_similarity\",\n      \"properties\": {\n        \"dtype\": \"number\",\n        \"std\": 0.09234474801577372,\n        \"min\": 0.47156435218945114,\n        \"max\": 0.9242146878644364,\n        \"num_unique_values\": 30,\n        \"samples\": [],\n        \"semantic_type\": \"\",\n        \"description\": \"\"\n      }\n    }\n  ]\n}"
            }
          },
          "metadata": {},
          "execution_count": 30
        }
      ]
    },
    {
      "cell_type": "markdown",
      "source": [
        "The evaluation scores can be exported to CSV format if decided"
      ],
      "metadata": {
        "id": "86gaL7294k-t"
      }
    },
    {
      "cell_type": "code",
      "source": [
        "df_ragas.to_csv(\"EvaluationScores.csv\", encoding=\"utf-8\", index=False)"
      ],
      "metadata": {
        "id": "RNvRzPPD4lZO"
      },
      "execution_count": null,
      "outputs": []
    },
    {
      "cell_type": "markdown",
      "source": [
        "### 6. Recommendation\n",
        "The RAG evaluation using the RAGAS library successfully produced results for three out of five evaluation metrics `context recall`, `answer relevancy`, and `answer similarity` showing overall solid retrieval and response quality, with most scores ranging between 0.7 and 0.9. However, the `context precision` and `faithfulness` metrics failed due to TimeoutError exceptions, preventing full evaluation of retrieval accuracy and factual consistency. It is also noteworthy that the `context recall` values are sharply polarized (mostly 1.0 or 0.667), likely influenced by the fact that the _ground-truth references_ were generated by an LLM (ChatGPT) rather than human annotations, which can cause the recall metric to overestimate or underestimate retrieval quality due to stylistic or phrasing variations. Despite these constraints, the available metrics suggest that the RAG pipeline performs well in maintaining contextual relevance, but further refinement and stability improvements are needed for more balanced and comprehensive evaluations."
      ],
      "metadata": {
        "id": "fhC-wop38wXF"
      }
    },
    {
      "cell_type": "code",
      "source": [],
      "metadata": {
        "id": "aNj1u73K8xMf"
      },
      "execution_count": null,
      "outputs": []
    }
  ]
}